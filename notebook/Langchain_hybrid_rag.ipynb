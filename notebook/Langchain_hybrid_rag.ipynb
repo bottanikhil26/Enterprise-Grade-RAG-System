{
 "cells": [
  {
   "cell_type": "code",
   "execution_count": 1,
   "id": "8cb40da8-b2b8-4ec3-8ec0-38910b42e1e8",
   "metadata": {},
   "outputs": [
    {
     "name": "stdout",
     "output_type": "stream",
     "text": [
      "/Users/nikhil/Documents/GitHub_portfolio/1-Enterprise-Grade RAG System/notebook\n",
      "/Users/nikhil/Documents/GitHub_portfolio/1-Enterprise-Grade RAG System\n"
     ]
    }
   ],
   "source": [
    "import os\n",
    "import sys\n",
    "print(os.getcwd())\n",
    "os.chdir(\"..\")\n",
    "print(os.getcwd())"
   ]
  },
  {
   "cell_type": "code",
   "execution_count": 3,
   "id": "18fae657-2f49-4ae8-b426-014afeb9c2b0",
   "metadata": {},
   "outputs": [],
   "source": [
    "%%capture\n",
    "!pip install -r requirements.txt"
   ]
  },
  {
   "cell_type": "code",
   "execution_count": 5,
   "id": "359c0aad-9288-46ba-a30e-d4c07e70f2b7",
   "metadata": {},
   "outputs": [],
   "source": [
    "from langchain_community.document_loaders import PyMuPDFLoader\n",
    "from langchain_text_splitters import RecursiveCharacterTextSplitter\n",
    "from langchain_chroma import Chroma\n",
    "from langchain_ollama import OllamaEmbeddings,OllamaLLM\n",
    "from langchain_huggingface import HuggingFaceEmbeddings\n"
   ]
  },
  {
   "cell_type": "code",
   "execution_count": 7,
   "id": "95375144-6a8a-4fe0-ac06-11c2300c7c05",
   "metadata": {},
   "outputs": [],
   "source": [
    "def read_data(floder_path):\n",
    "    all_docs =[]\n",
    "    for file_name in os.listdir(floder_path):\n",
    "        file_path = os.path.join(floder_path,file_name)\n",
    "        if file_path.endswith(\".pdf\"):\n",
    "            docs = PyMuPDFLoader(file_path)\n",
    "            documents = docs.load()\n",
    "            all_docs.extend(documents)\n",
    "        else:\n",
    "            print(\"Unknown file type:\", file_path)\n",
    "    return all_docs"
   ]
  },
  {
   "cell_type": "code",
   "execution_count": 9,
   "id": "c1bed501-dea7-4267-8618-a38a19baa3b9",
   "metadata": {},
   "outputs": [
    {
     "name": "stdout",
     "output_type": "stream",
     "text": [
      "Unknown file type: ./data/.ipynb_checkpoints\n",
      "Unknown file type: ./data/qa_dataset.json\n"
     ]
    }
   ],
   "source": [
    "folder_path = \"./data/\"\n",
    "documents=read_data(folder_path)"
   ]
  },
  {
   "cell_type": "code",
   "execution_count": 10,
   "id": "c9fd9484-194c-4c2a-aafa-e51d7014a367",
   "metadata": {},
   "outputs": [
    {
     "data": {
      "text/plain": [
       "2147"
      ]
     },
     "execution_count": 10,
     "metadata": {},
     "output_type": "execute_result"
    }
   ],
   "source": [
    "len(documents)"
   ]
  },
  {
   "cell_type": "code",
   "execution_count": null,
   "id": "bf9c228c-5e8b-4b6a-9b88-5eb0dba90c93",
   "metadata": {},
   "outputs": [],
   "source": []
  },
  {
   "cell_type": "code",
   "execution_count": 11,
   "id": "e29d6a0a-dbd6-4da7-9912-06bf28eec5aa",
   "metadata": {},
   "outputs": [],
   "source": [
    "import re\n",
    "current_section = \"unknown\"\n",
    "for doc in documents:\n",
    "    match = re.search(r\"(\\d{4})\",doc.metadata.get(\"file_path\",\" \"))\n",
    "    if match:\n",
    "        doc.metadata['year']=int(match.group(0))\n",
    "        doc.metadata['company'] = \"Coca-cola\"\n",
    "        doc.metadata[\"filing_type\"] = \"10-K\"\n",
    "    text = doc.page_content.replace(\"\\n\",\" \").replace(\"  \",\" \")\n",
    "    match = re.search(r\"(ITEM\\s+\\d+[A-Z]?\\.\\s+[A-Z\\s,&\\-]+)\", text)\n",
    "    if match:\n",
    "        current_section = match.group(0).strip()\n",
    "        doc.metadata['section']=current_section\n",
    "        continue\n",
    "    doc.metadata['section']=current_section\n",
    "\n"
   ]
  },
  {
   "cell_type": "code",
   "execution_count": 15,
   "id": "518ac121-9155-448b-8721-f0c3ac0699fd",
   "metadata": {},
   "outputs": [
    {
     "data": {
      "text/plain": [
       "{'producer': 'Qt 4.8.7',\n",
       " 'creator': 'wkhtmltopdf 0.12.5',\n",
       " 'creationdate': '2020-02-24T16:11:05-05:00',\n",
       " 'source': './data/2020-cocacola-10k-filing.pdf',\n",
       " 'file_path': './data/2020-cocacola-10k-filing.pdf',\n",
       " 'total_pages': 214,\n",
       " 'format': 'PDF 1.4',\n",
       " 'title': 'Document',\n",
       " 'author': '',\n",
       " 'subject': '',\n",
       " 'keywords': '',\n",
       " 'moddate': '',\n",
       " 'trapped': '',\n",
       " 'modDate': '',\n",
       " 'creationDate': \"D:20200224161105-05'00'\",\n",
       " 'page': 9,\n",
       " 'year': 2020,\n",
       " 'company': 'Coca-cola',\n",
       " 'filing_type': '10-K',\n",
       " 'section': 'ITEM 1.  BUSINESS I'}"
      ]
     },
     "execution_count": 15,
     "metadata": {},
     "output_type": "execute_result"
    }
   ],
   "source": [
    "documents[9].metadata"
   ]
  },
  {
   "cell_type": "code",
   "execution_count": 17,
   "id": "6179b0f9-0d79-4ab0-b81e-23bf80454f00",
   "metadata": {},
   "outputs": [],
   "source": [
    "splitter = RecursiveCharacterTextSplitter( chunk_size=1024,chunk_overlap=100)"
   ]
  },
  {
   "cell_type": "code",
   "execution_count": 19,
   "id": "25e9994a-a802-4c08-8d0e-a0aa2f1afbe6",
   "metadata": {},
   "outputs": [],
   "source": [
    "chunks = splitter.split_documents(documents)"
   ]
  },
  {
   "cell_type": "code",
   "execution_count": 21,
   "id": "743bd6d0-c6ee-49cc-a18c-db37ecc0527e",
   "metadata": {},
   "outputs": [
    {
     "data": {
      "text/plain": [
       "9532"
      ]
     },
     "execution_count": 21,
     "metadata": {},
     "output_type": "execute_result"
    }
   ],
   "source": [
    "len(chunks)"
   ]
  },
  {
   "cell_type": "code",
   "execution_count": 23,
   "id": "296391c3-84f5-4fe1-98ff-14a0899022a9",
   "metadata": {},
   "outputs": [],
   "source": [
    "hf = HuggingFaceEmbeddings(model_name='BAAI/bge-base-en-v1.5')"
   ]
  },
  {
   "cell_type": "code",
   "execution_count": 24,
   "id": "d7f555c8-af86-429b-a4e8-43a1c4b5ab64",
   "metadata": {},
   "outputs": [],
   "source": [
    "vector_store = Chroma.from_documents(documents=chunks,embedding=hf,persist_directory =\".db\")"
   ]
  },
  {
   "cell_type": "code",
   "execution_count": 25,
   "id": "ecee3d0e-e3a5-4c92-94a3-cfd339c3d5f9",
   "metadata": {},
   "outputs": [],
   "source": [
    "def get_documents_by_year_from_query(query):\n",
    "    # Extract 4-digit year from query\n",
    "    match = re.search(r\"\\b(\\d{4})\\b\", query)\n",
    "    years = [2015,2016,2017,2018,2019,2020,2021,2022,2023,2024,2025]\n",
    "    \n",
    "    if match in years:\n",
    "        year = int(match.group(1))  # Extract the matched year as integer\n",
    "        retriever = vector_store.as_retriever(\n",
    "            search_type=\"similarity\",\n",
    "            search_kwargs={'k': 5, 'filter': {'year': year}}\n",
    "        )\n",
    "        results = retriever.invoke(query)\n",
    "        return results\n",
    "    else:\n",
    "        retriever = vector_store.as_retriever(\n",
    "            search_type=\"similarity\",\n",
    "        )\n",
    "        results = retriever.invoke(query)\n",
    "        return results\n",
    "            \n",
    "        \n",
    "        \n",
    "        \n",
    "        "
   ]
  },
  {
   "cell_type": "code",
   "execution_count": 27,
   "id": "9291907f-3057-42d6-aeca-5690b8aba3df",
   "metadata": {},
   "outputs": [],
   "source": [
    "import re\n",
    "\n",
    "def get_documents_by_year_from_query(query):\n",
    "    # List of valid years\n",
    "    years = [2015, 2016, 2017, 2018, 2019, 2020, \n",
    "             2021, 2022, 2023, 2024, 2025]\n",
    "    \n",
    "    # Extract 4-digit year from query\n",
    "    match = re.search(r\"\\b(\\d{4})\\b\", query)\n",
    "    \n",
    "    if match:\n",
    "        year = int(match.group(1))  # Extract year as integer\n",
    "        \n",
    "        if year in years:\n",
    "            retriever = vector_store.as_retriever(\n",
    "                search_type=\"similarity\",\n",
    "                search_kwargs={'k': 5, 'filter': {'year': year+1}}\n",
    "            )\n",
    "        elif year<2015:\n",
    "            retriever = vector_store.as_retriever(search_type=\"similarity\",\n",
    "                                                  search_kwargs={'k': 5, 'filter': {'year': 2015}}\n",
    "                                                 )\n",
    "    else:\n",
    "        retriever = vector_store.as_retriever(search_type=\"similarity\")\n",
    "    \n",
    "    results = retriever.invoke(query)\n",
    "    return results\n"
   ]
  },
  {
   "cell_type": "code",
   "execution_count": 51,
   "id": "b61ac586-1dd0-41fc-817e-1c656487f9d5",
   "metadata": {},
   "outputs": [],
   "source": [
    "query = \"What was the average number of diluted shares outstanding in 2014?\"\n",
    "ans = get_documents_by_year_from_query(query)"
   ]
  },
  {
   "cell_type": "code",
   "execution_count": 55,
   "id": "ccc87131-03c3-4f05-a3ae-83cd5f696db5",
   "metadata": {},
   "outputs": [
    {
     "data": {
      "text/plain": [
       "5"
      ]
     },
     "execution_count": 55,
     "metadata": {},
     "output_type": "execute_result"
    }
   ],
   "source": [
    "len(ans)"
   ]
  },
  {
   "cell_type": "code",
   "execution_count": 57,
   "id": "c4715a2e-3862-424d-969f-ee7fa6718f7d",
   "metadata": {},
   "outputs": [
    {
     "name": "stdout",
     "output_type": "stream",
     "text": [
      "$\n",
      "1.90\n",
      "$\n",
      "1.97\n",
      "AVERAGE SHARES OUTSTANDING\n",
      "4,387\n",
      "4,434\n",
      "4,504\n",
      "Effect of dilutive securities\n",
      "63\n",
      "75\n",
      "80\n",
      "AVERAGE SHARES OUTSTANDING ASSUMING DILUTION\n",
      "4,450\n",
      "4,509\n",
      "4,584\n",
      "1 Calculated based on net income attributable to shareowners of The Coca-Cola\n",
      "Company.\n",
      "Refer to Notes to Consolidated Financial Statements.\n",
      "73\n",
      " \n",
      "{'author': '', 'company': 'Coca-cola', 'creationDate': \"D:20190503150839-04'00'\", 'creationdate': '2019-05-03T15:08:39-04:00', 'creator': 'wkhtmltopdf 0.12.5', 'file_path': './data/2015-cocacola-10k-filing.pdf', 'filing_type': '10-K', 'format': 'PDF 1.4', 'keywords': '', 'modDate': '', 'moddate': '', 'page': 74, 'producer': 'Qt 4.8.7', 'section': 'ITEM 8. FINANCIAL STATEMENTS AND SUPPLEMENTARY DATA  TABLE OF CONTENTS P', 'source': './data/2015-cocacola-10k-filing.pdf', 'subject': '', 'title': '2014.12.31 10-K', 'total_pages': 216, 'trapped': '', 'year': 2015}\n",
      "----------------------------------------------------------------------------------------------------\n",
      "0.39\n",
      "$\n",
      "0.60\n",
      "$\n",
      "0.55\n",
      "$\n",
      "0.39\n",
      "$\n",
      "1.94\n",
      "1 \n",
      "Diluted net income per share\n",
      "$\n",
      "0.39\n",
      "$\n",
      "0.59\n",
      "$\n",
      "0.54\n",
      "$\n",
      "0.38\n",
      "$\n",
      "1.90\n",
      "1 The sum of the quarterly net income per share amounts do not agree to the full year net income per share amounts. We calculate net income per share based on the weighted-average number of outstanding\n",
      "shares during the reporting period. The average number of shares fluctuates throughout the year and can therefore produce a full year result that does not agree to the sum of the individual quarters.\n",
      "Our first quarter, second quarter and third quarter reporting periods end on the Friday closest to the last day of the applicable quarterly calendar period. Our fourth quarter and fiscal year end on\n",
      "December 31 regardless of the day of the week on which December 31 falls.\n",
      "The Company’s first quarter 2014 results were impacted by one less shipping day compared to the first quarter of 2013. Furthermore, the Company recorded the following transactions which\n",
      "impacted results:\n",
      "•\n",
      " \n",
      "{'author': '', 'company': 'Coca-cola', 'creationDate': \"D:20190503150839-04'00'\", 'creationdate': '2019-05-03T15:08:39-04:00', 'creator': 'wkhtmltopdf 0.12.5', 'file_path': './data/2015-cocacola-10k-filing.pdf', 'filing_type': '10-K', 'format': 'PDF 1.4', 'keywords': '', 'modDate': '', 'moddate': '', 'page': 140, 'producer': 'Qt 4.8.7', 'section': 'ITEM 8. FINANCIAL STATEMENTS AND SUPPLEMENTARY DATA  TABLE OF CONTENTS P', 'source': './data/2015-cocacola-10k-filing.pdf', 'subject': '', 'title': '2014.12.31 10-K', 'total_pages': 216, 'trapped': '', 'year': 2015}\n",
      "----------------------------------------------------------------------------------------------------\n",
      "December 31, 2014, and December 31, 2013, the Company's available-for-sale securities included solvency capital funds of $836 million and $667 million, respectively.\n",
      "In 2014 and 2013, the Company did not have any held-to-maturity securities. The Company's available-for-sale securities were included in the following line items in our consolidated balance\n",
      "sheets (in millions):\n",
      "December 31,\n",
      "2014\n",
      "2013\n",
      "Cash and cash equivalents\n",
      "$\n",
      "43\n",
      "$\n",
      "245\n",
      "Marketable securities\n",
      "3,350\n",
      "2,861\n",
      "Other investments\n",
      "3,512\n",
      "958\n",
      "Other assets\n",
      "974\n",
      "778\n",
      "$\n",
      "7,879\n",
      "$\n",
      "4,842\n",
      "91\n",
      " \n",
      "{'author': '', 'company': 'Coca-cola', 'creationDate': \"D:20190503150839-04'00'\", 'creationdate': '2019-05-03T15:08:39-04:00', 'creator': 'wkhtmltopdf 0.12.5', 'file_path': './data/2015-cocacola-10k-filing.pdf', 'filing_type': '10-K', 'format': 'PDF 1.4', 'keywords': '', 'modDate': '', 'moddate': '', 'page': 92, 'producer': 'Qt 4.8.7', 'section': 'ITEM 8. FINANCIAL STATEMENTS AND SUPPLEMENTARY DATA  TABLE OF CONTENTS P', 'source': './data/2015-cocacola-10k-filing.pdf', 'subject': '', 'title': '2014.12.31 10-K', 'total_pages': 216, 'trapped': '', 'year': 2015}\n",
      "----------------------------------------------------------------------------------------------------\n",
      "The following table presents information with respect to purchases of common stock of the Company made during the three months ended December 31, 2014, by the Company or any \"affiliated\n",
      "purchaser\" of the Company as defined in Rule 10b-18(a)(3) under the Exchange Act.\n",
      "Period\n",
      "Total Number of\n",
      "Shares Purchased1\n",
      " \n",
      "Average\n",
      "Price Paid\n",
      "Per Share\n",
      "Total Number of\n",
      "Shares Purchased\n",
      "as Part of Publicly\n",
      "Announced Plan 2\n",
      "Maximum Number of\n",
      "Shares That May\n",
      "Yet Be Purchased\n",
      "Under the Publicly\n",
      "Announced Plan\n",
      "September 27, 2014 through October 24, 2014\n",
      "5,150,833\n",
      " $\n",
      "42.03\n",
      "5,150,833\n",
      "345,200,820\n",
      "October 25, 2014 through November 21, 2014\n",
      "9,997,513\n",
      " \n",
      "42.25\n",
      "9,967,698\n",
      "335,233,122\n",
      "November 22, 2014 through December 31, 2014\n",
      "11,721,766\n",
      " \n",
      "42.77\n",
      "11,707,800\n",
      "323,525,322\n",
      "Total\n",
      "26,870,112\n",
      " $\n",
      "42.43\n",
      "26,826,331\n",
      "1 The total number of shares purchased includes: (i) shares purchased pursuant to the 2012 Plan described in footnote 2 below, and (ii) shares surrendered to the Company to pay the exercise price and/or to\n",
      " \n",
      "{'author': '', 'company': 'Coca-cola', 'creationDate': \"D:20190503150839-04'00'\", 'creationdate': '2019-05-03T15:08:39-04:00', 'creator': 'wkhtmltopdf 0.12.5', 'file_path': './data/2015-cocacola-10k-filing.pdf', 'filing_type': '10-K', 'format': 'PDF 1.4', 'keywords': '', 'modDate': '', 'moddate': '', 'page': 28, 'producer': 'Qt 4.8.7', 'section': 'ITEM 5. MARKET FOR REGISTRANT', 'source': './data/2015-cocacola-10k-filing.pdf', 'subject': '', 'title': '2014.12.31 10-K', 'total_pages': 216, 'trapped': '', 'year': 2015}\n",
      "----------------------------------------------------------------------------------------------------\n",
      "The Company's trading securities were included in the following line items in our consolidated balance sheets (in millions):\n",
      "December 31,\n",
      "2014\n",
      "2013\n",
      "Marketable securities\n",
      "$\n",
      "315\n",
      "$\n",
      "286\n",
      "Other assets\n",
      "94\n",
      "86\n",
      "Total trading securities\n",
      "$\n",
      "409\n",
      "$\n",
      "372\n",
      "90\n",
      " \n",
      "{'author': '', 'company': 'Coca-cola', 'creationDate': \"D:20190503150839-04'00'\", 'creationdate': '2019-05-03T15:08:39-04:00', 'creator': 'wkhtmltopdf 0.12.5', 'file_path': './data/2015-cocacola-10k-filing.pdf', 'filing_type': '10-K', 'format': 'PDF 1.4', 'keywords': '', 'modDate': '', 'moddate': '', 'page': 91, 'producer': 'Qt 4.8.7', 'section': 'ITEM 8. FINANCIAL STATEMENTS AND SUPPLEMENTARY DATA  TABLE OF CONTENTS P', 'source': './data/2015-cocacola-10k-filing.pdf', 'subject': '', 'title': '2014.12.31 10-K', 'total_pages': 216, 'trapped': '', 'year': 2015}\n",
      "----------------------------------------------------------------------------------------------------\n"
     ]
    }
   ],
   "source": [
    "for i in ans:\n",
    "    print(i.page_content)\n",
    "    print(\" \")\n",
    "    print(i.metadata)\n",
    "    print(\"-\"*100)"
   ]
  },
  {
   "cell_type": "code",
   "execution_count": 59,
   "id": "c057f272-0f3e-4937-b2eb-3fa3a0d9d53a",
   "metadata": {},
   "outputs": [],
   "source": [
    "from langchain_core.prompts import ChatPromptTemplate,PromptTemplate\n",
    "prompt_template = \"\"\"\n",
    "You are a finance analyst. You are responsible for generating a **factually correct answer** for the given question using the provided context.\n",
    "\n",
    "Instructions:\n",
    "- Use only the information from the context to generate the answer.\n",
    "- Do **not** make up any facts.\n",
    "- If the answer is not present in the context, respond with \"The answer is not available in the provided context.\"\n",
    "\n",
    "Question: {Question}\n",
    "\n",
    "Context:\n",
    "{context}\n",
    "\"\"\""
   ]
  },
  {
   "cell_type": "code",
   "execution_count": 61,
   "id": "304b84ac-8076-4479-89a5-a1dbd30a518f",
   "metadata": {},
   "outputs": [],
   "source": [
    "prompt = PromptTemplate(\n",
    "    input_variables=[\"Question\", \"context\"],\n",
    "    template=prompt_template\n",
    ")"
   ]
  },
  {
   "cell_type": "code",
   "execution_count": 63,
   "id": "721af911-31fb-4f36-8554-a16038c79398",
   "metadata": {},
   "outputs": [],
   "source": [
    "from langchain_ollama import OllamaLLM\n",
    "from langchain_core.output_parsers import StrOutputParser\n",
    "\n",
    "llm = OllamaLLM(model=\"llama3.2:latest\")\n",
    "parser =StrOutputParser()"
   ]
  },
  {
   "cell_type": "code",
   "execution_count": 77,
   "id": "f2f58399-d4fe-4f3d-b160-28b437d3648a",
   "metadata": {},
   "outputs": [],
   "source": [
    "chain = prompt|llm"
   ]
  },
  {
   "cell_type": "code",
   "execution_count": 67,
   "id": "fca4f1db-33cc-4d5a-9753-c3dd2ac10337",
   "metadata": {},
   "outputs": [],
   "source": [
    "def answer_from_rag(question, chain):\n",
    "    docs = get_documents_by_year_from_query(question)\n",
    "    context = \"\\n\\n\".join([doc.page_content for doc in docs])\n",
    "    context_list = [doc.page_content for doc in docs]\n",
    "    rag_answer = chain.invoke({\"Question\": question, \"context\": context})\n",
    "    return rag_answer ,context_list"
   ]
  },
  {
   "cell_type": "code",
   "execution_count": 121,
   "id": "f9093d93-45f4-4213-b408-eb6e6cbf668b",
   "metadata": {},
   "outputs": [],
   "source": [
    "question = \"What was the average number of diluted shares outstanding in 2014?\"\n",
    "a,b=answer_from_rag(question, chain)"
   ]
  },
  {
   "cell_type": "code",
   "execution_count": 123,
   "id": "35a53d8f-1047-4ba3-ba45-3bc5f72fac4c",
   "metadata": {},
   "outputs": [
    {
     "name": "stdout",
     "output_type": "stream",
     "text": [
      "The answer is not available in the provided context.\n"
     ]
    }
   ],
   "source": [
    "print(a)"
   ]
  },
  {
   "cell_type": "code",
   "execution_count": 53,
   "id": "904edb1d-db77-46ed-b41f-4c3af69b1f8f",
   "metadata": {},
   "outputs": [],
   "source": [
    "with open(\"coca_cola_2015_qa.json\", \"r\") as f:\n",
    "    dataset = json.load(f)"
   ]
  },
  {
   "cell_type": "code",
   "execution_count": 55,
   "id": "baa5ec82-9909-4092-9d41-8a8370ca354c",
   "metadata": {},
   "outputs": [
    {
     "name": "stderr",
     "output_type": "stream",
     "text": [
      "huggingface/tokenizers: The current process just got forked, after parallelism has already been used. Disabling parallelism to avoid deadlocks...\n",
      "To disable this warning, you can either:\n",
      "\t- Avoid using `tokenizers` before the fork if possible\n",
      "\t- Explicitly set the environment variable TOKENIZERS_PARALLELISM=(true | false)\n",
      "/opt/anaconda3/lib/python3.12/site-packages/deepeval/__init__.py:54: UserWarning: You are using deepeval version 2.6.5, however version 3.4.8 is available. You should consider upgrading via the \"pip install --upgrade deepeval\" command.\n",
      "  warnings.warn(\n"
     ]
    }
   ],
   "source": [
    "from deepeval import evaluate\n",
    "from deepeval.test_case import LLMTestCase\n",
    "\n",
    "from deepeval.metrics import FaithfulnessMetric,AnswerRelevancyMetric,ContextualPrecisionMetric,ContextualRecallMetric,ContextualRelevancyMetric"
   ]
  },
  {
   "cell_type": "code",
   "execution_count": 57,
   "id": "b0a35ee0-51dd-4420-995b-2e64aaa26054",
   "metadata": {},
   "outputs": [],
   "source": [
    "test_cases = []\n",
    "for item in dataset:\n",
    "    rag_answer,retrieved_docs = answer_from_rag(item[\"question\"],chain=chain)\n",
    "    \n",
    "    test_cases.append(\n",
    "        LLMTestCase(\n",
    "            input=item[\"question\"],                       # the query\n",
    "            actual_output=rag_answer,                  # RAG's generated answer\n",
    "            expected_output=item[\"answer\"],  # gold answer\n",
    "            retrieval_context=retrieved_docs,     # what your retriever returned\n",
    "        )\n",
    "    )"
   ]
  },
  {
   "cell_type": "code",
   "execution_count": 58,
   "id": "2313e529-e1f2-453d-b414-fdda47a8287b",
   "metadata": {},
   "outputs": [
    {
     "name": "stderr",
     "output_type": "stream",
     "text": [
      "huggingface/tokenizers: The current process just got forked, after parallelism has already been used. Disabling parallelism to avoid deadlocks...\n",
      "To disable this warning, you can either:\n",
      "\t- Avoid using `tokenizers` before the fork if possible\n",
      "\t- Explicitly set the environment variable TOKENIZERS_PARALLELISM=(true | false)\n"
     ]
    },
    {
     "name": "stdout",
     "output_type": "stream",
     "text": [
      "/opt/anaconda3/lib/python3.12/site-packages/deepeval/__init__.py:54: UserWarning: You are using deepeval version 2.6.5, however version 3.4.8 is available. You should consider upgrading via the \"pip install --upgrade deepeval\" command.\n",
      "  warnings.warn(\n",
      "🙌 Congratulations! You're now using a local Ollama model for all evals that \n",
      "require an LLM.\n"
     ]
    }
   ],
   "source": [
    "!deepeval set-ollama gemma3:latest"
   ]
  },
  {
   "cell_type": "code",
   "execution_count": 59,
   "id": "8023aa01-4b4e-4fc7-ab10-dcd9bad3622f",
   "metadata": {},
   "outputs": [],
   "source": [
    "metrics = [\n",
    "    AnswerRelevancyMetric(),\n",
    "    FaithfulnessMetric(),\n",
    "    ContextualPrecisionMetric(),\n",
    "    ContextualRecallMetric(),\n",
    "    ContextualRelevancyMetric()\n",
    "    \n",
    "]"
   ]
  },
  {
   "cell_type": "code",
   "execution_count": 60,
   "id": "c43c999e-58a0-44f7-bacd-a0835b5d3d17",
   "metadata": {},
   "outputs": [
    {
     "data": {
      "text/html": [
       "<pre style=\"white-space:pre;overflow-x:auto;line-height:normal;font-family:Menlo,'DejaVu Sans Mono',consolas,'Courier New',monospace\">✨ You're running DeepEval's latest <span style=\"color: #6a00ff; text-decoration-color: #6a00ff\">Answer Relevancy Metric</span>! <span style=\"color: #374151; text-decoration-color: #374151; font-weight: bold\">(</span><span style=\"color: #374151; text-decoration-color: #374151\">using gemma3:latest </span><span style=\"color: #374151; text-decoration-color: #374151; font-weight: bold\">(</span><span style=\"color: #374151; text-decoration-color: #374151\">Ollama</span><span style=\"color: #374151; text-decoration-color: #374151; font-weight: bold\">)</span><span style=\"color: #374151; text-decoration-color: #374151\">, </span><span style=\"color: #374151; text-decoration-color: #374151\">strict</span><span style=\"color: #374151; text-decoration-color: #374151\">=</span><span style=\"color: #374151; text-decoration-color: #374151; font-style: italic\">False</span><span style=\"color: #374151; text-decoration-color: #374151\">, </span>\n",
       "<span style=\"color: #374151; text-decoration-color: #374151\">async_mode</span><span style=\"color: #374151; text-decoration-color: #374151\">=</span><span style=\"color: #374151; text-decoration-color: #374151; font-style: italic\">True</span><span style=\"color: #374151; text-decoration-color: #374151; font-weight: bold\">)</span><span style=\"color: #374151; text-decoration-color: #374151\">...</span>\n",
       "</pre>\n"
      ],
      "text/plain": [
       "✨ You're running DeepEval's latest \u001b[38;2;106;0;255mAnswer Relevancy Metric\u001b[0m! \u001b[1;38;2;55;65;81m(\u001b[0m\u001b[38;2;55;65;81musing gemma3:latest \u001b[0m\u001b[1;38;2;55;65;81m(\u001b[0m\u001b[38;2;55;65;81mOllama\u001b[0m\u001b[1;38;2;55;65;81m)\u001b[0m\u001b[38;2;55;65;81m, \u001b[0m\u001b[38;2;55;65;81mstrict\u001b[0m\u001b[38;2;55;65;81m=\u001b[0m\u001b[3;38;2;55;65;81mFalse\u001b[0m\u001b[38;2;55;65;81m, \u001b[0m\n",
       "\u001b[38;2;55;65;81masync_mode\u001b[0m\u001b[38;2;55;65;81m=\u001b[0m\u001b[3;38;2;55;65;81mTrue\u001b[0m\u001b[1;38;2;55;65;81m)\u001b[0m\u001b[38;2;55;65;81m...\u001b[0m\n"
      ]
     },
     "metadata": {},
     "output_type": "display_data"
    },
    {
     "data": {
      "text/html": [
       "<pre style=\"white-space:pre;overflow-x:auto;line-height:normal;font-family:Menlo,'DejaVu Sans Mono',consolas,'Courier New',monospace\">✨ You're running DeepEval's latest <span style=\"color: #6a00ff; text-decoration-color: #6a00ff\">Faithfulness Metric</span>! <span style=\"color: #374151; text-decoration-color: #374151; font-weight: bold\">(</span><span style=\"color: #374151; text-decoration-color: #374151\">using gemma3:latest </span><span style=\"color: #374151; text-decoration-color: #374151; font-weight: bold\">(</span><span style=\"color: #374151; text-decoration-color: #374151\">Ollama</span><span style=\"color: #374151; text-decoration-color: #374151; font-weight: bold\">)</span><span style=\"color: #374151; text-decoration-color: #374151\">, </span><span style=\"color: #374151; text-decoration-color: #374151\">strict</span><span style=\"color: #374151; text-decoration-color: #374151\">=</span><span style=\"color: #374151; text-decoration-color: #374151; font-style: italic\">False</span><span style=\"color: #374151; text-decoration-color: #374151\">, </span>\n",
       "<span style=\"color: #374151; text-decoration-color: #374151\">async_mode</span><span style=\"color: #374151; text-decoration-color: #374151\">=</span><span style=\"color: #374151; text-decoration-color: #374151; font-style: italic\">True</span><span style=\"color: #374151; text-decoration-color: #374151; font-weight: bold\">)</span><span style=\"color: #374151; text-decoration-color: #374151\">...</span>\n",
       "</pre>\n"
      ],
      "text/plain": [
       "✨ You're running DeepEval's latest \u001b[38;2;106;0;255mFaithfulness Metric\u001b[0m! \u001b[1;38;2;55;65;81m(\u001b[0m\u001b[38;2;55;65;81musing gemma3:latest \u001b[0m\u001b[1;38;2;55;65;81m(\u001b[0m\u001b[38;2;55;65;81mOllama\u001b[0m\u001b[1;38;2;55;65;81m)\u001b[0m\u001b[38;2;55;65;81m, \u001b[0m\u001b[38;2;55;65;81mstrict\u001b[0m\u001b[38;2;55;65;81m=\u001b[0m\u001b[3;38;2;55;65;81mFalse\u001b[0m\u001b[38;2;55;65;81m, \u001b[0m\n",
       "\u001b[38;2;55;65;81masync_mode\u001b[0m\u001b[38;2;55;65;81m=\u001b[0m\u001b[3;38;2;55;65;81mTrue\u001b[0m\u001b[1;38;2;55;65;81m)\u001b[0m\u001b[38;2;55;65;81m...\u001b[0m\n"
      ]
     },
     "metadata": {},
     "output_type": "display_data"
    },
    {
     "data": {
      "text/html": [
       "<pre style=\"white-space:pre;overflow-x:auto;line-height:normal;font-family:Menlo,'DejaVu Sans Mono',consolas,'Courier New',monospace\">✨ You're running DeepEval's latest <span style=\"color: #6a00ff; text-decoration-color: #6a00ff\">Contextual Precision Metric</span>! <span style=\"color: #374151; text-decoration-color: #374151; font-weight: bold\">(</span><span style=\"color: #374151; text-decoration-color: #374151\">using gemma3:latest </span><span style=\"color: #374151; text-decoration-color: #374151; font-weight: bold\">(</span><span style=\"color: #374151; text-decoration-color: #374151\">Ollama</span><span style=\"color: #374151; text-decoration-color: #374151; font-weight: bold\">)</span><span style=\"color: #374151; text-decoration-color: #374151\">, </span><span style=\"color: #374151; text-decoration-color: #374151\">strict</span><span style=\"color: #374151; text-decoration-color: #374151\">=</span><span style=\"color: #374151; text-decoration-color: #374151; font-style: italic\">False</span><span style=\"color: #374151; text-decoration-color: #374151\">, </span>\n",
       "<span style=\"color: #374151; text-decoration-color: #374151\">async_mode</span><span style=\"color: #374151; text-decoration-color: #374151\">=</span><span style=\"color: #374151; text-decoration-color: #374151; font-style: italic\">True</span><span style=\"color: #374151; text-decoration-color: #374151; font-weight: bold\">)</span><span style=\"color: #374151; text-decoration-color: #374151\">...</span>\n",
       "</pre>\n"
      ],
      "text/plain": [
       "✨ You're running DeepEval's latest \u001b[38;2;106;0;255mContextual Precision Metric\u001b[0m! \u001b[1;38;2;55;65;81m(\u001b[0m\u001b[38;2;55;65;81musing gemma3:latest \u001b[0m\u001b[1;38;2;55;65;81m(\u001b[0m\u001b[38;2;55;65;81mOllama\u001b[0m\u001b[1;38;2;55;65;81m)\u001b[0m\u001b[38;2;55;65;81m, \u001b[0m\u001b[38;2;55;65;81mstrict\u001b[0m\u001b[38;2;55;65;81m=\u001b[0m\u001b[3;38;2;55;65;81mFalse\u001b[0m\u001b[38;2;55;65;81m, \u001b[0m\n",
       "\u001b[38;2;55;65;81masync_mode\u001b[0m\u001b[38;2;55;65;81m=\u001b[0m\u001b[3;38;2;55;65;81mTrue\u001b[0m\u001b[1;38;2;55;65;81m)\u001b[0m\u001b[38;2;55;65;81m...\u001b[0m\n"
      ]
     },
     "metadata": {},
     "output_type": "display_data"
    },
    {
     "data": {
      "text/html": [
       "<pre style=\"white-space:pre;overflow-x:auto;line-height:normal;font-family:Menlo,'DejaVu Sans Mono',consolas,'Courier New',monospace\">✨ You're running DeepEval's latest <span style=\"color: #6a00ff; text-decoration-color: #6a00ff\">Contextual Recall Metric</span>! <span style=\"color: #374151; text-decoration-color: #374151; font-weight: bold\">(</span><span style=\"color: #374151; text-decoration-color: #374151\">using gemma3:latest </span><span style=\"color: #374151; text-decoration-color: #374151; font-weight: bold\">(</span><span style=\"color: #374151; text-decoration-color: #374151\">Ollama</span><span style=\"color: #374151; text-decoration-color: #374151; font-weight: bold\">)</span><span style=\"color: #374151; text-decoration-color: #374151\">, </span><span style=\"color: #374151; text-decoration-color: #374151\">strict</span><span style=\"color: #374151; text-decoration-color: #374151\">=</span><span style=\"color: #374151; text-decoration-color: #374151; font-style: italic\">False</span><span style=\"color: #374151; text-decoration-color: #374151\">, </span>\n",
       "<span style=\"color: #374151; text-decoration-color: #374151\">async_mode</span><span style=\"color: #374151; text-decoration-color: #374151\">=</span><span style=\"color: #374151; text-decoration-color: #374151; font-style: italic\">True</span><span style=\"color: #374151; text-decoration-color: #374151; font-weight: bold\">)</span><span style=\"color: #374151; text-decoration-color: #374151\">...</span>\n",
       "</pre>\n"
      ],
      "text/plain": [
       "✨ You're running DeepEval's latest \u001b[38;2;106;0;255mContextual Recall Metric\u001b[0m! \u001b[1;38;2;55;65;81m(\u001b[0m\u001b[38;2;55;65;81musing gemma3:latest \u001b[0m\u001b[1;38;2;55;65;81m(\u001b[0m\u001b[38;2;55;65;81mOllama\u001b[0m\u001b[1;38;2;55;65;81m)\u001b[0m\u001b[38;2;55;65;81m, \u001b[0m\u001b[38;2;55;65;81mstrict\u001b[0m\u001b[38;2;55;65;81m=\u001b[0m\u001b[3;38;2;55;65;81mFalse\u001b[0m\u001b[38;2;55;65;81m, \u001b[0m\n",
       "\u001b[38;2;55;65;81masync_mode\u001b[0m\u001b[38;2;55;65;81m=\u001b[0m\u001b[3;38;2;55;65;81mTrue\u001b[0m\u001b[1;38;2;55;65;81m)\u001b[0m\u001b[38;2;55;65;81m...\u001b[0m\n"
      ]
     },
     "metadata": {},
     "output_type": "display_data"
    },
    {
     "data": {
      "text/html": [
       "<pre style=\"white-space:pre;overflow-x:auto;line-height:normal;font-family:Menlo,'DejaVu Sans Mono',consolas,'Courier New',monospace\">✨ You're running DeepEval's latest <span style=\"color: #6a00ff; text-decoration-color: #6a00ff\">Contextual Relevancy Metric</span>! <span style=\"color: #374151; text-decoration-color: #374151; font-weight: bold\">(</span><span style=\"color: #374151; text-decoration-color: #374151\">using gemma3:latest </span><span style=\"color: #374151; text-decoration-color: #374151; font-weight: bold\">(</span><span style=\"color: #374151; text-decoration-color: #374151\">Ollama</span><span style=\"color: #374151; text-decoration-color: #374151; font-weight: bold\">)</span><span style=\"color: #374151; text-decoration-color: #374151\">, </span><span style=\"color: #374151; text-decoration-color: #374151\">strict</span><span style=\"color: #374151; text-decoration-color: #374151\">=</span><span style=\"color: #374151; text-decoration-color: #374151; font-style: italic\">False</span><span style=\"color: #374151; text-decoration-color: #374151\">, </span>\n",
       "<span style=\"color: #374151; text-decoration-color: #374151\">async_mode</span><span style=\"color: #374151; text-decoration-color: #374151\">=</span><span style=\"color: #374151; text-decoration-color: #374151; font-style: italic\">True</span><span style=\"color: #374151; text-decoration-color: #374151; font-weight: bold\">)</span><span style=\"color: #374151; text-decoration-color: #374151\">...</span>\n",
       "</pre>\n"
      ],
      "text/plain": [
       "✨ You're running DeepEval's latest \u001b[38;2;106;0;255mContextual Relevancy Metric\u001b[0m! \u001b[1;38;2;55;65;81m(\u001b[0m\u001b[38;2;55;65;81musing gemma3:latest \u001b[0m\u001b[1;38;2;55;65;81m(\u001b[0m\u001b[38;2;55;65;81mOllama\u001b[0m\u001b[1;38;2;55;65;81m)\u001b[0m\u001b[38;2;55;65;81m, \u001b[0m\u001b[38;2;55;65;81mstrict\u001b[0m\u001b[38;2;55;65;81m=\u001b[0m\u001b[3;38;2;55;65;81mFalse\u001b[0m\u001b[38;2;55;65;81m, \u001b[0m\n",
       "\u001b[38;2;55;65;81masync_mode\u001b[0m\u001b[38;2;55;65;81m=\u001b[0m\u001b[3;38;2;55;65;81mTrue\u001b[0m\u001b[1;38;2;55;65;81m)\u001b[0m\u001b[38;2;55;65;81m...\u001b[0m\n"
      ]
     },
     "metadata": {},
     "output_type": "display_data"
    },
    {
     "name": "stderr",
     "output_type": "stream",
     "text": [
      "Evaluating 10 test case(s) in parallel: | |  0% (0/10) [Time Taken: 00:00, ?test"
     ]
    },
    {
     "ename": "KeyboardInterrupt",
     "evalue": "",
     "output_type": "error",
     "traceback": [
      "\u001b[0;31m---------------------------------------------------------------------------\u001b[0m",
      "\u001b[0;31mKeyboardInterrupt\u001b[0m                         Traceback (most recent call last)",
      "Cell \u001b[0;32mIn[60], line 1\u001b[0m\n\u001b[0;32m----> 1\u001b[0m evaluate(test_cases\u001b[38;5;241m=\u001b[39mtest_cases, metrics\u001b[38;5;241m=\u001b[39mmetrics)\n",
      "File \u001b[0;32m/opt/anaconda3/lib/python3.12/site-packages/deepeval/evaluate.py:1059\u001b[0m, in \u001b[0;36mevaluate\u001b[0;34m(test_cases, metrics, hyperparameters, run_async, show_indicator, print_results, write_cache, use_cache, ignore_errors, skip_on_missing_params, verbose_mode, identifier, throttle_value, max_concurrent, display)\u001b[0m\n\u001b[1;32m   1057\u001b[0m \u001b[38;5;28;01mif\u001b[39;00m run_async:\n\u001b[1;32m   1058\u001b[0m     loop \u001b[38;5;241m=\u001b[39m get_or_create_event_loop()\n\u001b[0;32m-> 1059\u001b[0m     test_results \u001b[38;5;241m=\u001b[39m loop\u001b[38;5;241m.\u001b[39mrun_until_complete(\n\u001b[1;32m   1060\u001b[0m         a_execute_test_cases(\n\u001b[1;32m   1061\u001b[0m             test_cases,\n\u001b[1;32m   1062\u001b[0m             metrics,\n\u001b[1;32m   1063\u001b[0m             ignore_errors\u001b[38;5;241m=\u001b[39mignore_errors,\n\u001b[1;32m   1064\u001b[0m             use_cache\u001b[38;5;241m=\u001b[39muse_cache,\n\u001b[1;32m   1065\u001b[0m             verbose_mode\u001b[38;5;241m=\u001b[39mverbose_mode,\n\u001b[1;32m   1066\u001b[0m             save_to_disk\u001b[38;5;241m=\u001b[39mwrite_cache,\n\u001b[1;32m   1067\u001b[0m             show_indicator\u001b[38;5;241m=\u001b[39mshow_indicator,\n\u001b[1;32m   1068\u001b[0m             skip_on_missing_params\u001b[38;5;241m=\u001b[39mskip_on_missing_params,\n\u001b[1;32m   1069\u001b[0m             throttle_value\u001b[38;5;241m=\u001b[39mthrottle_value,\n\u001b[1;32m   1070\u001b[0m             identifier\u001b[38;5;241m=\u001b[39midentifier,\n\u001b[1;32m   1071\u001b[0m             max_concurrent\u001b[38;5;241m=\u001b[39mmax_concurrent,\n\u001b[1;32m   1072\u001b[0m         )\n\u001b[1;32m   1073\u001b[0m     )\n\u001b[1;32m   1074\u001b[0m \u001b[38;5;28;01melse\u001b[39;00m:\n\u001b[1;32m   1075\u001b[0m     test_results \u001b[38;5;241m=\u001b[39m execute_test_cases(\n\u001b[1;32m   1076\u001b[0m         test_cases,\n\u001b[1;32m   1077\u001b[0m         metrics,\n\u001b[0;32m   (...)\u001b[0m\n\u001b[1;32m   1084\u001b[0m         show_indicator\u001b[38;5;241m=\u001b[39mshow_indicator,\n\u001b[1;32m   1085\u001b[0m     )\n",
      "File \u001b[0;32m/opt/anaconda3/lib/python3.12/site-packages/nest_asyncio.py:92\u001b[0m, in \u001b[0;36m_patch_loop.<locals>.run_until_complete\u001b[0;34m(self, future)\u001b[0m\n\u001b[1;32m     90\u001b[0m     f\u001b[38;5;241m.\u001b[39m_log_destroy_pending \u001b[38;5;241m=\u001b[39m \u001b[38;5;28;01mFalse\u001b[39;00m\n\u001b[1;32m     91\u001b[0m \u001b[38;5;28;01mwhile\u001b[39;00m \u001b[38;5;129;01mnot\u001b[39;00m f\u001b[38;5;241m.\u001b[39mdone():\n\u001b[0;32m---> 92\u001b[0m     \u001b[38;5;28mself\u001b[39m\u001b[38;5;241m.\u001b[39m_run_once()\n\u001b[1;32m     93\u001b[0m     \u001b[38;5;28;01mif\u001b[39;00m \u001b[38;5;28mself\u001b[39m\u001b[38;5;241m.\u001b[39m_stopping:\n\u001b[1;32m     94\u001b[0m         \u001b[38;5;28;01mbreak\u001b[39;00m\n",
      "File \u001b[0;32m/opt/anaconda3/lib/python3.12/site-packages/nest_asyncio.py:115\u001b[0m, in \u001b[0;36m_patch_loop.<locals>._run_once\u001b[0;34m(self)\u001b[0m\n\u001b[1;32m    108\u001b[0m     heappop(scheduled)\n\u001b[1;32m    110\u001b[0m timeout \u001b[38;5;241m=\u001b[39m (\n\u001b[1;32m    111\u001b[0m     \u001b[38;5;241m0\u001b[39m \u001b[38;5;28;01mif\u001b[39;00m ready \u001b[38;5;129;01mor\u001b[39;00m \u001b[38;5;28mself\u001b[39m\u001b[38;5;241m.\u001b[39m_stopping\n\u001b[1;32m    112\u001b[0m     \u001b[38;5;28;01melse\u001b[39;00m \u001b[38;5;28mmin\u001b[39m(\u001b[38;5;28mmax\u001b[39m(\n\u001b[1;32m    113\u001b[0m         scheduled[\u001b[38;5;241m0\u001b[39m]\u001b[38;5;241m.\u001b[39m_when \u001b[38;5;241m-\u001b[39m \u001b[38;5;28mself\u001b[39m\u001b[38;5;241m.\u001b[39mtime(), \u001b[38;5;241m0\u001b[39m), \u001b[38;5;241m86400\u001b[39m) \u001b[38;5;28;01mif\u001b[39;00m scheduled\n\u001b[1;32m    114\u001b[0m     \u001b[38;5;28;01melse\u001b[39;00m \u001b[38;5;28;01mNone\u001b[39;00m)\n\u001b[0;32m--> 115\u001b[0m event_list \u001b[38;5;241m=\u001b[39m \u001b[38;5;28mself\u001b[39m\u001b[38;5;241m.\u001b[39m_selector\u001b[38;5;241m.\u001b[39mselect(timeout)\n\u001b[1;32m    116\u001b[0m \u001b[38;5;28mself\u001b[39m\u001b[38;5;241m.\u001b[39m_process_events(event_list)\n\u001b[1;32m    118\u001b[0m end_time \u001b[38;5;241m=\u001b[39m \u001b[38;5;28mself\u001b[39m\u001b[38;5;241m.\u001b[39mtime() \u001b[38;5;241m+\u001b[39m \u001b[38;5;28mself\u001b[39m\u001b[38;5;241m.\u001b[39m_clock_resolution\n",
      "File \u001b[0;32m/opt/anaconda3/lib/python3.12/selectors.py:566\u001b[0m, in \u001b[0;36mKqueueSelector.select\u001b[0;34m(self, timeout)\u001b[0m\n\u001b[1;32m    564\u001b[0m ready \u001b[38;5;241m=\u001b[39m []\n\u001b[1;32m    565\u001b[0m \u001b[38;5;28;01mtry\u001b[39;00m:\n\u001b[0;32m--> 566\u001b[0m     kev_list \u001b[38;5;241m=\u001b[39m \u001b[38;5;28mself\u001b[39m\u001b[38;5;241m.\u001b[39m_selector\u001b[38;5;241m.\u001b[39mcontrol(\u001b[38;5;28;01mNone\u001b[39;00m, max_ev, timeout)\n\u001b[1;32m    567\u001b[0m \u001b[38;5;28;01mexcept\u001b[39;00m \u001b[38;5;167;01mInterruptedError\u001b[39;00m:\n\u001b[1;32m    568\u001b[0m     \u001b[38;5;28;01mreturn\u001b[39;00m ready\n",
      "\u001b[0;31mKeyboardInterrupt\u001b[0m: "
     ]
    }
   ],
   "source": [
    "evaluate(test_cases=test_cases, metrics=metrics)"
   ]
  },
  {
   "cell_type": "code",
   "execution_count": null,
   "id": "46d655d7-4d76-4757-a743-ba3e7005812a",
   "metadata": {},
   "outputs": [],
   "source": [
    "import json\n",
    "from deepeval.metrics import GEval\n",
    "from deepeval.test_case import LLMTestCaseParams\n",
    "correctness_metric = GEval(\n",
    "    name=\"Correctness\",\n",
    "    criteria=\"Determine whether the actual output is factually correct based on the expected output.\",\n",
    "    # NOTE: you can only provide either criteria or evaluation_steps, and not both\n",
    "    evaluation_steps=[\n",
    "        \"Check whether the facts in 'actual output' contradicts any facts in 'expected output'\",\n",
    "        \"You should also heavily penalize omission of detail\",\n",
    "        \"Vague language, or contradicting OPINIONS, are OK\"\n",
    "    ],\n",
    "    evaluation_params=[LLMTestCaseParams.INPUT, LLMTestCaseParams.ACTUAL_OUTPUT, LLMTestCaseParams.EXPECTED_OUTPUT]\n",
    ")"
   ]
  },
  {
   "cell_type": "code",
   "execution_count": 227,
   "id": "6b3cc6f2-58d2-4a62-a268-0a0f233ede3f",
   "metadata": {},
   "outputs": [
    {
     "data": {
      "text/html": [
       "<pre style=\"white-space:pre;overflow-x:auto;line-height:normal;font-family:Menlo,'DejaVu Sans Mono',consolas,'Courier New',monospace\">✨ You're running DeepEval's latest <span style=\"color: #6a00ff; text-decoration-color: #6a00ff\">Correctness </span><span style=\"color: #6a00ff; text-decoration-color: #6a00ff; font-weight: bold\">(</span><span style=\"color: #6a00ff; text-decoration-color: #6a00ff\">GEval</span><span style=\"color: #6a00ff; text-decoration-color: #6a00ff; font-weight: bold\">)</span><span style=\"color: #6a00ff; text-decoration-color: #6a00ff\"> Metric</span>! <span style=\"color: #374151; text-decoration-color: #374151; font-weight: bold\">(</span><span style=\"color: #374151; text-decoration-color: #374151\">using gemma3:latest </span><span style=\"color: #374151; text-decoration-color: #374151; font-weight: bold\">(</span><span style=\"color: #374151; text-decoration-color: #374151\">Ollama</span><span style=\"color: #374151; text-decoration-color: #374151; font-weight: bold\">)</span><span style=\"color: #374151; text-decoration-color: #374151\">, </span><span style=\"color: #374151; text-decoration-color: #374151\">strict</span><span style=\"color: #374151; text-decoration-color: #374151\">=</span><span style=\"color: #374151; text-decoration-color: #374151; font-style: italic\">False</span><span style=\"color: #374151; text-decoration-color: #374151\">, </span>\n",
       "<span style=\"color: #374151; text-decoration-color: #374151\">async_mode</span><span style=\"color: #374151; text-decoration-color: #374151\">=</span><span style=\"color: #374151; text-decoration-color: #374151; font-style: italic\">True</span><span style=\"color: #374151; text-decoration-color: #374151; font-weight: bold\">)</span><span style=\"color: #374151; text-decoration-color: #374151\">...</span>\n",
       "</pre>\n"
      ],
      "text/plain": [
       "✨ You're running DeepEval's latest \u001b[38;2;106;0;255mCorrectness \u001b[0m\u001b[1;38;2;106;0;255m(\u001b[0m\u001b[38;2;106;0;255mGEval\u001b[0m\u001b[1;38;2;106;0;255m)\u001b[0m\u001b[38;2;106;0;255m Metric\u001b[0m! \u001b[1;38;2;55;65;81m(\u001b[0m\u001b[38;2;55;65;81musing gemma3:latest \u001b[0m\u001b[1;38;2;55;65;81m(\u001b[0m\u001b[38;2;55;65;81mOllama\u001b[0m\u001b[1;38;2;55;65;81m)\u001b[0m\u001b[38;2;55;65;81m, \u001b[0m\u001b[38;2;55;65;81mstrict\u001b[0m\u001b[38;2;55;65;81m=\u001b[0m\u001b[3;38;2;55;65;81mFalse\u001b[0m\u001b[38;2;55;65;81m, \u001b[0m\n",
       "\u001b[38;2;55;65;81masync_mode\u001b[0m\u001b[38;2;55;65;81m=\u001b[0m\u001b[3;38;2;55;65;81mTrue\u001b[0m\u001b[1;38;2;55;65;81m)\u001b[0m\u001b[38;2;55;65;81m...\u001b[0m\n"
      ]
     },
     "metadata": {},
     "output_type": "display_data"
    },
    {
     "name": "stderr",
     "output_type": "stream",
     "text": [
      "Evaluating 4 test case(s) in parallel: |█|100% (4/4) [Time Taken: 00:07,  2.00s/"
     ]
    },
    {
     "name": "stdout",
     "output_type": "stream",
     "text": [
      "\n",
      "======================================================================\n",
      "\n",
      "Metrics Summary\n",
      "\n",
      "  - ✅ Correctness (GEval) (score: 0.7, threshold: 0.5, strict: False, evaluation model: gemma3:latest (Ollama), reason: The actual output lists several competitors, including Nestlé, DPSG, Groupe Danone, Mondelēz, Kraft, Suntory, and Unilever, aligning with the expected output. However, PepsiCo is missing, a key competitor listed in the expected output. The actual output also includes a general statement about potential impacts, while the expected output is slightly more specific regarding investment in marketing and innovation., error: None)\n",
      "\n",
      "For test case:\n",
      "\n",
      "  - input: Which companies are considered major competitors to The Coca-Cola Company in the nonalcoholic beverage segment, and how might this competition impact their market share in 2014?\n",
      "  - actual output: Based on the provided context, the major competitors to The Coca-Cola Company in the nonalcoholic beverage segment include:\n",
      "\n",
      "1. Nestlé\n",
      "2. DPSG (The Dr Pepper Snapple Group)\n",
      "3. Groupe Danone\n",
      "4. Mondelēz\n",
      "5. Kraft\n",
      "6. Suntory\n",
      "7. Unilever\n",
      "\n",
      "These companies, along with major beer companies and private label brands developed by retailers, compete with The Coca-Cola Company in the nonalcoholic beverage segment.\n",
      "\n",
      "The competition from these companies could impact The Coca-Cola Company's market share in 2014 if the company does not continue to strengthen its capabilities in marketing and innovation to maintain brand loyalty and market share. Additionally, product safety and quality concerns could also negatively affect the company's business.\n",
      "  - expected output: Major competitors include PepsiCo, Nestlé, DPSG, Groupe Danone, Mondelēz, Kraft, Suntory, Unilever, and in some markets, major beer companies and private label brands. This competition could limit Coca-Cola’s ability to gain or maintain market share if it does not continue to invest in marketing, innovation, and brand loyalty.\n",
      "  - context: None\n",
      "  - retrieval context: ['primary competitor. Other significant competitors include, but are not limited to, Nestlé, DPSG, Groupe Danone, Mondelēz, Kraft, Suntory and Unilever. In certain markets, our competition also\\nincludes major beer companies. Our beverage products also compete against private label brands developed by retailers, some of which are Coca-Cola system customers. Our ability to gain or\\nmaintain share of sales in the global market or in various local markets may be limited as a result of actions by competitors. If we do not continue to strengthen our capabilities in marketing and\\ninnovation to maintain our brand loyalty and market share while we selectively expand into other product categories in the nonalcoholic beverage segment of the commercial beverage industry,\\nour business could be negatively affected.\\nProduct safety and quality concerns could negatively affect our business.', \"General\\nThe Coca-Cola Company is the world's largest beverage company. We own or license and market more than 500 nonalcoholic beverage brands, primarily sparkling beverages but also a variety of\\nstill beverages such as waters, enhanced waters, juices and juice drinks, ready-to-drink teas and coffees, and energy and sports drinks. We own and market four of the world's top five nonalcoholic\\nsparkling beverage brands: Coca-Cola, Diet Coke, Fanta and Sprite. Finished beverage products bearing our trademarks, sold in the United States since 1886, are now sold in more than 200\\ncountries.\\nWe make our branded beverage products available to consumers throughout the world through our network of Company-owned or -controlled bottling and distribution operations as well as\\nindependent bottling partners, distributors, wholesalers and retailers — the world's largest beverage distribution system. Beverages bearing trademarks owned by or licensed to us account for 1.9\", \"Our Business\\nGeneral\\nThe Coca-Cola Company is the world's largest beverage company. We own or license and market more than 500 nonalcoholic beverage brands, primarily sparkling beverages but also a variety of\\nstill beverages such as waters, enhanced waters, juices and juice drinks, ready-to-drink teas and coffees, and energy and sports drinks. We own and market four of the world's top five nonalcoholic\\nsparkling beverage brands: Coca-Cola, Diet Coke, Fanta and Sprite. Finished beverage products bearing our trademarks, sold in the United States since 1886, are now sold in more than 200\\ncountries.\\nWe make our branded beverage products available to consumers throughout the world through our network of Company-owned or -controlled bottling and distribution operations, bottling\\npartners, distributors, wholesalers and retailers — the world's largest beverage distribution system. Beverages bearing trademarks owned by or licensed to us account for 1.9 billion of the\", \"THE COCA-COLA COMPANY AND SUBSIDIARIES\\nNOTES TO CONSOLIDATED FINANCIAL STATEMENTS\\n \\nNOTE 1: BUSINESS AND SUMMARY OF SIGNIFICANT ACCOUNTING POLICIES\\nDescription of Business\\nThe Coca-Cola Company is the world's largest beverage company. We own or license and market more than 500 nonalcoholic beverage brands, primarily sparkling beverages but also a variety of\\nstill beverages such as waters, enhanced waters, juices and juice drinks, ready-to-drink teas and coffees, and energy and sports drinks. We own and market four of the world's top five nonalcoholic\\nsparkling beverage brands: Coca-Cola, Diet Coke, Fanta and Sprite. Finished beverage products bearing our trademarks, sold in the United States since 1886, are now sold in more than 200\\ncountries.\\nWe make our branded beverage products available to consumers throughout the world through our network of Company-owned or -controlled bottling and distribution operations, bottling\", 'Competition\\nThe nonalcoholic beverage segment of the commercial beverage industry is highly competitive, consisting of numerous companies ranging from small or emerging to very large and well\\nestablished. These include companies that, like our Company, compete in multiple geographic areas, as well as businesses that are primarily regional or local in operation. Competitive products\\ninclude numerous nonalcoholic sparkling beverages; various water products, including packaged, flavored and enhanced waters; juices and nectars; fruit drinks and dilutables (including syrups\\nand powdered drinks); coffees and teas; energy and sports and other performance-enhancing drinks; dairy-based drinks; functional beverages, including vitamin-based products and relaxation\\nbeverages; and various other nonalcoholic beverages. These competitive beverages are sold to consumers in both ready-to-drink and other than ready-to-drink form. In many of the countries in']\n",
      "\n",
      "======================================================================\n",
      "\n",
      "Metrics Summary\n",
      "\n",
      "  - ❌ Correctness (GEval) (score: 0.1, threshold: 0.5, strict: False, evaluation model: gemma3:latest (Ollama), reason: The actual output states only \"Principles of Consolidation\" was identified, while the expected output lists \"Principles of Consolidation, Recoverability of Current and Noncurrent Assets, Pension Plan Valuations, Revenue Recognition, and Income Taxes\". The actual output omits several key policies and estimates as outlined in the expected output., error: None)\n",
      "\n",
      "For test case:\n",
      "\n",
      "  - input: Which critical accounting policies and estimates did The Coca-Cola Company identify in 2016 as significantly affecting its consolidated financial statements?\n",
      "  - actual output: The answer is not available in the provided context. The report of independent registered public accounting firm mentions \"Principles of Consolidation\" as one of the critical accounting policies and estimates, but it does not specifically identify other critical accounting policies and estimates.\n",
      "  - expected output: In 2016, The Coca-Cola Company identified the following as critical accounting policies and estimates: Principles of Consolidation, Recoverability of Current and Noncurrent Assets, Pension Plan Valuations, Revenue Recognition, and Income Taxes.\n",
      "  - context: None\n",
      "  - retrieval context: [\"disclosures in the financial statements. An audit also includes assessing the accounting principles used and significant estimates made by management, as well as evaluating the overall financial\\nstatement presentation. We believe that our audits provide a reasonable basis for our opinion.\\nIn our opinion, the financial statements referred to above present fairly, in all material respects, the consolidated financial position of The Coca-Cola Company and subsidiaries at December 31,\\n2016 and 2015, and the consolidated results of their operations and their cash flows for each of the three years in the period ended December 31, 2016, in conformity with U.S. generally\\naccepted accounting principles.\\nWe also have audited, in accordance with the standards of the Public Company Accounting Oversight Board (United States), The Coca-Cola Company and subsidiaries' internal control over\", \"Report of Independent Registered Public Accounting Firm\\nBoard of Directors and Shareowners\\nThe Coca-Cola Company\\nWe have audited the accompanying consolidated balance sheets of The Coca-Cola Company and subsidiaries as of December 31, 2016 and 2015, and the related consolidated statements of\\nincome, comprehensive income, shareowners' equity, and cash flows for each of the three years in the period ended December 31, 2016. These financial statements are the responsibility of the\\nCompany's management. Our responsibility is to express an opinion on these financial statements based on our audits.\\nWe conducted our audits in accordance with the standards of the Public Company Accounting Oversight Board (United States). Those standards require that we plan and perform the audit to\\nobtain reasonable assurance about whether the financial statements are free of material misstatement. An audit includes examining, on a test basis, evidence supporting the amounts and\", \"and assumptions that affect the amounts reported in our consolidated financial statements and accompanying notes. We believe our most critical accounting policies and estimates relate to the\\nfollowing:\\n• Principles of\\nConsolidation\\n• Recoverability of Current and Noncurrent\\nAssets\\n• Pension Plan\\nValuations\\n• Revenue\\nRecognition\\n• Income\\nTaxes\\nManagement has discussed the development, selection and disclosure of critical accounting policies and estimates with the Audit Committee of the Company's Board of Directors. While our\\nestimates and assumptions are based on our knowledge of current events and actions we may undertake in the future, actual results may ultimately differ from these estimates and assumptions.\\nFor a discussion of the Company's significant accounting policies, refer to Note 1 of Notes to Consolidated Financial Statements.\\nPrinciples of Consolidation\", \"Because of its inherent limitations, internal control over financial reporting may not prevent or detect misstatements. Also, projections of any evaluation of effectiveness to future periods are\\nsubject to the risk that controls may become inadequate because of changes in conditions, or that the degree of compliance with the policies or procedures may deteriorate.\\nIn our opinion, The Coca-Cola Company and subsidiaries maintained, in all material respects, effective internal control over financial reporting as of December 31, 2016, based on the COSO\\ncriteria.\\nWe also have audited, in accordance with the standards of the Public Company Accounting Oversight Board (United States), the consolidated balance sheets of The Coca-Cola Company and\\nsubsidiaries as of December 31, 2016 and 2015, and the related consolidated statements of income, comprehensive income, shareowners' equity, and cash flows for each of the three years in the\", 'THE COCA-COLA COMPANY AND SUBSIDIARIES\\nCONSOLIDATED STATEMENTS OF CASH FLOWS\\nYear Ended December 31,\\n2016\\n \\n2015\\n \\n2014\\n(In millions)\\n \\n \\nOPERATING ACTIVITIES\\n \\n  \\n  \\nConsolidated net income\\n$\\n6,550\\n $\\n7,366\\n $\\n7,124\\nDepreciation and amortization\\n1,787\\n \\n1,970\\n \\n1,976\\nStock-based compensation expense\\n258\\n \\n236\\n \\n209\\nDeferred income taxes\\n(856)  \\n73\\n \\n(40)\\nEquity (income) loss — net of dividends\\n(449)  \\n(122)  \\n(371)\\nForeign currency adjustments\\n158\\n \\n(137)  \\n415\\nSignificant (gains) losses on sales of assets — net\\n1,146\\n \\n(374)  \\n831\\nOther operating charges\\n647\\n \\n929\\n \\n761\\nOther items\\n(224)  \\n744\\n \\n149\\nNet change in operating assets and liabilities\\n(221)  \\n(157)  \\n(439)\\nNet cash provided by operating activities\\n8,796\\n \\n10,528\\n \\n10,615\\nINVESTING ACTIVITIES\\n \\n  \\n  \\nPurchases of investments\\n(15,499)  \\n(15,831)  \\n(17,800)\\nProceeds from disposals of investments\\n16,624\\n \\n14,079\\n \\n12,986\\nAcquisitions of businesses, equity method investments and nonmarketable securities\\n(838)  \\n(2,491)  \\n(389)']\n",
      "\n",
      "======================================================================\n",
      "\n",
      "Metrics Summary\n",
      "\n",
      "  - ✅ Correctness (GEval) (score: 1.0, threshold: 0.5, strict: False, evaluation model: gemma3:latest (Ollama), reason: The actual output provides the exact figure requested ($20,982 million) as specified in the expected output, including the currency ($20,982 million). It completely addresses the question., error: None)\n",
      "\n",
      "For test case:\n",
      "\n",
      "  - input: What was the total difference between fair value and carrying value of The Coca-Cola Company’s equity investments in key beverage partners as of December 31, 2019?\n",
      "  - actual output: The total difference between fair value and carrying value of The Coca-Cola Company’s equity investments in key beverage partners as of December 31, 2019 is $20,982 million.\n",
      "  - expected output: What was the total difference between fair value and carrying value of The Coca-Cola Company’s equity investments in key beverage partners as of December 31, 2019?\n",
      "  - context: None\n",
      "  - retrieval context: [\"beverage products from equity method investees were $426 million, $536 million and $1,299 million in 2019, 2018 and 2017, respectively. The decrease in purchases of\\nbeverage products in 2019 and 2018 was primarily due to reduced purchases of Monster products as a result of the North America refranchising activities. Refer to Note 2.\\nThe following table presents the difference between calculated fair values, based on quoted closing prices of publicly traded shares, and our Company's carrying value in\\ninvestments in publicly traded companies accounted for under the equity method (in millions):\\nDecember 31, 2019\\nFair\\nValue\\nCarrying\\nValue\\nDifference\\nMonster Beverage Corporation\\n$\\n6,490\\n$\\n3,781\\n$\\n2,709\\nCoca-Cola European Partners plc\\n4,475\\n3,604\\n871\\nCoca-Cola FEMSA, S.A.B. de C.V.\\n3,461\\n1,758\\n1,703\\nCoca-Cola HBC AG\\n2,801\\n1,109\\n1,692\\nCoca-Cola Amatil Limited\\n1,674\\n611\\n1,063\\nCoca-Cola Bottlers Japan Holdings Inc.\\n866\\n765\\n101\\nCoca-Cola Consolidated, Inc.\\n705\\n142\\n563\\nCoca-Cola İçecek A.Ş.\\n347\\n210\\n137\", \"included the remeasurement of our previously held equity interest in the Philippine bottling operations to fair value and the reversal of the related cumulative translation\\nadjustments. The fair value of our previously held equity investment was determined using a discounted cash flow model based on Level 3 inputs. The net charge was\\nrecorded in the line item other income (loss) — net in our consolidated statement of income.\\nCoca-Cola Beverages Africa Proprietary Limited\\nIn October 2017, the Company and ABI completed the transition of ABI's controlling interest in CCBA to the Company for $3,150 million. Upon consolidation of CCBA, we\\nremeasured our previously held equity interests in CCBA and its South African subsidiary to fair value and recorded a gain on the remeasurement of $150 million. The fair\\nvalues in our previously held equity investments in CCBA and its South African subsidiary were determined using income approaches, including discounted cash flow\", 'Refer to Note 19 for additional information related to significant operating and nonoperating items recorded by our equity method investees. The carrying values of our equity\\nmethod investments are also impacted by our proportionate share of items impacting the equity investee\\'s AOCI.\\nWe eliminate from our financial results all significant intercompany transactions to the extent of our ownership interest, including the intercompany portion of transactions\\nwith equity method investees.\\nThe Company\\'s equity method investments include, but are not limited to, our ownership interests in Coca-Cola European Partners plc (\"CCEP\"), Monster, AC Bebidas,\\nCoca-Cola FEMSA, Coca-Cola HBC AG (\"Coca-Cola Hellenic\") and Coca-Cola Bottlers Japan Holdings Inc. (\"CCBJHI\"). As of December 31, 2019, we owned\\napproximately 19 percent, 19 percent, 20 percent, 28 percent, 23 percent and 19 percent, respectively, of these companies\\' outstanding shares. As of December 31, 2019, our', '866\\n765\\n101\\nCoca-Cola Consolidated, Inc.\\n705\\n142\\n563\\nCoca-Cola İçecek A.Ş.\\n347\\n210\\n137\\nEmbotelladora Andina S.A.\\n163\\n109\\n54\\nTotal\\n$\\n20,982\\n$\\n12,089\\n$\\n8,893\\nNet Receivables and Dividends from Equity Method Investees\\nTotal net receivables due from equity method investees were $1,707 million and $1,564 million as of December 31, 2019 and 2018, respectively. The total amount of\\ndividends received from equity method investees was $628 million, $551 million and $443 million for the years ended December 31, 2019, 2018 and 2017, respectively. The\\namount of consolidated reinvested earnings that represents undistributed earnings of investments accounted for under the equity method as of December 31, 2019 was $4,983\\nmillion.\\n96', \"THE COCA-COLA COMPANY AND SUBSIDIARIES\\nCONSOLIDATED STATEMENTS OF SHAREOWNERS' EQUITY\\n(In millions except per share data)\\nYear Ended December 31,\\n2019\\n2018\\n2017\\nEquity Attributable to Shareowners of The Coca-Cola Company\\n \\n \\n \\n    Number of Common Shares Outstanding\\n \\n \\n \\nBalance at beginning of year\\n4,268\\n4,259\\n4,288\\nTreasury stock issued to employees related to stock-based compensation plans\\n33\\n48\\n53\\nPurchases of stock for treasury\\n(21)\\n(39)\\n(82)\\nBalance at end of year\\n4,280\\n4,268\\n4,259\\n    Common Stock\\n$\\n1,760\\n$\\n1,760\\n$\\n1,760\\n    Capital Surplus\\n \\n \\n \\nBalance at beginning of year\\n16,520\\n15,864\\n14,993\\nStock issued to employees related to stock-based compensation plans\\n433\\n467\\n655\\nStock-based compensation expense\\n201\\n225\\n219\\nOther activities\\n—\\n(36)\\n(3)\\nBalance at end of year\\n17,154\\n16,520\\n15,864\\n    Reinvested Earnings\\n \\n \\n \\nBalance at beginning of year\\n63,234\\n60,430\\n65,502\\nAdoption of accounting standards1\\n546\\n3,014\\n—\\nNet income attributable to shareowners of The Coca-Cola Company\\n8,920\\n6,434\\n1,248\"]\n",
      "\n",
      "======================================================================\n",
      "\n",
      "Metrics Summary\n",
      "\n",
      "  - ❌ Correctness (GEval) (score: 0.3, threshold: 0.5, strict: False, evaluation model: gemma3:latest (Ollama), reason: The actual output includes 'Bottling Investments' and 'Corporate', which are not present in the expected output. The expected output lists 'Eurasia, Africa, Europe, Latin America, North America and Asia Pacific', but the actual output omits 'Eurasia' and 'Africa'., error: None)\n",
      "\n",
      "For test case:\n",
      "\n",
      "  - input: what countries are operation segments in 2014?\n",
      "  - actual output: The operating segments in 2014 are:\n",
      "\n",
      "1. Eurasia and Africa\n",
      "2. Europe\n",
      "3. Latin America\n",
      "4. North America\n",
      "5. Asia Pacific\n",
      "6. Bottling Investments\n",
      "7. Corporate\n",
      "  - expected output: Eurasia , Africa, Europe, Latin America, North America and Asia Pacific\n",
      "  - context: None\n",
      "  - retrieval context: ['December 31, 2014 and 2013, respectively.\\nThe Company is currently reviewing other restructuring opportunities within the German bottling and distribution operations, which if implemented will result in additional charges in future\\nperiods. However, as of December 31, 2014, the Company had not finalized any additional plans.\\n \\nNOTE 19: OPERATING SEGMENTS\\nAs of December 31, 2014, our organizational structure consisted of the following operating segments: Eurasia and Africa; Europe; Latin America; North America; Asia Pacific; Bottling\\nInvestments; and Corporate.\\nSegment Products and Services\\nThe business of our Company is nonalcoholic beverages. With the exception of North America, our geographic operating segments (Eurasia and Africa; Europe; Latin America; North America;\\nand Asia Pacific) derive a majority of their revenues from the manufacture and sale of beverage concentrates and syrups and, in some cases, the sale of finished beverages. The North America', '• Eurasia and\\nAfrica\\n• Europe\\n• Latin\\nAmerica\\n• North\\nAmerica\\n• Asia\\nPacific\\n• Bottling\\nInvestments\\n• Corporate\\nExcept to the extent that differences among operating segments are material to an understanding of our business taken as a whole, the description of our business in this report is presented on a\\nconsolidated basis.\\nFor financial information about our operating segments and geographic areas, refer to Note 19 of Notes to Consolidated Financial Statements set forth in Part II, \"Item 8. Financial Statements and\\nSupplementary Data\" of this report, incorporated herein by reference. For certain risks attendant to our non-U.S. operations, refer to \"Item 1A. Risk Factors\" below.\\n2', 'Net Operating Revenues by Operating Segment\\nInformation about our net operating revenues by operating segment as a percentage of Company net operating revenues is as follows:\\nYear Ended December 31,\\n2014\\n2013\\n2012\\nEurasia & Africa\\n5.9%\\n5.9%\\n5.6%\\nEurope\\n10.5\\n9.9\\n9.3\\nLatin America\\n10.0\\n10.1\\n9.5\\nNorth America\\n46.7\\n46.1\\n45.1\\nAsia Pacific\\n11.4\\n11.5\\n11.9\\nBottling Investments\\n15.2\\n16.2\\n18.3\\nCorporate\\n0.3\\n0.3\\n0.3\\n100.0%\\n100.0%\\n100.0%\\nThe percentage contribution of each operating segment fluctuates over time due to net operating revenues in certain operating segments growing at a faster rate compared to other operating\\nsegments. Net operating revenue growth rates are impacted by sales volume; structural changes; price, product and geographic mix; and foreign currency fluctuations. The size and timing of\\nstructural changes are not consistent from period to period. As a result, anticipating the impact of such events on future net operating revenues, and other financial statement line items, usually is', 'The Company\\'s effective tax rate is expected to be approximately 22.5 percent in 2015. This estimated tax rate does not reflect the impact of any unusual or special items that may affect our tax\\nrate in 2015.\\n \\nOperations Review\\nOur organizational structure as of December 31, 2014, consisted of the following operating segments, the first six of which are sometimes referred to as \"operating groups\" or \"groups\": Eurasia and\\nAfrica; Europe; Latin America; North America; Asia Pacific; Bottling Investments; and Corporate. For further information regarding our operating segments, refer to Note 19 of Notes to\\nConsolidated Financial Statements.\\nStructural Changes, Acquired Brands and Newly Licensed Brands\\nIn order to continually improve upon the Company\\'s operating performance, from time to time, we engage in buying and selling ownership interests in bottling partners and other manufacturing', 'Information about our volume growth by operating segment is as follows:\\nPercent Change  \\n2014 vs. 2013\\n2013 vs. 2012\\nYear Ended December 31,\\nUnit Cases1,2\\n \\nConcentrate\\n       Sales\\nUnit Cases 1,2\\nConcentrate\\n       Sales\\nWorldwide\\n2 %  \\n2 % 3 \\n2 %\\n2 %\\nEurasia & Africa\\n4 %  \\n3 %\\n7 %\\n7 %\\nEurope\\n(2 )\\n \\n(2 )\\n(1 )\\n(1 )\\nLatin America\\n1\\n \\n—\\n1\\n1\\nNorth America\\n—\\n \\n(1 )\\n—\\n—\\nAsia Pacific\\n5\\n \\n5\\n3\\n5\\nBottling Investments\\n(2 )\\n \\nN/A\\n(17)\\nN/A\\n1 Bottling Investments operating segment data reflects unit case volume growth for consolidated bottlers\\nonly.\\n2 Geographic segment data reflects unit case volume growth for all bottlers, both consolidated and unconsolidated, and distributors in the applicable geographic\\nareas.\\n3 After considering the impact of structural changes, worldwide concentrate sales volume for the year ended December 31, 2014, grew\\n1 percent.\\nUnit Case Volume']\n",
      "\n",
      "======================================================================\n",
      "\n",
      "Overall Metric Pass Rates\n",
      "\n",
      "Correctness (GEval): 50.00% pass rate\n",
      "\n",
      "======================================================================\n",
      "\n"
     ]
    },
    {
     "name": "stderr",
     "output_type": "stream",
     "text": [
      "\n"
     ]
    },
    {
     "data": {
      "text/html": [
       "<pre style=\"white-space:pre;overflow-x:auto;line-height:normal;font-family:Menlo,'DejaVu Sans Mono',consolas,'Courier New',monospace\">\n",
       "<span style=\"color: #05f58d; text-decoration-color: #05f58d\">✓</span> Tests finished 🎉! Run <span style=\"color: #008000; text-decoration-color: #008000; font-weight: bold\">'deepeval login'</span> to save and analyze evaluation results on Confident AI.\n",
       " \n",
       "✨👀 Looking for a place for your LLM test data to live 🏡❤️ ? Use <span style=\"color: #6a00ff; text-decoration-color: #6a00ff\">Confident AI</span> to get &amp; share testing reports, \n",
       "experiment with models/prompts, and catch regressions for your LLM system. Just run <span style=\"color: #008080; text-decoration-color: #008080\">'deepeval login'</span> in the CLI. \n",
       "\n",
       "</pre>\n"
      ],
      "text/plain": [
       "\n",
       "\u001b[38;2;5;245;141m✓\u001b[0m Tests finished 🎉! Run \u001b[1;32m'deepeval login'\u001b[0m to save and analyze evaluation results on Confident AI.\n",
       " \n",
       "✨👀 Looking for a place for your LLM test data to live 🏡❤️ ? Use \u001b[38;2;106;0;255mConfident AI\u001b[0m to get & share testing reports, \n",
       "experiment with models/prompts, and catch regressions for your LLM system. Just run \u001b[36m'deepeval login'\u001b[0m in the CLI. \n",
       "\n"
      ]
     },
     "metadata": {},
     "output_type": "display_data"
    },
    {
     "data": {
      "text/plain": [
       "EvaluationResult(test_results=[TestResult(name='test_case_1', success=True, metrics_data=[MetricData(name='Correctness (GEval)', threshold=0.5, success=True, score=0.7, reason='The actual output lists several competitors, including Nestlé, DPSG, Groupe Danone, Mondelēz, Kraft, Suntory, and Unilever, aligning with the expected output. However, PepsiCo is missing, a key competitor listed in the expected output. The actual output also includes a general statement about potential impacts, while the expected output is slightly more specific regarding investment in marketing and innovation.', strict_mode=False, evaluation_model='gemma3:latest (Ollama)', error=None, evaluation_cost=0.0, verbose_logs='Criteria:\\nDetermine whether the actual output is factually correct based on the expected output. \\n \\nEvaluation Steps:\\n[\\n    \"Check whether the facts in \\'actual output\\' contradicts any facts in \\'expected output\\'\",\\n    \"You should also heavily penalize omission of detail\",\\n    \"Vague language, or contradicting OPINIONS, are OK\"\\n]')], conversational=False, multimodal=False, input='Which companies are considered major competitors to The Coca-Cola Company in the nonalcoholic beverage segment, and how might this competition impact their market share in 2014?', actual_output=\"Based on the provided context, the major competitors to The Coca-Cola Company in the nonalcoholic beverage segment include:\\n\\n1. Nestlé\\n2. DPSG (The Dr Pepper Snapple Group)\\n3. Groupe Danone\\n4. Mondelēz\\n5. Kraft\\n6. Suntory\\n7. Unilever\\n\\nThese companies, along with major beer companies and private label brands developed by retailers, compete with The Coca-Cola Company in the nonalcoholic beverage segment.\\n\\nThe competition from these companies could impact The Coca-Cola Company's market share in 2014 if the company does not continue to strengthen its capabilities in marketing and innovation to maintain brand loyalty and market share. Additionally, product safety and quality concerns could also negatively affect the company's business.\", expected_output='Major competitors include PepsiCo, Nestlé, DPSG, Groupe Danone, Mondelēz, Kraft, Suntory, Unilever, and in some markets, major beer companies and private label brands. This competition could limit Coca-Cola’s ability to gain or maintain market share if it does not continue to invest in marketing, innovation, and brand loyalty.', context=None, retrieval_context=['primary competitor. Other significant competitors include, but are not limited to, Nestlé, DPSG, Groupe Danone, Mondelēz, Kraft, Suntory and Unilever. In certain markets, our competition also\\nincludes major beer companies. Our beverage products also compete against private label brands developed by retailers, some of which are Coca-Cola system customers. Our ability to gain or\\nmaintain share of sales in the global market or in various local markets may be limited as a result of actions by competitors. If we do not continue to strengthen our capabilities in marketing and\\ninnovation to maintain our brand loyalty and market share while we selectively expand into other product categories in the nonalcoholic beverage segment of the commercial beverage industry,\\nour business could be negatively affected.\\nProduct safety and quality concerns could negatively affect our business.', \"General\\nThe Coca-Cola Company is the world's largest beverage company. We own or license and market more than 500 nonalcoholic beverage brands, primarily sparkling beverages but also a variety of\\nstill beverages such as waters, enhanced waters, juices and juice drinks, ready-to-drink teas and coffees, and energy and sports drinks. We own and market four of the world's top five nonalcoholic\\nsparkling beverage brands: Coca-Cola, Diet Coke, Fanta and Sprite. Finished beverage products bearing our trademarks, sold in the United States since 1886, are now sold in more than 200\\ncountries.\\nWe make our branded beverage products available to consumers throughout the world through our network of Company-owned or -controlled bottling and distribution operations as well as\\nindependent bottling partners, distributors, wholesalers and retailers — the world's largest beverage distribution system. Beverages bearing trademarks owned by or licensed to us account for 1.9\", \"Our Business\\nGeneral\\nThe Coca-Cola Company is the world's largest beverage company. We own or license and market more than 500 nonalcoholic beverage brands, primarily sparkling beverages but also a variety of\\nstill beverages such as waters, enhanced waters, juices and juice drinks, ready-to-drink teas and coffees, and energy and sports drinks. We own and market four of the world's top five nonalcoholic\\nsparkling beverage brands: Coca-Cola, Diet Coke, Fanta and Sprite. Finished beverage products bearing our trademarks, sold in the United States since 1886, are now sold in more than 200\\ncountries.\\nWe make our branded beverage products available to consumers throughout the world through our network of Company-owned or -controlled bottling and distribution operations, bottling\\npartners, distributors, wholesalers and retailers — the world's largest beverage distribution system. Beverages bearing trademarks owned by or licensed to us account for 1.9 billion of the\", \"THE COCA-COLA COMPANY AND SUBSIDIARIES\\nNOTES TO CONSOLIDATED FINANCIAL STATEMENTS\\n \\nNOTE 1: BUSINESS AND SUMMARY OF SIGNIFICANT ACCOUNTING POLICIES\\nDescription of Business\\nThe Coca-Cola Company is the world's largest beverage company. We own or license and market more than 500 nonalcoholic beverage brands, primarily sparkling beverages but also a variety of\\nstill beverages such as waters, enhanced waters, juices and juice drinks, ready-to-drink teas and coffees, and energy and sports drinks. We own and market four of the world's top five nonalcoholic\\nsparkling beverage brands: Coca-Cola, Diet Coke, Fanta and Sprite. Finished beverage products bearing our trademarks, sold in the United States since 1886, are now sold in more than 200\\ncountries.\\nWe make our branded beverage products available to consumers throughout the world through our network of Company-owned or -controlled bottling and distribution operations, bottling\", 'Competition\\nThe nonalcoholic beverage segment of the commercial beverage industry is highly competitive, consisting of numerous companies ranging from small or emerging to very large and well\\nestablished. These include companies that, like our Company, compete in multiple geographic areas, as well as businesses that are primarily regional or local in operation. Competitive products\\ninclude numerous nonalcoholic sparkling beverages; various water products, including packaged, flavored and enhanced waters; juices and nectars; fruit drinks and dilutables (including syrups\\nand powdered drinks); coffees and teas; energy and sports and other performance-enhancing drinks; dairy-based drinks; functional beverages, including vitamin-based products and relaxation\\nbeverages; and various other nonalcoholic beverages. These competitive beverages are sold to consumers in both ready-to-drink and other than ready-to-drink form. In many of the countries in']), TestResult(name='test_case_2', success=False, metrics_data=[MetricData(name='Correctness (GEval)', threshold=0.5, success=False, score=0.1, reason='The actual output states only \"Principles of Consolidation\" was identified, while the expected output lists \"Principles of Consolidation, Recoverability of Current and Noncurrent Assets, Pension Plan Valuations, Revenue Recognition, and Income Taxes\". The actual output omits several key policies and estimates as outlined in the expected output.', strict_mode=False, evaluation_model='gemma3:latest (Ollama)', error=None, evaluation_cost=0.0, verbose_logs='Criteria:\\nDetermine whether the actual output is factually correct based on the expected output. \\n \\nEvaluation Steps:\\n[\\n    \"Check whether the facts in \\'actual output\\' contradicts any facts in \\'expected output\\'\",\\n    \"You should also heavily penalize omission of detail\",\\n    \"Vague language, or contradicting OPINIONS, are OK\"\\n]')], conversational=False, multimodal=False, input='Which critical accounting policies and estimates did The Coca-Cola Company identify in 2016 as significantly affecting its consolidated financial statements?', actual_output='The answer is not available in the provided context. The report of independent registered public accounting firm mentions \"Principles of Consolidation\" as one of the critical accounting policies and estimates, but it does not specifically identify other critical accounting policies and estimates.', expected_output='In 2016, The Coca-Cola Company identified the following as critical accounting policies and estimates: Principles of Consolidation, Recoverability of Current and Noncurrent Assets, Pension Plan Valuations, Revenue Recognition, and Income Taxes.', context=None, retrieval_context=[\"disclosures in the financial statements. An audit also includes assessing the accounting principles used and significant estimates made by management, as well as evaluating the overall financial\\nstatement presentation. We believe that our audits provide a reasonable basis for our opinion.\\nIn our opinion, the financial statements referred to above present fairly, in all material respects, the consolidated financial position of The Coca-Cola Company and subsidiaries at December 31,\\n2016 and 2015, and the consolidated results of their operations and their cash flows for each of the three years in the period ended December 31, 2016, in conformity with U.S. generally\\naccepted accounting principles.\\nWe also have audited, in accordance with the standards of the Public Company Accounting Oversight Board (United States), The Coca-Cola Company and subsidiaries' internal control over\", \"Report of Independent Registered Public Accounting Firm\\nBoard of Directors and Shareowners\\nThe Coca-Cola Company\\nWe have audited the accompanying consolidated balance sheets of The Coca-Cola Company and subsidiaries as of December 31, 2016 and 2015, and the related consolidated statements of\\nincome, comprehensive income, shareowners' equity, and cash flows for each of the three years in the period ended December 31, 2016. These financial statements are the responsibility of the\\nCompany's management. Our responsibility is to express an opinion on these financial statements based on our audits.\\nWe conducted our audits in accordance with the standards of the Public Company Accounting Oversight Board (United States). Those standards require that we plan and perform the audit to\\nobtain reasonable assurance about whether the financial statements are free of material misstatement. An audit includes examining, on a test basis, evidence supporting the amounts and\", \"and assumptions that affect the amounts reported in our consolidated financial statements and accompanying notes. We believe our most critical accounting policies and estimates relate to the\\nfollowing:\\n• Principles of\\nConsolidation\\n• Recoverability of Current and Noncurrent\\nAssets\\n• Pension Plan\\nValuations\\n• Revenue\\nRecognition\\n• Income\\nTaxes\\nManagement has discussed the development, selection and disclosure of critical accounting policies and estimates with the Audit Committee of the Company's Board of Directors. While our\\nestimates and assumptions are based on our knowledge of current events and actions we may undertake in the future, actual results may ultimately differ from these estimates and assumptions.\\nFor a discussion of the Company's significant accounting policies, refer to Note 1 of Notes to Consolidated Financial Statements.\\nPrinciples of Consolidation\", \"Because of its inherent limitations, internal control over financial reporting may not prevent or detect misstatements. Also, projections of any evaluation of effectiveness to future periods are\\nsubject to the risk that controls may become inadequate because of changes in conditions, or that the degree of compliance with the policies or procedures may deteriorate.\\nIn our opinion, The Coca-Cola Company and subsidiaries maintained, in all material respects, effective internal control over financial reporting as of December 31, 2016, based on the COSO\\ncriteria.\\nWe also have audited, in accordance with the standards of the Public Company Accounting Oversight Board (United States), the consolidated balance sheets of The Coca-Cola Company and\\nsubsidiaries as of December 31, 2016 and 2015, and the related consolidated statements of income, comprehensive income, shareowners' equity, and cash flows for each of the three years in the\", 'THE COCA-COLA COMPANY AND SUBSIDIARIES\\nCONSOLIDATED STATEMENTS OF CASH FLOWS\\nYear Ended December 31,\\n2016\\n \\n2015\\n \\n2014\\n(In millions)\\n \\n \\nOPERATING ACTIVITIES\\n \\n  \\n  \\nConsolidated net income\\n$\\n6,550\\n $\\n7,366\\n $\\n7,124\\nDepreciation and amortization\\n1,787\\n \\n1,970\\n \\n1,976\\nStock-based compensation expense\\n258\\n \\n236\\n \\n209\\nDeferred income taxes\\n(856)  \\n73\\n \\n(40)\\nEquity (income) loss — net of dividends\\n(449)  \\n(122)  \\n(371)\\nForeign currency adjustments\\n158\\n \\n(137)  \\n415\\nSignificant (gains) losses on sales of assets — net\\n1,146\\n \\n(374)  \\n831\\nOther operating charges\\n647\\n \\n929\\n \\n761\\nOther items\\n(224)  \\n744\\n \\n149\\nNet change in operating assets and liabilities\\n(221)  \\n(157)  \\n(439)\\nNet cash provided by operating activities\\n8,796\\n \\n10,528\\n \\n10,615\\nINVESTING ACTIVITIES\\n \\n  \\n  \\nPurchases of investments\\n(15,499)  \\n(15,831)  \\n(17,800)\\nProceeds from disposals of investments\\n16,624\\n \\n14,079\\n \\n12,986\\nAcquisitions of businesses, equity method investments and nonmarketable securities\\n(838)  \\n(2,491)  \\n(389)']), TestResult(name='test_case_3', success=True, metrics_data=[MetricData(name='Correctness (GEval)', threshold=0.5, success=True, score=1.0, reason='The actual output provides the exact figure requested ($20,982 million) as specified in the expected output, including the currency ($20,982 million). It completely addresses the question.', strict_mode=False, evaluation_model='gemma3:latest (Ollama)', error=None, evaluation_cost=0.0, verbose_logs='Criteria:\\nDetermine whether the actual output is factually correct based on the expected output. \\n \\nEvaluation Steps:\\n[\\n    \"Check whether the facts in \\'actual output\\' contradicts any facts in \\'expected output\\'\",\\n    \"You should also heavily penalize omission of detail\",\\n    \"Vague language, or contradicting OPINIONS, are OK\"\\n]')], conversational=False, multimodal=False, input='What was the total difference between fair value and carrying value of The Coca-Cola Company’s equity investments in key beverage partners as of December 31, 2019?', actual_output='The total difference between fair value and carrying value of The Coca-Cola Company’s equity investments in key beverage partners as of December 31, 2019 is $20,982 million.', expected_output='What was the total difference between fair value and carrying value of The Coca-Cola Company’s equity investments in key beverage partners as of December 31, 2019?', context=None, retrieval_context=[\"beverage products from equity method investees were $426 million, $536 million and $1,299 million in 2019, 2018 and 2017, respectively. The decrease in purchases of\\nbeverage products in 2019 and 2018 was primarily due to reduced purchases of Monster products as a result of the North America refranchising activities. Refer to Note 2.\\nThe following table presents the difference between calculated fair values, based on quoted closing prices of publicly traded shares, and our Company's carrying value in\\ninvestments in publicly traded companies accounted for under the equity method (in millions):\\nDecember 31, 2019\\nFair\\nValue\\nCarrying\\nValue\\nDifference\\nMonster Beverage Corporation\\n$\\n6,490\\n$\\n3,781\\n$\\n2,709\\nCoca-Cola European Partners plc\\n4,475\\n3,604\\n871\\nCoca-Cola FEMSA, S.A.B. de C.V.\\n3,461\\n1,758\\n1,703\\nCoca-Cola HBC AG\\n2,801\\n1,109\\n1,692\\nCoca-Cola Amatil Limited\\n1,674\\n611\\n1,063\\nCoca-Cola Bottlers Japan Holdings Inc.\\n866\\n765\\n101\\nCoca-Cola Consolidated, Inc.\\n705\\n142\\n563\\nCoca-Cola İçecek A.Ş.\\n347\\n210\\n137\", \"included the remeasurement of our previously held equity interest in the Philippine bottling operations to fair value and the reversal of the related cumulative translation\\nadjustments. The fair value of our previously held equity investment was determined using a discounted cash flow model based on Level 3 inputs. The net charge was\\nrecorded in the line item other income (loss) — net in our consolidated statement of income.\\nCoca-Cola Beverages Africa Proprietary Limited\\nIn October 2017, the Company and ABI completed the transition of ABI's controlling interest in CCBA to the Company for $3,150 million. Upon consolidation of CCBA, we\\nremeasured our previously held equity interests in CCBA and its South African subsidiary to fair value and recorded a gain on the remeasurement of $150 million. The fair\\nvalues in our previously held equity investments in CCBA and its South African subsidiary were determined using income approaches, including discounted cash flow\", 'Refer to Note 19 for additional information related to significant operating and nonoperating items recorded by our equity method investees. The carrying values of our equity\\nmethod investments are also impacted by our proportionate share of items impacting the equity investee\\'s AOCI.\\nWe eliminate from our financial results all significant intercompany transactions to the extent of our ownership interest, including the intercompany portion of transactions\\nwith equity method investees.\\nThe Company\\'s equity method investments include, but are not limited to, our ownership interests in Coca-Cola European Partners plc (\"CCEP\"), Monster, AC Bebidas,\\nCoca-Cola FEMSA, Coca-Cola HBC AG (\"Coca-Cola Hellenic\") and Coca-Cola Bottlers Japan Holdings Inc. (\"CCBJHI\"). As of December 31, 2019, we owned\\napproximately 19 percent, 19 percent, 20 percent, 28 percent, 23 percent and 19 percent, respectively, of these companies\\' outstanding shares. As of December 31, 2019, our', '866\\n765\\n101\\nCoca-Cola Consolidated, Inc.\\n705\\n142\\n563\\nCoca-Cola İçecek A.Ş.\\n347\\n210\\n137\\nEmbotelladora Andina S.A.\\n163\\n109\\n54\\nTotal\\n$\\n20,982\\n$\\n12,089\\n$\\n8,893\\nNet Receivables and Dividends from Equity Method Investees\\nTotal net receivables due from equity method investees were $1,707 million and $1,564 million as of December 31, 2019 and 2018, respectively. The total amount of\\ndividends received from equity method investees was $628 million, $551 million and $443 million for the years ended December 31, 2019, 2018 and 2017, respectively. The\\namount of consolidated reinvested earnings that represents undistributed earnings of investments accounted for under the equity method as of December 31, 2019 was $4,983\\nmillion.\\n96', \"THE COCA-COLA COMPANY AND SUBSIDIARIES\\nCONSOLIDATED STATEMENTS OF SHAREOWNERS' EQUITY\\n(In millions except per share data)\\nYear Ended December 31,\\n2019\\n2018\\n2017\\nEquity Attributable to Shareowners of The Coca-Cola Company\\n \\n \\n \\n    Number of Common Shares Outstanding\\n \\n \\n \\nBalance at beginning of year\\n4,268\\n4,259\\n4,288\\nTreasury stock issued to employees related to stock-based compensation plans\\n33\\n48\\n53\\nPurchases of stock for treasury\\n(21)\\n(39)\\n(82)\\nBalance at end of year\\n4,280\\n4,268\\n4,259\\n    Common Stock\\n$\\n1,760\\n$\\n1,760\\n$\\n1,760\\n    Capital Surplus\\n \\n \\n \\nBalance at beginning of year\\n16,520\\n15,864\\n14,993\\nStock issued to employees related to stock-based compensation plans\\n433\\n467\\n655\\nStock-based compensation expense\\n201\\n225\\n219\\nOther activities\\n—\\n(36)\\n(3)\\nBalance at end of year\\n17,154\\n16,520\\n15,864\\n    Reinvested Earnings\\n \\n \\n \\nBalance at beginning of year\\n63,234\\n60,430\\n65,502\\nAdoption of accounting standards1\\n546\\n3,014\\n—\\nNet income attributable to shareowners of The Coca-Cola Company\\n8,920\\n6,434\\n1,248\"]), TestResult(name='test_case_0', success=False, metrics_data=[MetricData(name='Correctness (GEval)', threshold=0.5, success=False, score=0.3, reason=\"The actual output includes 'Bottling Investments' and 'Corporate', which are not present in the expected output. The expected output lists 'Eurasia, Africa, Europe, Latin America, North America and Asia Pacific', but the actual output omits 'Eurasia' and 'Africa'.\", strict_mode=False, evaluation_model='gemma3:latest (Ollama)', error=None, evaluation_cost=0.0, verbose_logs='Criteria:\\nDetermine whether the actual output is factually correct based on the expected output. \\n \\nEvaluation Steps:\\n[\\n    \"Check whether the facts in \\'actual output\\' contradicts any facts in \\'expected output\\'\",\\n    \"You should also heavily penalize omission of detail\",\\n    \"Vague language, or contradicting OPINIONS, are OK\"\\n]')], conversational=False, multimodal=False, input='what countries are operation segments in 2014?', actual_output='The operating segments in 2014 are:\\n\\n1. Eurasia and Africa\\n2. Europe\\n3. Latin America\\n4. North America\\n5. Asia Pacific\\n6. Bottling Investments\\n7. Corporate', expected_output='Eurasia , Africa, Europe, Latin America, North America and Asia Pacific', context=None, retrieval_context=['December 31, 2014 and 2013, respectively.\\nThe Company is currently reviewing other restructuring opportunities within the German bottling and distribution operations, which if implemented will result in additional charges in future\\nperiods. However, as of December 31, 2014, the Company had not finalized any additional plans.\\n \\nNOTE 19: OPERATING SEGMENTS\\nAs of December 31, 2014, our organizational structure consisted of the following operating segments: Eurasia and Africa; Europe; Latin America; North America; Asia Pacific; Bottling\\nInvestments; and Corporate.\\nSegment Products and Services\\nThe business of our Company is nonalcoholic beverages. With the exception of North America, our geographic operating segments (Eurasia and Africa; Europe; Latin America; North America;\\nand Asia Pacific) derive a majority of their revenues from the manufacture and sale of beverage concentrates and syrups and, in some cases, the sale of finished beverages. The North America', '• Eurasia and\\nAfrica\\n• Europe\\n• Latin\\nAmerica\\n• North\\nAmerica\\n• Asia\\nPacific\\n• Bottling\\nInvestments\\n• Corporate\\nExcept to the extent that differences among operating segments are material to an understanding of our business taken as a whole, the description of our business in this report is presented on a\\nconsolidated basis.\\nFor financial information about our operating segments and geographic areas, refer to Note 19 of Notes to Consolidated Financial Statements set forth in Part II, \"Item 8. Financial Statements and\\nSupplementary Data\" of this report, incorporated herein by reference. For certain risks attendant to our non-U.S. operations, refer to \"Item 1A. Risk Factors\" below.\\n2', 'Net Operating Revenues by Operating Segment\\nInformation about our net operating revenues by operating segment as a percentage of Company net operating revenues is as follows:\\nYear Ended December 31,\\n2014\\n2013\\n2012\\nEurasia & Africa\\n5.9%\\n5.9%\\n5.6%\\nEurope\\n10.5\\n9.9\\n9.3\\nLatin America\\n10.0\\n10.1\\n9.5\\nNorth America\\n46.7\\n46.1\\n45.1\\nAsia Pacific\\n11.4\\n11.5\\n11.9\\nBottling Investments\\n15.2\\n16.2\\n18.3\\nCorporate\\n0.3\\n0.3\\n0.3\\n100.0%\\n100.0%\\n100.0%\\nThe percentage contribution of each operating segment fluctuates over time due to net operating revenues in certain operating segments growing at a faster rate compared to other operating\\nsegments. Net operating revenue growth rates are impacted by sales volume; structural changes; price, product and geographic mix; and foreign currency fluctuations. The size and timing of\\nstructural changes are not consistent from period to period. As a result, anticipating the impact of such events on future net operating revenues, and other financial statement line items, usually is', 'The Company\\'s effective tax rate is expected to be approximately 22.5 percent in 2015. This estimated tax rate does not reflect the impact of any unusual or special items that may affect our tax\\nrate in 2015.\\n \\nOperations Review\\nOur organizational structure as of December 31, 2014, consisted of the following operating segments, the first six of which are sometimes referred to as \"operating groups\" or \"groups\": Eurasia and\\nAfrica; Europe; Latin America; North America; Asia Pacific; Bottling Investments; and Corporate. For further information regarding our operating segments, refer to Note 19 of Notes to\\nConsolidated Financial Statements.\\nStructural Changes, Acquired Brands and Newly Licensed Brands\\nIn order to continually improve upon the Company\\'s operating performance, from time to time, we engage in buying and selling ownership interests in bottling partners and other manufacturing', 'Information about our volume growth by operating segment is as follows:\\nPercent Change  \\n2014 vs. 2013\\n2013 vs. 2012\\nYear Ended December 31,\\nUnit Cases1,2\\n \\nConcentrate\\n       Sales\\nUnit Cases 1,2\\nConcentrate\\n       Sales\\nWorldwide\\n2 %  \\n2 % 3 \\n2 %\\n2 %\\nEurasia & Africa\\n4 %  \\n3 %\\n7 %\\n7 %\\nEurope\\n(2 )\\n \\n(2 )\\n(1 )\\n(1 )\\nLatin America\\n1\\n \\n—\\n1\\n1\\nNorth America\\n—\\n \\n(1 )\\n—\\n—\\nAsia Pacific\\n5\\n \\n5\\n3\\n5\\nBottling Investments\\n(2 )\\n \\nN/A\\n(17)\\nN/A\\n1 Bottling Investments operating segment data reflects unit case volume growth for consolidated bottlers\\nonly.\\n2 Geographic segment data reflects unit case volume growth for all bottlers, both consolidated and unconsolidated, and distributors in the applicable geographic\\nareas.\\n3 After considering the impact of structural changes, worldwide concentrate sales volume for the year ended December 31, 2014, grew\\n1 percent.\\nUnit Case Volume'])], confident_link=None)"
      ]
     },
     "execution_count": 227,
     "metadata": {},
     "output_type": "execute_result"
    }
   ],
   "source": [
    "evaluate(test_cases=test_cases, metrics=[correctness_metric])"
   ]
  },
  {
   "cell_type": "code",
   "execution_count": null,
   "id": "880bef42-d752-4c17-97c2-e2220bc0e9ad",
   "metadata": {},
   "outputs": [],
   "source": []
  }
 ],
 "metadata": {
  "kernelspec": {
   "display_name": "Python [conda env:base] *",
   "language": "python",
   "name": "conda-base-py"
  },
  "language_info": {
   "codemirror_mode": {
    "name": "ipython",
    "version": 3
   },
   "file_extension": ".py",
   "mimetype": "text/x-python",
   "name": "python",
   "nbconvert_exporter": "python",
   "pygments_lexer": "ipython3",
   "version": "3.12.7"
  }
 },
 "nbformat": 4,
 "nbformat_minor": 5
}
