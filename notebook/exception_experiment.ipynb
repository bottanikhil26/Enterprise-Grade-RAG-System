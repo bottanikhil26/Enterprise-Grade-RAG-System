{
 "cells": [
  {
   "cell_type": "code",
   "execution_count": 1,
   "metadata": {},
   "outputs": [
    {
     "name": "stdout",
     "output_type": "stream",
     "text": [
      "all_ok\n"
     ]
    },
    {
     "data": {
      "text/plain": [
       "'/Users/nikhil/Documents/GitHub_portfolio/1-Enterprise-Grade RAG System/notebook'"
      ]
     },
     "execution_count": 1,
     "metadata": {},
     "output_type": "execute_result"
    }
   ],
   "source": [
    "import os\n",
    "print(\"all_ok\")\n",
    "\n",
    "os.getcwd()"
   ]
  },
  {
   "cell_type": "code",
   "execution_count": 2,
   "metadata": {},
   "outputs": [],
   "source": [
    "import sys\n",
    "import traceback\n",
    "os.chdir(\"..\")\n",
    "from utils.custom_logger import CustomLogger\n",
    "\n",
    "logger = CustomLogger()\n",
    "logger = logger.get_logger(\"experiment\")\n",
    "\n"
   ]
  },
  {
   "cell_type": "code",
   "execution_count": 3,
   "metadata": {},
   "outputs": [
    {
     "ename": "CustomError",
     "evalue": "\n        Error occurred in script :/var/folders/6k/_xwb18c94mj4dvwxh3lfqfz80000gn/T/ipykernel_6166/4255824035.py \n        at line number : 23\n        Error message : integer division or modulo by zero\n        Traceback details : Traceback (most recent call last):\n  File \"/var/folders/6k/_xwb18c94mj4dvwxh3lfqfz80000gn/T/ipykernel_6166/4255824035.py\", line 23, in <module>\n    a = 1 % 0\nZeroDivisionError: integer division or modulo by zero\n\n        ",
     "output_type": "error",
     "traceback": [
      "\u001b[0;31m---------------------------------------------------------------------------\u001b[0m",
      "\u001b[0;31mZeroDivisionError\u001b[0m                         Traceback (most recent call last)",
      "Cell \u001b[0;32mIn[3], line 23\u001b[0m\n\u001b[1;32m     22\u001b[0m \u001b[38;5;28;01mtry\u001b[39;00m:\n\u001b[0;32m---> 23\u001b[0m     a \u001b[38;5;241m=\u001b[39m \u001b[38;5;241;43m1\u001b[39;49m\u001b[43m \u001b[49m\u001b[38;5;241;43m%\u001b[39;49m\u001b[43m \u001b[49m\u001b[38;5;241;43m0\u001b[39;49m\n\u001b[1;32m     24\u001b[0m     \u001b[38;5;28mprint\u001b[39m(a)\n",
      "\u001b[0;31mZeroDivisionError\u001b[0m: integer division or modulo by zero",
      "\nDuring handling of the above exception, another exception occurred:\n",
      "\u001b[0;31mCustomError\u001b[0m                               Traceback (most recent call last)",
      "Cell \u001b[0;32mIn[3], line 28\u001b[0m\n\u001b[1;32m     26\u001b[0m app_exc \u001b[38;5;241m=\u001b[39m CustomError(e,sys)\n\u001b[1;32m     27\u001b[0m logger\u001b[38;5;241m.\u001b[39merror(app_exc)\n\u001b[0;32m---> 28\u001b[0m \u001b[38;5;28;01mraise\u001b[39;00m app_exc\n",
      "\u001b[0;31mCustomError\u001b[0m: \n        Error occurred in script :/var/folders/6k/_xwb18c94mj4dvwxh3lfqfz80000gn/T/ipykernel_6166/4255824035.py \n        at line number : 23\n        Error message : integer division or modulo by zero\n        Traceback details : Traceback (most recent call last):\n  File \"/var/folders/6k/_xwb18c94mj4dvwxh3lfqfz80000gn/T/ipykernel_6166/4255824035.py\", line 23, in <module>\n    a = 1 % 0\nZeroDivisionError: integer division or modulo by zero\n\n        "
     ]
    }
   ],
   "source": [
    "class CustomError(Exception):\n",
    "    def __init__(self,error_message:str,error_detail:sys):\n",
    "        _,_,exc_tb = error_detail.exc_info()\n",
    "        self.file_name = exc_tb.tb_frame.f_code.co_filename\n",
    "        self.line_number = exc_tb.tb_lineno\n",
    "        self.error_message = str(error_message)\n",
    "\n",
    "        self.traceback_str = ''.join(traceback.format_exception(*error_detail.exc_info()))\n",
    "\n",
    "    def __str__(self):\n",
    "        return f\"\"\"\n",
    "        Error occurred in script :{self.file_name} \n",
    "        at line number : {self.line_number}\n",
    "        Error message : {self.error_message}\n",
    "        Traceback details : {self.traceback_str}\n",
    "        \"\"\"\n",
    "\n",
    "\n",
    "\n",
    "\n",
    "if __name__==\"__main__\" :\n",
    "    try:\n",
    "        logger.info(\"Starting the experiment script\")\n",
    "        a = 1 % 0\n",
    "\n",
    "        print(a)\n",
    "    except Exception as e:\n",
    "        app_exc = CustomError(e,sys)\n",
    "        logger.error(app_exc)\n",
    "        raise app_exc"
   ]
  },
  {
   "cell_type": "code",
   "execution_count": 13,
   "metadata": {},
   "outputs": [],
   "source": []
  },
  {
   "cell_type": "code",
   "execution_count": null,
   "metadata": {},
   "outputs": [],
   "source": []
  }
 ],
 "metadata": {
  "kernelspec": {
   "display_name": "venv",
   "language": "python",
   "name": "python3"
  },
  "language_info": {
   "codemirror_mode": {
    "name": "ipython",
    "version": 3
   },
   "file_extension": ".py",
   "mimetype": "text/x-python",
   "name": "python",
   "nbconvert_exporter": "python",
   "pygments_lexer": "ipython3",
   "version": "3.10.0"
  }
 },
 "nbformat": 4,
 "nbformat_minor": 2
}
