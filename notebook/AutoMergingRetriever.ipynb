{
 "cells": [
  {
   "cell_type": "code",
   "execution_count": 1,
   "id": "552f46dd-7790-48a5-8314-096ee1483c1e",
   "metadata": {},
   "outputs": [
    {
     "name": "stdout",
     "output_type": "stream",
     "text": [
      "/Users/nikhil/Documents/GitHub_portfolio/1-Enterprise-Grade RAG System/notebook\n",
      "/Users/nikhil/Documents/GitHub_portfolio/1-Enterprise-Grade RAG System\n"
     ]
    }
   ],
   "source": [
    "import os\n",
    "print(os.getcwd())\n",
    "os.chdir('..')\n",
    "print(os.getcwd())"
   ]
  },
  {
   "cell_type": "code",
   "execution_count": 3,
   "id": "3746b9c0-e2a6-4b2b-b7de-60a8e089dc78",
   "metadata": {},
   "outputs": [],
   "source": [
    "%%capture \n",
    "!pip install -r requirements.txt"
   ]
  },
  {
   "cell_type": "code",
   "execution_count": 5,
   "id": "8520e4e3-c5dc-4e67-9845-5d908e2232b0",
   "metadata": {},
   "outputs": [],
   "source": [
    "import regex as re\n",
    "import chromadb\n",
    "from llama_index.readers.file import PyMuPDFReader\n",
    "from llama_index.core.node_parser import HierarchicalNodeParser\n",
    "from llama_index.core import SimpleDirectoryReader\n",
    "from llama_index.core import VectorStoreIndex, StorageContext, get_response_synthesizer\n",
    "from llama_index.embeddings.huggingface import HuggingFaceEmbedding\n",
    "from llama_index.vector_stores.chroma import ChromaVectorStore\n",
    "from llama_index.core.query_engine import RetrieverQueryEngine"
   ]
  },
  {
   "cell_type": "code",
   "execution_count": 6,
   "id": "3db17dec-40b0-446c-9e89-8f0ed15508b6",
   "metadata": {},
   "outputs": [],
   "source": [
    "loading_mapping = {'.pdf':PyMuPDFReader()}\n",
    "\n",
    "documents = SimpleDirectoryReader(\"./data\" , file_extractor = loading_mapping).load_data()"
   ]
  },
  {
   "cell_type": "code",
   "execution_count": 7,
   "id": "122a9546-7824-4013-9968-cb5b94dbcd8a",
   "metadata": {},
   "outputs": [],
   "source": [
    "current_section = \"Unknown\"\n",
    "\n",
    "for doc in documents:\n",
    "    match = re.search(r\"(\\d{4})\", doc.metadata.get(\"file_name\", \"\"))\n",
    "    if match:\n",
    "        doc.metadata['year'] = int(match.group(1))\n",
    "        doc.metadata['company'] = \"coca-cola\"\n",
    "        doc.metadata[\"filing_type\"] = \"10-K\"\n",
    "\n",
    "    # --- detect ALL CAPS ITEM headers ---\n",
    "    # normalize spaces, but keep case\n",
    "    text = doc.text.replace(\"\\n\", \" \").replace(\"  \", \" \")\n",
    "\n",
    "    # Regex: ITEM + number + optional letter + . + ALL CAPS TITLE\n",
    "    match = re.search(r\"(ITEM\\s+\\d+[A-Z]?\\.\\s+[A-Z\\s,&\\-]+)\", text)\n",
    "    if match:\n",
    "        current_section = match.group(0).strip()   # full \"ITEM 1. BUSINESS\"\n",
    "        doc.metadata[\"section\"] = current_section\n",
    "        continue\n",
    "\n",
    "    # If no new match, keep previous section\n",
    "    doc.metadata[\"section\"] = current_section\n"
   ]
  },
  {
   "cell_type": "code",
   "execution_count": 8,
   "id": "1b79c715-3f22-4358-918a-f3c84bb90af7",
   "metadata": {},
   "outputs": [],
   "source": [
    "node_parser = HierarchicalNodeParser.from_defaults(chunk_sizes=[1024, 512, 256])"
   ]
  },
  {
   "cell_type": "code",
   "execution_count": 10,
   "id": "8c41650b-5634-4f04-bbf4-42c3331af823",
   "metadata": {},
   "outputs": [],
   "source": [
    "nodes = node_parser.get_nodes_from_documents(documents)"
   ]
  },
  {
   "cell_type": "code",
   "execution_count": 11,
   "id": "e6bc8948-d53f-4c58-98eb-851ada9b4267",
   "metadata": {},
   "outputs": [],
   "source": [
    "from llama_index.core.node_parser import get_leaf_nodes, get_root_nodes\n",
    "from llama_index.core.storage.docstore import SimpleDocumentStore\n",
    "from llama_index.core.vector_stores import MetadataFilters ,MetadataFilter"
   ]
  },
  {
   "cell_type": "code",
   "execution_count": 12,
   "id": "d00a0be5-7029-407c-b74e-7db9a7e92ef5",
   "metadata": {},
   "outputs": [],
   "source": [
    "leaf_nodes = get_leaf_nodes(nodes)\n",
    "root_nodes = get_root_nodes(nodes)"
   ]
  },
  {
   "cell_type": "code",
   "execution_count": 13,
   "id": "bee5e092-9c71-41e8-a632-6c4bb5ec1f98",
   "metadata": {},
   "outputs": [
    {
     "data": {
      "text/plain": [
       "(23154, 2991, 14095)"
      ]
     },
     "execution_count": 13,
     "metadata": {},
     "output_type": "execute_result"
    }
   ],
   "source": [
    "len(nodes),len(root_nodes),len(leaf_nodes)"
   ]
  },
  {
   "cell_type": "code",
   "execution_count": 17,
   "id": "12930a83-0fe0-4411-90a6-fadfc689a087",
   "metadata": {},
   "outputs": [],
   "source": [
    "docstore = SimpleDocumentStore()\n",
    "\n",
    "# insert nodes into docstore\n",
    "docstore.add_documents(nodes)\n",
    "\n",
    "storage_context = StorageContext.from_defaults(docstore=docstore)\n"
   ]
  },
  {
   "cell_type": "code",
   "execution_count": 23,
   "id": "65becb84-2be0-43f9-8158-4e5d6711b9da",
   "metadata": {},
   "outputs": [],
   "source": [
    "embed_model = HuggingFaceEmbedding(model_name=\"BAAI/bge-base-en-v1.5\")"
   ]
  },
  {
   "cell_type": "code",
   "execution_count": 24,
   "id": "5874d712-2621-4976-b71e-668e8cc7e6cd",
   "metadata": {},
   "outputs": [],
   "source": [
    "index = VectorStoreIndex(leaf_nodes,storage_context=storage_context, embed_model= embed_model)"
   ]
  },
  {
   "cell_type": "code",
   "execution_count": 25,
   "id": "dc206582-abab-4f55-b703-bada28de4a13",
   "metadata": {},
   "outputs": [],
   "source": [
    "year_filter = MetadataFilters(\n",
    "    filters=[\n",
    "        MetadataFilter(key=\"year\", value=2015 , operator = \">=\"),\n",
    "        MetadataFilter(key=\"year\",value=2025, operator = \"<=\"),\n",
    "    ]\n",
    ")"
   ]
  },
  {
   "cell_type": "code",
   "execution_count": 26,
   "id": "1dbf3faf-9093-43e5-b80a-c21247bb316d",
   "metadata": {},
   "outputs": [],
   "source": [
    "retriever = index.as_retriever(similarity_top_k=5,\n",
    "                              filters=year_filter)"
   ]
  },
  {
   "cell_type": "code",
   "execution_count": 28,
   "id": "84874848-1869-4f84-8608-99e06cad3b75",
   "metadata": {},
   "outputs": [],
   "source": [
    "from llama_index.core.retrievers.auto_merging_retriever import AutoMergingRetriever\n",
    "retriever = AutoMergingRetriever(retriever, storage_context, verbose=True)"
   ]
  },
  {
   "cell_type": "code",
   "execution_count": 29,
   "id": "696d97e1-bcdb-4b29-baba-ec332e8efa40",
   "metadata": {},
   "outputs": [
    {
     "name": "stdout",
     "output_type": "stream",
     "text": [
      "> Merging 1 nodes into parent node.\n",
      "> Parent node id: e2102b55-0e36-40e5-8267-9443f0e4382f.\n",
      "> Parent node text: Operating Segments\n",
      "The Company's operating structure is the basis for our internal financial repo...\n",
      "\n"
     ]
    }
   ],
   "source": [
    "query = \"Operating Segments in 2015\"\n",
    "ans = retriever.retrieve(query)"
   ]
  },
  {
   "cell_type": "code",
   "execution_count": 30,
   "id": "1cb97b78-0e3d-4d08-b6be-fc984042616f",
   "metadata": {},
   "outputs": [
    {
     "data": {
      "text/plain": [
       "5"
      ]
     },
     "execution_count": 30,
     "metadata": {},
     "output_type": "execute_result"
    }
   ],
   "source": [
    "len(ans)"
   ]
  },
  {
   "cell_type": "code",
   "execution_count": 31,
   "id": "8d6c1e8c-8a50-4d1b-86c6-abb93ad2d2e0",
   "metadata": {},
   "outputs": [
    {
     "name": "stdout",
     "output_type": "stream",
     "text": [
      "{'file_path': '/Users/nikhil/Documents/GitHub_portfolio/1-Enterprise-Grade RAG System/data/2016-cocacola-10k-filing.pdf', 'file_name': '2016-cocacola-10k-filing.pdf', 'file_type': 'application/pdf', 'file_size': 1744160, 'creation_date': '2025-08-17', 'last_modified_date': '2025-05-23', 'total_pages': 218, 'source': '138', 'year': 2016, 'company': 'coca-cola', 'filing_type': '10-K', 'section': 'ITEM 8. FINANCIAL STATEMENTS AND SUPPLEMENTARY DATA  TABLE OF CONTENTS P'}\n",
      "NOTE 19: OPERATING SEGMENTS\n",
      "As of December 31, 2015, our organizational structure consisted of the following operating segments: Eurasia and Africa; Europe; Latin America; North America; Asia Pacific;\n",
      "Bottling Investments; and Corporate.\n",
      "136\n",
      "----------------------------------------------------------------------------------------------------\n",
      "{'file_path': '/Users/nikhil/Documents/GitHub_portfolio/1-Enterprise-Grade RAG System/data/2015-cocacola-10k-filing.pdf', 'file_name': '2015-cocacola-10k-filing.pdf', 'file_type': 'application/pdf', 'file_size': 1717600, 'creation_date': '2025-08-31', 'last_modified_date': '2025-05-23', 'total_pages': 216, 'source': '52', 'year': 2015, 'company': 'coca-cola', 'filing_type': '10-K', 'section': 'ITEM 6. SELECTED FINANCIAL DATA T'}\n",
      "Net Operating Revenues by Operating Segment\n",
      "Information about our net operating revenues by operating segment as a percentage of Company net operating revenues is as follows:\n",
      "Year Ended December 31,\n",
      "2014\n",
      "2013\n",
      "2012\n",
      "Eurasia & Africa\n",
      "5.9%\n",
      "5.9%\n",
      "5.6%\n",
      "Europe\n",
      "10.5\n",
      "9.9\n",
      "9.3\n",
      "Latin America\n",
      "10.0\n",
      "10.1\n",
      "9.5\n",
      "North America\n",
      "46.7\n",
      "46.1\n",
      "45.1\n",
      "Asia Pacific\n",
      "11.4\n",
      "11.5\n",
      "11.9\n",
      "Bottling Investments\n",
      "15.2\n",
      "16.2\n",
      "18.3\n",
      "Corporate\n",
      "0.3\n",
      "0.3\n",
      "0.3\n",
      "100.0%\n",
      "100.0%\n",
      "100.\n",
      "----------------------------------------------------------------------------------------------------\n",
      "{'file_path': '/Users/nikhil/Documents/GitHub_portfolio/1-Enterprise-Grade RAG System/data/2017-cocacola-10k-filing.pdf', 'file_name': '2017-cocacola-10k-filing.pdf', 'file_type': 'application/pdf', 'file_size': 1735945, 'creation_date': '2025-08-17', 'last_modified_date': '2025-05-23', 'total_pages': 205, 'source': '3', 'year': 2017, 'company': 'coca-cola', 'filing_type': '10-K', 'section': 'ITEM 1.  BUSINESS I'}\n",
      "Operating Segments\n",
      "The Company's operating structure is the basis for our internal financial reporting. As of December 31, 2016, our operating structure included the following operating segments, the first five of\n",
      "which are sometimes referred to as \"operating groups\" or \"groups\":\n",
      "• Europe, Middle East and\n",
      "Africa\n",
      "• Latin\n",
      "America\n",
      "• North\n",
      "America\n",
      "• Asia\n",
      "Pacific\n",
      "• Bottling\n",
      "Investments\n",
      "• Corporate\n",
      "1\n",
      "----------------------------------------------------------------------------------------------------\n",
      "{'file_path': '/Users/nikhil/Documents/GitHub_portfolio/1-Enterprise-Grade RAG System/data/2019-cocacola-10k-filing.pdf', 'file_name': '2019-cocacola-10k-filing.pdf', 'file_type': 'application/pdf', 'file_size': 1823444, 'creation_date': '2025-08-17', 'last_modified_date': '2025-05-23', 'total_pages': 201, 'source': '4', 'year': 2019, 'company': 'coca-cola', 'filing_type': '10-K', 'section': 'ITEM 1.  BUSINESS I'}\n",
      "Operating Segments\n",
      "The Company's operating structure is the basis for our internal financial reporting. As of December 31, 2018, our operating structure included the following operating segments,\n",
      "which are sometimes referred to as \"operating groups\" or \"groups\":\n",
      "• Europe, Middle East and\n",
      "Africa\n",
      "• Latin\n",
      "America\n",
      "• North\n",
      "America\n",
      "• Asia\n",
      "Pacific\n",
      "• Bottling\n",
      "Investments\n",
      "Our operating structure as of December 31, 2018 also included Corporate, which consists of two components: (1) a center focused on strategic initiatives, policy and governance\n",
      "and (2) an enabling services organization focused on both simplifying and standardizing key transactional processes and providing support to business units through global\n",
      "centers of excellence.\n",
      "----------------------------------------------------------------------------------------------------\n",
      "{'file_path': '/Users/nikhil/Documents/GitHub_portfolio/1-Enterprise-Grade RAG System/data/2016-cocacola-10k-filing.pdf', 'file_name': '2016-cocacola-10k-filing.pdf', 'file_type': 'application/pdf', 'file_size': 1744160, 'creation_date': '2025-08-17', 'last_modified_date': '2025-05-23', 'total_pages': 218, 'source': '54', 'year': 2016, 'company': 'coca-cola', 'filing_type': '10-K', 'section': 'ITEM 6. SELECTED FINANCIAL DATA T'}\n",
      "Net Operating Revenues by Operating Segment\n",
      "Information about our net operating revenues by operating segment as a percentage of Company net operating revenues is as follows:\n",
      "Year Ended December 31,\n",
      "2015\n",
      "2014\n",
      "2013\n",
      "Eurasia & Africa\n",
      "5.5%\n",
      "5.9%\n",
      "5.9%\n",
      "Europe\n",
      "10.3\n",
      "10.5\n",
      "9.9\n",
      "Latin America\n",
      "9.0\n",
      "10.0\n",
      "10.1\n",
      "North America\n",
      "49.2\n",
      "46.7\n",
      "46.1\n",
      "Asia Pacific\n",
      "10.6\n",
      "11.4\n",
      "11.5\n",
      "Bottling Investments\n",
      "15.1\n",
      "15.2\n",
      "16.2\n",
      "Corporate\n",
      "0.3\n",
      "0.3\n",
      "0.3\n",
      "Total\n",
      "100.0%\n",
      "100.0%\n",
      "100.\n",
      "----------------------------------------------------------------------------------------------------\n"
     ]
    }
   ],
   "source": [
    "for i in ans:\n",
    "    print(i.metadata)\n",
    "    print(i.text)\n",
    "    print(\"-\"*100)"
   ]
  },
  {
   "cell_type": "code",
   "execution_count": 39,
   "id": "8a2b656a-6f4d-450e-a9ad-61385fa516a6",
   "metadata": {},
   "outputs": [
    {
     "name": "stdout",
     "output_type": "stream",
     "text": [
      "> Merging 2 nodes into parent node.\n",
      "> Parent node id: a4acff55-7c52-4f1a-b006-302a8bd66215.\n",
      "> Parent node text: The unit case volume in 2015 and 2014 reflects the\n",
      "discontinuance of certain brands owned by our ...\n",
      "\n",
      "In 2014, unit case volume in the United States represented 19 percent of the Company's worldwide unit case volume. Of the U.S. unit case volume for 2014, 68 percent was attributable to sparkling beverages and 32 percent to still beverages. Trademark Coca-Cola Beverages accounted for 45 percent of U.S. unit case volume for 2014. Unit case volume outside the United States represented 81 percent of the Company's worldwide unit case volume for 2014.\n"
     ]
    }
   ],
   "source": [
    "from llama_index.llms.ollama import Ollama\n",
    "llm =Ollama(model=\"gemma3:latest\")\n",
    "response_synthesizer = get_response_synthesizer(response_mode =\"compact\",llm=llm)\n",
    "query_engine = RetrieverQueryEngine(retriever = retriever, response_synthesizer = response_synthesizer)\n",
    "response=query_engine.query(\"What was Coca-Cola’s total unit case volume in 2014?\")\n",
    "print(response)"
   ]
  },
  {
   "cell_type": "code",
   "execution_count": 41,
   "id": "bfe58403-d856-428d-b401-537638ebc801",
   "metadata": {},
   "outputs": [
    {
     "name": "stderr",
     "output_type": "stream",
     "text": [
      "huggingface/tokenizers: The current process just got forked, after parallelism has already been used. Disabling parallelism to avoid deadlocks...\n",
      "To disable this warning, you can either:\n",
      "\t- Avoid using `tokenizers` before the fork if possible\n",
      "\t- Explicitly set the environment variable TOKENIZERS_PARALLELISM=(true | false)\n",
      "/opt/anaconda3/lib/python3.12/site-packages/deepeval/__init__.py:54: UserWarning: You are using deepeval version 2.6.5, however version 3.4.2 is available. You should consider upgrading via the \"pip install --upgrade deepeval\" command.\n",
      "  warnings.warn(\n"
     ]
    }
   ],
   "source": [
    "\n",
    "from deepeval import evaluate\n",
    "from deepeval.test_case import LLMTestCase\n",
    "\n",
    "from deepeval.metrics import FaithfulnessMetric,AnswerRelevancyMetric,ContextualPrecisionMetric,ContextualRecallMetric,ContextualRelevancyMetric"
   ]
  },
  {
   "cell_type": "code",
   "execution_count": 43,
   "id": "59cee6e0-ff4f-403b-b7e0-f8d1f272309a",
   "metadata": {},
   "outputs": [],
   "source": [
    "with open(\"notebook/coca_cola_qa_unified.json\", \"r\") as f:\n",
    "    dataset = json.load(f)"
   ]
  },
  {
   "cell_type": "code",
   "execution_count": 45,
   "id": "597021f0-d51b-4eb0-8d90-f9c74590f80c",
   "metadata": {},
   "outputs": [],
   "source": [
    "def run_rag(query):\n",
    "    # Ask your RetrieverQueryEngine\n",
    "    response = query_engine.query(query)\n",
    "    \n",
    "    # Answer generated by your response_synthesizer\n",
    "    rag_answer = str(response)\n",
    "    \n",
    "    # Retrieved contexts (nodes)\n",
    "    retrieved_docs = [str(node) for node in response.source_nodes]\n",
    "    \n",
    "    return rag_answer, retrieved_docs"
   ]
  },
  {
   "cell_type": "code",
   "execution_count": 49,
   "id": "b67b5a71-4d72-464d-9d36-e3d19673f13d",
   "metadata": {},
   "outputs": [
    {
     "name": "stdout",
     "output_type": "stream",
     "text": [
      "> Merging 1 nodes into parent node.\n",
      "> Parent node id: 18198548-f024-4e99-8e1f-316f700bf110.\n",
      "> Parent node text: Operating Segments\n",
      "The Company's operating structure is the basis for our internal financial repo...\n",
      "\n",
      "> Merging 1 nodes into parent node.\n",
      "> Parent node id: e2102b55-0e36-40e5-8267-9443f0e4382f.\n",
      "> Parent node text: Operating Segments\n",
      "The Company's operating structure is the basis for our internal financial repo...\n",
      "\n",
      "> Merging 2 nodes into parent node.\n",
      "> Parent node id: 8d05aecd-8ee8-4241-94d0-19fcdf1d0069.\n",
      "> Parent node text: General\n",
      "The Coca-Cola Company is a total beverage company, and beverage products bearing our trad...\n",
      "\n",
      "> Merging 1 nodes into parent node.\n",
      "> Parent node id: 15b42d39-43ef-400c-8d28-059102a937f3.\n",
      "> Parent node text: In addition, from time to time we\n",
      "establish and publicly announce goals and commitments to reduce...\n",
      "\n",
      "> Merging 1 nodes into parent node.\n",
      "> Parent node id: 928ffbd9-b23c-4811-a59d-b4c151a3d82d.\n",
      "> Parent node text: Effective January 1, 2021, we transformed our organizational structure in an effort to better ena...\n",
      "\n"
     ]
    }
   ],
   "source": [
    "test_cases = []\n",
    "for item in dataset:\n",
    "    rag_answer, retrieved_docs = run_rag(item[\"question\"])\n",
    "    \n",
    "    test_cases.append(\n",
    "        LLMTestCase(\n",
    "            input=item[\"question\"],                       # the query\n",
    "            actual_output=rag_answer,                  # RAG's generated answer\n",
    "            expected_output=item[\"answer\"],  # gold answer\n",
    "            retrieval_context=retrieved_docs          # what your retriever returned\n",
    "        )\n",
    "    )"
   ]
  },
  {
   "cell_type": "code",
   "execution_count": 50,
   "id": "605c9443-9985-4ca3-b449-9203264e573f",
   "metadata": {},
   "outputs": [
    {
     "name": "stderr",
     "output_type": "stream",
     "text": [
      "huggingface/tokenizers: The current process just got forked, after parallelism has already been used. Disabling parallelism to avoid deadlocks...\n",
      "To disable this warning, you can either:\n",
      "\t- Avoid using `tokenizers` before the fork if possible\n",
      "\t- Explicitly set the environment variable TOKENIZERS_PARALLELISM=(true | false)\n"
     ]
    },
    {
     "name": "stdout",
     "output_type": "stream",
     "text": [
      "/opt/anaconda3/lib/python3.12/site-packages/deepeval/__init__.py:54: UserWarning: You are using deepeval version 2.6.5, however version 3.4.2 is available. You should consider upgrading via the \"pip install --upgrade deepeval\" command.\n",
      "  warnings.warn(\n",
      "🙌 Congratulations! You're now using a local Ollama model for all evals that \n",
      "require an LLM.\n"
     ]
    }
   ],
   "source": [
    "\n",
    "!deepeval set-ollama deepseek-r1:1.5b"
   ]
  },
  {
   "cell_type": "code",
   "execution_count": 51,
   "id": "1b0408a9-1273-401a-a608-bfe8bbf36199",
   "metadata": {},
   "outputs": [],
   "source": [
    "metrics = [\n",
    "    AnswerRelevancyMetric(),\n",
    "    FaithfulnessMetric(),\n",
    "    ContextualPrecisionMetric(),\n",
    "    ContextualRecallMetric(),\n",
    "    ContextualRelevancyMetric()\n",
    "    \n",
    "]"
   ]
  },
  {
   "cell_type": "code",
   "execution_count": 59,
   "id": "a63c8d8a-2f97-43b6-b652-a237a4c59102",
   "metadata": {},
   "outputs": [
    {
     "data": {
      "text/html": [
       "<pre style=\"white-space:pre;overflow-x:auto;line-height:normal;font-family:Menlo,'DejaVu Sans Mono',consolas,'Courier New',monospace\">✨ You're running DeepEval's latest <span style=\"color: #6a00ff; text-decoration-color: #6a00ff\">Answer Relevancy Metric</span>! <span style=\"color: #374151; text-decoration-color: #374151; font-weight: bold\">(</span><span style=\"color: #374151; text-decoration-color: #374151\">using deepseek-r</span><span style=\"color: #374151; text-decoration-color: #374151; font-weight: bold\">1:1</span><span style=\"color: #374151; text-decoration-color: #374151\">.5b </span><span style=\"color: #374151; text-decoration-color: #374151; font-weight: bold\">(</span><span style=\"color: #374151; text-decoration-color: #374151\">Ollama</span><span style=\"color: #374151; text-decoration-color: #374151; font-weight: bold\">)</span><span style=\"color: #374151; text-decoration-color: #374151\">, </span><span style=\"color: #374151; text-decoration-color: #374151\">strict</span><span style=\"color: #374151; text-decoration-color: #374151\">=</span><span style=\"color: #374151; text-decoration-color: #374151; font-style: italic\">False</span><span style=\"color: #374151; text-decoration-color: #374151\">, </span>\n",
       "<span style=\"color: #374151; text-decoration-color: #374151\">async_mode</span><span style=\"color: #374151; text-decoration-color: #374151\">=</span><span style=\"color: #374151; text-decoration-color: #374151; font-style: italic\">True</span><span style=\"color: #374151; text-decoration-color: #374151; font-weight: bold\">)</span><span style=\"color: #374151; text-decoration-color: #374151\">...</span>\n",
       "</pre>\n"
      ],
      "text/plain": [
       "✨ You're running DeepEval's latest \u001b[38;2;106;0;255mAnswer Relevancy Metric\u001b[0m! \u001b[1;38;2;55;65;81m(\u001b[0m\u001b[38;2;55;65;81musing deepseek-r\u001b[0m\u001b[1;38;2;55;65;81m1:1\u001b[0m\u001b[38;2;55;65;81m.5b \u001b[0m\u001b[1;38;2;55;65;81m(\u001b[0m\u001b[38;2;55;65;81mOllama\u001b[0m\u001b[1;38;2;55;65;81m)\u001b[0m\u001b[38;2;55;65;81m, \u001b[0m\u001b[38;2;55;65;81mstrict\u001b[0m\u001b[38;2;55;65;81m=\u001b[0m\u001b[3;38;2;55;65;81mFalse\u001b[0m\u001b[38;2;55;65;81m, \u001b[0m\n",
       "\u001b[38;2;55;65;81masync_mode\u001b[0m\u001b[38;2;55;65;81m=\u001b[0m\u001b[3;38;2;55;65;81mTrue\u001b[0m\u001b[1;38;2;55;65;81m)\u001b[0m\u001b[38;2;55;65;81m...\u001b[0m\n"
      ]
     },
     "metadata": {},
     "output_type": "display_data"
    },
    {
     "data": {
      "text/html": [
       "<pre style=\"white-space:pre;overflow-x:auto;line-height:normal;font-family:Menlo,'DejaVu Sans Mono',consolas,'Courier New',monospace\">✨ You're running DeepEval's latest <span style=\"color: #6a00ff; text-decoration-color: #6a00ff\">Faithfulness Metric</span>! <span style=\"color: #374151; text-decoration-color: #374151; font-weight: bold\">(</span><span style=\"color: #374151; text-decoration-color: #374151\">using deepseek-r</span><span style=\"color: #374151; text-decoration-color: #374151; font-weight: bold\">1:1</span><span style=\"color: #374151; text-decoration-color: #374151\">.5b </span><span style=\"color: #374151; text-decoration-color: #374151; font-weight: bold\">(</span><span style=\"color: #374151; text-decoration-color: #374151\">Ollama</span><span style=\"color: #374151; text-decoration-color: #374151; font-weight: bold\">)</span><span style=\"color: #374151; text-decoration-color: #374151\">, </span><span style=\"color: #374151; text-decoration-color: #374151\">strict</span><span style=\"color: #374151; text-decoration-color: #374151\">=</span><span style=\"color: #374151; text-decoration-color: #374151; font-style: italic\">False</span><span style=\"color: #374151; text-decoration-color: #374151\">, </span>\n",
       "<span style=\"color: #374151; text-decoration-color: #374151\">async_mode</span><span style=\"color: #374151; text-decoration-color: #374151\">=</span><span style=\"color: #374151; text-decoration-color: #374151; font-style: italic\">True</span><span style=\"color: #374151; text-decoration-color: #374151; font-weight: bold\">)</span><span style=\"color: #374151; text-decoration-color: #374151\">...</span>\n",
       "</pre>\n"
      ],
      "text/plain": [
       "✨ You're running DeepEval's latest \u001b[38;2;106;0;255mFaithfulness Metric\u001b[0m! \u001b[1;38;2;55;65;81m(\u001b[0m\u001b[38;2;55;65;81musing deepseek-r\u001b[0m\u001b[1;38;2;55;65;81m1:1\u001b[0m\u001b[38;2;55;65;81m.5b \u001b[0m\u001b[1;38;2;55;65;81m(\u001b[0m\u001b[38;2;55;65;81mOllama\u001b[0m\u001b[1;38;2;55;65;81m)\u001b[0m\u001b[38;2;55;65;81m, \u001b[0m\u001b[38;2;55;65;81mstrict\u001b[0m\u001b[38;2;55;65;81m=\u001b[0m\u001b[3;38;2;55;65;81mFalse\u001b[0m\u001b[38;2;55;65;81m, \u001b[0m\n",
       "\u001b[38;2;55;65;81masync_mode\u001b[0m\u001b[38;2;55;65;81m=\u001b[0m\u001b[3;38;2;55;65;81mTrue\u001b[0m\u001b[1;38;2;55;65;81m)\u001b[0m\u001b[38;2;55;65;81m...\u001b[0m\n"
      ]
     },
     "metadata": {},
     "output_type": "display_data"
    },
    {
     "data": {
      "text/html": [
       "<pre style=\"white-space:pre;overflow-x:auto;line-height:normal;font-family:Menlo,'DejaVu Sans Mono',consolas,'Courier New',monospace\">✨ You're running DeepEval's latest <span style=\"color: #6a00ff; text-decoration-color: #6a00ff\">Contextual Precision Metric</span>! <span style=\"color: #374151; text-decoration-color: #374151; font-weight: bold\">(</span><span style=\"color: #374151; text-decoration-color: #374151\">using deepseek-r</span><span style=\"color: #374151; text-decoration-color: #374151; font-weight: bold\">1:1</span><span style=\"color: #374151; text-decoration-color: #374151\">.5b </span><span style=\"color: #374151; text-decoration-color: #374151; font-weight: bold\">(</span><span style=\"color: #374151; text-decoration-color: #374151\">Ollama</span><span style=\"color: #374151; text-decoration-color: #374151; font-weight: bold\">)</span><span style=\"color: #374151; text-decoration-color: #374151\">, </span><span style=\"color: #374151; text-decoration-color: #374151\">strict</span><span style=\"color: #374151; text-decoration-color: #374151\">=</span><span style=\"color: #374151; text-decoration-color: #374151; font-style: italic\">False</span><span style=\"color: #374151; text-decoration-color: #374151\">, </span>\n",
       "<span style=\"color: #374151; text-decoration-color: #374151\">async_mode</span><span style=\"color: #374151; text-decoration-color: #374151\">=</span><span style=\"color: #374151; text-decoration-color: #374151; font-style: italic\">True</span><span style=\"color: #374151; text-decoration-color: #374151; font-weight: bold\">)</span><span style=\"color: #374151; text-decoration-color: #374151\">...</span>\n",
       "</pre>\n"
      ],
      "text/plain": [
       "✨ You're running DeepEval's latest \u001b[38;2;106;0;255mContextual Precision Metric\u001b[0m! \u001b[1;38;2;55;65;81m(\u001b[0m\u001b[38;2;55;65;81musing deepseek-r\u001b[0m\u001b[1;38;2;55;65;81m1:1\u001b[0m\u001b[38;2;55;65;81m.5b \u001b[0m\u001b[1;38;2;55;65;81m(\u001b[0m\u001b[38;2;55;65;81mOllama\u001b[0m\u001b[1;38;2;55;65;81m)\u001b[0m\u001b[38;2;55;65;81m, \u001b[0m\u001b[38;2;55;65;81mstrict\u001b[0m\u001b[38;2;55;65;81m=\u001b[0m\u001b[3;38;2;55;65;81mFalse\u001b[0m\u001b[38;2;55;65;81m, \u001b[0m\n",
       "\u001b[38;2;55;65;81masync_mode\u001b[0m\u001b[38;2;55;65;81m=\u001b[0m\u001b[3;38;2;55;65;81mTrue\u001b[0m\u001b[1;38;2;55;65;81m)\u001b[0m\u001b[38;2;55;65;81m...\u001b[0m\n"
      ]
     },
     "metadata": {},
     "output_type": "display_data"
    },
    {
     "data": {
      "text/html": [
       "<pre style=\"white-space:pre;overflow-x:auto;line-height:normal;font-family:Menlo,'DejaVu Sans Mono',consolas,'Courier New',monospace\">✨ You're running DeepEval's latest <span style=\"color: #6a00ff; text-decoration-color: #6a00ff\">Contextual Recall Metric</span>! <span style=\"color: #374151; text-decoration-color: #374151; font-weight: bold\">(</span><span style=\"color: #374151; text-decoration-color: #374151\">using deepseek-r</span><span style=\"color: #374151; text-decoration-color: #374151; font-weight: bold\">1:1</span><span style=\"color: #374151; text-decoration-color: #374151\">.5b </span><span style=\"color: #374151; text-decoration-color: #374151; font-weight: bold\">(</span><span style=\"color: #374151; text-decoration-color: #374151\">Ollama</span><span style=\"color: #374151; text-decoration-color: #374151; font-weight: bold\">)</span><span style=\"color: #374151; text-decoration-color: #374151\">, </span><span style=\"color: #374151; text-decoration-color: #374151\">strict</span><span style=\"color: #374151; text-decoration-color: #374151\">=</span><span style=\"color: #374151; text-decoration-color: #374151; font-style: italic\">False</span><span style=\"color: #374151; text-decoration-color: #374151\">, </span>\n",
       "<span style=\"color: #374151; text-decoration-color: #374151\">async_mode</span><span style=\"color: #374151; text-decoration-color: #374151\">=</span><span style=\"color: #374151; text-decoration-color: #374151; font-style: italic\">True</span><span style=\"color: #374151; text-decoration-color: #374151; font-weight: bold\">)</span><span style=\"color: #374151; text-decoration-color: #374151\">...</span>\n",
       "</pre>\n"
      ],
      "text/plain": [
       "✨ You're running DeepEval's latest \u001b[38;2;106;0;255mContextual Recall Metric\u001b[0m! \u001b[1;38;2;55;65;81m(\u001b[0m\u001b[38;2;55;65;81musing deepseek-r\u001b[0m\u001b[1;38;2;55;65;81m1:1\u001b[0m\u001b[38;2;55;65;81m.5b \u001b[0m\u001b[1;38;2;55;65;81m(\u001b[0m\u001b[38;2;55;65;81mOllama\u001b[0m\u001b[1;38;2;55;65;81m)\u001b[0m\u001b[38;2;55;65;81m, \u001b[0m\u001b[38;2;55;65;81mstrict\u001b[0m\u001b[38;2;55;65;81m=\u001b[0m\u001b[3;38;2;55;65;81mFalse\u001b[0m\u001b[38;2;55;65;81m, \u001b[0m\n",
       "\u001b[38;2;55;65;81masync_mode\u001b[0m\u001b[38;2;55;65;81m=\u001b[0m\u001b[3;38;2;55;65;81mTrue\u001b[0m\u001b[1;38;2;55;65;81m)\u001b[0m\u001b[38;2;55;65;81m...\u001b[0m\n"
      ]
     },
     "metadata": {},
     "output_type": "display_data"
    },
    {
     "data": {
      "text/html": [
       "<pre style=\"white-space:pre;overflow-x:auto;line-height:normal;font-family:Menlo,'DejaVu Sans Mono',consolas,'Courier New',monospace\">✨ You're running DeepEval's latest <span style=\"color: #6a00ff; text-decoration-color: #6a00ff\">Contextual Relevancy Metric</span>! <span style=\"color: #374151; text-decoration-color: #374151; font-weight: bold\">(</span><span style=\"color: #374151; text-decoration-color: #374151\">using deepseek-r</span><span style=\"color: #374151; text-decoration-color: #374151; font-weight: bold\">1:1</span><span style=\"color: #374151; text-decoration-color: #374151\">.5b </span><span style=\"color: #374151; text-decoration-color: #374151; font-weight: bold\">(</span><span style=\"color: #374151; text-decoration-color: #374151\">Ollama</span><span style=\"color: #374151; text-decoration-color: #374151; font-weight: bold\">)</span><span style=\"color: #374151; text-decoration-color: #374151\">, </span><span style=\"color: #374151; text-decoration-color: #374151\">strict</span><span style=\"color: #374151; text-decoration-color: #374151\">=</span><span style=\"color: #374151; text-decoration-color: #374151; font-style: italic\">False</span><span style=\"color: #374151; text-decoration-color: #374151\">, </span>\n",
       "<span style=\"color: #374151; text-decoration-color: #374151\">async_mode</span><span style=\"color: #374151; text-decoration-color: #374151\">=</span><span style=\"color: #374151; text-decoration-color: #374151; font-style: italic\">True</span><span style=\"color: #374151; text-decoration-color: #374151; font-weight: bold\">)</span><span style=\"color: #374151; text-decoration-color: #374151\">...</span>\n",
       "</pre>\n"
      ],
      "text/plain": [
       "✨ You're running DeepEval's latest \u001b[38;2;106;0;255mContextual Relevancy Metric\u001b[0m! \u001b[1;38;2;55;65;81m(\u001b[0m\u001b[38;2;55;65;81musing deepseek-r\u001b[0m\u001b[1;38;2;55;65;81m1:1\u001b[0m\u001b[38;2;55;65;81m.5b \u001b[0m\u001b[1;38;2;55;65;81m(\u001b[0m\u001b[38;2;55;65;81mOllama\u001b[0m\u001b[1;38;2;55;65;81m)\u001b[0m\u001b[38;2;55;65;81m, \u001b[0m\u001b[38;2;55;65;81mstrict\u001b[0m\u001b[38;2;55;65;81m=\u001b[0m\u001b[3;38;2;55;65;81mFalse\u001b[0m\u001b[38;2;55;65;81m, \u001b[0m\n",
       "\u001b[38;2;55;65;81masync_mode\u001b[0m\u001b[38;2;55;65;81m=\u001b[0m\u001b[3;38;2;55;65;81mTrue\u001b[0m\u001b[1;38;2;55;65;81m)\u001b[0m\u001b[38;2;55;65;81m...\u001b[0m\n"
      ]
     },
     "metadata": {},
     "output_type": "display_data"
    },
    {
     "name": "stderr",
     "output_type": "stream",
     "text": [
      "Evaluating 4 test case(s) in parallel: |█|100% (4/4) [Time Taken: 03:39, 54.84s/"
     ]
    },
    {
     "name": "stdout",
     "output_type": "stream",
     "text": [
      "\n",
      "======================================================================\n",
      "\n",
      "Metrics Summary\n",
      "\n",
      "  - ✅ Answer Relevancy (score: 1.0, threshold: 0.5, strict: False, evaluation model: deepseek-r1:1.5b (Ollama), reason: The score is 1.00 because the response accurately and completely addresses the question regarding Coca-Cola's internal financial reporting operating segments as of 2018, with no irrelevant information present., error: None)\n",
      "  - ✅ Faithfulness (score: 0.8, threshold: 0.5, strict: False, evaluation model: deepseek-r1:1.5b (Ollama), reason: The score is 0.80 because the actual output contradicts the retrieval context by stating that as of December 31, 2018, the Company’s operating structure included Europe, Middle East and Africa, rather than the specifically mentioned Latin America as detailed in the retrieval context., error: None)\n",
      "  - ✅ Contextual Precision (score: 1.0, threshold: 0.5, strict: False, evaluation model: deepseek-r1:1.5b (Ollama), reason: The score is 1.00 because the first two retrieval contexts successfully provided the precise details of Coca-Cola's operating segments as of December 31, 2018, as requested in the input. The third retrieval context node incorrectly omitted the key date element, which is why it receives a lower ranking., error: None)\n",
      "  - ✅ Contextual Recall (score: 1.0, threshold: 0.5, strict: False, evaluation model: deepseek-r1:1.5b (Ollama), reason: The score is 1.00 because the sentence \"As of Dec 31, 2017, operating segments included Europe, Middle East & Africa; Latin America; North America; Asia Pacific; Bottling Investments; and Corporate.\" is perfectly aligned with the content of node(s) in retrieval context (Node ID: 4e81746c-7b28-48b6-9cc3-985160253ef9), containing the identical phrase., error: None)\n",
      "  - ✅ Contextual Relevancy (score: 0.9090909090909091, threshold: 0.5, strict: False, evaluation model: deepseek-r1:1.5b (Ollama), reason: The score is 0.91 because the retrieval context directly repeats the input question, 'In the 2018 filing, how is Coca-Cola organized for internal financial reporting (operating segments)?', and also states, 'Operating Segments The Company’s operating structure is the basis for our internal financial reporting.' confirming the relevance to the query., error: None)\n",
      "\n",
      "For test case:\n",
      "\n",
      "  - input: In the 2018 filing, how is Coca-Cola organized for internal financial reporting (operating segments)?\n",
      "  - actual output: As of December 31, 2018, the Company’s operating structure included Europe, Middle East and Africa, Latin America, North America, Asia Pacific, and Bottling Investments. It also included Corporate, which consists of a center focused on strategic initiatives, policy and governance and an enabling services organization.\n",
      "  - expected output: As of Dec 31, 2017, operating segments included Europe, Middle East & Africa; Latin America; North America; Asia Pacific; Bottling Investments; and Corporate.\n",
      "  - context: None\n",
      "  - retrieval context: ['Node ID: 9be68eae-385c-465f-8ab4-d071f4b0bead\\nText: Operating Segments The Company\\'s operating structure is the\\nbasis for our internal financial reporting. As of December 31, 2018,\\nour operating structure included the following operating segments,\\nwhich are sometimes referred to as \"operating groups\" or \"groups\": •\\nEurope, Middle East and Africa • Latin America • North America • Asia\\nPacific • Bo...\\nScore:  0.868\\n', 'Node ID: 4e81746c-7b28-48b6-9cc3-985160253ef9\\nText: Operating Segments The Company\\'s operating structure is the\\nbasis for our internal financial reporting. As of December 31, 2017,\\nour operating structure included the following operating segments, the\\nfirst five of which are sometimes referred to as \"operating groups\" or\\n\"groups\": • Europe, Middle East and Africa • Latin America • North\\nAmerica •...\\nScore:  0.862\\n', 'Node ID: 94c40c95-7dfe-40fd-ba55-ec218d41a85c\\nText: Operating Segments The Company\\'s operating structure is the\\nbasis for our internal financial reporting. Our operating structure\\nincludes the following operating segments, which are sometimes\\nreferred to as \"operating groups\" or \"groups\": • Europe, Middle East\\nand Africa • Latin America • North America • Asia Pacific • Global\\nVentures • Bottling ...\\nScore:  0.855\\n', 'Node ID: 18198548-f024-4e99-8e1f-316f700bf110\\nText: Operating Segments The Company\\'s operating structure is the\\nbasis for our internal financial reporting. Our operating structure\\nincludes the following operating segments, which are sometimes\\nreferred to as \"operating groups\" or \"groups\": • Europe, Middle East\\nand Africa • Latin America • North America • Asia Pacific • Global\\nVentures • Bottling ...\\nScore:  0.853\\n', 'Node ID: e2102b55-0e36-40e5-8267-9443f0e4382f\\nText: Operating Segments The Company\\'s operating structure is the\\nbasis for our internal financial reporting. As of December 31, 2016,\\nour operating structure included the following operating segments, the\\nfirst five of which are sometimes referred to as \"operating groups\" or\\n\"groups\": • Europe, Middle East and Africa • Latin America • North\\nAmerica •...\\nScore:  0.850\\n']\n",
      "\n",
      "======================================================================\n",
      "\n",
      "Metrics Summary\n",
      "\n",
      "  - ✅ Answer Relevancy (score: 1.0, threshold: 0.5, strict: False, evaluation model: deepseek-r1:1.5b (Ollama), reason: The score is 1.00 because the output perfectly addresses the question, providing Coca-Cola's stated purpose and vision from the 2022 filing., error: None)\n",
      "  - ✅ Faithfulness (score: 1.0, threshold: 0.5, strict: False, evaluation model: deepseek-r1:1.5b (Ollama), reason: The score is 1.00 because the retrieval context and the actual output are perfectly aligned, with no contradictions identified., error: None)\n",
      "  - ❌ Contextual Precision (score: 0.0, threshold: 0.5, strict: False, evaluation model: deepseek-r1:1.5b (Ollama), reason: The score is 0.00 because all the retrieval contexts provided contain irrelevant information. Specifically, nodes 1, 2, 3, and 4 discuss topics such as obesity, water quality, sustainability initiatives, and ESG goals – none of which directly address Coca-Cola’s stated purpose and vision as outlined in the expected output. These nodes are ranked highly, contributing to the low precision., error: None)\n",
      "  - ✅ Contextual Recall (score: 1.0, threshold: 0.5, strict: False, evaluation model: deepseek-r1:1.5b (Ollama), reason: The score is 1.00 because all sentences in the expected output are perfectly aligned with the retrieval context. Specifically, sentences 1-4 directly relate to the company’s purpose, vision pillars, and ESG goals, as detailed in node(s) 1-4., error: None)\n",
      "  - ✅ Contextual Relevancy (score: 0.5, threshold: 0.5, strict: False, evaluation model: deepseek-r1:1.5b (Ollama), reason: The score is 0.50 because the context includes the direct question, \"what is Coca-Cola's stated purpose and vision?\", and also the phrase \"what is Coca-Cola's stated purpose and vision?\", indicating a connection, though it doesn't provide the specific answer to the input question., error: None)\n",
      "\n",
      "For test case:\n",
      "\n",
      "  - input: In the 2022 filing, what is Coca-Cola's stated purpose and vision?\n",
      "  - actual output: Coca-Cola’s purpose is to refresh the world and make a difference, and its vision for growth has three connected pillars: Loved Brands, Done Sustainably, and For A Better Shared Future.\n",
      "  - expected output: Purpose: to refresh the world and make a difference. Vision pillars: Loved Brands, Done Sustainably, For A Better Shared Future — strategy to drive net operating revenue growth and long-term value.\n",
      "  - context: None\n",
      "  - retrieval context: ['Node ID: 2f1ec01b-3686-48f2-a065-2e2f5ff91ffb\\nText: We want to be a helpful and credible partner in the fight\\nagainst obesity. Across the Coca-Cola system, we are mobilizing our\\nassets in marketing and in community outreach to increase awareness\\nand spur action. Evolving Consumer Product Preferences We are impacted\\nby shifting consumer demographics and needs, on-the-go lifestyles and\\nconsumers wh...\\nScore:  0.745\\n', 'Node ID: 8d05aecd-8ee8-4241-94d0-19fcdf1d0069\\nText: General The Coca-Cola Company is a total beverage company, and\\nbeverage products bearing our trademarks, sold in the United States\\nsince 1886, are now sold in more than 200 countries and territories.\\nWe own or license and market numerous beverage brands, which we group\\ninto the following categories: Trademark Coca-Cola; sparkling flavors;\\nhydrat...\\nScore:  0.723\\n', 'Node ID: 15b42d39-43ef-400c-8d28-059102a937f3\\nText: In addition, from time to time we establish and publicly\\nannounce goals and commitments to reduce the Coca-Cola system’s carbon\\nfootprint by increasing our use of recycled packaging materials,\\nexpanding our renewable energy usage, and participating in\\nenvironmental and sustainability programs and initiatives organized or\\nsponsored by nongovernme...\\nScore:  0.721\\n', 'Node ID: b91088dd-f2b9-4d25-bf30-fdb35886c532\\nText: We have established specific ESG goals related to water quality\\nand scarcity; packaging materials used for our products; reduction of\\nadded sugar in our beverages; reduction of carbon dioxide and other\\ngreenhouse gas emissions; sustainable agriculture; diversity, equity\\nand inclusion; and human and workplace rights. Our ability to achieve\\nour ES...\\nScore:  0.719\\n']\n",
      "\n",
      "======================================================================\n",
      "\n",
      "Metrics Summary\n",
      "\n",
      "  - ✅ Answer Relevancy (score: 1.0, threshold: 0.5, strict: False, evaluation model: deepseek-r1:1.5b (Ollama), reason: The score is 1.00 because the output perfectly addresses the question about Coca-Cola’s organizational structure change in 2021, with no irrelevant statements present., error: None)\n",
      "  - ✅ Faithfulness (score: 0.6666666666666666, threshold: 0.5, strict: False, evaluation model: deepseek-r1:1.5b (Ollama), reason: The faithfulness score is 0.67 because the actual output presents a contradiction by stating the transformation happened in January 2021, directly conflicting with the retrieval context's assertion of August 2020. Furthermore, it contradicts the retrieval context’s description of the organization as lacking a regional and local focus, highlighting a discrepancy in the details provided., error: None)\n",
      "  - ✅ Contextual Precision (score: 1.0, threshold: 0.5, strict: False, evaluation model: deepseek-r1:1.5b (Ollama), reason: The score is 1.00 because all relevant nodes from the retrieval contexts were ranked highly, specifically the first node stating: 'Effective January 1, 2021, we transformed our organizational structure in an effort to better enable us to capture growth in the fast-changing marketplace.' and the second node directly answering the question., error: None)\n",
      "  - ✅ Contextual Recall (score: 1.0, threshold: 0.5, strict: False, evaluation model: deepseek-r1:1.5b (Ollama), reason: The score is 1.00 because the sentence perfectly reflects the core message of Node ID: 1f6c22d7-cced-4c0a-a781-0a27f2e67903, detailing the transformation into a networked global organization with geographic operating segments, scale, and local execution., error: None)\n",
      "  - ❌ Contextual Relevancy (score: 0.2, threshold: 0.5, strict: False, evaluation model: deepseek-r1:1.5b (Ollama), reason: The score is 0.20 because the context states \"Effective January 1, 2021, we transformed our organizational structure,\" directly addressing the input's query about the change effective that date. However, it lacks specific details regarding the transformation itself., error: None)\n",
      "\n",
      "For test case:\n",
      "\n",
      "  - input: In the 2022 filing, how did Coca-Cola change its organizational structure effective January 1, 2021?\n",
      "  - actual output: Effective January 1, 2021, the company transformed its organizational structure in an effort to better enable it to capture growth in the fast-changing marketplace by building a networked global organization designed to combine the power of scale with the deep knowledge required to win locally. They created new operating units focused on regional and local execution. These operating units, which sit under four geographic operating segments, are highly interconnected with a focus on eliminating duplication of resources and scaling new products more quickly.\n",
      "  - expected output: Transformed to a networked global organization with new operating units under four geographic operating segments focused on combining scale with local execution and faster scaling of products.\n",
      "  - context: None\n",
      "  - retrieval context: ['Node ID: 5d600597-19c4-4572-b156-009450e94223\\nText: Refer to Note\\xa019 for the impact these items had on our operating\\nsegments and Corporate. NOTE 18: RESTRUCTURING Strategic Realignment\\nIn August 2020, the Company announced strategic steps to transform our\\norganizational structure in an effort to better enable us to capture\\ngrowth in the fast-changing marketplace. The Company has transformed\\ninto...\\nScore:  0.782\\n', 'Node ID: 1f6c22d7-cced-4c0a-a781-0a27f2e67903\\nText: NOTE 18: RESTRUCTURING Strategic Realignment In August 2020, the\\nCompany announced strategic steps to transform our organizational\\nstructure in an effort to better enable us to capture growth in the\\nfast-changing marketplace. The Company is building a networked global\\norganization designed to combine the power of scale with the deep\\nknowledge re...\\nScore:  0.763\\n', 'Node ID: 928ffbd9-b23c-4811-a59d-b4c151a3d82d\\nText: Effective January 1, 2021, we transformed our organizational\\nstructure in an effort to better enable us to capture growth in the\\nfast-changing marketplace by building a networked global organization\\ndesigned to combine the power of scale with the deep knowledge\\nrequired to win locally. We created new operating units, which are\\nfocused on regiona...\\nScore:  0.762\\n', 'Node ID: 802ab5fe-1e82-44bd-a481-d5c375759404\\nText: Refer to Note\\xa04 for additional information on equity and debt\\nsecurities. Refer to Note\\xa014 for additional information on pension and\\nother postretirement benefit plan activity. Refer to Note\\xa017 for\\nadditional information on the restructuring of our manufacturing\\noperations in the United States and the impairment charges. NOTE 19:\\nRESTRUCTURING N...\\nScore:  0.759\\n', 'Node ID: 75dfb700-959b-471c-82f9-47e86c4ab14f\\nText: * 10.9 The Coca-Cola Company Directors’ Plan, amended and\\nrestated on December 13, 2012, effective January 1, 2013 —\\nincorporated herein by reference to Exhibit\\xa010.13 to the Company’s\\nAnnual Report on Form\\xa010-K for the year ended December\\xa031, 2012.*\\n10.9.1 The Coca-Cola Company Directors’ Plan, amended and restated on\\nFebruary 21, 2019, effectiv...\\nScore:  0.747\\n']\n",
      "\n",
      "======================================================================\n",
      "\n",
      "Metrics Summary\n",
      "\n",
      "  - ✅ Answer Relevancy (score: 1.0, threshold: 0.5, strict: False, evaluation model: deepseek-r1:1.5b (Ollama), reason: The score is 1.00 because the output perfectly addresses the question about Coca-Cola's core business and global reach, providing a comprehensive and relevant response., error: None)\n",
      "  - ✅ Faithfulness (score: 1.0, threshold: 0.5, strict: False, evaluation model: deepseek-r1:1.5b (Ollama), reason: The score is 1.00 because the actual output perfectly aligns with the retrieval context – there are no contradictions identified., error: None)\n",
      "  - ✅ Contextual Precision (score: 1.0, threshold: 0.5, strict: False, evaluation model: deepseek-r1:1.5b (Ollama), reason: The score is 1.00 because all retrieval contexts are highly relevant, with the first node, 'strategic initiatives, policy, governance and scaling global initiatives,' providing the most direct answer to the question regarding The Coca-Cola Company's core business and global reach. The subsequent nodes further reinforce this understanding by detailing operating structures and marketing strategies, demonstrating a comprehensive and precise response to the query., error: None)\n",
      "  - ✅ Contextual Recall (score: 1.0, threshold: 0.5, strict: False, evaluation model: deepseek-r1:1.5b (Ollama), reason: The score is 1.00 because the provided sentence seamlessly aligns with the context, specifically node(s) in retrieval context 1, 2, 3, and 4, detailing Coca-Cola’s scale and operational structure – a perfect match., error: None)\n",
      "  - ❌ Contextual Relevancy (score: 0.0, threshold: 0.5, strict: False, evaluation model: deepseek-r1:1.5b (Ollama), reason: The score is 0.00 because the retrieval context discusses The Coca-Cola Company's operating structure and teams, but fails to answer the specific question about its core business and global reach, as stated in the reason: 'The context discusses The Coca-Cola Company’s operating structure and teams, but does not answer the specific question about its core business and global reach.', error: None)\n",
      "\n",
      "For test case:\n",
      "\n",
      "  - input: In the 2018 filing, what is The Coca-Cola Company's core business and global reach?\n",
      "  - actual output: The Coca-Cola Company’s core business is primarily nonalcoholic beverages. These beverages are sold across geographic operating segments including Europe, Middle East and Africa; Latin America; North America; and Asia Pacific.\n",
      "  - expected output: Coca-Cola is the world's largest beverage company, owning/licensing 500+ nonalcoholic beverage brands sold in more than 200 countries and serving ~1.9 billion servings daily.\n",
      "  - context: None\n",
      "  - retrieval context: ['Node ID: d8ce6a59-cbf4-45a1-8738-493203185723\\nText: Our operating structure also includes Corporate,  which consists\\nof two components: (1) a center focusing on strategic initiatives,\\npolicy, governance and scaling global  initiatives, and (2) a platform\\nservices organization supporting operating units, global marketing\\ncategory leadership teams and  the center by providing efficient and\\nscaled g...\\nScore:  0.750\\n', 'Node ID: 316b9156-a090-40f7-8684-5757b8bb442b\\nText: The global marketing category leadership  teams primarily focus\\non innovation as well as marketing efficiency and effectiveness.  Our\\noperating structure also includes Corporate, which consists of two\\ncomponents: (1) a center focusing on strategic  initiatives, policy,\\ngovernance and scaling global initiatives, and (2) a platform services\\norgani...\\nScore:  0.747\\n', 'Node ID: dc08a723-6bb0-4126-8c68-f4bea89df82f\\nText: Our operating structure also includes Corporate, which consists\\nof two components: (1) a center focusing on strategic initiatives,\\npolicy, governance and scaling global initiatives, and (2) a platform\\nservices organization supporting operating units, global marketing\\ncategory leadership teams and the center by providing efficient and\\nscaled glob...\\nScore:  0.744\\n', 'Node ID: da343d4b-82dc-4821-ab0f-828bd494ccf9\\nText: The global marketing category leadership teams primarily focus\\non innovation as well as marketing efficiency and effectiveness. Our\\noperating structure also includes Corporate, which consists of two\\ncomponents: (1) a center focusing on strategic initiatives, policy,\\ngovernance and scaling global initiatives, and (2) a platform services\\norganizat...\\nScore:  0.743\\n', 'Node ID: 6a8ed81a-a5db-439e-9db8-789a834bf674\\nText: The global marketing category leadership teams primarily focus\\non innovation as well as marketing efficiency and effectiveness. Our\\noperating structure also includes Corporate, which consists of two\\ncomponents: (1) a center focusing on strategic initiatives, policy,\\ngovernance and scaling global initiatives, and (2) a platform services\\norganizat...\\nScore:  0.743\\n']\n",
      "\n",
      "======================================================================\n",
      "\n",
      "Overall Metric Pass Rates\n",
      "\n",
      "Answer Relevancy: 100.00% pass rate\n",
      "Faithfulness: 100.00% pass rate\n",
      "Contextual Precision: 75.00% pass rate\n",
      "Contextual Recall: 100.00% pass rate\n",
      "Contextual Relevancy: 50.00% pass rate\n",
      "\n",
      "======================================================================\n",
      "\n"
     ]
    },
    {
     "name": "stderr",
     "output_type": "stream",
     "text": [
      "\n"
     ]
    },
    {
     "data": {
      "text/html": [
       "<pre style=\"white-space:pre;overflow-x:auto;line-height:normal;font-family:Menlo,'DejaVu Sans Mono',consolas,'Courier New',monospace\">\n",
       "<span style=\"color: #05f58d; text-decoration-color: #05f58d\">✓</span> Tests finished 🎉! Run <span style=\"color: #008000; text-decoration-color: #008000; font-weight: bold\">'deepeval login'</span> to save and analyze evaluation results on Confident AI.\n",
       " \n",
       "✨👀 Looking for a place for your LLM test data to live 🏡❤️ ? Use <span style=\"color: #6a00ff; text-decoration-color: #6a00ff\">Confident AI</span> to get &amp; share testing reports, \n",
       "experiment with models/prompts, and catch regressions for your LLM system. Just run <span style=\"color: #008080; text-decoration-color: #008080\">'deepeval login'</span> in the CLI. \n",
       "\n",
       "</pre>\n"
      ],
      "text/plain": [
       "\n",
       "\u001b[38;2;5;245;141m✓\u001b[0m Tests finished 🎉! Run \u001b[1;32m'deepeval login'\u001b[0m to save and analyze evaluation results on Confident AI.\n",
       " \n",
       "✨👀 Looking for a place for your LLM test data to live 🏡❤️ ? Use \u001b[38;2;106;0;255mConfident AI\u001b[0m to get & share testing reports, \n",
       "experiment with models/prompts, and catch regressions for your LLM system. Just run \u001b[36m'deepeval login'\u001b[0m in the CLI. \n",
       "\n"
      ]
     },
     "metadata": {},
     "output_type": "display_data"
    },
    {
     "data": {
      "text/plain": [
       "EvaluationResult(test_results=[TestResult(name='test_case_1', success=True, metrics_data=[MetricData(name='Answer Relevancy', threshold=0.5, success=True, score=1.0, reason=\"The score is 1.00 because the response accurately and completely addresses the question regarding Coca-Cola's internal financial reporting operating segments as of 2018, with no irrelevant information present.\", strict_mode=False, evaluation_model='deepseek-r1:1.5b (Ollama)', error=None, evaluation_cost=0.0, verbose_logs='Statements:\\n[\\n    \"As of December 31, 2018, the Company’s operating structure included Europe, Middle East and Africa.\",\\n    \"It also included Latin America.\",\\n    \"It also included North America.\",\\n    \"It also included Asia Pacific.\",\\n    \"It also included Bottling Investments.\",\\n    \"It also included Corporate.\",\\n    \"Corporate consists of a center focused on strategic initiatives.\",\\n    \"Corporate consists of a center focused on policy and governance.\",\\n    \"Corporate consists of an enabling services organization.\"\\n] \\n \\nVerdicts:\\n[\\n    {\\n        \"verdict\": \"yes\",\\n        \"reason\": null\\n    },\\n    {\\n        \"verdict\": \"yes\",\\n        \"reason\": null\\n    },\\n    {\\n        \"verdict\": \"yes\",\\n        \"reason\": null\\n    },\\n    {\\n        \"verdict\": \"yes\",\\n        \"reason\": null\\n    },\\n    {\\n        \"verdict\": \"yes\",\\n        \"reason\": null\\n    },\\n    {\\n        \"verdict\": \"yes\",\\n        \"reason\": null\\n    }\\n]'), MetricData(name='Faithfulness', threshold=0.5, success=True, score=0.8, reason='The score is 0.80 because the actual output contradicts the retrieval context by stating that as of December 31, 2018, the Company’s operating structure included Europe, Middle East and Africa, rather than the specifically mentioned Latin America as detailed in the retrieval context.', strict_mode=False, evaluation_model='deepseek-r1:1.5b (Ollama)', error=None, evaluation_cost=0.0, verbose_logs='Truths (limit=None):\\n[\\n    \"The Company\\'s operating structure is the basis for internal financial reporting.\",\\n    \"As of December 31, 2018, the Company\\'s operating structure included Europe, Middle East and Africa.\",\\n    \"As of December 31, 2017, the Company\\'s operating structure included Europe, Middle East and Africa.\",\\n    \"As of December 31, 2016, the Company\\'s operating structure included Europe, Middle East and Africa.\"\\n] \\n \\nClaims:\\n[\\n    \"As of December 31, 2018, the Company’s operating structure included Europe, Middle East and Africa.\",\\n    \"As of December 31, 2018, the Company’s operating structure included Latin America.\",\\n    \"As of December 31, 2018, the Company’s operating structure included North America.\",\\n    \"As of December 31, 2018, the Company’s operating structure included Asia Pacific.\",\\n    \"As of December 31, 2018, the Company’s operating structure included Bottling Investments.\",\\n    \"As of December 31, 2018, the Company’s operating structure included Corporate, which consists of a center focused on strategic initiatives, policy and governance and an enabling services organization.\"\\n] \\n \\nVerdicts:\\n[\\n    {\\n        \"verdict\": \"yes\",\\n        \"reason\": null\\n    },\\n    {\\n        \"verdict\": \"no\",\\n        \"reason\": \"The retrieval context states that as of December 31, 2018, the Company\\\\u2019s operating structure included Europe, Middle East and Africa, not Latin America.\"\\n    },\\n    {\\n        \"verdict\": \"idk\",\\n        \"reason\": null\\n    },\\n    {\\n        \"verdict\": \"idk\",\\n        \"reason\": null\\n    },\\n    {\\n        \"verdict\": \"idk\",\\n        \"reason\": null\\n    }\\n]'), MetricData(name='Contextual Precision', threshold=0.5, success=True, score=1.0, reason=\"The score is 1.00 because the first two retrieval contexts successfully provided the precise details of Coca-Cola's operating segments as of December 31, 2018, as requested in the input. The third retrieval context node incorrectly omitted the key date element, which is why it receives a lower ranking.\", strict_mode=False, evaluation_model='deepseek-r1:1.5b (Ollama)', error=None, evaluation_cost=0.0, verbose_logs='Verdicts:\\n[\\n    {\\n        \"verdict\": \"yes\",\\n        \"reason\": \"The node states: \\\\\"As of December 31, 2018, our operating structure included the following operating segments, which are sometimes referred to as \\\\\"operating groups\\\\\" or \\\\\"groups\\\\\": \\\\u2022 Europe, Middle East and Africa \\\\u2022 Latin America \\\\u2022 North America \\\\u2022 Asia Pacific \\\\u2022 Bottling Investments \\\\u2022 and Corporate.\\\\\"\"\\n    },\\n    {\\n        \"verdict\": \"yes\",\\n        \"reason\": \"The node provides the exact list of operating segments as requested in the question, specifying the date as December 31, 2018.\"\\n    },\\n    {\\n        \"verdict\": \"no\",\\n        \"reason\": \"The context does not contain the specific date of December 31, 2018, as requested in the expected output.\"\\n    },\\n    {\\n        \"verdict\": \"no\",\\n        \"reason\": \"The provided context does not directly answer the question about the operating segments as of December 31, 2018. It only refers to the segments included as of December 31, 2018.\"\\n    }\\n]'), MetricData(name='Contextual Recall', threshold=0.5, success=True, score=1.0, reason='The score is 1.00 because the sentence \"As of Dec 31, 2017, operating segments included Europe, Middle East & Africa; Latin America; North America; Asia Pacific; Bottling Investments; and Corporate.\" is perfectly aligned with the content of node(s) in retrieval context (Node ID: 4e81746c-7b28-48b6-9cc3-985160253ef9), containing the identical phrase.', strict_mode=False, evaluation_model='deepseek-r1:1.5b (Ollama)', error=None, evaluation_cost=0.0, verbose_logs='Verdicts:\\n[\\n    {\\n        \"verdict\": \"yes\",\\n        \"reason\": \"The sentence \\\\\"As of Dec 31, 2017, operating segments included Europe, Middle East & Africa; Latin America; North America; Asia Pacific; Bottling Investments; and Corporate.\\\\\" can be attributed to the 1st node (Node ID: 4e81746c-7b28-48b6-9cc3-985160253ef9) which contains the phrase \\\\\"As of December 31, 2017, operating segments included ...\\\\\"\"\\n    },\\n    {\\n        \"verdict\": \"yes\",\\n        \"reason\": \"The sentence \\\\\"As of Dec 31, 2017, operating segments included Europe, Middle East & Africa; Latin America; North America; Asia Pacific; Bottling Investments; and Corporate.\\\\\" can be attributed to the 1st node (Node ID: 4e81746c-7b28-48b6-9cc3-985160253ef9) which contains the phrase \\\\\"As of December 31, 2017, operating segments included ...\\\\\"\"\\n    },\\n    {\\n        \"verdict\": \"yes\",\\n        \"reason\": \"The sentence \\\\\"As of Dec 31, 2017, operating segments included Europe, Middle East & Africa; Latin America; North America; Asia Pacific; Bottling Investments; and Corporate.\\\\\" can be attributed to the 1st node (Node ID: 4e81746c-7b28-48b6-9cc3-985160253ef9) which contains the phrase \\\\\"As of December 31, 2017, operating segments included ...\\\\\"\"\\n    },\\n    {\\n        \"verdict\": \"yes\",\\n        \"reason\": \"The sentence \\\\\"As of Dec 31, 2017, operating segments included Europe, Middle East & Africa; Latin America; North America; Asia Pacific; Bottling Investments; and Corporate.\\\\\" can be attributed to the 1st node (Node ID: 4e81746c-7b28-48b6-9cc3-985160253ef9) which contains the phrase \\\\\"As of December 31, 2017, operating segments included ...\\\\\"\"\\n    },\\n    {\\n        \"verdict\": \"yes\",\\n        \"reason\": \"The sentence \\\\\"As of Dec 31, 2017, operating segments included Europe, Middle East & Africa; Latin America; North America; Asia Pacific; Bottling Investments; and Corporate.\\\\\" can be attributed to the 1st node (Node ID: 4e81746c-7b28-48b6-9cc3-985160253ef9) which contains the phrase \\\\\"As of December 31, 2017, operating segments included ...\\\\\"\"\\n    }\\n]'), MetricData(name='Contextual Relevancy', threshold=0.5, success=True, score=0.9090909090909091, reason=\"The score is 0.91 because the retrieval context directly repeats the input question, 'In the 2018 filing, how is Coca-Cola organized for internal financial reporting (operating segments)?', and also states, 'Operating Segments The Company’s operating structure is the basis for our internal financial reporting.' confirming the relevance to the query.\", strict_mode=False, evaluation_model='deepseek-r1:1.5b (Ollama)', error=None, evaluation_cost=0.0, verbose_logs='Verdicts:\\n[\\n    {\\n        \"verdicts\": [\\n            {\\n                \"statement\": \"In the 2018 filing, how is Coca-Cola organized for internal financial reporting (operating segments)?\",\\n                \"verdict\": \"yes\",\\n                \"reason\": null\\n            },\\n            {\\n                \"statement\": \"Operating Segments The Company\\'s operating structure is the basis for our internal financial reporting.\",\\n                \"verdict\": \"yes\",\\n                \"reason\": null\\n            },\\n            {\\n                \"statement\": \"As of December 31, 2018, our operating structure included the following operating segments, which are sometimes referred to as \\\\\"operating groups\\\\\" or \\\\\"groups\\\\\": \\\\u2022 Europe, Middle East and Africa \\\\u2022 Latin America \\\\u2022 North America \\\\u2022 Asia Pacific \\\\u2022 Bo...\",\\n                \"verdict\": \"yes\",\\n                \"reason\": null\\n            }\\n        ]\\n    },\\n    {\\n        \"verdicts\": [\\n            {\\n                \"statement\": \"In the 2018 filing, how is Coca-Cola organized for internal financial reporting (operating segments)?\",\\n                \"verdict\": \"yes\",\\n                \"reason\": null\\n            },\\n            {\\n                \"statement\": \"The Company\\'s operating structure is the basis for our internal financial reporting.\",\\n                \"verdict\": \"yes\",\\n                \"reason\": null\\n            },\\n            {\\n                \"statement\": \"As of December 31, 2017, our operating structure included the following operating segments\",\\n                \"verdict\": \"yes\",\\n                \"reason\": null\\n            }\\n        ]\\n    },\\n    {\\n        \"verdicts\": [\\n            {\\n                \"statement\": \"In the 2018 filing, how is Coca-Cola organized for internal financial reporting (operating segments)?\",\\n                \"verdict\": \"yes\",\\n                \"reason\": null\\n            },\\n            {\\n                \"statement\": \"Operating Segments The Company\\'s operating structure is the basis for our internal financial reporting.\",\\n                \"verdict\": \"yes\",\\n                \"reason\": null\\n            },\\n            {\\n                \"statement\": \"Our operating structure includes the following operating segments, which are sometimes referred to as \\\\\"operating groups\\\\\" or \\\\\"groups\\\\\": \\\\u2022 Europe, Middle East and Africa \\\\u2022 Latin America \\\\u2022 North America \\\\u2022 Asia Pacific \\\\u2022 Global Ventures \\\\u2022 Bottling\",\\n                \"verdict\": \"yes\",\\n                \"reason\": null\\n            }\\n        ]\\n    },\\n    {\\n        \"verdicts\": [\\n            {\\n                \"statement\": \"In the 2018 filing, how is Coca-Cola organized for internal financial reporting (operating segments)?\",\\n                \"verdict\": \"yes\",\\n                \"reason\": null\\n            }\\n        ]\\n    },\\n    {\\n        \"verdicts\": [\\n            {\\n                \"statement\": \"In the 2018 filing, how is Coca-Cola organized for internal financial reporting (operating segments)?\",\\n                \"verdict\": \"no\",\\n                \"reason\": \"The context describes Coca-Cola\\'s operating structure as of December 31, 2016, and does not answer the specific question about the 2018 filing.\"\\n            }\\n        ]\\n    }\\n]')], conversational=False, multimodal=False, input='In the 2018 filing, how is Coca-Cola organized for internal financial reporting (operating segments)?', actual_output='As of December 31, 2018, the Company’s operating structure included Europe, Middle East and Africa, Latin America, North America, Asia Pacific, and Bottling Investments. It also included Corporate, which consists of a center focused on strategic initiatives, policy and governance and an enabling services organization.', expected_output='As of Dec 31, 2017, operating segments included Europe, Middle East & Africa; Latin America; North America; Asia Pacific; Bottling Investments; and Corporate.', context=None, retrieval_context=['Node ID: 9be68eae-385c-465f-8ab4-d071f4b0bead\\nText: Operating Segments The Company\\'s operating structure is the\\nbasis for our internal financial reporting. As of December 31, 2018,\\nour operating structure included the following operating segments,\\nwhich are sometimes referred to as \"operating groups\" or \"groups\": •\\nEurope, Middle East and Africa • Latin America • North America • Asia\\nPacific • Bo...\\nScore:  0.868\\n', 'Node ID: 4e81746c-7b28-48b6-9cc3-985160253ef9\\nText: Operating Segments The Company\\'s operating structure is the\\nbasis for our internal financial reporting. As of December 31, 2017,\\nour operating structure included the following operating segments, the\\nfirst five of which are sometimes referred to as \"operating groups\" or\\n\"groups\": • Europe, Middle East and Africa • Latin America • North\\nAmerica •...\\nScore:  0.862\\n', 'Node ID: 94c40c95-7dfe-40fd-ba55-ec218d41a85c\\nText: Operating Segments The Company\\'s operating structure is the\\nbasis for our internal financial reporting. Our operating structure\\nincludes the following operating segments, which are sometimes\\nreferred to as \"operating groups\" or \"groups\": • Europe, Middle East\\nand Africa • Latin America • North America • Asia Pacific • Global\\nVentures • Bottling ...\\nScore:  0.855\\n', 'Node ID: 18198548-f024-4e99-8e1f-316f700bf110\\nText: Operating Segments The Company\\'s operating structure is the\\nbasis for our internal financial reporting. Our operating structure\\nincludes the following operating segments, which are sometimes\\nreferred to as \"operating groups\" or \"groups\": • Europe, Middle East\\nand Africa • Latin America • North America • Asia Pacific • Global\\nVentures • Bottling ...\\nScore:  0.853\\n', 'Node ID: e2102b55-0e36-40e5-8267-9443f0e4382f\\nText: Operating Segments The Company\\'s operating structure is the\\nbasis for our internal financial reporting. As of December 31, 2016,\\nour operating structure included the following operating segments, the\\nfirst five of which are sometimes referred to as \"operating groups\" or\\n\"groups\": • Europe, Middle East and Africa • Latin America • North\\nAmerica •...\\nScore:  0.850\\n']), TestResult(name='test_case_2', success=False, metrics_data=[MetricData(name='Answer Relevancy', threshold=0.5, success=True, score=1.0, reason=\"The score is 1.00 because the output perfectly addresses the question, providing Coca-Cola's stated purpose and vision from the 2022 filing.\", strict_mode=False, evaluation_model='deepseek-r1:1.5b (Ollama)', error=None, evaluation_cost=0.0, verbose_logs='Statements:\\n[\\n    \"Coca-Cola’s purpose is to refresh the world.\",\\n    \"Coca-Cola’s purpose is to make a difference.\",\\n    \"Its vision for growth has three connected pillars.\",\\n    \"The three pillars are Loved Brands, Done Sustainably, and For A Better Shared Future.\"\\n] \\n \\nVerdicts:\\n[\\n    {\\n        \"verdict\": \"yes\",\\n        \"reason\": null\\n    },\\n    {\\n        \"verdict\": \"yes\",\\n        \"reason\": null\\n    },\\n    {\\n        \"verdict\": \"yes\",\\n        \"reason\": null\\n    }\\n]'), MetricData(name='Faithfulness', threshold=0.5, success=True, score=1.0, reason='The score is 1.00 because the retrieval context and the actual output are perfectly aligned, with no contradictions identified.', strict_mode=False, evaluation_model='deepseek-r1:1.5b (Ollama)', error=None, evaluation_cost=0.0, verbose_logs='Truths (limit=None):\\n[\\n    \"The Coca-Cola Company is a total beverage company.\",\\n    \"Beverage products bearing the Coca-Cola Company’s trademarks are now sold in more than 200 countries and territories.\",\\n    \"The Coca-Cola Company establishes and publicly announces goals and commitments.\",\\n    \"The Coca-Cola Company has established specific ESG goals.\",\\n    \"The Coca-Cola Company has goals related to water quality and scarcity.\",\\n    \"The Coca-Cola Company has goals related to packaging materials.\",\\n    \"The Coca-Cola Company has goals related to reduction of added sugar.\",\\n    \"The Coca-Cola Company has goals related to reduction of carbon dioxide and other greenhouse gas emissions.\",\\n    \"The Coca-Cola Company has goals related to sustainable agriculture.\",\\n    \"The Coca-Cola Company has goals related to diversity, equity and inclusion.\",\\n    \"The Coca-Cola Company has goals related to human and workplace rights.\"\\n] \\n \\nClaims:\\n[\\n    \"Coca-Cola’s purpose is to refresh the world and make a difference.\",\\n    \"Coca-Cola’s vision for growth has three connected pillars: Loved Brands, Done Sustainably, and For A Better Shared Future.\"\\n] \\n \\nVerdicts:\\n[\\n    {\\n        \"verdict\": \"idk\",\\n        \"reason\": null\\n    },\\n    {\\n        \"verdict\": \"idk\",\\n        \"reason\": null\\n    }\\n]'), MetricData(name='Contextual Precision', threshold=0.5, success=False, score=0.0, reason='The score is 0.00 because all the retrieval contexts provided contain irrelevant information. Specifically, nodes 1, 2, 3, and 4 discuss topics such as obesity, water quality, sustainability initiatives, and ESG goals – none of which directly address Coca-Cola’s stated purpose and vision as outlined in the expected output. These nodes are ranked highly, contributing to the low precision.', strict_mode=False, evaluation_model='deepseek-r1:1.5b (Ollama)', error=None, evaluation_cost=0.0, verbose_logs='Verdicts:\\n[\\n    {\\n        \"verdict\": \"no\",\\n        \"reason\": \"The context discusses obesity, water quality, and carbon footprint reduction, which are not directly related to Coca-Cola\\'s stated purpose and vision as outlined in the expected output.\"\\n    },\\n    {\\n        \"verdict\": \"no\",\\n        \"reason\": \"The text about the Coca-Cola Company being a \\'total beverage company\\' and its presence in 200 countries does not provide the specific purpose and vision requested.\"\\n    },\\n    {\\n        \"verdict\": \"no\",\\n        \"reason\": \"The context focuses on sustainability initiatives like recycled packaging and renewable energy, but doesn\\'t detail Coca-Cola\\'s stated purpose and vision.\"\\n    },\\n    {\\n        \"verdict\": \"no\",\\n        \"reason\": \"The text regarding ESG goals doesn\\\\u2019t contain the desired \\'Purpose\\' and \\'Vision pillars\\' from the expected output.\"\\n    }\\n]'), MetricData(name='Contextual Recall', threshold=0.5, success=True, score=1.0, reason='The score is 1.00 because all sentences in the expected output are perfectly aligned with the retrieval context. Specifically, sentences 1-4 directly relate to the company’s purpose, vision pillars, and ESG goals, as detailed in node(s) 1-4.', strict_mode=False, evaluation_model='deepseek-r1:1.5b (Ollama)', error=None, evaluation_cost=0.0, verbose_logs='Verdicts:\\n[\\n    {\\n        \"verdict\": \"yes\",\\n        \"reason\": \"The sentence \\'Purpose: to refresh the world and make a difference.\\' can be attributed to the 1st node because it discusses the overarching goal of the company, aligning with the broader strategy of driving growth and value. The node text states: \\'We want to be a helpful and credible partner in the fight against obesity...\\'\"\\n    },\\n    {\\n        \"verdict\": \"yes\",\\n        \"reason\": \"The sentence \\'Vision pillars: Loved Brands, Done Sustainably, For A Better Shared Future \\\\u2014 strategy to drive net operating revenue growth and long-term value.\\' can be attributed to the 2nd node because it directly describes the company\\'s vision and strategic goals regarding sustainable practices and revenue growth. The node text includes: \\'General The Coca-Cola Company is a total beverage company, and beverage products bearing our trademarks, sold in the United States since 1886, are now sold in more than 200 countries and territories.\\'\"\\n    },\\n    {\\n        \"verdict\": \"yes\",\\n        \"reason\": \"The sentence \\'In addition, from time to time we establish and publicly announce goals and commitments to reduce the Coca-Cola system\\\\u2019s carbon footprint by increasing our use of recycled packaging materials, expanding our renewable energy usage, and participating in environmental and sustainability programs and initiatives organized or sponsored by nongovernme...\\' can be attributed to the 3rd node because it discusses carbon footprint reduction and sustainability initiatives, directly aligning with the node\\'s focus on environmental programs. The node text includes: \\'In addition, from time to time we establish and publicly announce goals and commitments to reduce the Coca-Cola system\\\\u2019s carbon footprint by increasing our use of recycled packaging materials...\\'\"\\n    },\\n    {\\n        \"verdict\": \"yes\",\\n        \"reason\": \"The sentence \\'We have established specific ESG goals related to water quality and scarcity; packaging materials used for our products; reduction of added sugar in our beverages; reduction of carbon dioxide and other greenhouse gas emissions; sustainable agriculture; diversity, equity and inclusion; and human and workplace rights. Our ability to achieve our ES...\\' can be attributed to the 4th node because it outlines specific ESG goals encompassing various aspects such as water quality, packaging, emissions, and social responsibility, directly aligning with the node\\'s focus on ESG targets. The node text includes: \\'We have established specific ESG goals related to water quality and scarcity; packaging materials used for our products; reduction of added sugar in our beverages...\\'\"\\n    }\\n]'), MetricData(name='Contextual Relevancy', threshold=0.5, success=True, score=0.5, reason='The score is 0.50 because the context includes the direct question, \"what is Coca-Cola\\'s stated purpose and vision?\", and also the phrase \"what is Coca-Cola\\'s stated purpose and vision?\", indicating a connection, though it doesn\\'t provide the specific answer to the input question.', strict_mode=False, evaluation_model='deepseek-r1:1.5b (Ollama)', error=None, evaluation_cost=0.0, verbose_logs='Verdicts:\\n[\\n    {\\n        \"verdicts\": [\\n            {\\n                \"statement\": \"what is Coca-Cola\\'s stated purpose and vision?\",\\n                \"verdict\": \"no\",\\n                \"reason\": \"The context discusses Coca-Cola\\'s goals regarding obesity and consumer preferences, but it doesn\\'t directly answer the question about their stated purpose and vision.\"\\n            }\\n        ]\\n    },\\n    {\\n        \"verdicts\": [\\n            {\\n                \"statement\": \"What are some of Coca-Cola\\'s stated purpose and vision?\",\\n                \"verdict\": \"yes\",\\n                \"reason\": null\\n            }\\n        ]\\n    },\\n    {\\n        \"verdicts\": [\\n            {\\n                \"statement\": \"what is Coca-Cola\\'s stated purpose and vision? in 2022 filing\",\\n                \"verdict\": \"yes\",\\n                \"reason\": null\\n            }\\n        ]\\n    },\\n    {\\n        \"verdicts\": [\\n            {\\n                \"statement\": \"In the 2022 filing, what is Coca-Cola\\'s stated purpose and vision?\",\\n                \"verdict\": \"no\",\\n                \"reason\": \"The context describes Coca-Cola\\'s ESG goals, but doesn\\'t explicitly state their \\'stated purpose and vision\\' as requested in the input.\"\\n            }\\n        ]\\n    }\\n]')], conversational=False, multimodal=False, input=\"In the 2022 filing, what is Coca-Cola's stated purpose and vision?\", actual_output='Coca-Cola’s purpose is to refresh the world and make a difference, and its vision for growth has three connected pillars: Loved Brands, Done Sustainably, and For A Better Shared Future.', expected_output='Purpose: to refresh the world and make a difference. Vision pillars: Loved Brands, Done Sustainably, For A Better Shared Future — strategy to drive net operating revenue growth and long-term value.', context=None, retrieval_context=['Node ID: 2f1ec01b-3686-48f2-a065-2e2f5ff91ffb\\nText: We want to be a helpful and credible partner in the fight\\nagainst obesity. Across the Coca-Cola system, we are mobilizing our\\nassets in marketing and in community outreach to increase awareness\\nand spur action. Evolving Consumer Product Preferences We are impacted\\nby shifting consumer demographics and needs, on-the-go lifestyles and\\nconsumers wh...\\nScore:  0.745\\n', 'Node ID: 8d05aecd-8ee8-4241-94d0-19fcdf1d0069\\nText: General The Coca-Cola Company is a total beverage company, and\\nbeverage products bearing our trademarks, sold in the United States\\nsince 1886, are now sold in more than 200 countries and territories.\\nWe own or license and market numerous beverage brands, which we group\\ninto the following categories: Trademark Coca-Cola; sparkling flavors;\\nhydrat...\\nScore:  0.723\\n', 'Node ID: 15b42d39-43ef-400c-8d28-059102a937f3\\nText: In addition, from time to time we establish and publicly\\nannounce goals and commitments to reduce the Coca-Cola system’s carbon\\nfootprint by increasing our use of recycled packaging materials,\\nexpanding our renewable energy usage, and participating in\\nenvironmental and sustainability programs and initiatives organized or\\nsponsored by nongovernme...\\nScore:  0.721\\n', 'Node ID: b91088dd-f2b9-4d25-bf30-fdb35886c532\\nText: We have established specific ESG goals related to water quality\\nand scarcity; packaging materials used for our products; reduction of\\nadded sugar in our beverages; reduction of carbon dioxide and other\\ngreenhouse gas emissions; sustainable agriculture; diversity, equity\\nand inclusion; and human and workplace rights. Our ability to achieve\\nour ES...\\nScore:  0.719\\n']), TestResult(name='test_case_3', success=False, metrics_data=[MetricData(name='Answer Relevancy', threshold=0.5, success=True, score=1.0, reason='The score is 1.00 because the output perfectly addresses the question about Coca-Cola’s organizational structure change in 2021, with no irrelevant statements present.', strict_mode=False, evaluation_model='deepseek-r1:1.5b (Ollama)', error=None, evaluation_cost=0.0, verbose_logs='Statements:\\n[\\n    \"The company transformed its organizational structure effective January 1, 2021.\",\\n    \"The transformation was an effort to better enable it to capture growth in the fast-changing marketplace.\",\\n    \"A networked global organization was built.\",\\n    \"The organization combines the power of scale with the deep knowledge required to win locally.\",\\n    \"New operating units were created focused on regional and local execution.\",\\n    \"These operating units sit under four geographic operating segments.\",\\n    \"The operating units are highly interconnected.\",\\n    \"The focus is on eliminating duplication of resources.\",\\n    \"New products can be scaled more quickly.\"\\n] \\n \\nVerdicts:\\n[\\n    {\\n        \"verdict\": \"yes\",\\n        \"reason\": null\\n    },\\n    {\\n        \"verdict\": \"yes\",\\n        \"reason\": null\\n    },\\n    {\\n        \"verdict\": \"yes\",\\n        \"reason\": null\\n    },\\n    {\\n        \"verdict\": \"yes\",\\n        \"reason\": null\\n    },\\n    {\\n        \"verdict\": \"yes\",\\n        \"reason\": null\\n    },\\n    {\\n        \"verdict\": \"yes\",\\n        \"reason\": null\\n    }\\n]'), MetricData(name='Faithfulness', threshold=0.5, success=True, score=0.6666666666666666, reason=\"The faithfulness score is 0.67 because the actual output presents a contradiction by stating the transformation happened in January 2021, directly conflicting with the retrieval context's assertion of August 2020. Furthermore, it contradicts the retrieval context’s description of the organization as lacking a regional and local focus, highlighting a discrepancy in the details provided.\", strict_mode=False, evaluation_model='deepseek-r1:1.5b (Ollama)', error=None, evaluation_cost=0.0, verbose_logs='Truths (limit=None):\\n[\\n    \"The Company announced strategic steps to transform its organizational structure in August 2020.\",\\n    \"The transformation was an effort to better enable the Company to capture growth in the fast-changing marketplace.\",\\n    \"The Company is building a networked global organization.\",\\n    \"The organization is designed to combine the power of scale with the deep knowledge re...\"\\n] \\n \\nClaims:\\n[\\n    \"The company transformed its organizational structure effective January 1, 2021.\",\\n    \"The transformation was in an effort to better enable the company to capture growth in the fast-changing marketplace.\",\\n    \"The company built a networked global organization.\",\\n    \"The organization was designed to combine the power of scale with the deep knowledge required to win locally.\",\\n    \"The company created new operating units focused on regional and local execution.\",\\n    \"These operating units sit under four geographic operating segments.\",\\n    \"The operating units have a focus on eliminating duplication of resources.\",\\n    \"The operating units have a focus on scaling new products more quickly.\"\\n] \\n \\nVerdicts:\\n[\\n    {\\n        \"verdict\": \"no\",\\n        \"reason\": \"The retrieval context states the transformation occurred in August 2020, while the claim states it was effective January 1, 2021.\"\\n    },\\n    {\\n        \"verdict\": \"yes\",\\n        \"reason\": null\\n    },\\n    {\\n        \"verdict\": \"yes\",\\n        \"reason\": null\\n    },\\n    {\\n        \"verdict\": \"no\",\\n        \"reason\": \"The retrieval context describes the organization as a networked global organization, not having a focus on regional and local execution.\"\\n    },\\n    {\\n        \"verdict\": \"idk\",\\n        \"reason\": null\\n    },\\n    {\\n        \"verdict\": \"idk\",\\n        \"reason\": null\\n    }\\n]'), MetricData(name='Contextual Precision', threshold=0.5, success=True, score=1.0, reason=\"The score is 1.00 because all relevant nodes from the retrieval contexts were ranked highly, specifically the first node stating: 'Effective January 1, 2021, we transformed our organizational structure in an effort to better enable us to capture growth in the fast-changing marketplace.' and the second node directly answering the question.\", strict_mode=False, evaluation_model='deepseek-r1:1.5b (Ollama)', error=None, evaluation_cost=0.0, verbose_logs='Verdicts:\\n[\\n    {\\n        \"verdict\": \"yes\",\\n        \"reason\": \"The node states: \\'Effective January 1, 2021, we transformed our organizational structure in an effort to better enable us to capture growth in the fast-changing marketplace.\\'\"\\n    },\\n    {\\n        \"verdict\": \"yes\",\\n        \"reason\": \"This node directly answers the question by detailing the change in organizational structure effective January 1, 2021.\"\\n    },\\n    {\\n        \"verdict\": \"yes\",\\n        \"reason\": \"The node confirms the transformation to a networked global organization.\"\\n    },\\n    {\\n        \"verdict\": \"yes\",\\n        \"reason\": \"It provides the core detail about combining scale with local execution.\"\\n    },\\n    {\\n        \"verdict\": \"no\",\\n        \"reason\": \"Node ID: 75dfb700-959b-471c-82f9-47e86c4ab14f discusses the Coca-Cola Directors\\\\u2019 Plan and exhibits, which are not directly related to the question about the organizational structure change.\"\\n    }\\n]'), MetricData(name='Contextual Recall', threshold=0.5, success=True, score=1.0, reason='The score is 1.00 because the sentence perfectly reflects the core message of Node ID: 1f6c22d7-cced-4c0a-a781-0a27f2e67903, detailing the transformation into a networked global organization with geographic operating segments, scale, and local execution.', strict_mode=False, evaluation_model='deepseek-r1:1.5b (Ollama)', error=None, evaluation_cost=0.0, verbose_logs='Verdicts:\\n[\\n    {\\n        \"verdict\": \"yes\",\\n        \"reason\": \"The sentence \\'Transformed to a networked global organization with new operating units under four geographic operating segments focused on combining scale with local execution and faster scaling of products\\' aligns with Node ID: 1f6c22d7-cced-4c0a-a781-0a27f2e67903 which states: \\'The Company is building a networked global organization designed to combine the power of scale with the deep knowledge re...\\'.\"\\n    },\\n    {\\n        \"verdict\": \"yes\",\\n        \"reason\": \"The sentence \\'Transformed to a networked global organization with new operating units under four geographic operating segments focused on combining scale with local execution and faster scaling of products\\' aligns with Node ID: 928ffbd9-b23c-4811-a59d-b4c151a3d82d which states: \\'Effective January 1, 2021, we transformed our organizational structure in an effort to better enable us to capture growth in the fast-changing marketplace by building a networked global organization designed to combine the power of scale with the deep knowledge required to win locally. We created new operating units, which are focused on regiona...\\'\"\\n    },\\n    {\\n        \"verdict\": \"yes\",\\n        \"reason\": \"The sentence \\'Transformed to a networked global organization with new operating units under four geographic operating segments focused on combining scale with local execution and faster scaling of products\\' aligns with Node ID: 1f6c22d7-cced-4c0a-a781-0a27f2e67903 which states: \\'The Company is building a networked global organization designed to combine the power of scale with the deep knowledge re...\\'.\"\\n    },\\n    {\\n        \"verdict\": \"yes\",\\n        \"reason\": \"The sentence \\'Transformed to a networked global organization with new operating units under four geographic operating segments focused on combining scale with local execution and faster scaling of products\\' aligns with Node ID: 928ffbd9-b23c-4811-a59d-b4c151a3d82d which states: \\'Effective January 1, 2021, we transformed our organizational structure in an effort to better enable us to capture growth in the fast-changing marketplace by building a networked global organization designed to combine the power of scale with the deep knowledge required to win locally. We created new operating units, which are focused on regiona...\\'\"\\n    }\\n]'), MetricData(name='Contextual Relevancy', threshold=0.5, success=False, score=0.2, reason='The score is 0.20 because the context states \"Effective January 1, 2021, we transformed our organizational structure,\" directly addressing the input\\'s query about the change effective that date. However, it lacks specific details regarding the transformation itself.', strict_mode=False, evaluation_model='deepseek-r1:1.5b (Ollama)', error=None, evaluation_cost=0.0, verbose_logs='Verdicts:\\n[\\n    {\\n        \"verdicts\": [\\n            {\\n                \"statement\": \"In the 2022 filing, how did Coca-Cola change its organizational structure effective January 1, 2021?\",\\n                \"verdict\": \"no\",\\n                \"reason\": \"The context discusses a strategic realignment and transformation of Coca-Cola\\'s organizational structure starting in August 2020, but it does not provide specifics on the changes effective January 1, 2021.\"\\n            }\\n        ]\\n    },\\n    {\\n        \"verdicts\": [\\n            {\\n                \"statement\": \"In the 2022 filing, how did Coca-Cola change its organizational structure effective January 1, 2021?\",\\n                \"verdict\": \"no\",\\n                \"reason\": \"The context discusses a strategic realignment announced in August 2020, and a \\'networked global organization\\', but does not provide information about a specific change in organizational structure effective January 1, 2021.\"\\n            }\\n        ]\\n    },\\n    {\\n        \"verdicts\": [\\n            {\\n                \"statement\": \"Effective January 1, 2021, we transformed our organizational structure\",\\n                \"verdict\": \"yes\",\\n                \"reason\": null\\n            }\\n        ]\\n    },\\n    {\\n        \"verdicts\": [\\n            {\\n                \"statement\": \"In the 2022 filing, how did Coca-Cola change its organizational structure effective January 1, 2021?\",\\n                \"verdict\": \"no\",\\n                \"reason\": \"The retrieval context contained information about \\'restructuring of our manufacturing operations in the United States\\' but not the details of Coca-Cola\\\\u2019s organizational structure change in 2021.\"\\n            }\\n        ]\\n    },\\n    {\\n        \"verdicts\": [\\n            {\\n                \"statement\": \"In the 2022 filing, how did Coca-Cola change its organizational structure effective January 1, 2021?\",\\n                \"verdict\": \"no\",\\n                \"reason\": \"The context discusses the Coca-Cola Directors\\\\u2019 Plan, amended and restated on December 13, 2012, effective January 1, 2013, and does not provide information on organizational structure changes in 2022.\"\\n            }\\n        ]\\n    }\\n]')], conversational=False, multimodal=False, input='In the 2022 filing, how did Coca-Cola change its organizational structure effective January 1, 2021?', actual_output='Effective January 1, 2021, the company transformed its organizational structure in an effort to better enable it to capture growth in the fast-changing marketplace by building a networked global organization designed to combine the power of scale with the deep knowledge required to win locally. They created new operating units focused on regional and local execution. These operating units, which sit under four geographic operating segments, are highly interconnected with a focus on eliminating duplication of resources and scaling new products more quickly.', expected_output='Transformed to a networked global organization with new operating units under four geographic operating segments focused on combining scale with local execution and faster scaling of products.', context=None, retrieval_context=['Node ID: 5d600597-19c4-4572-b156-009450e94223\\nText: Refer to Note\\xa019 for the impact these items had on our operating\\nsegments and Corporate. NOTE 18: RESTRUCTURING Strategic Realignment\\nIn August 2020, the Company announced strategic steps to transform our\\norganizational structure in an effort to better enable us to capture\\ngrowth in the fast-changing marketplace. The Company has transformed\\ninto...\\nScore:  0.782\\n', 'Node ID: 1f6c22d7-cced-4c0a-a781-0a27f2e67903\\nText: NOTE 18: RESTRUCTURING Strategic Realignment In August 2020, the\\nCompany announced strategic steps to transform our organizational\\nstructure in an effort to better enable us to capture growth in the\\nfast-changing marketplace. The Company is building a networked global\\norganization designed to combine the power of scale with the deep\\nknowledge re...\\nScore:  0.763\\n', 'Node ID: 928ffbd9-b23c-4811-a59d-b4c151a3d82d\\nText: Effective January 1, 2021, we transformed our organizational\\nstructure in an effort to better enable us to capture growth in the\\nfast-changing marketplace by building a networked global organization\\ndesigned to combine the power of scale with the deep knowledge\\nrequired to win locally. We created new operating units, which are\\nfocused on regiona...\\nScore:  0.762\\n', 'Node ID: 802ab5fe-1e82-44bd-a481-d5c375759404\\nText: Refer to Note\\xa04 for additional information on equity and debt\\nsecurities. Refer to Note\\xa014 for additional information on pension and\\nother postretirement benefit plan activity. Refer to Note\\xa017 for\\nadditional information on the restructuring of our manufacturing\\noperations in the United States and the impairment charges. NOTE 19:\\nRESTRUCTURING N...\\nScore:  0.759\\n', 'Node ID: 75dfb700-959b-471c-82f9-47e86c4ab14f\\nText: * 10.9 The Coca-Cola Company Directors’ Plan, amended and\\nrestated on December 13, 2012, effective January 1, 2013 —\\nincorporated herein by reference to Exhibit\\xa010.13 to the Company’s\\nAnnual Report on Form\\xa010-K for the year ended December\\xa031, 2012.*\\n10.9.1 The Coca-Cola Company Directors’ Plan, amended and restated on\\nFebruary 21, 2019, effectiv...\\nScore:  0.747\\n']), TestResult(name='test_case_0', success=False, metrics_data=[MetricData(name='Answer Relevancy', threshold=0.5, success=True, score=1.0, reason=\"The score is 1.00 because the output perfectly addresses the question about Coca-Cola's core business and global reach, providing a comprehensive and relevant response.\", strict_mode=False, evaluation_model='deepseek-r1:1.5b (Ollama)', error=None, evaluation_cost=0.0, verbose_logs='Statements:\\n[\\n    \"The Coca-Cola Company’s core business is primarily nonalcoholic beverages.\",\\n    \"These beverages are sold across geographic operating segments.\",\\n    \"The geographic operating segments include Europe, Middle East and Africa.\",\\n    \"The geographic operating segments include Latin America.\",\\n    \"The geographic operating segments include North America.\",\\n    \"The geographic operating segments include Asia Pacific.\"\\n] \\n \\nVerdicts:\\n[\\n    {\\n        \"verdict\": \"yes\",\\n        \"reason\": null\\n    },\\n    {\\n        \"verdict\": \"yes\",\\n        \"reason\": null\\n    },\\n    {\\n        \"verdict\": \"yes\",\\n        \"reason\": null\\n    },\\n    {\\n        \"verdict\": \"yes\",\\n        \"reason\": null\\n    },\\n    {\\n        \"verdict\": \"yes\",\\n        \"reason\": null\\n    }\\n]'), MetricData(name='Faithfulness', threshold=0.5, success=True, score=1.0, reason='The score is 1.00 because the actual output perfectly aligns with the retrieval context – there are no contradictions identified.', strict_mode=False, evaluation_model='deepseek-r1:1.5b (Ollama)', error=None, evaluation_cost=0.0, verbose_logs='Truths (limit=None):\\n[\\n    \"The operating structure includes a center.\",\\n    \"The center focuses on strategic initiatives, policy, governance and scaling global initiatives.\",\\n    \"The operating structure also includes a platform services organization.\",\\n    \"The platform services organization supports operating units, global marketing category leadership teams and the center.\",\\n    \"The global marketing category leadership teams primarily focus on innovation as well as marketing efficiency and effectiveness.\"\\n] \\n \\nClaims:\\n[\\n    \"The Coca-Cola Company’s core business is primarily nonalcoholic beverages.\",\\n    \"These beverages are sold across geographic operating segments including Europe, Middle East and Africa; Latin America; North America; and Asia Pacific.\"\\n] \\n \\nVerdicts:\\n[\\n    {\\n        \"verdict\": \"idk\",\\n        \"reason\": null\\n    },\\n    {\\n        \"verdict\": \"idk\",\\n        \"reason\": null\\n    }\\n]'), MetricData(name='Contextual Precision', threshold=0.5, success=True, score=1.0, reason=\"The score is 1.00 because all retrieval contexts are highly relevant, with the first node, 'strategic initiatives, policy, governance and scaling global initiatives,' providing the most direct answer to the question regarding The Coca-Cola Company's core business and global reach. The subsequent nodes further reinforce this understanding by detailing operating structures and marketing strategies, demonstrating a comprehensive and precise response to the query.\", strict_mode=False, evaluation_model='deepseek-r1:1.5b (Ollama)', error=None, evaluation_cost=0.0, verbose_logs='Verdicts:\\n[\\n    {\\n        \"verdict\": \"yes\",\\n        \"reason\": \"The node discusses \\'strategic initiatives, policy, governance and scaling global initiatives,\\' which is directly relevant to understanding The Coca-Cola Company\\'s core business.\"\\n    },\\n    {\\n        \"verdict\": \"yes\",\\n        \"reason\": \"The node explicitly mentions \\'operating units, global marketing category leadership teams,\\' providing context for the company\\'s global reach.\"\\n    },\\n    {\\n        \"verdict\": \"yes\",\\n        \"reason\": \"The text references \\'marketing efficiency and effectiveness,\\' contributing to understanding the company\\'s approach to its global operations.\"\\n    },\\n    {\\n        \"verdict\": \"yes\",\\n        \"reason\": \"The node mentions \\'scaling global initiatives,\\' which is an important factor in assessing The Coca-Cola Company\\'s core business and global reach.\"\\n    },\\n    {\\n        \"verdict\": \"yes\",\\n        \"reason\": \"The node reiterates the \\'operating structure\\' including \\'global marketing category leadership teams,\\' directly addressing the question about the company\\'s global reach.\"\\n    }\\n]'), MetricData(name='Contextual Recall', threshold=0.5, success=True, score=1.0, reason='The score is 1.00 because the provided sentence seamlessly aligns with the context, specifically node(s) in retrieval context 1, 2, 3, and 4, detailing Coca-Cola’s scale and operational structure – a perfect match.', strict_mode=False, evaluation_model='deepseek-r1:1.5b (Ollama)', error=None, evaluation_cost=0.0, verbose_logs='Verdicts:\\n[\\n    {\\n        \"verdict\": \"yes\",\\n        \"reason\": \"The sentence \\'Coca-Cola is the world\\'s largest beverage company, owning/licensing 500+ nonalcoholic beverage brands sold in more than 200 countries and serving ~1.9 billion servings daily.\\' can be attributed to the 1st node, which states \\'Our operating structure also includes Corporate, which consists of two components: (1) a center focusing on strategic initiatives, policy, governance and scaling global initiatives, and (2) a platform services organization supporting operating units...\\' \"\\n    },\\n    {\\n        \"verdict\": \"yes\",\\n        \"reason\": \"The sentence can be attributed to the 2nd node, which includes the phrase \\'Our operating structure also includes Corporate, which consists of two components: (1) a center focusing on strategic initiatives, policy, governance and scaling global initiatives, and (2) a platform services organization supporting operating units...\\' \"\\n    },\\n    {\\n        \"verdict\": \"yes\",\\n        \"reason\": \"The sentence can be attributed to the 3rd node, which includes the phrase \\'Our operating structure also includes Corporate, which consists of two components: (1) a center focusing on strategic initiatives, policy, governance and scaling global initiatives, and (2) a platform services organization supporting operating units...\\' \"\\n    },\\n    {\\n        \"verdict\": \"yes\",\\n        \"reason\": \"The sentence can be attributed to the 4th node, which includes the phrase \\'Our operating structure also includes Corporate, which consists of two components: (1) a center focusing on strategic initiatives, policy, governance and scaling global initiatives, and (2) a platform services organization supporting operating units...\\' \"\\n    }\\n]'), MetricData(name='Contextual Relevancy', threshold=0.5, success=False, score=0.0, reason=\"The score is 0.00 because the retrieval context discusses The Coca-Cola Company's operating structure and teams, but fails to answer the specific question about its core business and global reach, as stated in the reason: 'The context discusses The Coca-Cola Company’s operating structure and teams, but does not answer the specific question about its core business and global reach.'\", strict_mode=False, evaluation_model='deepseek-r1:1.5b (Ollama)', error=None, evaluation_cost=0.0, verbose_logs='Verdicts:\\n[\\n    {\\n        \"verdicts\": [\\n            {\\n                \"statement\": \"what is The Coca-Cola Company\\'s core business and global reach?\",\\n                \"verdict\": \"no\",\\n                \"reason\": \"The context discusses the operating structure and components of The Coca-Cola Company, but does not answer the question about its core business and global reach.\"\\n            }\\n        ]\\n    },\\n    {\\n        \"verdicts\": [\\n            {\\n                \"statement\": \"what is The Coca-Cola Company\\'s core business and global reach?\",\\n                \"verdict\": \"no\",\\n                \"reason\": \"The context discusses the Coca-Cola Company\\'s operating structure and teams, but does not directly address the specific question about core business and global reach.\"\\n            }\\n        ]\\n    },\\n    {\\n        \"verdicts\": [\\n            {\\n                \"statement\": \"what is The Coca-Cola Company\\'s core business and global reach?\",\\n                \"verdict\": \"no\",\\n                \"reason\": \"The statement asks about Coca-Cola\\'s core business and global reach, but the context discusses the company\\'s operating structure and global initiatives, it doesn\\'t directly answer the question.\"\\n            }\\n        ]\\n    },\\n    {\\n        \"verdicts\": [\\n            {\\n                \"statement\": \"what is The Coca-Cola Company\\'s core business and global reach?\",\\n                \"verdict\": \"no\",\\n                \"reason\": \"The retrieval context contained the information \\'what is The Coca-Cola Company\\'s core business and global reach?\\' when it does not directly answer the question.\"\\n            }\\n        ]\\n    },\\n    {\\n        \"verdicts\": [\\n            {\\n                \"statement\": \"what is The Coca-Cola Company\\\\u2019s core business and global reach?\",\\n                \"verdict\": \"no\",\\n                \"reason\": \"The provided context discusses Coca-Cola\\'s operating structure and focuses on innovation and marketing efficiency, but it does not directly answer the question about the company\\\\u2019s core business and global reach.\"\\n            }\\n        ]\\n    }\\n]')], conversational=False, multimodal=False, input=\"In the 2018 filing, what is The Coca-Cola Company's core business and global reach?\", actual_output='The Coca-Cola Company’s core business is primarily nonalcoholic beverages. These beverages are sold across geographic operating segments including Europe, Middle East and Africa; Latin America; North America; and Asia Pacific.', expected_output=\"Coca-Cola is the world's largest beverage company, owning/licensing 500+ nonalcoholic beverage brands sold in more than 200 countries and serving ~1.9 billion servings daily.\", context=None, retrieval_context=['Node ID: d8ce6a59-cbf4-45a1-8738-493203185723\\nText: Our operating structure also includes Corporate,  which consists\\nof two components: (1) a center focusing on strategic initiatives,\\npolicy, governance and scaling global  initiatives, and (2) a platform\\nservices organization supporting operating units, global marketing\\ncategory leadership teams and  the center by providing efficient and\\nscaled g...\\nScore:  0.750\\n', 'Node ID: 316b9156-a090-40f7-8684-5757b8bb442b\\nText: The global marketing category leadership  teams primarily focus\\non innovation as well as marketing efficiency and effectiveness.  Our\\noperating structure also includes Corporate, which consists of two\\ncomponents: (1) a center focusing on strategic  initiatives, policy,\\ngovernance and scaling global initiatives, and (2) a platform services\\norgani...\\nScore:  0.747\\n', 'Node ID: dc08a723-6bb0-4126-8c68-f4bea89df82f\\nText: Our operating structure also includes Corporate, which consists\\nof two components: (1) a center focusing on strategic initiatives,\\npolicy, governance and scaling global initiatives, and (2) a platform\\nservices organization supporting operating units, global marketing\\ncategory leadership teams and the center by providing efficient and\\nscaled glob...\\nScore:  0.744\\n', 'Node ID: da343d4b-82dc-4821-ab0f-828bd494ccf9\\nText: The global marketing category leadership teams primarily focus\\non innovation as well as marketing efficiency and effectiveness. Our\\noperating structure also includes Corporate, which consists of two\\ncomponents: (1) a center focusing on strategic initiatives, policy,\\ngovernance and scaling global initiatives, and (2) a platform services\\norganizat...\\nScore:  0.743\\n', 'Node ID: 6a8ed81a-a5db-439e-9db8-789a834bf674\\nText: The global marketing category leadership teams primarily focus\\non innovation as well as marketing efficiency and effectiveness. Our\\noperating structure also includes Corporate, which consists of two\\ncomponents: (1) a center focusing on strategic initiatives, policy,\\ngovernance and scaling global initiatives, and (2) a platform services\\norganizat...\\nScore:  0.743\\n'])], confident_link=None)"
      ]
     },
     "execution_count": 59,
     "metadata": {},
     "output_type": "execute_result"
    }
   ],
   "source": [
    "evaluate(test_cases=test_cases, metrics=metrics)"
   ]
  },
  {
   "cell_type": "markdown",
   "id": "4297d0b5-c17f-473b-a92f-1576a18e6159",
   "metadata": {},
   "source": [
    "## Overall Metric Pass Rates\n",
    "\n",
    "Answer Relevancy: 80.00% pass rate\n",
    "\n",
    "Faithfulness: 70.00% pass rate\n",
    "\n",
    "\n",
    "Contextual Precision: 100.00% pass rate\n",
    "\n",
    "\n",
    "Contextual Recall: 90.00% pass rate\n",
    "\n",
    "\n",
    "Contextual Relevancy: 100.00% pass rate"
   ]
  },
  {
   "cell_type": "code",
   "execution_count": 57,
   "id": "3c4e29de-bfe9-40e2-bd28-8d7fec5202f2",
   "metadata": {},
   "outputs": [
    {
     "name": "stderr",
     "output_type": "stream",
     "text": [
      "huggingface/tokenizers: The current process just got forked, after parallelism has already been used. Disabling parallelism to avoid deadlocks...\n",
      "To disable this warning, you can either:\n",
      "\t- Avoid using `tokenizers` before the fork if possible\n",
      "\t- Explicitly set the environment variable TOKENIZERS_PARALLELISM=(true | false)\n"
     ]
    },
    {
     "name": "stdout",
     "output_type": "stream",
     "text": [
      "/opt/anaconda3/lib/python3.12/site-packages/deepeval/__init__.py:54: UserWarning: You are using deepeval version 2.6.5, however version 3.4.2 is available. You should consider upgrading via the \"pip install --upgrade deepeval\" command.\n",
      "  warnings.warn(\n",
      "🙌 Congratulations! You're now using a local Ollama model for all evals that \n",
      "require an LLM.\n"
     ]
    }
   ],
   "source": [
    "!deepeval set-ollama gemma3:latest"
   ]
  },
  {
   "cell_type": "code",
   "execution_count": 60,
   "id": "2127bc58-3ce5-4d3e-b98d-2d2fb6918f03",
   "metadata": {},
   "outputs": [],
   "source": [
    "import json\n",
    "from deepeval.metrics import GEval\n",
    "from deepeval.test_case import LLMTestCaseParams\n",
    "correctness_metric = GEval(\n",
    "    name=\"Correctness\",\n",
    "    criteria=\"Determine whether the actual output is factually correct based on the expected output.\",\n",
    "    # NOTE: you can only provide either criteria or evaluation_steps, and not both\n",
    "    evaluation_steps=[\n",
    "        \"Check whether the facts in 'actual output' contradicts any facts in 'expected output'\",\n",
    "        \"You should also heavily penalize omission of detail\",\n",
    "        \"Vague language, or contradicting OPINIONS, are OK\"\n",
    "    ],\n",
    "    evaluation_params=[LLMTestCaseParams.INPUT, LLMTestCaseParams.ACTUAL_OUTPUT, LLMTestCaseParams.EXPECTED_OUTPUT]\n",
    ")"
   ]
  },
  {
   "cell_type": "code",
   "execution_count": 61,
   "id": "c6043a06-5493-4275-aa3c-109d0c5ab35e",
   "metadata": {},
   "outputs": [
    {
     "data": {
      "text/html": [
       "<pre style=\"white-space:pre;overflow-x:auto;line-height:normal;font-family:Menlo,'DejaVu Sans Mono',consolas,'Courier New',monospace\">✨ You're running DeepEval's latest <span style=\"color: #6a00ff; text-decoration-color: #6a00ff\">Correctness </span><span style=\"color: #6a00ff; text-decoration-color: #6a00ff; font-weight: bold\">(</span><span style=\"color: #6a00ff; text-decoration-color: #6a00ff\">GEval</span><span style=\"color: #6a00ff; text-decoration-color: #6a00ff; font-weight: bold\">)</span><span style=\"color: #6a00ff; text-decoration-color: #6a00ff\"> Metric</span>! <span style=\"color: #374151; text-decoration-color: #374151; font-weight: bold\">(</span><span style=\"color: #374151; text-decoration-color: #374151\">using gemma3:latest </span><span style=\"color: #374151; text-decoration-color: #374151; font-weight: bold\">(</span><span style=\"color: #374151; text-decoration-color: #374151\">Ollama</span><span style=\"color: #374151; text-decoration-color: #374151; font-weight: bold\">)</span><span style=\"color: #374151; text-decoration-color: #374151\">, </span><span style=\"color: #374151; text-decoration-color: #374151\">strict</span><span style=\"color: #374151; text-decoration-color: #374151\">=</span><span style=\"color: #374151; text-decoration-color: #374151; font-style: italic\">False</span><span style=\"color: #374151; text-decoration-color: #374151\">, </span>\n",
       "<span style=\"color: #374151; text-decoration-color: #374151\">async_mode</span><span style=\"color: #374151; text-decoration-color: #374151\">=</span><span style=\"color: #374151; text-decoration-color: #374151; font-style: italic\">True</span><span style=\"color: #374151; text-decoration-color: #374151; font-weight: bold\">)</span><span style=\"color: #374151; text-decoration-color: #374151\">...</span>\n",
       "</pre>\n"
      ],
      "text/plain": [
       "✨ You're running DeepEval's latest \u001b[38;2;106;0;255mCorrectness \u001b[0m\u001b[1;38;2;106;0;255m(\u001b[0m\u001b[38;2;106;0;255mGEval\u001b[0m\u001b[1;38;2;106;0;255m)\u001b[0m\u001b[38;2;106;0;255m Metric\u001b[0m! \u001b[1;38;2;55;65;81m(\u001b[0m\u001b[38;2;55;65;81musing gemma3:latest \u001b[0m\u001b[1;38;2;55;65;81m(\u001b[0m\u001b[38;2;55;65;81mOllama\u001b[0m\u001b[1;38;2;55;65;81m)\u001b[0m\u001b[38;2;55;65;81m, \u001b[0m\u001b[38;2;55;65;81mstrict\u001b[0m\u001b[38;2;55;65;81m=\u001b[0m\u001b[3;38;2;55;65;81mFalse\u001b[0m\u001b[38;2;55;65;81m, \u001b[0m\n",
       "\u001b[38;2;55;65;81masync_mode\u001b[0m\u001b[38;2;55;65;81m=\u001b[0m\u001b[3;38;2;55;65;81mTrue\u001b[0m\u001b[1;38;2;55;65;81m)\u001b[0m\u001b[38;2;55;65;81m...\u001b[0m\n"
      ]
     },
     "metadata": {},
     "output_type": "display_data"
    },
    {
     "name": "stderr",
     "output_type": "stream",
     "text": [
      "Evaluating 4 test case(s) in parallel: |█|100% (4/4) [Time Taken: 00:07,  1.81s/"
     ]
    },
    {
     "name": "stdout",
     "output_type": "stream",
     "text": [
      "\n",
      "======================================================================\n",
      "\n",
      "Metrics Summary\n",
      "\n",
      "  - ✅ Correctness (GEval) (score: 0.9, threshold: 0.5, strict: False, evaluation model: gemma3:latest (Ollama), reason: The actual output describes the transformation as a 'networked global organization' combining 'scale with local execution' and 'faster scaling of products,' aligning with the expected output's description of a networked global organization focused on combining scale with local execution., error: None)\n",
      "\n",
      "For test case:\n",
      "\n",
      "  - input: In the 2022 filing, how did Coca-Cola change its organizational structure effective January 1, 2021?\n",
      "  - actual output: Effective January 1, 2021, the company transformed its organizational structure in an effort to better enable it to capture growth in the fast-changing marketplace by building a networked global organization designed to combine the power of scale with the deep knowledge required to win locally. They created new operating units focused on regional and local execution. These operating units, which sit under four geographic operating segments, are highly interconnected with a focus on eliminating duplication of resources and scaling new products more quickly.\n",
      "  - expected output: Transformed to a networked global organization with new operating units under four geographic operating segments focused on combining scale with local execution and faster scaling of products.\n",
      "  - context: None\n",
      "  - retrieval context: ['Node ID: 5d600597-19c4-4572-b156-009450e94223\\nText: Refer to Note\\xa019 for the impact these items had on our operating\\nsegments and Corporate. NOTE 18: RESTRUCTURING Strategic Realignment\\nIn August 2020, the Company announced strategic steps to transform our\\norganizational structure in an effort to better enable us to capture\\ngrowth in the fast-changing marketplace. The Company has transformed\\ninto...\\nScore:  0.782\\n', 'Node ID: 1f6c22d7-cced-4c0a-a781-0a27f2e67903\\nText: NOTE 18: RESTRUCTURING Strategic Realignment In August 2020, the\\nCompany announced strategic steps to transform our organizational\\nstructure in an effort to better enable us to capture growth in the\\nfast-changing marketplace. The Company is building a networked global\\norganization designed to combine the power of scale with the deep\\nknowledge re...\\nScore:  0.763\\n', 'Node ID: 928ffbd9-b23c-4811-a59d-b4c151a3d82d\\nText: Effective January 1, 2021, we transformed our organizational\\nstructure in an effort to better enable us to capture growth in the\\nfast-changing marketplace by building a networked global organization\\ndesigned to combine the power of scale with the deep knowledge\\nrequired to win locally. We created new operating units, which are\\nfocused on regiona...\\nScore:  0.762\\n', 'Node ID: 802ab5fe-1e82-44bd-a481-d5c375759404\\nText: Refer to Note\\xa04 for additional information on equity and debt\\nsecurities. Refer to Note\\xa014 for additional information on pension and\\nother postretirement benefit plan activity. Refer to Note\\xa017 for\\nadditional information on the restructuring of our manufacturing\\noperations in the United States and the impairment charges. NOTE 19:\\nRESTRUCTURING N...\\nScore:  0.759\\n', 'Node ID: 75dfb700-959b-471c-82f9-47e86c4ab14f\\nText: * 10.9 The Coca-Cola Company Directors’ Plan, amended and\\nrestated on December 13, 2012, effective January 1, 2013 —\\nincorporated herein by reference to Exhibit\\xa010.13 to the Company’s\\nAnnual Report on Form\\xa010-K for the year ended December\\xa031, 2012.*\\n10.9.1 The Coca-Cola Company Directors’ Plan, amended and restated on\\nFebruary 21, 2019, effectiv...\\nScore:  0.747\\n']\n",
      "\n",
      "======================================================================\n",
      "\n",
      "Metrics Summary\n",
      "\n",
      "  - ❌ Correctness (GEval) (score: 0.2, threshold: 0.5, strict: False, evaluation model: gemma3:latest (Ollama), reason: The actual output includes 'Europe, Middle East & Africa' which is present in the expected output, but the expected output specifies 'Dec 31, 2017' while the actual output states 'As of December 31, 2018', representing a discrepancy in the date., error: None)\n",
      "\n",
      "For test case:\n",
      "\n",
      "  - input: In the 2018 filing, how is Coca-Cola organized for internal financial reporting (operating segments)?\n",
      "  - actual output: As of December 31, 2018, the Company’s operating structure included Europe, Middle East and Africa, Latin America, North America, Asia Pacific, and Bottling Investments. It also included Corporate, which consists of a center focused on strategic initiatives, policy and governance and an enabling services organization.\n",
      "  - expected output: As of Dec 31, 2017, operating segments included Europe, Middle East & Africa; Latin America; North America; Asia Pacific; Bottling Investments; and Corporate.\n",
      "  - context: None\n",
      "  - retrieval context: ['Node ID: 9be68eae-385c-465f-8ab4-d071f4b0bead\\nText: Operating Segments The Company\\'s operating structure is the\\nbasis for our internal financial reporting. As of December 31, 2018,\\nour operating structure included the following operating segments,\\nwhich are sometimes referred to as \"operating groups\" or \"groups\": •\\nEurope, Middle East and Africa • Latin America • North America • Asia\\nPacific • Bo...\\nScore:  0.868\\n', 'Node ID: 4e81746c-7b28-48b6-9cc3-985160253ef9\\nText: Operating Segments The Company\\'s operating structure is the\\nbasis for our internal financial reporting. As of December 31, 2017,\\nour operating structure included the following operating segments, the\\nfirst five of which are sometimes referred to as \"operating groups\" or\\n\"groups\": • Europe, Middle East and Africa • Latin America • North\\nAmerica •...\\nScore:  0.862\\n', 'Node ID: 94c40c95-7dfe-40fd-ba55-ec218d41a85c\\nText: Operating Segments The Company\\'s operating structure is the\\nbasis for our internal financial reporting. Our operating structure\\nincludes the following operating segments, which are sometimes\\nreferred to as \"operating groups\" or \"groups\": • Europe, Middle East\\nand Africa • Latin America • North America • Asia Pacific • Global\\nVentures • Bottling ...\\nScore:  0.855\\n', 'Node ID: 18198548-f024-4e99-8e1f-316f700bf110\\nText: Operating Segments The Company\\'s operating structure is the\\nbasis for our internal financial reporting. Our operating structure\\nincludes the following operating segments, which are sometimes\\nreferred to as \"operating groups\" or \"groups\": • Europe, Middle East\\nand Africa • Latin America • North America • Asia Pacific • Global\\nVentures • Bottling ...\\nScore:  0.853\\n', 'Node ID: e2102b55-0e36-40e5-8267-9443f0e4382f\\nText: Operating Segments The Company\\'s operating structure is the\\nbasis for our internal financial reporting. As of December 31, 2016,\\nour operating structure included the following operating segments, the\\nfirst five of which are sometimes referred to as \"operating groups\" or\\n\"groups\": • Europe, Middle East and Africa • Latin America • North\\nAmerica •...\\nScore:  0.850\\n']\n",
      "\n",
      "======================================================================\n",
      "\n",
      "Metrics Summary\n",
      "\n",
      "  - ❌ Correctness (GEval) (score: 0.3, threshold: 0.5, strict: False, evaluation model: gemma3:latest (Ollama), reason: The actual output describes Coca-Cola's business segments (Europe, Middle East, Africa, etc.) but omits key details like the company's global reach (more than 200 countries) and daily servings (~1.9 billion) provided in the expected output., error: None)\n",
      "\n",
      "For test case:\n",
      "\n",
      "  - input: In the 2018 filing, what is The Coca-Cola Company's core business and global reach?\n",
      "  - actual output: The Coca-Cola Company’s core business is primarily nonalcoholic beverages. These beverages are sold across geographic operating segments including Europe, Middle East and Africa; Latin America; North America; and Asia Pacific.\n",
      "  - expected output: Coca-Cola is the world's largest beverage company, owning/licensing 500+ nonalcoholic beverage brands sold in more than 200 countries and serving ~1.9 billion servings daily.\n",
      "  - context: None\n",
      "  - retrieval context: ['Node ID: d8ce6a59-cbf4-45a1-8738-493203185723\\nText: Our operating structure also includes Corporate,  which consists\\nof two components: (1) a center focusing on strategic initiatives,\\npolicy, governance and scaling global  initiatives, and (2) a platform\\nservices organization supporting operating units, global marketing\\ncategory leadership teams and  the center by providing efficient and\\nscaled g...\\nScore:  0.750\\n', 'Node ID: 316b9156-a090-40f7-8684-5757b8bb442b\\nText: The global marketing category leadership  teams primarily focus\\non innovation as well as marketing efficiency and effectiveness.  Our\\noperating structure also includes Corporate, which consists of two\\ncomponents: (1) a center focusing on strategic  initiatives, policy,\\ngovernance and scaling global initiatives, and (2) a platform services\\norgani...\\nScore:  0.747\\n', 'Node ID: dc08a723-6bb0-4126-8c68-f4bea89df82f\\nText: Our operating structure also includes Corporate, which consists\\nof two components: (1) a center focusing on strategic initiatives,\\npolicy, governance and scaling global initiatives, and (2) a platform\\nservices organization supporting operating units, global marketing\\ncategory leadership teams and the center by providing efficient and\\nscaled glob...\\nScore:  0.744\\n', 'Node ID: da343d4b-82dc-4821-ab0f-828bd494ccf9\\nText: The global marketing category leadership teams primarily focus\\non innovation as well as marketing efficiency and effectiveness. Our\\noperating structure also includes Corporate, which consists of two\\ncomponents: (1) a center focusing on strategic initiatives, policy,\\ngovernance and scaling global initiatives, and (2) a platform services\\norganizat...\\nScore:  0.743\\n', 'Node ID: 6a8ed81a-a5db-439e-9db8-789a834bf674\\nText: The global marketing category leadership teams primarily focus\\non innovation as well as marketing efficiency and effectiveness. Our\\noperating structure also includes Corporate, which consists of two\\ncomponents: (1) a center focusing on strategic initiatives, policy,\\ngovernance and scaling global initiatives, and (2) a platform services\\norganizat...\\nScore:  0.743\\n']\n",
      "\n",
      "======================================================================\n",
      "\n",
      "Metrics Summary\n",
      "\n",
      "  - ✅ Correctness (GEval) (score: 0.8, threshold: 0.5, strict: False, evaluation model: gemma3:latest (Ollama), reason: The actual output accurately reflects the stated purpose: ‘to refresh the world and make a difference.’ However, the expected output includes the additional detail about driving ‘net operating revenue growth and long-term value,’ which is missing from the actual output, representing a slight reduction in detail., error: None)\n",
      "\n",
      "For test case:\n",
      "\n",
      "  - input: In the 2022 filing, what is Coca-Cola's stated purpose and vision?\n",
      "  - actual output: Coca-Cola’s purpose is to refresh the world and make a difference, and its vision for growth has three connected pillars: Loved Brands, Done Sustainably, and For A Better Shared Future.\n",
      "  - expected output: Purpose: to refresh the world and make a difference. Vision pillars: Loved Brands, Done Sustainably, For A Better Shared Future — strategy to drive net operating revenue growth and long-term value.\n",
      "  - context: None\n",
      "  - retrieval context: ['Node ID: 2f1ec01b-3686-48f2-a065-2e2f5ff91ffb\\nText: We want to be a helpful and credible partner in the fight\\nagainst obesity. Across the Coca-Cola system, we are mobilizing our\\nassets in marketing and in community outreach to increase awareness\\nand spur action. Evolving Consumer Product Preferences We are impacted\\nby shifting consumer demographics and needs, on-the-go lifestyles and\\nconsumers wh...\\nScore:  0.745\\n', 'Node ID: 8d05aecd-8ee8-4241-94d0-19fcdf1d0069\\nText: General The Coca-Cola Company is a total beverage company, and\\nbeverage products bearing our trademarks, sold in the United States\\nsince 1886, are now sold in more than 200 countries and territories.\\nWe own or license and market numerous beverage brands, which we group\\ninto the following categories: Trademark Coca-Cola; sparkling flavors;\\nhydrat...\\nScore:  0.723\\n', 'Node ID: 15b42d39-43ef-400c-8d28-059102a937f3\\nText: In addition, from time to time we establish and publicly\\nannounce goals and commitments to reduce the Coca-Cola system’s carbon\\nfootprint by increasing our use of recycled packaging materials,\\nexpanding our renewable energy usage, and participating in\\nenvironmental and sustainability programs and initiatives organized or\\nsponsored by nongovernme...\\nScore:  0.721\\n', 'Node ID: b91088dd-f2b9-4d25-bf30-fdb35886c532\\nText: We have established specific ESG goals related to water quality\\nand scarcity; packaging materials used for our products; reduction of\\nadded sugar in our beverages; reduction of carbon dioxide and other\\ngreenhouse gas emissions; sustainable agriculture; diversity, equity\\nand inclusion; and human and workplace rights. Our ability to achieve\\nour ES...\\nScore:  0.719\\n']\n",
      "\n",
      "======================================================================\n",
      "\n",
      "Overall Metric Pass Rates\n",
      "\n",
      "Correctness (GEval): 50.00% pass rate\n",
      "\n",
      "======================================================================\n",
      "\n"
     ]
    },
    {
     "name": "stderr",
     "output_type": "stream",
     "text": [
      "\n"
     ]
    },
    {
     "data": {
      "text/html": [
       "<pre style=\"white-space:pre;overflow-x:auto;line-height:normal;font-family:Menlo,'DejaVu Sans Mono',consolas,'Courier New',monospace\">\n",
       "<span style=\"color: #05f58d; text-decoration-color: #05f58d\">✓</span> Tests finished 🎉! Run <span style=\"color: #008000; text-decoration-color: #008000; font-weight: bold\">'deepeval login'</span> to save and analyze evaluation results on Confident AI.\n",
       " \n",
       "✨👀 Looking for a place for your LLM test data to live 🏡❤️ ? Use <span style=\"color: #6a00ff; text-decoration-color: #6a00ff\">Confident AI</span> to get &amp; share testing reports, \n",
       "experiment with models/prompts, and catch regressions for your LLM system. Just run <span style=\"color: #008080; text-decoration-color: #008080\">'deepeval login'</span> in the CLI. \n",
       "\n",
       "</pre>\n"
      ],
      "text/plain": [
       "\n",
       "\u001b[38;2;5;245;141m✓\u001b[0m Tests finished 🎉! Run \u001b[1;32m'deepeval login'\u001b[0m to save and analyze evaluation results on Confident AI.\n",
       " \n",
       "✨👀 Looking for a place for your LLM test data to live 🏡❤️ ? Use \u001b[38;2;106;0;255mConfident AI\u001b[0m to get & share testing reports, \n",
       "experiment with models/prompts, and catch regressions for your LLM system. Just run \u001b[36m'deepeval login'\u001b[0m in the CLI. \n",
       "\n"
      ]
     },
     "metadata": {},
     "output_type": "display_data"
    },
    {
     "data": {
      "text/plain": [
       "EvaluationResult(test_results=[TestResult(name='test_case_3', success=True, metrics_data=[MetricData(name='Correctness (GEval)', threshold=0.5, success=True, score=0.9, reason=\"The actual output describes the transformation as a 'networked global organization' combining 'scale with local execution' and 'faster scaling of products,' aligning with the expected output's description of a networked global organization focused on combining scale with local execution.\", strict_mode=False, evaluation_model='gemma3:latest (Ollama)', error=None, evaluation_cost=0.0, verbose_logs='Criteria:\\nDetermine whether the actual output is factually correct based on the expected output. \\n \\nEvaluation Steps:\\n[\\n    \"Check whether the facts in \\'actual output\\' contradicts any facts in \\'expected output\\'\",\\n    \"You should also heavily penalize omission of detail\",\\n    \"Vague language, or contradicting OPINIONS, are OK\"\\n]')], conversational=False, multimodal=False, input='In the 2022 filing, how did Coca-Cola change its organizational structure effective January 1, 2021?', actual_output='Effective January 1, 2021, the company transformed its organizational structure in an effort to better enable it to capture growth in the fast-changing marketplace by building a networked global organization designed to combine the power of scale with the deep knowledge required to win locally. They created new operating units focused on regional and local execution. These operating units, which sit under four geographic operating segments, are highly interconnected with a focus on eliminating duplication of resources and scaling new products more quickly.', expected_output='Transformed to a networked global organization with new operating units under four geographic operating segments focused on combining scale with local execution and faster scaling of products.', context=None, retrieval_context=['Node ID: 5d600597-19c4-4572-b156-009450e94223\\nText: Refer to Note\\xa019 for the impact these items had on our operating\\nsegments and Corporate. NOTE 18: RESTRUCTURING Strategic Realignment\\nIn August 2020, the Company announced strategic steps to transform our\\norganizational structure in an effort to better enable us to capture\\ngrowth in the fast-changing marketplace. The Company has transformed\\ninto...\\nScore:  0.782\\n', 'Node ID: 1f6c22d7-cced-4c0a-a781-0a27f2e67903\\nText: NOTE 18: RESTRUCTURING Strategic Realignment In August 2020, the\\nCompany announced strategic steps to transform our organizational\\nstructure in an effort to better enable us to capture growth in the\\nfast-changing marketplace. The Company is building a networked global\\norganization designed to combine the power of scale with the deep\\nknowledge re...\\nScore:  0.763\\n', 'Node ID: 928ffbd9-b23c-4811-a59d-b4c151a3d82d\\nText: Effective January 1, 2021, we transformed our organizational\\nstructure in an effort to better enable us to capture growth in the\\nfast-changing marketplace by building a networked global organization\\ndesigned to combine the power of scale with the deep knowledge\\nrequired to win locally. We created new operating units, which are\\nfocused on regiona...\\nScore:  0.762\\n', 'Node ID: 802ab5fe-1e82-44bd-a481-d5c375759404\\nText: Refer to Note\\xa04 for additional information on equity and debt\\nsecurities. Refer to Note\\xa014 for additional information on pension and\\nother postretirement benefit plan activity. Refer to Note\\xa017 for\\nadditional information on the restructuring of our manufacturing\\noperations in the United States and the impairment charges. NOTE 19:\\nRESTRUCTURING N...\\nScore:  0.759\\n', 'Node ID: 75dfb700-959b-471c-82f9-47e86c4ab14f\\nText: * 10.9 The Coca-Cola Company Directors’ Plan, amended and\\nrestated on December 13, 2012, effective January 1, 2013 —\\nincorporated herein by reference to Exhibit\\xa010.13 to the Company’s\\nAnnual Report on Form\\xa010-K for the year ended December\\xa031, 2012.*\\n10.9.1 The Coca-Cola Company Directors’ Plan, amended and restated on\\nFebruary 21, 2019, effectiv...\\nScore:  0.747\\n']), TestResult(name='test_case_1', success=False, metrics_data=[MetricData(name='Correctness (GEval)', threshold=0.5, success=False, score=0.2, reason=\"The actual output includes 'Europe, Middle East & Africa' which is present in the expected output, but the expected output specifies 'Dec 31, 2017' while the actual output states 'As of December 31, 2018', representing a discrepancy in the date.\", strict_mode=False, evaluation_model='gemma3:latest (Ollama)', error=None, evaluation_cost=0.0, verbose_logs='Criteria:\\nDetermine whether the actual output is factually correct based on the expected output. \\n \\nEvaluation Steps:\\n[\\n    \"Check whether the facts in \\'actual output\\' contradicts any facts in \\'expected output\\'\",\\n    \"You should also heavily penalize omission of detail\",\\n    \"Vague language, or contradicting OPINIONS, are OK\"\\n]')], conversational=False, multimodal=False, input='In the 2018 filing, how is Coca-Cola organized for internal financial reporting (operating segments)?', actual_output='As of December 31, 2018, the Company’s operating structure included Europe, Middle East and Africa, Latin America, North America, Asia Pacific, and Bottling Investments. It also included Corporate, which consists of a center focused on strategic initiatives, policy and governance and an enabling services organization.', expected_output='As of Dec 31, 2017, operating segments included Europe, Middle East & Africa; Latin America; North America; Asia Pacific; Bottling Investments; and Corporate.', context=None, retrieval_context=['Node ID: 9be68eae-385c-465f-8ab4-d071f4b0bead\\nText: Operating Segments The Company\\'s operating structure is the\\nbasis for our internal financial reporting. As of December 31, 2018,\\nour operating structure included the following operating segments,\\nwhich are sometimes referred to as \"operating groups\" or \"groups\": •\\nEurope, Middle East and Africa • Latin America • North America • Asia\\nPacific • Bo...\\nScore:  0.868\\n', 'Node ID: 4e81746c-7b28-48b6-9cc3-985160253ef9\\nText: Operating Segments The Company\\'s operating structure is the\\nbasis for our internal financial reporting. As of December 31, 2017,\\nour operating structure included the following operating segments, the\\nfirst five of which are sometimes referred to as \"operating groups\" or\\n\"groups\": • Europe, Middle East and Africa • Latin America • North\\nAmerica •...\\nScore:  0.862\\n', 'Node ID: 94c40c95-7dfe-40fd-ba55-ec218d41a85c\\nText: Operating Segments The Company\\'s operating structure is the\\nbasis for our internal financial reporting. Our operating structure\\nincludes the following operating segments, which are sometimes\\nreferred to as \"operating groups\" or \"groups\": • Europe, Middle East\\nand Africa • Latin America • North America • Asia Pacific • Global\\nVentures • Bottling ...\\nScore:  0.855\\n', 'Node ID: 18198548-f024-4e99-8e1f-316f700bf110\\nText: Operating Segments The Company\\'s operating structure is the\\nbasis for our internal financial reporting. Our operating structure\\nincludes the following operating segments, which are sometimes\\nreferred to as \"operating groups\" or \"groups\": • Europe, Middle East\\nand Africa • Latin America • North America • Asia Pacific • Global\\nVentures • Bottling ...\\nScore:  0.853\\n', 'Node ID: e2102b55-0e36-40e5-8267-9443f0e4382f\\nText: Operating Segments The Company\\'s operating structure is the\\nbasis for our internal financial reporting. As of December 31, 2016,\\nour operating structure included the following operating segments, the\\nfirst five of which are sometimes referred to as \"operating groups\" or\\n\"groups\": • Europe, Middle East and Africa • Latin America • North\\nAmerica •...\\nScore:  0.850\\n']), TestResult(name='test_case_0', success=False, metrics_data=[MetricData(name='Correctness (GEval)', threshold=0.5, success=False, score=0.3, reason=\"The actual output describes Coca-Cola's business segments (Europe, Middle East, Africa, etc.) but omits key details like the company's global reach (more than 200 countries) and daily servings (~1.9 billion) provided in the expected output.\", strict_mode=False, evaluation_model='gemma3:latest (Ollama)', error=None, evaluation_cost=0.0, verbose_logs='Criteria:\\nDetermine whether the actual output is factually correct based on the expected output. \\n \\nEvaluation Steps:\\n[\\n    \"Check whether the facts in \\'actual output\\' contradicts any facts in \\'expected output\\'\",\\n    \"You should also heavily penalize omission of detail\",\\n    \"Vague language, or contradicting OPINIONS, are OK\"\\n]')], conversational=False, multimodal=False, input=\"In the 2018 filing, what is The Coca-Cola Company's core business and global reach?\", actual_output='The Coca-Cola Company’s core business is primarily nonalcoholic beverages. These beverages are sold across geographic operating segments including Europe, Middle East and Africa; Latin America; North America; and Asia Pacific.', expected_output=\"Coca-Cola is the world's largest beverage company, owning/licensing 500+ nonalcoholic beverage brands sold in more than 200 countries and serving ~1.9 billion servings daily.\", context=None, retrieval_context=['Node ID: d8ce6a59-cbf4-45a1-8738-493203185723\\nText: Our operating structure also includes Corporate,  which consists\\nof two components: (1) a center focusing on strategic initiatives,\\npolicy, governance and scaling global  initiatives, and (2) a platform\\nservices organization supporting operating units, global marketing\\ncategory leadership teams and  the center by providing efficient and\\nscaled g...\\nScore:  0.750\\n', 'Node ID: 316b9156-a090-40f7-8684-5757b8bb442b\\nText: The global marketing category leadership  teams primarily focus\\non innovation as well as marketing efficiency and effectiveness.  Our\\noperating structure also includes Corporate, which consists of two\\ncomponents: (1) a center focusing on strategic  initiatives, policy,\\ngovernance and scaling global initiatives, and (2) a platform services\\norgani...\\nScore:  0.747\\n', 'Node ID: dc08a723-6bb0-4126-8c68-f4bea89df82f\\nText: Our operating structure also includes Corporate, which consists\\nof two components: (1) a center focusing on strategic initiatives,\\npolicy, governance and scaling global initiatives, and (2) a platform\\nservices organization supporting operating units, global marketing\\ncategory leadership teams and the center by providing efficient and\\nscaled glob...\\nScore:  0.744\\n', 'Node ID: da343d4b-82dc-4821-ab0f-828bd494ccf9\\nText: The global marketing category leadership teams primarily focus\\non innovation as well as marketing efficiency and effectiveness. Our\\noperating structure also includes Corporate, which consists of two\\ncomponents: (1) a center focusing on strategic initiatives, policy,\\ngovernance and scaling global initiatives, and (2) a platform services\\norganizat...\\nScore:  0.743\\n', 'Node ID: 6a8ed81a-a5db-439e-9db8-789a834bf674\\nText: The global marketing category leadership teams primarily focus\\non innovation as well as marketing efficiency and effectiveness. Our\\noperating structure also includes Corporate, which consists of two\\ncomponents: (1) a center focusing on strategic initiatives, policy,\\ngovernance and scaling global initiatives, and (2) a platform services\\norganizat...\\nScore:  0.743\\n']), TestResult(name='test_case_2', success=True, metrics_data=[MetricData(name='Correctness (GEval)', threshold=0.5, success=True, score=0.8, reason='The actual output accurately reflects the stated purpose: ‘to refresh the world and make a difference.’ However, the expected output includes the additional detail about driving ‘net operating revenue growth and long-term value,’ which is missing from the actual output, representing a slight reduction in detail.', strict_mode=False, evaluation_model='gemma3:latest (Ollama)', error=None, evaluation_cost=0.0, verbose_logs='Criteria:\\nDetermine whether the actual output is factually correct based on the expected output. \\n \\nEvaluation Steps:\\n[\\n    \"Check whether the facts in \\'actual output\\' contradicts any facts in \\'expected output\\'\",\\n    \"You should also heavily penalize omission of detail\",\\n    \"Vague language, or contradicting OPINIONS, are OK\"\\n]')], conversational=False, multimodal=False, input=\"In the 2022 filing, what is Coca-Cola's stated purpose and vision?\", actual_output='Coca-Cola’s purpose is to refresh the world and make a difference, and its vision for growth has three connected pillars: Loved Brands, Done Sustainably, and For A Better Shared Future.', expected_output='Purpose: to refresh the world and make a difference. Vision pillars: Loved Brands, Done Sustainably, For A Better Shared Future — strategy to drive net operating revenue growth and long-term value.', context=None, retrieval_context=['Node ID: 2f1ec01b-3686-48f2-a065-2e2f5ff91ffb\\nText: We want to be a helpful and credible partner in the fight\\nagainst obesity. Across the Coca-Cola system, we are mobilizing our\\nassets in marketing and in community outreach to increase awareness\\nand spur action. Evolving Consumer Product Preferences We are impacted\\nby shifting consumer demographics and needs, on-the-go lifestyles and\\nconsumers wh...\\nScore:  0.745\\n', 'Node ID: 8d05aecd-8ee8-4241-94d0-19fcdf1d0069\\nText: General The Coca-Cola Company is a total beverage company, and\\nbeverage products bearing our trademarks, sold in the United States\\nsince 1886, are now sold in more than 200 countries and territories.\\nWe own or license and market numerous beverage brands, which we group\\ninto the following categories: Trademark Coca-Cola; sparkling flavors;\\nhydrat...\\nScore:  0.723\\n', 'Node ID: 15b42d39-43ef-400c-8d28-059102a937f3\\nText: In addition, from time to time we establish and publicly\\nannounce goals and commitments to reduce the Coca-Cola system’s carbon\\nfootprint by increasing our use of recycled packaging materials,\\nexpanding our renewable energy usage, and participating in\\nenvironmental and sustainability programs and initiatives organized or\\nsponsored by nongovernme...\\nScore:  0.721\\n', 'Node ID: b91088dd-f2b9-4d25-bf30-fdb35886c532\\nText: We have established specific ESG goals related to water quality\\nand scarcity; packaging materials used for our products; reduction of\\nadded sugar in our beverages; reduction of carbon dioxide and other\\ngreenhouse gas emissions; sustainable agriculture; diversity, equity\\nand inclusion; and human and workplace rights. Our ability to achieve\\nour ES...\\nScore:  0.719\\n'])], confident_link=None)"
      ]
     },
     "execution_count": 61,
     "metadata": {},
     "output_type": "execute_result"
    }
   ],
   "source": [
    "evaluate(test_cases=test_cases, metrics=[correctness_metric])"
   ]
  },
  {
   "cell_type": "markdown",
   "id": "b30ccd98-013e-454a-842d-f3fc5ef1e9b3",
   "metadata": {},
   "source": [
    "Overall Metric Pass Rates\n",
    "\n",
    "Correctness (GEval): 40.00% pass rate"
   ]
  },
  {
   "cell_type": "code",
   "execution_count": null,
   "id": "ec79b7d4-9b34-413b-813c-ff4c9f25fe84",
   "metadata": {},
   "outputs": [],
   "source": []
  }
 ],
 "metadata": {
  "kernelspec": {
   "display_name": "Python [conda env:base] *",
   "language": "python",
   "name": "conda-base-py"
  },
  "language_info": {
   "codemirror_mode": {
    "name": "ipython",
    "version": 3
   },
   "file_extension": ".py",
   "mimetype": "text/x-python",
   "name": "python",
   "nbconvert_exporter": "python",
   "pygments_lexer": "ipython3",
   "version": "3.12.7"
  }
 },
 "nbformat": 4,
 "nbformat_minor": 5
}
