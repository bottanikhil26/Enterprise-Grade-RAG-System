{
 "cells": [
  {
   "cell_type": "code",
   "execution_count": 1,
   "id": "81e5ad20-ad8b-4615-a4d3-6800ad08d954",
   "metadata": {},
   "outputs": [
    {
     "name": "stdout",
     "output_type": "stream",
     "text": [
      "/Users/nikhil/Documents/GitHub_portfolio/Enterprise-Grade RAG System/notebook\n",
      "/Users/nikhil/Documents/GitHub_portfolio/Enterprise-Grade RAG System\n"
     ]
    }
   ],
   "source": [
    "#directory reader\n",
    "import os\n",
    "print(os.getcwd())\n",
    "os.chdir('..')\n",
    "print(os.getcwd())"
   ]
  },
  {
   "cell_type": "code",
   "execution_count": 3,
   "id": "76fb6611-aefe-4a3b-97de-cc0e49a2c20b",
   "metadata": {},
   "outputs": [],
   "source": [
    "%%capture\n",
    "!pip install -r requirements.txt"
   ]
  },
  {
   "cell_type": "code",
   "execution_count": 40,
   "id": "0ceff1ae-3227-4958-99aa-b4af39be27af",
   "metadata": {},
   "outputs": [],
   "source": [
    "# load the function required\n",
    "import regex as re\n",
    "import chromadb\n",
    "from llama_index.readers.file import PyMuPDFReader\n",
    "from llama_index.core import SimpleDirectoryReader\n",
    "from llama_index.core.node_parser import SentenceWindowNodeParser\n",
    "from llama_index.core import VectorStoreIndex, StorageContext , get_response_synthesizer\n",
    "from llama_index.embeddings.huggingface import HuggingFaceEmbedding\n",
    "from llama_index.vector_stores.chroma import ChromaVectorStore\n",
    "from llama_index.core.postprocessor import MetadataReplacementPostProcessor\n",
    "from llama_index.llms.ollama import Ollama\n",
    "from llama_index.core.query_engine import RetrieverQueryEngine\n"
   ]
  },
  {
   "cell_type": "code",
   "execution_count": 7,
   "id": "477acfa9-16a3-4cd4-868c-58cbcb627a98",
   "metadata": {},
   "outputs": [],
   "source": [
    "loading_mapping = {'.pdf':PyMuPDFReader()}\n",
    "\n",
    "documents = SimpleDirectoryReader(\"./data\" , file_extractor = loading_mapping).load_data()"
   ]
  },
  {
   "cell_type": "code",
   "execution_count": 8,
   "id": "32c84c7a-7935-4d22-9570-655495ecf37e",
   "metadata": {},
   "outputs": [
    {
     "data": {
      "text/plain": [
       "2147"
      ]
     },
     "execution_count": 8,
     "metadata": {},
     "output_type": "execute_result"
    }
   ],
   "source": [
    "len(documents)"
   ]
  },
  {
   "cell_type": "code",
   "execution_count": 9,
   "id": "f30655ca-4935-41fc-b586-d821b120b0c2",
   "metadata": {},
   "outputs": [],
   "source": [
    "import re\n",
    "current_section = \"Unknown\"\n",
    "\n",
    "for doc in documents:\n",
    "    match = re.search(r\"(\\d{4})\", doc.metadata.get(\"file_name\", \"\"))\n",
    "    if match:\n",
    "        doc.metadata['year'] = int(match.group(1))\n",
    "        doc.metadata['company'] = \"coca-cola\"\n",
    "        doc.metadata[\"filing_type\"] = \"10-K\"\n",
    "\n",
    "    # --- detect ALL CAPS ITEM headers ---\n",
    "    # normalize spaces, but keep case\n",
    "    text = doc.text.replace(\"\\n\", \" \").replace(\"  \", \" \")\n",
    "\n",
    "    # Regex: ITEM + number + optional letter + . + ALL CAPS TITLE\n",
    "    match = re.search(r\"(ITEM\\s+\\d+[A-Z]?\\.\\s+[A-Z\\s,&\\-]+)\", text)\n",
    "    if match:\n",
    "        current_section = match.group(0).strip()   # full \"ITEM 1. BUSINESS\"\n",
    "        doc.metadata[\"section\"] = current_section\n",
    "        continue\n",
    "\n",
    "    # If no new match, keep previous section\n",
    "    doc.metadata[\"section\"] = current_section\n",
    "\n"
   ]
  },
  {
   "cell_type": "code",
   "execution_count": 13,
   "id": "38dcee4f-23f3-493b-9802-e8a8163b78ee",
   "metadata": {},
   "outputs": [
    {
     "data": {
      "text/plain": [
       "{'file_path': '/Users/nikhil/Documents/GitHub_portfolio/Enterprise-Grade RAG System/data/2015-cocacola-10k-filing.pdf',\n",
       " 'file_name': '2015-cocacola-10k-filing.pdf',\n",
       " 'file_type': 'application/pdf',\n",
       " 'file_size': 1717600,\n",
       " 'creation_date': '2025-08-31',\n",
       " 'last_modified_date': '2025-05-23',\n",
       " 'total_pages': 216,\n",
       " 'source': '13',\n",
       " 'year': 2015,\n",
       " 'company': 'coca-cola',\n",
       " 'filing_type': '10-K',\n",
       " 'section': 'ITEM 1.  BUSINESS I'}"
      ]
     },
     "execution_count": 13,
     "metadata": {},
     "output_type": "execute_result"
    }
   ],
   "source": [
    "documents[12].metadata"
   ]
  },
  {
   "cell_type": "code",
   "execution_count": 15,
   "id": "62527dfe-3ea2-4875-858b-512b76c9dfe6",
   "metadata": {},
   "outputs": [],
   "source": [
    "node_parser = SentenceWindowNodeParser(\n",
    "    window_size = 3,\n",
    "    window_metadata_key =\"window\",\n",
    "    original_text_metadata_key = \"original_text\"\n",
    ")"
   ]
  },
  {
   "cell_type": "code",
   "execution_count": 17,
   "id": "9bf33e34-6458-455d-9419-e0bd55d30741",
   "metadata": {},
   "outputs": [],
   "source": [
    "nodes = node_parser.get_nodes_from_documents(documents)"
   ]
  },
  {
   "cell_type": "code",
   "execution_count": 19,
   "id": "5e2607d2-82ff-4700-94bb-d89ac2e209f1",
   "metadata": {},
   "outputs": [],
   "source": [
    "embed_model = HuggingFaceEmbedding(model_name='BAAI/bge-base-en-v1.5')"
   ]
  },
  {
   "cell_type": "code",
   "execution_count": 20,
   "id": "2718c8a5-fd36-43cc-abc7-27f081e70d71",
   "metadata": {},
   "outputs": [],
   "source": [
    "db = chromadb.PersistentClient(\"data/.sentencedb\")\n",
    "\n",
    "chroma_collection = db.get_or_create_collection(\"new\")\n",
    "\n",
    "vector_store = ChromaVectorStore(chroma_collection=chroma_collection)\n",
    "\n",
    "storage_context = StorageContext.from_defaults(vector_store=vector_store)\n",
    "\n",
    "index = VectorStoreIndex(nodes,storage_context=storage_context,embed_model=embed_model)\n"
   ]
  },
  {
   "cell_type": "code",
   "execution_count": 22,
   "id": "1e2d36bf-59c8-4a9f-b602-e420fb5951a9",
   "metadata": {},
   "outputs": [],
   "source": [
    "from llama_index.core.vector_stores import MetadataFilters, MetadataFilter\n",
    "\n",
    "year_filter = MetadataFilters(\n",
    "    filters=[\n",
    "        MetadataFilter(key=\"year\", value=2015, operator=\">=\"),\n",
    "        MetadataFilter(key=\"year\", value=2025, operator=\"<=\"),\n",
    "    ]\n",
    ")"
   ]
  },
  {
   "cell_type": "code",
   "execution_count": 23,
   "id": "e87ffd63-f516-4eb6-b8f7-d83137da3cae",
   "metadata": {},
   "outputs": [],
   "source": [
    "retriever = index.as_retriever(\n",
    "    similarity_top_k=3,\n",
    "    filters = year_filter,\n",
    "    # the target key defaults to `window` to match the node_parser's default\n",
    "    node_postprocessors=[\n",
    "        MetadataReplacementPostProcessor(target_metadata_key=\"window\")\n",
    "    ],\n",
    ")"
   ]
  },
  {
   "cell_type": "code",
   "execution_count": 125,
   "id": "e109e50d-4beb-4321-a55f-d7718292529f",
   "metadata": {},
   "outputs": [],
   "source": [
    "query = \"What was Coca-Cola’s total unit case volume in 2014?\"\n",
    "ans = retriever.retrieve(query)"
   ]
  },
  {
   "cell_type": "code",
   "execution_count": 127,
   "id": "9484e576-3cab-42a4-ad5b-c6adb76c5728",
   "metadata": {},
   "outputs": [
    {
     "name": "stdout",
     "output_type": "stream",
     "text": [
      "{'file_path': '/Users/nikhil/Documents/GitHub_portfolio/Enterprise-Grade RAG System/data/2015-cocacola-10k-filing.pdf', 'file_name': '2015-cocacola-10k-filing.pdf', 'file_type': 'application/pdf', 'file_size': 1717600, 'creation_date': '2025-08-31', 'last_modified_date': '2025-05-23', 'total_pages': 216, 'source': '8', 'year': 2015, 'company': 'coca-cola', 'filing_type': '10-K', 'section': 'ITEM 1.  BUSINESS I', 'window': \"Unit case volume outside the United States represented 81 percent of the Company's worldwide unit case volume for 2014.  The countries outside the United States in which our unit case volumes\\nwere the largest in 2014 were Mexico, China, Brazil and Japan, which together accounted for 31 percent of our worldwide unit case volume.  Of the non-U.S.  unit case volume for 2014, 74 percent\\nwas attributable to sparkling beverages and 26 percent to still beverages.  Trademark Coca-Cola Beverages accounted for 47 percent of non-U.S.  unit case volume for 2014.\\n Our five largest independent bottling partners based on unit case volume in 2014 were:\\n•\\nCoca-Cola FEMSA, S.A.B. \", 'original_text': 'unit case volume for 2014, 74 percent\\nwas attributable to sparkling beverages and 26 percent to still beverages. '}\n",
      "unit case volume for 2014, 74 percent\n",
      "was attributable to sparkling beverages and 26 percent to still beverages. \n",
      "----------------------------------------------------------------------------------------------------\n",
      "{'file_path': '/Users/nikhil/Documents/GitHub_portfolio/Enterprise-Grade RAG System/data/2015-cocacola-10k-filing.pdf', 'file_name': '2015-cocacola-10k-filing.pdf', 'file_type': 'application/pdf', 'file_size': 1717600, 'creation_date': '2025-08-31', 'last_modified_date': '2025-05-23', 'total_pages': 216, 'source': '8', 'year': 2015, 'company': 'coca-cola', 'filing_type': '10-K', 'section': 'ITEM 1.  BUSINESS I', 'window': 'In 2014, unit case volume in the United States (\"U.S.  unit case volume\") represented 19 percent of the Company\\'s worldwide unit case volume.  Of the U.S.  unit case volume for 2014, 68 percent\\nwas attributable to sparkling beverages and 32 percent to still beverages.  Trademark Coca-Cola Beverages accounted for 45 percent of U.S.  unit case volume for 2014.\\n Unit case volume outside the United States represented 81 percent of the Company\\'s worldwide unit case volume for 2014. ', 'original_text': 'unit case volume for 2014, 68 percent\\nwas attributable to sparkling beverages and 32 percent to still beverages. '}\n",
      "unit case volume for 2014, 68 percent\n",
      "was attributable to sparkling beverages and 32 percent to still beverages. \n",
      "----------------------------------------------------------------------------------------------------\n",
      "{'file_path': '/Users/nikhil/Documents/GitHub_portfolio/Enterprise-Grade RAG System/data/2015-cocacola-10k-filing.pdf', 'file_name': '2015-cocacola-10k-filing.pdf', 'file_type': 'application/pdf', 'file_size': 1717600, 'creation_date': '2025-08-31', 'last_modified_date': '2025-05-23', 'total_pages': 216, 'source': '46', 'year': 2015, 'company': 'coca-cola', 'filing_type': '10-K', 'section': 'ITEM 6. SELECTED FINANCIAL DATA T', 'window': 'Unit case volume primarily consists of beverage products bearing Company trademarks.  Also included in\\nunit case volume are certain products licensed to, or distributed by, our Company, and brands owned by Coca-Cola system bottlers for which our Company provides marketing support and from\\nthe sale of which we derive economic benefit.  In addition, unit case volume includes sales by certain joint ventures in which the Company has an equity interest.  We believe unit case volume is\\none of the measures of the underlying strength of the Coca-Cola system because it measures trends at the consumer level.  The unit case volume numbers used in this report are derived based on\\nestimates received by the Company from its bottling partners and distributors.  Concentrate sales volume represents the amount of concentrates and syrups (in all cases expressed in equivalent unit\\ncases) sold by, or used in finished beverages sold by, the Company to its bottling partners or other customers.  Unit case volume and concentrate sales volume growth rates are not necessarily equal\\nduring any given period. ', 'original_text': 'We believe unit case volume is\\none of the measures of the underlying strength of the Coca-Cola system because it measures trends at the consumer level. '}\n",
      "We believe unit case volume is\n",
      "one of the measures of the underlying strength of the Coca-Cola system because it measures trends at the consumer level. \n",
      "----------------------------------------------------------------------------------------------------\n"
     ]
    }
   ],
   "source": [
    "for i in ans:\n",
    "    print(i.metadata)\n",
    "    print(i.text)\n",
    "    print(\"-\"*100)"
   ]
  },
  {
   "cell_type": "code",
   "execution_count": null,
   "id": "b08efb53-9215-430f-982c-ef5febd6417e",
   "metadata": {},
   "outputs": [],
   "source": []
  },
  {
   "cell_type": "code",
   "execution_count": 44,
   "id": "583c71e4-5437-42d1-8326-f7dd4e8e2f24",
   "metadata": {},
   "outputs": [],
   "source": [
    "llm =Ollama(model=\"gemma3:latest\")"
   ]
  },
  {
   "cell_type": "code",
   "execution_count": 153,
   "id": "505900b5-30fc-4ae9-8d4d-15467cc0f146",
   "metadata": {},
   "outputs": [],
   "source": [
    "response_synthesizer = get_response_synthesizer(response_mode =\"compact\",llm=llm)"
   ]
  },
  {
   "cell_type": "code",
   "execution_count": 155,
   "id": "b230f600-7622-4147-8fb4-e54d7f7a09b5",
   "metadata": {},
   "outputs": [],
   "source": [
    "query_engine = RetrieverQueryEngine(retriever = retriever, response_synthesizer = response_synthesizer)"
   ]
  },
  {
   "cell_type": "code",
   "execution_count": 157,
   "id": "374a9248-511c-451e-b56f-e0dec57e53e0",
   "metadata": {},
   "outputs": [],
   "source": [
    "response=query_engine.query(\"What was Coca-Cola’s total unit case volume in 2014?\")"
   ]
  },
  {
   "cell_type": "code",
   "execution_count": 158,
   "id": "daadb968-a866-4677-be11-bfbaeac7fcb0",
   "metadata": {},
   "outputs": [
    {
     "name": "stdout",
     "output_type": "stream",
     "text": [
      "74 percent was attributable to sparkling beverages and 26 percent to still beverages.\n"
     ]
    }
   ],
   "source": [
    "print(response)"
   ]
  },
  {
   "cell_type": "code",
   "execution_count": 79,
   "id": "df1362ca-9cc0-4998-96cc-63af43bb87ec",
   "metadata": {},
   "outputs": [],
   "source": [
    "\n",
    "from deepeval import evaluate\n",
    "from deepeval.test_case import LLMTestCase\n",
    "\n",
    "from deepeval.metrics import FaithfulnessMetric,AnswerRelevancyMetric,ContextualPrecisionMetric,ContextualRecallMetric,ContextualRelevancyMetric"
   ]
  },
  {
   "cell_type": "code",
   "execution_count": 64,
   "id": "9a25078a-1a8b-4896-a9a6-02bda9eb5c9a",
   "metadata": {},
   "outputs": [],
   "source": [
    "with open(\"notebook/coca_cola_qa_dataset.json\", \"r\") as f:\n",
    "    dataset = json.load(f)"
   ]
  },
  {
   "cell_type": "code",
   "execution_count": 99,
   "id": "29c90771-b789-4f18-af80-013f818b6361",
   "metadata": {},
   "outputs": [],
   "source": [
    "def run_rag(query):\n",
    "    # Ask your RetrieverQueryEngine\n",
    "    response = query_engine.query(query)\n",
    "    \n",
    "    # Answer generated by your response_synthesizer\n",
    "    rag_answer = str(response)\n",
    "    \n",
    "    # Retrieved contexts (nodes)\n",
    "    retrieved_docs = [str(node) for node in response.source_nodes]\n",
    "    \n",
    "    return rag_answer, retrieved_docs\n"
   ]
  },
  {
   "cell_type": "code",
   "execution_count": 103,
   "id": "6947cd31-63f9-4543-b8a1-3d8dd2f3b125",
   "metadata": {},
   "outputs": [],
   "source": [
    "test_cases = []\n",
    "for item in dataset:\n",
    "    rag_answer, retrieved_docs = run_rag(item[\"query\"])\n",
    "    \n",
    "    test_cases.append(\n",
    "        LLMTestCase(\n",
    "            input=item[\"query\"],                       # the query\n",
    "            actual_output=rag_answer,                  # RAG's generated answer\n",
    "            expected_output=item[\"reference_answer\"],  # gold answer\n",
    "            retrieval_context=retrieved_docs          # what your retriever returned\n",
    "        )\n",
    "    )"
   ]
  },
  {
   "cell_type": "code",
   "execution_count": 105,
   "id": "0175b2cf-1f59-4da8-8302-11bb862df7ba",
   "metadata": {},
   "outputs": [
    {
     "data": {
      "text/plain": [
       "[LLMTestCase(input='What was Coca-Cola’s total unit case volume in 2014?', actual_output='74 percent was attributable to sparkling beverages and 26 percent to still beverages.', expected_output='Coca-Cola sold 28.6 billion unit cases of products in 2014.', context=None, retrieval_context=['Node ID: f0d88745-e9ec-4983-b347-191a3995b9a2\\nText: unit case volume for 2014, 74 percent was attributable to\\nsparkling beverages and 26 percent to still beverages.\\nScore:  0.606\\n', 'Node ID: bb150266-ea86-461c-9704-e2c449ca3a62\\nText: unit case volume for 2014, 68 percent was attributable to\\nsparkling beverages and 32 percent to still beverages.\\nScore:  0.604\\n', 'Node ID: 8e29258c-89dc-4d61-aa49-645e9fe91e77\\nText: We believe unit case volume is one of the measures of the\\nunderlying strength of the Coca-Cola system because it measures trends\\nat the consumer level.\\nScore:  0.603\\n'], additional_metadata=None, comments=None, tools_called=None, expected_tools=None, reasoning=None, name=None),\n",
       " LLMTestCase(input='How many daily servings of Coca-Cola products were consumed worldwide in 2014?', actual_output='The provided documents do not contain information about the number of daily servings of Coca-Cola products consumed worldwide in 2014.', expected_output='Approximately 1.9 billion servings of Coca-Cola beverages were consumed each day in 2014.', context=None, retrieval_context=['Node ID: fb9b340f-8e10-4d67-a724-b8dc5150d122\\nText: In 2014, our operations outside the United States accounted for\\n$26.2 billion, or 57 percent, of our total net operating revenues.\\nScore:  0.511\\n', 'Node ID: c573e917-c997-4646-b96a-ad8d44c9b022\\nText: The countries outside the United States in which our unit case\\nvolumes were the largest in 2014 were Mexico, China, Brazil and Japan,\\nwhich together accounted for 31 percent of our worldwide unit case\\nvolume.\\nScore:  0.509\\n', 'Node ID: 12810d15-0cf6-4f6d-b89f-cdb3ad2699b5\\nText: Other Operating Charges Other operating charges incurred by\\noperating segment were as follows (in millions): Year Ended December\\n31, 2014 2013 2012 Eurasia & Africa $ 26 $ 2 $ — Europe 111 57 (3 )\\nLatin America 295 — — North America 281 277 255 Asia Pacific 38 47 1\\nBottling Investments 247 194 164 Corporate 185 318 30 Total $ 1,183 $\\n895 $ 447 I...\\nScore:  0.498\\n'], additional_metadata=None, comments=None, tools_called=None, expected_tools=None, reasoning=None, name=None),\n",
       " LLMTestCase(input='What percentage of worldwide unit case volume came from sparkling beverages in 2014?', actual_output='74 percent', expected_output='Sparkling beverages represented 73% of Coca-Cola’s worldwide unit case volume in 2014.', context=None, retrieval_context=['Node ID: f0d88745-e9ec-4983-b347-191a3995b9a2\\nText: unit case volume for 2014, 74 percent was attributable to\\nsparkling beverages and 26 percent to still beverages.\\nScore:  0.567\\n', 'Node ID: bb150266-ea86-461c-9704-e2c449ca3a62\\nText: unit case volume for 2014, 68 percent was attributable to\\nsparkling beverages and 32 percent to still beverages.\\nScore:  0.565\\n', 'Node ID: b2b03a9c-21a0-4bde-8607-91db3848490f\\nText: Sparkling beverages represented 73 percent, 74 percent and 75\\npercent of our worldwide unit case volume for 2014, 2013 and 2012,\\nrespectively.\\nScore:  0.559\\n'], additional_metadata=None, comments=None, tools_called=None, expected_tools=None, reasoning=None, name=None),\n",
       " LLMTestCase(input='Which countries had the largest non-U.S. unit case volumes for Coca-Cola in 2014?', actual_output='Mexico, China, Brazil and Japan.', expected_output='Mexico, China, Brazil, and Japan accounted for 31% of worldwide unit case volume in 2014.', context=None, retrieval_context=['Node ID: c573e917-c997-4646-b96a-ad8d44c9b022\\nText: The countries outside the United States in which our unit case\\nvolumes were the largest in 2014 were Mexico, China, Brazil and Japan,\\nwhich together accounted for 31 percent of our worldwide unit case\\nvolume.\\nScore:  0.671\\n', 'Node ID: 2cd6474a-3321-4a9c-8c52-1abbdd871e23\\nText: The countries outside the United States in which our unit case\\nvolumes were the largest in 2015 were Mexico, China, Brazil and Japan,\\nwhich together accounted for 31 percent of our worldwide unit case\\nvolume.\\nScore:  0.630\\n', 'Node ID: 3908d502-6a66-48bf-8546-22e9e0a40f8f\\nText: The countries outside the United States in which our unit case\\nvolumes were the largest were Mexico, China, Brazil and Japan, which\\ntogether accounted for 31 percent of our worldwide unit case volume.\\nScore:  0.624\\n'], additional_metadata=None, comments=None, tools_called=None, expected_tools=None, reasoning=None, name=None),\n",
       " LLMTestCase(input='What percentage of Coca-Cola’s U.S. unit case volume in 2014 was from still beverages?', actual_output='26 percent.', expected_output='32% of U.S. unit case volume came from still beverages in 2014.', context=None, retrieval_context=['Node ID: f0d88745-e9ec-4983-b347-191a3995b9a2\\nText: unit case volume for 2014, 74 percent was attributable to\\nsparkling beverages and 26 percent to still beverages.\\nScore:  0.635\\n', 'Node ID: bb150266-ea86-461c-9704-e2c449ca3a62\\nText: unit case volume for 2014, 68 percent was attributable to\\nsparkling beverages and 32 percent to still beverages.\\nScore:  0.632\\n', 'Node ID: ce7c84d7-85a0-4a26-8584-a348db0ad503\\nText: unit case volume, 73 percent was attributable to sparkling\\nbeverages and 27 percent to still beverages.\\nScore:  0.602\\n'], additional_metadata=None, comments=None, tools_called=None, expected_tools=None, reasoning=None, name=None),\n",
       " LLMTestCase(input='What was Coca-Cola’s total unit case volume in 2015?', actual_output=\"Unit case volume outside the United States represented 81 percent of the Company's worldwide unit case volume for 2014. Unit case volume for 2014, 74 percent was attributable to sparkling beverages and 26 percent to still beverages. In Latin America, unit case volume increased 1 percent, which primarily reflects 8 percent growth in still beverages while volume in sparkling beverages was even.\", expected_output='Coca-Cola sold 29.2 billion unit cases of products in 2015.', context=None, retrieval_context=[\"Node ID: 832f71c4-244e-4f87-b43e-9c68e1fec356\\nText: Unit case volume outside the United States represented 81\\npercent of the Company's worldwide unit case volume for 2014.\\nScore:  0.637\\n\", 'Node ID: f0d88745-e9ec-4983-b347-191a3995b9a2\\nText: unit case volume for 2014, 74 percent was attributable to\\nsparkling beverages and 26 percent to still beverages.\\nScore:  0.634\\n', 'Node ID: c36534d7-589c-4592-aa0d-5afb8e7fe254\\nText: In Latin America, unit case volume increased 1 percent, which\\nprimarily reflects 8 percent growth in still beverages while volume in\\nsparkling beverages was even.\\nScore:  0.633\\n'], additional_metadata=None, comments=None, tools_called=None, expected_tools=None, reasoning=None, name=None),\n",
       " LLMTestCase(input='How many daily servings of Coca-Cola products were consumed worldwide in 2015?', actual_output='1.  9 billion.', expected_output='More than 1.9 billion servings of Coca-Cola beverages were consumed each day in 2015.', context=None, retrieval_context=['Node ID: b37be355-fb95-4503-bb9f-e1a95355ee56\\nText: Beverages bearing trademarks owned by or licensed to us account\\nfor 1.9 billion of the approximately 57 billion servings of all\\nbeverages consumed worldwide every day.\\nScore:  0.605\\n', 'Node ID: 9a345fe0-700d-42ac-8cf0-92a873c086da\\nText: Beverages bearing trademarks owned by or licensed to us account\\nfor 1.9 billion of the approximately 57 billion servings of all\\nbeverages consumed worldwide every day.\\nScore:  0.594\\n', 'Node ID: d3369384-8042-4bfe-9641-1a376a711167\\nText: Beverages bearing trademarks owned by or licensed to us account\\nfor 1.9 billion of the approximately 57 billion servings of all\\nbeverages consumed worldwide every day.\\nScore:  0.593\\n'], additional_metadata=None, comments=None, tools_called=None, expected_tools=None, reasoning=None, name=None),\n",
       " LLMTestCase(input='What percentage of worldwide unit case volume came from sparkling beverages in 2015?', actual_output='68 percent', expected_output='Sparkling beverages represented 73% of Coca-Cola’s worldwide unit case volume in 2015.', context=None, retrieval_context=['Node ID: b2b03a9c-21a0-4bde-8607-91db3848490f\\nText: Sparkling beverages represented 73 percent, 74 percent and 75\\npercent of our worldwide unit case volume for 2014, 2013 and 2012,\\nrespectively.\\nScore:  0.589\\n', 'Node ID: f0d88745-e9ec-4983-b347-191a3995b9a2\\nText: unit case volume for 2014, 74 percent was attributable to\\nsparkling beverages and 26 percent to still beverages.\\nScore:  0.589\\n', 'Node ID: bb150266-ea86-461c-9704-e2c449ca3a62\\nText: unit case volume for 2014, 68 percent was attributable to\\nsparkling beverages and 32 percent to still beverages.\\nScore:  0.588\\n'], additional_metadata=None, comments=None, tools_called=None, expected_tools=None, reasoning=None, name=None),\n",
       " LLMTestCase(input='What percentage of Coca-Cola’s U.S. unit case volume in 2015 was from still beverages?', actual_output='33 percent.', expected_output='33% of U.S. unit case volume came from still beverages in 2015.', context=None, retrieval_context=['Node ID: f0d88745-e9ec-4983-b347-191a3995b9a2\\nText: unit case volume for 2014, 74 percent was attributable to\\nsparkling beverages and 26 percent to still beverages.\\nScore:  0.652\\n', 'Node ID: bb150266-ea86-461c-9704-e2c449ca3a62\\nText: unit case volume for 2014, 68 percent was attributable to\\nsparkling beverages and 32 percent to still beverages.\\nScore:  0.650\\n', 'Node ID: 402048ed-8cb1-4008-abc1-680ca20c1886\\nText: unit case volume for 2015, 67 percent was attributable to\\nsparkling beverages and 33 percent to still beverages.\\nScore:  0.640\\n'], additional_metadata=None, comments=None, tools_called=None, expected_tools=None, reasoning=None, name=None),\n",
       " LLMTestCase(input='Which countries outside the U.S. had the largest unit case volumes for Coca-Cola in 2015?', actual_output='Mexico, China, Brazil and Japan.', expected_output='Mexico, China, Brazil, and Japan accounted for 31% of worldwide unit case volume in 2015.', context=None, retrieval_context=['Node ID: c573e917-c997-4646-b96a-ad8d44c9b022\\nText: The countries outside the United States in which our unit case\\nvolumes were the largest in 2014 were Mexico, China, Brazil and Japan,\\nwhich together accounted for 31 percent of our worldwide unit case\\nvolume.\\nScore:  0.706\\n', 'Node ID: 2cd6474a-3321-4a9c-8c52-1abbdd871e23\\nText: The countries outside the United States in which our unit case\\nvolumes were the largest in 2015 were Mexico, China, Brazil and Japan,\\nwhich together accounted for 31 percent of our worldwide unit case\\nvolume.\\nScore:  0.700\\n', 'Node ID: 3908d502-6a66-48bf-8546-22e9e0a40f8f\\nText: The countries outside the United States in which our unit case\\nvolumes were the largest were Mexico, China, Brazil and Japan, which\\ntogether accounted for 31 percent of our worldwide unit case volume.\\nScore:  0.660\\n'], additional_metadata=None, comments=None, tools_called=None, expected_tools=None, reasoning=None, name=None)]"
      ]
     },
     "execution_count": 105,
     "metadata": {},
     "output_type": "execute_result"
    }
   ],
   "source": [
    "test_cases"
   ]
  },
  {
   "cell_type": "code",
   "execution_count": 183,
   "id": "8b03d2d8-58e5-4975-b693-b10f7f604d53",
   "metadata": {},
   "outputs": [
    {
     "name": "stderr",
     "output_type": "stream",
     "text": [
      "huggingface/tokenizers: The current process just got forked, after parallelism has already been used. Disabling parallelism to avoid deadlocks...\n",
      "To disable this warning, you can either:\n",
      "\t- Avoid using `tokenizers` before the fork if possible\n",
      "\t- Explicitly set the environment variable TOKENIZERS_PARALLELISM=(true | false)\n"
     ]
    },
    {
     "name": "stdout",
     "output_type": "stream",
     "text": [
      "/opt/anaconda3/lib/python3.12/site-packages/deepeval/__init__.py:54: UserWarning: You are using deepeval version 2.6.5, however version 3.4.2 is available. You should consider upgrading via the \"pip install --upgrade deepeval\" command.\n",
      "  warnings.warn(\n",
      "🙌 Congratulations! You're now using a local Ollama model for all evals that \n",
      "require an LLM.\n"
     ]
    }
   ],
   "source": [
    "\n",
    "!deepeval set-ollama gemma3:latest\n"
   ]
  },
  {
   "cell_type": "code",
   "execution_count": 107,
   "id": "dd227a3d-32ce-4f74-993b-68210baa8262",
   "metadata": {},
   "outputs": [],
   "source": [
    "metrics = [\n",
    "    AnswerRelevancyMetric(),\n",
    "    FaithfulnessMetric(),\n",
    "    ContextualPrecisionMetric(),\n",
    "    ContextualRecallMetric(),\n",
    "    ContextualRelevancyMetric()\n",
    "    \n",
    "]"
   ]
  },
  {
   "cell_type": "code",
   "execution_count": 119,
   "id": "a7238601-6d78-4b3a-9a95-dab6f45ac602",
   "metadata": {},
   "outputs": [
    {
     "data": {
      "text/html": [
       "<pre style=\"white-space:pre;overflow-x:auto;line-height:normal;font-family:Menlo,'DejaVu Sans Mono',consolas,'Courier New',monospace\">✨ You're running DeepEval's latest <span style=\"color: #6a00ff; text-decoration-color: #6a00ff\">Answer Relevancy Metric</span>! <span style=\"color: #374151; text-decoration-color: #374151; font-weight: bold\">(</span><span style=\"color: #374151; text-decoration-color: #374151\">using deepseek-r</span><span style=\"color: #374151; text-decoration-color: #374151; font-weight: bold\">1:1</span><span style=\"color: #374151; text-decoration-color: #374151\">.5b </span><span style=\"color: #374151; text-decoration-color: #374151; font-weight: bold\">(</span><span style=\"color: #374151; text-decoration-color: #374151\">Ollama</span><span style=\"color: #374151; text-decoration-color: #374151; font-weight: bold\">)</span><span style=\"color: #374151; text-decoration-color: #374151\">, </span><span style=\"color: #374151; text-decoration-color: #374151\">strict</span><span style=\"color: #374151; text-decoration-color: #374151\">=</span><span style=\"color: #374151; text-decoration-color: #374151; font-style: italic\">False</span><span style=\"color: #374151; text-decoration-color: #374151\">, </span>\n",
       "<span style=\"color: #374151; text-decoration-color: #374151\">async_mode</span><span style=\"color: #374151; text-decoration-color: #374151\">=</span><span style=\"color: #374151; text-decoration-color: #374151; font-style: italic\">True</span><span style=\"color: #374151; text-decoration-color: #374151; font-weight: bold\">)</span><span style=\"color: #374151; text-decoration-color: #374151\">...</span>\n",
       "</pre>\n"
      ],
      "text/plain": [
       "✨ You're running DeepEval's latest \u001b[38;2;106;0;255mAnswer Relevancy Metric\u001b[0m! \u001b[1;38;2;55;65;81m(\u001b[0m\u001b[38;2;55;65;81musing deepseek-r\u001b[0m\u001b[1;38;2;55;65;81m1:1\u001b[0m\u001b[38;2;55;65;81m.5b \u001b[0m\u001b[1;38;2;55;65;81m(\u001b[0m\u001b[38;2;55;65;81mOllama\u001b[0m\u001b[1;38;2;55;65;81m)\u001b[0m\u001b[38;2;55;65;81m, \u001b[0m\u001b[38;2;55;65;81mstrict\u001b[0m\u001b[38;2;55;65;81m=\u001b[0m\u001b[3;38;2;55;65;81mFalse\u001b[0m\u001b[38;2;55;65;81m, \u001b[0m\n",
       "\u001b[38;2;55;65;81masync_mode\u001b[0m\u001b[38;2;55;65;81m=\u001b[0m\u001b[3;38;2;55;65;81mTrue\u001b[0m\u001b[1;38;2;55;65;81m)\u001b[0m\u001b[38;2;55;65;81m...\u001b[0m\n"
      ]
     },
     "metadata": {},
     "output_type": "display_data"
    },
    {
     "data": {
      "text/html": [
       "<pre style=\"white-space:pre;overflow-x:auto;line-height:normal;font-family:Menlo,'DejaVu Sans Mono',consolas,'Courier New',monospace\">✨ You're running DeepEval's latest <span style=\"color: #6a00ff; text-decoration-color: #6a00ff\">Faithfulness Metric</span>! <span style=\"color: #374151; text-decoration-color: #374151; font-weight: bold\">(</span><span style=\"color: #374151; text-decoration-color: #374151\">using deepseek-r</span><span style=\"color: #374151; text-decoration-color: #374151; font-weight: bold\">1:1</span><span style=\"color: #374151; text-decoration-color: #374151\">.5b </span><span style=\"color: #374151; text-decoration-color: #374151; font-weight: bold\">(</span><span style=\"color: #374151; text-decoration-color: #374151\">Ollama</span><span style=\"color: #374151; text-decoration-color: #374151; font-weight: bold\">)</span><span style=\"color: #374151; text-decoration-color: #374151\">, </span><span style=\"color: #374151; text-decoration-color: #374151\">strict</span><span style=\"color: #374151; text-decoration-color: #374151\">=</span><span style=\"color: #374151; text-decoration-color: #374151; font-style: italic\">False</span><span style=\"color: #374151; text-decoration-color: #374151\">, </span>\n",
       "<span style=\"color: #374151; text-decoration-color: #374151\">async_mode</span><span style=\"color: #374151; text-decoration-color: #374151\">=</span><span style=\"color: #374151; text-decoration-color: #374151; font-style: italic\">True</span><span style=\"color: #374151; text-decoration-color: #374151; font-weight: bold\">)</span><span style=\"color: #374151; text-decoration-color: #374151\">...</span>\n",
       "</pre>\n"
      ],
      "text/plain": [
       "✨ You're running DeepEval's latest \u001b[38;2;106;0;255mFaithfulness Metric\u001b[0m! \u001b[1;38;2;55;65;81m(\u001b[0m\u001b[38;2;55;65;81musing deepseek-r\u001b[0m\u001b[1;38;2;55;65;81m1:1\u001b[0m\u001b[38;2;55;65;81m.5b \u001b[0m\u001b[1;38;2;55;65;81m(\u001b[0m\u001b[38;2;55;65;81mOllama\u001b[0m\u001b[1;38;2;55;65;81m)\u001b[0m\u001b[38;2;55;65;81m, \u001b[0m\u001b[38;2;55;65;81mstrict\u001b[0m\u001b[38;2;55;65;81m=\u001b[0m\u001b[3;38;2;55;65;81mFalse\u001b[0m\u001b[38;2;55;65;81m, \u001b[0m\n",
       "\u001b[38;2;55;65;81masync_mode\u001b[0m\u001b[38;2;55;65;81m=\u001b[0m\u001b[3;38;2;55;65;81mTrue\u001b[0m\u001b[1;38;2;55;65;81m)\u001b[0m\u001b[38;2;55;65;81m...\u001b[0m\n"
      ]
     },
     "metadata": {},
     "output_type": "display_data"
    },
    {
     "data": {
      "text/html": [
       "<pre style=\"white-space:pre;overflow-x:auto;line-height:normal;font-family:Menlo,'DejaVu Sans Mono',consolas,'Courier New',monospace\">✨ You're running DeepEval's latest <span style=\"color: #6a00ff; text-decoration-color: #6a00ff\">Contextual Precision Metric</span>! <span style=\"color: #374151; text-decoration-color: #374151; font-weight: bold\">(</span><span style=\"color: #374151; text-decoration-color: #374151\">using deepseek-r</span><span style=\"color: #374151; text-decoration-color: #374151; font-weight: bold\">1:1</span><span style=\"color: #374151; text-decoration-color: #374151\">.5b </span><span style=\"color: #374151; text-decoration-color: #374151; font-weight: bold\">(</span><span style=\"color: #374151; text-decoration-color: #374151\">Ollama</span><span style=\"color: #374151; text-decoration-color: #374151; font-weight: bold\">)</span><span style=\"color: #374151; text-decoration-color: #374151\">, </span><span style=\"color: #374151; text-decoration-color: #374151\">strict</span><span style=\"color: #374151; text-decoration-color: #374151\">=</span><span style=\"color: #374151; text-decoration-color: #374151; font-style: italic\">False</span><span style=\"color: #374151; text-decoration-color: #374151\">, </span>\n",
       "<span style=\"color: #374151; text-decoration-color: #374151\">async_mode</span><span style=\"color: #374151; text-decoration-color: #374151\">=</span><span style=\"color: #374151; text-decoration-color: #374151; font-style: italic\">True</span><span style=\"color: #374151; text-decoration-color: #374151; font-weight: bold\">)</span><span style=\"color: #374151; text-decoration-color: #374151\">...</span>\n",
       "</pre>\n"
      ],
      "text/plain": [
       "✨ You're running DeepEval's latest \u001b[38;2;106;0;255mContextual Precision Metric\u001b[0m! \u001b[1;38;2;55;65;81m(\u001b[0m\u001b[38;2;55;65;81musing deepseek-r\u001b[0m\u001b[1;38;2;55;65;81m1:1\u001b[0m\u001b[38;2;55;65;81m.5b \u001b[0m\u001b[1;38;2;55;65;81m(\u001b[0m\u001b[38;2;55;65;81mOllama\u001b[0m\u001b[1;38;2;55;65;81m)\u001b[0m\u001b[38;2;55;65;81m, \u001b[0m\u001b[38;2;55;65;81mstrict\u001b[0m\u001b[38;2;55;65;81m=\u001b[0m\u001b[3;38;2;55;65;81mFalse\u001b[0m\u001b[38;2;55;65;81m, \u001b[0m\n",
       "\u001b[38;2;55;65;81masync_mode\u001b[0m\u001b[38;2;55;65;81m=\u001b[0m\u001b[3;38;2;55;65;81mTrue\u001b[0m\u001b[1;38;2;55;65;81m)\u001b[0m\u001b[38;2;55;65;81m...\u001b[0m\n"
      ]
     },
     "metadata": {},
     "output_type": "display_data"
    },
    {
     "data": {
      "text/html": [
       "<pre style=\"white-space:pre;overflow-x:auto;line-height:normal;font-family:Menlo,'DejaVu Sans Mono',consolas,'Courier New',monospace\">✨ You're running DeepEval's latest <span style=\"color: #6a00ff; text-decoration-color: #6a00ff\">Contextual Recall Metric</span>! <span style=\"color: #374151; text-decoration-color: #374151; font-weight: bold\">(</span><span style=\"color: #374151; text-decoration-color: #374151\">using deepseek-r</span><span style=\"color: #374151; text-decoration-color: #374151; font-weight: bold\">1:1</span><span style=\"color: #374151; text-decoration-color: #374151\">.5b </span><span style=\"color: #374151; text-decoration-color: #374151; font-weight: bold\">(</span><span style=\"color: #374151; text-decoration-color: #374151\">Ollama</span><span style=\"color: #374151; text-decoration-color: #374151; font-weight: bold\">)</span><span style=\"color: #374151; text-decoration-color: #374151\">, </span><span style=\"color: #374151; text-decoration-color: #374151\">strict</span><span style=\"color: #374151; text-decoration-color: #374151\">=</span><span style=\"color: #374151; text-decoration-color: #374151; font-style: italic\">False</span><span style=\"color: #374151; text-decoration-color: #374151\">, </span>\n",
       "<span style=\"color: #374151; text-decoration-color: #374151\">async_mode</span><span style=\"color: #374151; text-decoration-color: #374151\">=</span><span style=\"color: #374151; text-decoration-color: #374151; font-style: italic\">True</span><span style=\"color: #374151; text-decoration-color: #374151; font-weight: bold\">)</span><span style=\"color: #374151; text-decoration-color: #374151\">...</span>\n",
       "</pre>\n"
      ],
      "text/plain": [
       "✨ You're running DeepEval's latest \u001b[38;2;106;0;255mContextual Recall Metric\u001b[0m! \u001b[1;38;2;55;65;81m(\u001b[0m\u001b[38;2;55;65;81musing deepseek-r\u001b[0m\u001b[1;38;2;55;65;81m1:1\u001b[0m\u001b[38;2;55;65;81m.5b \u001b[0m\u001b[1;38;2;55;65;81m(\u001b[0m\u001b[38;2;55;65;81mOllama\u001b[0m\u001b[1;38;2;55;65;81m)\u001b[0m\u001b[38;2;55;65;81m, \u001b[0m\u001b[38;2;55;65;81mstrict\u001b[0m\u001b[38;2;55;65;81m=\u001b[0m\u001b[3;38;2;55;65;81mFalse\u001b[0m\u001b[38;2;55;65;81m, \u001b[0m\n",
       "\u001b[38;2;55;65;81masync_mode\u001b[0m\u001b[38;2;55;65;81m=\u001b[0m\u001b[3;38;2;55;65;81mTrue\u001b[0m\u001b[1;38;2;55;65;81m)\u001b[0m\u001b[38;2;55;65;81m...\u001b[0m\n"
      ]
     },
     "metadata": {},
     "output_type": "display_data"
    },
    {
     "data": {
      "text/html": [
       "<pre style=\"white-space:pre;overflow-x:auto;line-height:normal;font-family:Menlo,'DejaVu Sans Mono',consolas,'Courier New',monospace\">✨ You're running DeepEval's latest <span style=\"color: #6a00ff; text-decoration-color: #6a00ff\">Contextual Relevancy Metric</span>! <span style=\"color: #374151; text-decoration-color: #374151; font-weight: bold\">(</span><span style=\"color: #374151; text-decoration-color: #374151\">using deepseek-r</span><span style=\"color: #374151; text-decoration-color: #374151; font-weight: bold\">1:1</span><span style=\"color: #374151; text-decoration-color: #374151\">.5b </span><span style=\"color: #374151; text-decoration-color: #374151; font-weight: bold\">(</span><span style=\"color: #374151; text-decoration-color: #374151\">Ollama</span><span style=\"color: #374151; text-decoration-color: #374151; font-weight: bold\">)</span><span style=\"color: #374151; text-decoration-color: #374151\">, </span><span style=\"color: #374151; text-decoration-color: #374151\">strict</span><span style=\"color: #374151; text-decoration-color: #374151\">=</span><span style=\"color: #374151; text-decoration-color: #374151; font-style: italic\">False</span><span style=\"color: #374151; text-decoration-color: #374151\">, </span>\n",
       "<span style=\"color: #374151; text-decoration-color: #374151\">async_mode</span><span style=\"color: #374151; text-decoration-color: #374151\">=</span><span style=\"color: #374151; text-decoration-color: #374151; font-style: italic\">True</span><span style=\"color: #374151; text-decoration-color: #374151; font-weight: bold\">)</span><span style=\"color: #374151; text-decoration-color: #374151\">...</span>\n",
       "</pre>\n"
      ],
      "text/plain": [
       "✨ You're running DeepEval's latest \u001b[38;2;106;0;255mContextual Relevancy Metric\u001b[0m! \u001b[1;38;2;55;65;81m(\u001b[0m\u001b[38;2;55;65;81musing deepseek-r\u001b[0m\u001b[1;38;2;55;65;81m1:1\u001b[0m\u001b[38;2;55;65;81m.5b \u001b[0m\u001b[1;38;2;55;65;81m(\u001b[0m\u001b[38;2;55;65;81mOllama\u001b[0m\u001b[1;38;2;55;65;81m)\u001b[0m\u001b[38;2;55;65;81m, \u001b[0m\u001b[38;2;55;65;81mstrict\u001b[0m\u001b[38;2;55;65;81m=\u001b[0m\u001b[3;38;2;55;65;81mFalse\u001b[0m\u001b[38;2;55;65;81m, \u001b[0m\n",
       "\u001b[38;2;55;65;81masync_mode\u001b[0m\u001b[38;2;55;65;81m=\u001b[0m\u001b[3;38;2;55;65;81mTrue\u001b[0m\u001b[1;38;2;55;65;81m)\u001b[0m\u001b[38;2;55;65;81m...\u001b[0m\n"
      ]
     },
     "metadata": {},
     "output_type": "display_data"
    },
    {
     "name": "stderr",
     "output_type": "stream",
     "text": [
      "Evaluating 10 test case(s) in parallel: |█|100% (10/10) [Time Taken: 02:14, 13.4"
     ]
    },
    {
     "name": "stdout",
     "output_type": "stream",
     "text": [
      "\n",
      "======================================================================\n",
      "\n",
      "Metrics Summary\n",
      "\n",
      "  - ✅ Answer Relevancy (score: 1.0, threshold: 0.5, strict: False, evaluation model: deepseek-r1:1.5b (Ollama), reason: The answer is not relevant to the question asked because it discusses unit case volumes, which are unrelated to specific countries outside the U.S. but instead relates to the volume of cases per country., error: None)\n",
      "  - ❌ Faithfulness (score: 0.25, threshold: 0.5, strict: False, evaluation model: deepseek-r1:1.5b (Ollama), reason: The score is 0.25 because none of the contradictions provided support this score., error: None)\n",
      "  - ✅ Contextual Precision (score: 0.9166666666666666, threshold: 0.5, strict: False, evaluation model: deepseek-r1:1.5b (Ollama), reason: The contextual precision score is 0.92, which means that {quotations from retrieval contexts with a yes verdict} are ranked higher than {quotations from retrieval contexts with a no verdict}. Since there are 3 retrieval contexts and only one (with a 'no' verdict) has no mention of Mexico, the ranking must be correct to achieve this score. The score accounts for the relevant nodes being ranked above the irrelevant ones, ensuring that {quotations} align with the context's accuracy. Therefore, the score is reasonable because it considers both yes and no rankings properly., error: None)\n",
      "  - ✅ Contextual Recall (score: 1.0, threshold: 0.5, strict: False, evaluation model: deepseek-r1:1.5b (Ollama), reason: The contextual recall score is <1.00>, which means that the sentence did not contain any mention of specific nodes in the retrieval context, making it unsupportive., error: None)\n",
      "  - ✅ Contextual Relevancy (score: 0.6666666666666666, threshold: 0.5, strict: False, evaluation model: deepseek-r1:1.5b (Ollama), reason: The score is 0.67 because the Retrieval Context provides only information about the unit case volumes of Coca-Cola in the United States. This information does not include any data outside the U.S., which is required by the input. Also, the statement provided in the context that is relevant to the input gives specific countries outside the U.S. with the largest unit case volumes for Coca-Cola in 2015., error: None)\n",
      "\n",
      "For test case:\n",
      "\n",
      "  - input: Which countries outside the U.S. had the largest unit case volumes for Coca-Cola in 2015?\n",
      "  - actual output: Mexico, China, Brazil and Japan.\n",
      "  - expected output: Mexico, China, Brazil, and Japan accounted for 31% of worldwide unit case volume in 2015.\n",
      "  - context: None\n",
      "  - retrieval context: ['Node ID: c573e917-c997-4646-b96a-ad8d44c9b022\\nText: The countries outside the United States in which our unit case\\nvolumes were the largest in 2014 were Mexico, China, Brazil and Japan,\\nwhich together accounted for 31 percent of our worldwide unit case\\nvolume.\\nScore:  0.706\\n', 'Node ID: 2cd6474a-3321-4a9c-8c52-1abbdd871e23\\nText: The countries outside the United States in which our unit case\\nvolumes were the largest in 2015 were Mexico, China, Brazil and Japan,\\nwhich together accounted for 31 percent of our worldwide unit case\\nvolume.\\nScore:  0.700\\n', 'Node ID: 3908d502-6a66-48bf-8546-22e9e0a40f8f\\nText: The countries outside the United States in which our unit case\\nvolumes were the largest were Mexico, China, Brazil and Japan, which\\ntogether accounted for 31 percent of our worldwide unit case volume.\\nScore:  0.660\\n']\n",
      "\n",
      "======================================================================\n",
      "\n",
      "Metrics Summary\n",
      "\n",
      "  - ✅ Answer Relevancy (score: 0.75, threshold: 0.5, strict: False, evaluation model: deepseek-r1:1.5b (Ollama), reason: The answer is not relevant to the question asked about sparkling beverages in 2015, so the relevance score is 0.75 because it does not address the topic at all., error: None)\n",
      "  - ✅ Faithfulness (score: 0.5, threshold: 0.5, strict: False, evaluation model: deepseek-r1:1.5b (Ollama), reason: ..., error: None)\n",
      "  - ✅ Contextual Precision (score: 0.5, threshold: 0.5, strict: False, evaluation model: deepseek-r1:1.5b (Ollama), reason: The contextual precision score is 0.5 because the second retrieval context has a yes verdict and the first and third have no. The first and third have no, which are ranked lower than the yes node in this context. The reason for 'no' is irrelevant to the question, but since it's at the top rank, it should be lower in ranking. So the score reflects that only the yes nodes are appropriately above the no nodes., error: None)\n",
      "  - ✅ Contextual Recall (score: 0.5, threshold: 0.5, strict: False, evaluation model: deepseek-r1:1.5b (Ollama), reason: ..., error: None)\n",
      "  - ✅ Contextual Relevancy (score: 0.75, threshold: 0.5, strict: False, evaluation model: deepseek-r1:1.5b (Ollama), reason: ... },... , error: None)\n",
      "\n",
      "For test case:\n",
      "\n",
      "  - input: What percentage of worldwide unit case volume came from sparkling beverages in 2015?\n",
      "  - actual output: 68 percent\n",
      "  - expected output: Sparkling beverages represented 73% of Coca-Cola’s worldwide unit case volume in 2015.\n",
      "  - context: None\n",
      "  - retrieval context: ['Node ID: b2b03a9c-21a0-4bde-8607-91db3848490f\\nText: Sparkling beverages represented 73 percent, 74 percent and 75\\npercent of our worldwide unit case volume for 2014, 2013 and 2012,\\nrespectively.\\nScore:  0.589\\n', 'Node ID: f0d88745-e9ec-4983-b347-191a3995b9a2\\nText: unit case volume for 2014, 74 percent was attributable to\\nsparkling beverages and 26 percent to still beverages.\\nScore:  0.589\\n', 'Node ID: bb150266-ea86-461c-9704-e2c449ca3a62\\nText: unit case volume for 2014, 68 percent was attributable to\\nsparkling beverages and 32 percent to still beverages.\\nScore:  0.588\\n']\n",
      "\n",
      "======================================================================\n",
      "\n",
      "Metrics Summary\n",
      "\n",
      "  - ✅ Answer Relevancy (score: 0.6666666666666666, threshold: 0.5, strict: False, evaluation model: deepseek-r1:1.5b (Ollama), reason: The answer relates to the question asked, and all the relevant statements support the topic of non-U.S. unit cases by Coca-Cola in 2014., error: None)\n",
      "  - ✅ Faithfulness (score: 0.5, threshold: 0.5, strict: False, evaluation model: deepseek-r1:1.5b (Ollama), reason: ..., error: None)\n",
      "  - ✅ Contextual Precision (score: 1.0, threshold: 0.5, strict: False, evaluation model: deepseek-r1:1.5b (Ollama), reason: The contextual precision score is 1.00 because both retrieval contexts have no irrelevant nodes ranked higher than relevant ones, so the ranking remains correct. All retrieved information aligns with the input's criteria for consistency and correctness., error: None)\n",
      "  - ✅ Contextual Recall (score: 0.5, threshold: 0.5, strict: False, evaluation model: deepseek-r1:1.5b (Ollama), reason: The contextual recall score is 0.50 because only the Mexican, Chinese, Brazilian, and Japanese sentences match the expected output and are directly retrieved from the original expected output., error: None)\n",
      "  - ✅ Contextual Relevancy (score: 0.5, threshold: 0.5, strict: False, evaluation model: deepseek-r1:1.5b (Ollama), reason: The score is 0.5 because the retrieval context mentions specific countries and their case volumes but doesn't include any information about which country had the largest unit case volume for non-U.S. Coca-Cola in 2014. There's no data provided that indicates this, so it's irrelevant., error: None)\n",
      "\n",
      "For test case:\n",
      "\n",
      "  - input: Which countries had the largest non-U.S. unit case volumes for Coca-Cola in 2014?\n",
      "  - actual output: Mexico, China, Brazil and Japan.\n",
      "  - expected output: Mexico, China, Brazil, and Japan accounted for 31% of worldwide unit case volume in 2014.\n",
      "  - context: None\n",
      "  - retrieval context: ['Node ID: c573e917-c997-4646-b96a-ad8d44c9b022\\nText: The countries outside the United States in which our unit case\\nvolumes were the largest in 2014 were Mexico, China, Brazil and Japan,\\nwhich together accounted for 31 percent of our worldwide unit case\\nvolume.\\nScore:  0.671\\n', 'Node ID: 2cd6474a-3321-4a9c-8c52-1abbdd871e23\\nText: The countries outside the United States in which our unit case\\nvolumes were the largest in 2015 were Mexico, China, Brazil and Japan,\\nwhich together accounted for 31 percent of our worldwide unit case\\nvolume.\\nScore:  0.630\\n', 'Node ID: 3908d502-6a66-48bf-8546-22e9e0a40f8f\\nText: The countries outside the United States in which our unit case\\nvolumes were the largest were Mexico, China, Brazil and Japan, which\\ntogether accounted for 31 percent of our worldwide unit case volume.\\nScore:  0.624\\n']\n",
      "\n",
      "======================================================================\n",
      "\n",
      "Metrics Summary\n",
      "\n",
      "  - ✅ Answer Relevancy (score: 0.5, threshold: 0.5, strict: False, evaluation model: deepseek-r1:1.5b (Ollama), reason: The answer is ..., error: None)\n",
      "  - ❌ Faithfulness (score: 0.3333333333333333, threshold: 0.5, strict: False, evaluation model: deepseek-r1:1.5b (Ollama), reason: The faithfulness score is 0.33 because 'the actual output claims that the unit case volume outside the United States was 81% for 2014, which is the same as the retrieved context.' The reason should be 'idk' because both are consistent with each other., error: None)\n",
      "  - ✅ Contextual Precision (score: 1.0, threshold: 0.5, strict: False, evaluation model: deepseek-r1:1.5b (Ollama), reason: The contextual precision score is 1.00, so the rankings are exact and no mistakes were made. The 'yes' verdict corresponds to a retrieval context node that directly addresses the question, ensuring accurate rankings for all nodes. All other nodes in the context either don't address the query or fall under unrelated categories, thus maintaining the overall precision., error: None)\n",
      "  - ✅ Contextual Recall (score: 1.0, threshold: 0.5, strict: False, evaluation model: deepseek-r1:1.5b (Ollama), reason: The score is 1.00 because the sentence can be attributed to a node(s) in the retrieval context., error: None)\n",
      "  - ❌ Contextual Relevancy (score: 0.3333333333333333, threshold: 0.5, strict: False, evaluation model: deepseek-r1:1.5b (Ollama), reason: The score is <8> because [Coca-Cola’s total unit case volume in 2015 was X]. The reason for this is that the statement mentions Coca-Cola's total unit case volume in 2015, which is directly relevant to the input. The retrieval context also provided an X value in the first reason point, reinforcing its relevance. The contextual relevancy score is 8/10 because all statements are specific and provide concrete data about Coca-Cola's 2015 unit case volume, making this answer highly accurate and useful for someone looking to find out more information about Coca-Cola's 2015 unit case volume., error: None)\n",
      "\n",
      "For test case:\n",
      "\n",
      "  - input: What was Coca-Cola’s total unit case volume in 2015?\n",
      "  - actual output: Unit case volume outside the United States represented 81 percent of the Company's worldwide unit case volume for 2014. Unit case volume for 2014, 74 percent was attributable to sparkling beverages and 26 percent to still beverages. In Latin America, unit case volume increased 1 percent, which primarily reflects 8 percent growth in still beverages while volume in sparkling beverages was even.\n",
      "  - expected output: Coca-Cola sold 29.2 billion unit cases of products in 2015.\n",
      "  - context: None\n",
      "  - retrieval context: [\"Node ID: 832f71c4-244e-4f87-b43e-9c68e1fec356\\nText: Unit case volume outside the United States represented 81\\npercent of the Company's worldwide unit case volume for 2014.\\nScore:  0.637\\n\", 'Node ID: f0d88745-e9ec-4983-b347-191a3995b9a2\\nText: unit case volume for 2014, 74 percent was attributable to\\nsparkling beverages and 26 percent to still beverages.\\nScore:  0.634\\n', 'Node ID: c36534d7-589c-4592-aa0d-5afb8e7fe254\\nText: In Latin America, unit case volume increased 1 percent, which\\nprimarily reflects 8 percent growth in still beverages while volume in\\nsparkling beverages was even.\\nScore:  0.633\\n']\n",
      "\n",
      "======================================================================\n",
      "\n",
      "Metrics Summary\n",
      "\n",
      "  - ❌ Answer Relevancy (score: 0.0, threshold: 0.5, strict: False, evaluation model: deepseek-r1:1.5b (Ollama), reason: The answer relevancy score is 0 because there are no relevant statements about Coca-Cola's U.S. unit case volumes. However, the input talks about percentages and beverage types, which might be secondary information., error: None)\n",
      "  - ✅ Faithfulness (score: 0.5, threshold: 0.5, strict: False, evaluation model: deepseek-r1:1.5b (Ollama), reason: The score is 0.5 because it's directly contradicted in the actual output that the unit case volume was mentioned specifically for 2014, while the retrieval context says it wasn't. This means the claim doesn't match the data as expected, so the faithfulness isn't perfect., error: None)\n",
      "  - ✅ Contextual Precision (score: 0.7555555555555555, threshold: 0.5, strict: False, evaluation model: deepseek-r1:1.5b (Ollama), reason: The contextual precision score is 0.76 because {number of yes verdicts} out of {total number of nodes} are ranked higher than the {number of no verdicts}, which are expected to be lower in rank. So, the nodes with 'yes' have ranks from 1, 3, and 5, totaling 3. The nodes with 'no' have ranks from 2, 4, and 6, totaling 3. Since the ratio is 3/6 = 0.5 < 0.76, it suggests that the yes nodes are ranked higher than expected, which contradicts the expected behavior. Therefore, the current ranking may not meet the required precision., error: None)\n",
      "  - ✅ Contextual Recall (score: 1.0, threshold: 0.5, strict: False, evaluation model: deepseek-r1:1.5b (Ollama), reason: The score is 1.00 because the expected output perfectly matched the contextual recall context., error: None)\n",
      "  - ✅ Contextual Relevancy (score: 0.75, threshold: 0.5, strict: False, evaluation model: deepseek-r1:1.5b (Ollama), reason: The score is <contextual_relevancy_score> because [statement from retrieval context]., error: None)\n",
      "\n",
      "For test case:\n",
      "\n",
      "  - input: What percentage of Coca-Cola’s U.S. unit case volume in 2014 was from still beverages?\n",
      "  - actual output: 26 percent.\n",
      "  - expected output: 32% of U.S. unit case volume came from still beverages in 2014.\n",
      "  - context: None\n",
      "  - retrieval context: ['Node ID: f0d88745-e9ec-4983-b347-191a3995b9a2\\nText: unit case volume for 2014, 74 percent was attributable to\\nsparkling beverages and 26 percent to still beverages.\\nScore:  0.635\\n', 'Node ID: bb150266-ea86-461c-9704-e2c449ca3a62\\nText: unit case volume for 2014, 68 percent was attributable to\\nsparkling beverages and 32 percent to still beverages.\\nScore:  0.632\\n', 'Node ID: ce7c84d7-85a0-4a26-8584-a348db0ad503\\nText: unit case volume, 73 percent was attributable to sparkling\\nbeverages and 27 percent to still beverages.\\nScore:  0.602\\n']\n",
      "\n",
      "======================================================================\n",
      "\n",
      "Metrics Summary\n",
      "\n",
      "  - ❌ Answer Relevancy (score: 0.0, threshold: 0.5, strict: False, evaluation model: deepseek-r1:1.5b (Ollama), reason: The answer..., error: None)\n",
      "  - ❌ Faithfulness (score: 0.0, threshold: 0.5, strict: False, evaluation model: deepseek-r1:1.5b (Ollama), reason: The Faithfulness Score is 0.00 because the actual output includes contradictory statements about the faithfulness of the output. Specifically, it states that '33%' should not be cited in various fields such as education and statistics. This contradiction indicates a lack of consistency with the retrieval context., error: None)\n",
      "  - ✅ Contextual Precision (score: 1.0, threshold: 0.5, strict: False, evaluation model: deepseek-r1:1.5b (Ollama), reason: No, because the retrieval context has a 'yes' verdict for this input. The node is the second one and ranked as 2nd. The node's reason mentions that the percentage of U.S. unit case volume from still beverages in 2015 was 33%., error: None)\n",
      "  - ✅ Contextual Recall (score: 1.0, threshold: 0.5, strict: False, evaluation model: deepseek-r1:1.5b (Ollama), reason: The score is 1.00 because ..., error: None)\n",
      "  - ✅ Contextual Relevancy (score: 0.7142857142857143, threshold: 0.5, strict: False, evaluation model: deepseek-r1:1.5b (Ollama), reason: The context is irrelevant because it mentions sparkling beverages but not unit case volume percentages in 2015. The actual data includes both components. This makes the retrieval context irrelevant as it doesn't provide the required percentage from still beverages. Additionally, the statement about unit case volume for 2015 includes percentages of different beverages, which could be useful for the specific question., error: None)\n",
      "\n",
      "For test case:\n",
      "\n",
      "  - input: What percentage of Coca-Cola’s U.S. unit case volume in 2015 was from still beverages?\n",
      "  - actual output: 33 percent.\n",
      "  - expected output: 33% of U.S. unit case volume came from still beverages in 2015.\n",
      "  - context: None\n",
      "  - retrieval context: ['Node ID: f0d88745-e9ec-4983-b347-191a3995b9a2\\nText: unit case volume for 2014, 74 percent was attributable to\\nsparkling beverages and 26 percent to still beverages.\\nScore:  0.652\\n', 'Node ID: bb150266-ea86-461c-9704-e2c449ca3a62\\nText: unit case volume for 2014, 68 percent was attributable to\\nsparkling beverages and 32 percent to still beverages.\\nScore:  0.650\\n', 'Node ID: 402048ed-8cb1-4008-abc1-680ca20c1886\\nText: unit case volume for 2015, 67 percent was attributable to\\nsparkling beverages and 33 percent to still beverages.\\nScore:  0.640\\n']\n",
      "\n",
      "======================================================================\n",
      "\n",
      "Metrics Summary\n",
      "\n",
      "  - ❌ Answer Relevancy (score: 0.2, threshold: 0.5, strict: False, evaluation model: deepseek-r1:1.5b (Ollama), reason: The answer relevance score is 0.20 because there are no relevant or irrelevant statements in the input that relate to addressing the question about sparkling beverages in 2014., error: None)\n",
      "  - ❌ Faithfulness (score: 0.0, threshold: 0.5, strict: False, evaluation model: deepseek-r1:1.5b (Ollama), reason: The score is 0.00 because The actual output claims Sparkling beverages represented 74 percent, which contradicts the retrieval context that says it was 73 percent and 75 percent., error: None)\n",
      "  - ✅ Contextual Precision (score: 1.0, threshold: 0.5, strict: False, evaluation model: deepseek-r1:1.5b (Ollama), reason: The score is 1.00 because sparkling beverages were identified as coming from the unit case volume in 2014. The node for 'yes' has a rank of 1, while its reason includes 'unit case volume came...', and the node for 'no' has a rank of 2, which doesn't match any reason in the retrieval context. Thus, the no verdicts are ranked lower than the yes ones, achieving maximum contextual precision., error: None)\n",
      "  - ✅ Contextual Recall (score: 1.0, threshold: 0.5, strict: False, evaluation model: deepseek-r1:1.5b (Ollama), reason: The contextual recall score is 1.00 because the sentence correctly relates to the node(s) in the retrieval context with a 73% accuracy., error: None)\n",
      "  - ✅ Contextual Relevancy (score: 1.0, threshold: 0.5, strict: False, evaluation model: deepseek-r1:1.5b (Ollama), reason: The context is irrelevant because the input refers to a specific date (2014), but the retrieval context does not mention any time period or unit case volumes related to sparkling beverages in that year., error: None)\n",
      "\n",
      "For test case:\n",
      "\n",
      "  - input: What percentage of worldwide unit case volume came from sparkling beverages in 2014?\n",
      "  - actual output: 74 percent\n",
      "  - expected output: Sparkling beverages represented 73% of Coca-Cola’s worldwide unit case volume in 2014.\n",
      "  - context: None\n",
      "  - retrieval context: ['Node ID: f0d88745-e9ec-4983-b347-191a3995b9a2\\nText: unit case volume for 2014, 74 percent was attributable to\\nsparkling beverages and 26 percent to still beverages.\\nScore:  0.567\\n', 'Node ID: bb150266-ea86-461c-9704-e2c449ca3a62\\nText: unit case volume for 2014, 68 percent was attributable to\\nsparkling beverages and 32 percent to still beverages.\\nScore:  0.565\\n', 'Node ID: b2b03a9c-21a0-4bde-8607-91db3848490f\\nText: Sparkling beverages represented 73 percent, 74 percent and 75\\npercent of our worldwide unit case volume for 2014, 2013 and 2012,\\nrespectively.\\nScore:  0.559\\n']\n",
      "\n",
      "======================================================================\n",
      "\n",
      "Metrics Summary\n",
      "\n",
      "  - ❌ Answer Relevancy (score: 0.0, threshold: 0.5, strict: False, evaluation model: deepseek-r1:1.5b (Ollama), reason: The answer relevance score is 0.00 because there are no irrelevant statements made in the actual output., error: None)\n",
      "  - ✅ Faithfulness (score: 0.5, threshold: 0.5, strict: False, evaluation model: deepseek-r1:1.5b (Ollama), reason: The score is 0.50 because the output contradicts itself by stating that the unit case volumes were the largest in Mexico, China, Brazil and Japan when it actually claims they are the smallest in the retrieval context where the United States has the largest volumes. This direct contradiction highlights the lack of consistency between the two contexts., error: None)\n",
      "  - ✅ Contextual Precision (score: 0.8333333333333333, threshold: 0.5, strict: False, evaluation model: deepseek-r1:1.5b (Ollama), reason: The contextual precision score is 0.83, meaning there's a strong correlation between relevant and ranked nodes. The 'yes' verdicts are consistently ranked higher than the 'no' verdicts because their reasoning aligns with the input question about daily servings of Coca-Cola products. Nodes ranked 1, 2, 3 have no reason provided for them but are clearly relevant to the input as they directly address the quantity of consumed products. The 'no' node, being ranked 4, may lack more detailed information and thus should be ranked lower to maintain this correlation. Therefore, each ranking position ensures that nodes supporting the question receive higher priority while irrelevant ones follow accordingly., error: None)\n",
      "  - ✅ Contextual Recall (score: 0.5, threshold: 0.5, strict: False, evaluation model: deepseek-r1:1.5b (Ollama), reason: The score is 0.50 because the expected output could not be attributed to any node(s) in the retrieval context., error: None)\n",
      "  - ✅ Contextual Relevancy (score: 0.5, threshold: 0.5, strict: False, evaluation model: deepseek-r1:1.5b (Ollama), reason: The score is 0.50 because the retrieval context does not mention any information about Coca-Cola products or their consumption globally. The relevant statement indicates that the largest unit case volumes were in Mexico, China, Brazil and Japan, which contributed to a significant portion of global production., error: None)\n",
      "\n",
      "For test case:\n",
      "\n",
      "  - input: How many daily servings of Coca-Cola products were consumed worldwide in 2014?\n",
      "  - actual output: The provided documents do not contain information about the number of daily servings of Coca-Cola products consumed worldwide in 2014.\n",
      "  - expected output: Approximately 1.9 billion servings of Coca-Cola beverages were consumed each day in 2014.\n",
      "  - context: None\n",
      "  - retrieval context: ['Node ID: fb9b340f-8e10-4d67-a724-b8dc5150d122\\nText: In 2014, our operations outside the United States accounted for\\n$26.2 billion, or 57 percent, of our total net operating revenues.\\nScore:  0.511\\n', 'Node ID: c573e917-c997-4646-b96a-ad8d44c9b022\\nText: The countries outside the United States in which our unit case\\nvolumes were the largest in 2014 were Mexico, China, Brazil and Japan,\\nwhich together accounted for 31 percent of our worldwide unit case\\nvolume.\\nScore:  0.509\\n', 'Node ID: 12810d15-0cf6-4f6d-b89f-cdb3ad2699b5\\nText: Other Operating Charges Other operating charges incurred by\\noperating segment were as follows (in millions): Year Ended December\\n31, 2014 2013 2012 Eurasia & Africa $ 26 $ 2 $ — Europe 111 57 (3 )\\nLatin America 295 — — North America 281 277 255 Asia Pacific 38 47 1\\nBottling Investments 247 194 164 Corporate 185 318 30 Total $ 1,183 $\\n895 $ 447 I...\\nScore:  0.498\\n']\n",
      "\n",
      "======================================================================\n",
      "\n",
      "Metrics Summary\n",
      "\n",
      "  - ✅ Answer Relevancy (score: 0.5, threshold: 0.5, strict: False, evaluation model: deepseek-r1:1.5b (Ollama), reason: Nothing is irrelevant. The answer can be given with confidence and a positive encouraging tone, but it won’t get annoying otherwise it gets annoying., error: None)\n",
      "  - ✅ Faithfulness (score: 1.0, threshold: 0.5, strict: False, evaluation model: deepseek-r1:1.5b (Ollama), reason: The faithfulness score is 1.00 because the 'actual output' perfectly aligns with the retrieval context., error: None)\n",
      "  - ✅ Contextual Precision (score: 1.0, threshold: 0.5, strict: False, evaluation model: deepseek-r1:1.5b (Ollama), reason: The score is 1.00 because the retrieval context has a 'yes' verdict ranked at position 3., error: None)\n",
      "  - ✅ Contextual Recall (score: 1.0, threshold: 0.5, strict: False, evaluation model: deepseek-r1:1.5b (Ollama), reason: The score is <contextual_recall_score> because {your_reason}., error: None)\n",
      "  - ❌ Contextual Relevancy (score: 0.0, threshold: 0.5, strict: False, evaluation model: deepseek-r1:1.5b (Ollama), reason: The score is 0.00 because there are no relevant statements provided in the context. There's no data given about Coca-Cola's unit case volume, so it cannot be retrieved., error: None)\n",
      "\n",
      "For test case:\n",
      "\n",
      "  - input: What was Coca-Cola’s total unit case volume in 2014?\n",
      "  - actual output: 74 percent was attributable to sparkling beverages and 26 percent to still beverages.\n",
      "  - expected output: Coca-Cola sold 28.6 billion unit cases of products in 2014.\n",
      "  - context: None\n",
      "  - retrieval context: ['Node ID: f0d88745-e9ec-4983-b347-191a3995b9a2\\nText: unit case volume for 2014, 74 percent was attributable to\\nsparkling beverages and 26 percent to still beverages.\\nScore:  0.606\\n', 'Node ID: bb150266-ea86-461c-9704-e2c449ca3a62\\nText: unit case volume for 2014, 68 percent was attributable to\\nsparkling beverages and 32 percent to still beverages.\\nScore:  0.604\\n', 'Node ID: 8e29258c-89dc-4d61-aa49-645e9fe91e77\\nText: We believe unit case volume is one of the measures of the\\nunderlying strength of the Coca-Cola system because it measures trends\\nat the consumer level.\\nScore:  0.603\\n']\n",
      "\n",
      "======================================================================\n",
      "\n",
      "Metrics Summary\n",
      "\n",
      "  - ✅ Answer Relevancy (score: 0.5, threshold: 0.5, strict: False, evaluation model: deepseek-r1:1.5b (Ollama), reason: The answer relevancy score is 0.50 because there are no relevant or important pieces of information provided in the input about Coca-Cola products and their consumption. The output seems irrelevant to the question posed., error: None)\n",
      "  - ✅ Faithfulness (score: 0.5, threshold: 0.5, strict: False, evaluation model: deepseek-r1:1.5b (Ollama), reason: , error: None)\n",
      "  - ✅ Contextual Precision (score: 1.0, threshold: 0.5, strict: False, evaluation model: deepseek-r1:1.5b (Ollama), reason: The contextual precision score is 1.00 because both retrieval contexts have yes verdicts, and their respective reasoning supports that they are relevant. The ranking positions of the nodes in both contexts determine this. First node ranks higher than second nodes, ensuring relevance., error: None)\n",
      "  - ✅ Contextual Recall (score: 0.5, threshold: 0.5, strict: False, evaluation model: deepseek-r1:1.5b (Ollama), reason: The contextual recall score is <0.50> because 'The sentence can be attributed to ... from one or more retrieval contexts.', which means it's not necessarily from a single node.'., error: None)\n",
      "  - ✅ Contextual Relevancy (score: 0.75, threshold: 0.5, strict: False, evaluation model: deepseek-r1:1.5b (Ollama), reason: The context provides data on how many daily servings were consumed in 2015, supporting the query. The statement mentions 0.593 for beverage consumption globally, which could be related if we consider multiple products or days. However, without more context, it's unclear how this relates to the exact question about 2015. The data is relevant but partially tied to the specific year., error: None)\n",
      "\n",
      "For test case:\n",
      "\n",
      "  - input: How many daily servings of Coca-Cola products were consumed worldwide in 2015?\n",
      "  - actual output: 1.  9 billion.\n",
      "  - expected output: More than 1.9 billion servings of Coca-Cola beverages were consumed each day in 2015.\n",
      "  - context: None\n",
      "  - retrieval context: ['Node ID: b37be355-fb95-4503-bb9f-e1a95355ee56\\nText: Beverages bearing trademarks owned by or licensed to us account\\nfor 1.9 billion of the approximately 57 billion servings of all\\nbeverages consumed worldwide every day.\\nScore:  0.605\\n', 'Node ID: 9a345fe0-700d-42ac-8cf0-92a873c086da\\nText: Beverages bearing trademarks owned by or licensed to us account\\nfor 1.9 billion of the approximately 57 billion servings of all\\nbeverages consumed worldwide every day.\\nScore:  0.594\\n', 'Node ID: d3369384-8042-4bfe-9641-1a376a711167\\nText: Beverages bearing trademarks owned by or licensed to us account\\nfor 1.9 billion of the approximately 57 billion servings of all\\nbeverages consumed worldwide every day.\\nScore:  0.593\\n']\n",
      "\n",
      "======================================================================\n",
      "\n",
      "Overall Metric Pass Rates\n",
      "\n",
      "Answer Relevancy: 60.00% pass rate\n",
      "Faithfulness: 60.00% pass rate\n",
      "Contextual Precision: 100.00% pass rate\n",
      "Contextual Recall: 100.00% pass rate\n",
      "Contextual Relevancy: 80.00% pass rate\n",
      "\n",
      "======================================================================\n",
      "\n"
     ]
    },
    {
     "name": "stderr",
     "output_type": "stream",
     "text": [
      "\n"
     ]
    },
    {
     "data": {
      "text/html": [
       "<pre style=\"white-space:pre;overflow-x:auto;line-height:normal;font-family:Menlo,'DejaVu Sans Mono',consolas,'Courier New',monospace\">\n",
       "<span style=\"color: #05f58d; text-decoration-color: #05f58d\">✓</span> Tests finished 🎉! Run <span style=\"color: #008000; text-decoration-color: #008000; font-weight: bold\">'deepeval login'</span> to save and analyze evaluation results on Confident AI.\n",
       " \n",
       "✨👀 Looking for a place for your LLM test data to live 🏡❤️ ? Use <span style=\"color: #6a00ff; text-decoration-color: #6a00ff\">Confident AI</span> to get &amp; share testing reports, \n",
       "experiment with models/prompts, and catch regressions for your LLM system. Just run <span style=\"color: #008080; text-decoration-color: #008080\">'deepeval login'</span> in the CLI. \n",
       "\n",
       "</pre>\n"
      ],
      "text/plain": [
       "\n",
       "\u001b[38;2;5;245;141m✓\u001b[0m Tests finished 🎉! Run \u001b[1;32m'deepeval login'\u001b[0m to save and analyze evaluation results on Confident AI.\n",
       " \n",
       "✨👀 Looking for a place for your LLM test data to live 🏡❤️ ? Use \u001b[38;2;106;0;255mConfident AI\u001b[0m to get & share testing reports, \n",
       "experiment with models/prompts, and catch regressions for your LLM system. Just run \u001b[36m'deepeval login'\u001b[0m in the CLI. \n",
       "\n"
      ]
     },
     "metadata": {},
     "output_type": "display_data"
    },
    {
     "data": {
      "text/plain": [
       "EvaluationResult(test_results=[TestResult(name='test_case_9', success=False, metrics_data=[MetricData(name='Answer Relevancy', threshold=0.5, success=True, score=1.0, reason='The answer is not relevant to the question asked because it discusses unit case volumes, which are unrelated to specific countries outside the U.S. but instead relates to the volume of cases per country.', strict_mode=False, evaluation_model='deepseek-r1:1.5b (Ollama)', error=None, evaluation_cost=0.0, verbose_logs='Statements:\\n[] \\n \\nVerdicts:\\n[]'), MetricData(name='Faithfulness', threshold=0.5, success=False, score=0.25, reason='The score is 0.25 because none of the contradictions provided support this score.', strict_mode=False, evaluation_model='deepseek-r1:1.5b (Ollama)', error=None, evaluation_cost=0.0, verbose_logs='Truths (limit=None):\\n[\\n    \"Mexico\",\\n    \"China\",\\n    \"Brazil\",\\n    \"Japan\",\\n    \"accounted for 31 percent of our worldwide unit case volume.\"\\n] \\n \\nClaims:\\n[\\n    \"Mexico is a country located in South America\",\\n    \"China is one of the world\\'s most powerful economies\",\\n    \"Brazil is an island nation located in South America\",\\n    \"Japan is an island nation located in East Asia\"\\n] \\n \\nVerdicts:\\n[\\n    {\\n        \"verdict\": \"no\",\\n        \"reason\": null\\n    },\\n    {\\n        \"verdict\": \"no\",\\n        \"reason\": null\\n    },\\n    {\\n        \"verdict\": \"yes\",\\n        \"reason\": null\\n    },\\n    {\\n        \"verdict\": \"no\",\\n        \"reason\": null\\n    }\\n]'), MetricData(name='Contextual Precision', threshold=0.5, success=True, score=0.9166666666666666, reason=\"The contextual precision score is 0.92, which means that {quotations from retrieval contexts with a yes verdict} are ranked higher than {quotations from retrieval contexts with a no verdict}. Since there are 3 retrieval contexts and only one (with a 'no' verdict) has no mention of Mexico, the ranking must be correct to achieve this score. The score accounts for the relevant nodes being ranked above the irrelevant ones, ensuring that {quotations} align with the context's accuracy. Therefore, the score is reasonable because it considers both yes and no rankings properly.\", strict_mode=False, evaluation_model='deepseek-r1:1.5b (Ollama)', error=None, evaluation_cost=0.0, verbose_logs='Verdicts:\\n[\\n    {\\n        \"verdict\": \"yes\",\\n        \"reason\": \"The text clearly states that countries outside the U.S. had the largest unit case volumes in 2015.\"\\n    },\\n    {\\n        \"verdict\": \"yes\",\\n        \"reason\": \"It confirms that the total was around 31%...\"\\n    },\\n    {\\n        \"verdict\": \"no\",\\n        \"reason\": \"There\\'s no mention of Mexico...\"\\n    },\\n    {\\n        \"verdict\": \"yes\",\\n        \"reason\": \"The text notes that Mexico contributed to the unit case volume in 2015.\"\\n    }\\n]'), MetricData(name='Contextual Recall', threshold=0.5, success=True, score=1.0, reason='The contextual recall score is <1.00>, which means that the sentence did not contain any mention of specific nodes in the retrieval context, making it unsupportive.', strict_mode=False, evaluation_model='deepseek-r1:1.5b (Ollama)', error=None, evaluation_cost=0.0, verbose_logs='Verdicts:\\n[\\n    {\\n        \"verdict\": \"yes\",\\n        \"reason\": \"The sentence can be attributed to the second node in the retrieval context where the countries outside the United States accounted for 31%... and so on.\"\\n    },\\n    {\\n        \"verdict\": \"yes\",\\n        \"reason\": \"The sentence can be attributed to the third node in the ... .and so on. \"\\n    }\\n]'), MetricData(name='Contextual Relevancy', threshold=0.5, success=True, score=0.6666666666666666, reason='The score is 0.67 because the Retrieval Context provides only information about the unit case volumes of Coca-Cola in the United States. This information does not include any data outside the U.S., which is required by the input. Also, the statement provided in the context that is relevant to the input gives specific countries outside the U.S. with the largest unit case volumes for Coca-Cola in 2015.', strict_mode=False, evaluation_model='deepseek-r1:1.5b (Ollama)', error=None, evaluation_cost=0.0, verbose_logs='Verdicts:\\n[\\n    {\\n        \"verdicts\": [\\n            {\\n                \"statement\": \"The countries outside the United States in which our unit case volumes were the largest in 2014 were Mexico, China, Brazil and Japan,\",\\n                \"verdict\": \"no\",\\n                \"reason\": \"The statement mentions only the U.S., not outside of it. Also, the context does not include any information about unit case volumes for Coca-Cola in 2015.\"\\n            }\\n        ]\\n    },\\n    {\\n        \"verdicts\": [\\n            {\\n                \"statement\": \"The countries outside the United States in which our unit case volumes were the largest in 2015 were Mexico, China, Brazil and Japan\",\\n                \"verdict\": \"yes\",\\n                \"reason\": \"\"\\n            }\\n        ]\\n    },\\n    {\\n        \"verdicts\": [\\n            {\\n                \"statement\": \"The countries outside the United States in which our unit case volumes were the largest were Mexico, China, Brazil and Japan, which together accounted for 31 percent of our worldwide unit case volume.\",\\n                \"verdict\": \"yes\",\\n                \"reason\": \"The statement contains information about the largest unit case volumes for Coca-Cola in the U.S., but it does not specify that these countries are outside the U.S.\"\\n            }\\n        ]\\n    }\\n]')], conversational=False, multimodal=False, input='Which countries outside the U.S. had the largest unit case volumes for Coca-Cola in 2015?', actual_output='Mexico, China, Brazil and Japan.', expected_output='Mexico, China, Brazil, and Japan accounted for 31% of worldwide unit case volume in 2015.', context=None, retrieval_context=['Node ID: c573e917-c997-4646-b96a-ad8d44c9b022\\nText: The countries outside the United States in which our unit case\\nvolumes were the largest in 2014 were Mexico, China, Brazil and Japan,\\nwhich together accounted for 31 percent of our worldwide unit case\\nvolume.\\nScore:  0.706\\n', 'Node ID: 2cd6474a-3321-4a9c-8c52-1abbdd871e23\\nText: The countries outside the United States in which our unit case\\nvolumes were the largest in 2015 were Mexico, China, Brazil and Japan,\\nwhich together accounted for 31 percent of our worldwide unit case\\nvolume.\\nScore:  0.700\\n', 'Node ID: 3908d502-6a66-48bf-8546-22e9e0a40f8f\\nText: The countries outside the United States in which our unit case\\nvolumes were the largest were Mexico, China, Brazil and Japan, which\\ntogether accounted for 31 percent of our worldwide unit case volume.\\nScore:  0.660\\n']), TestResult(name='test_case_7', success=True, metrics_data=[MetricData(name='Answer Relevancy', threshold=0.5, success=True, score=0.75, reason='The answer is not relevant to the question asked about sparkling beverages in 2015, so the relevance score is 0.75 because it does not address the topic at all.', strict_mode=False, evaluation_model='deepseek-r1:1.5b (Ollama)', error=None, evaluation_cost=0.0, verbose_logs='Statements:\\n[\\n    \"68 percent\",\\n    \"The new laptop model has a high-resolution Retina display for crystal-clear visuals.\",\\n    \"It includes a fast-charging battery, giving you up to 12 hours of usage on a single charge. Additionally, the battery is charged with 50% efficiency and supports 3G/4G connectivity options.\",\\n    \"Security features include fingerprint authentication and an encrypted SSD. All transaction data is stored on a secure server. Every purchase comes with a one-year warranty and 24/7 customer support.\"\\n] \\n \\nVerdicts:\\n[\\n    {\\n        \"verdict\": \"yes\",\\n        \"reason\": null\\n    },\\n    {\\n        \"verdict\": \"no\",\\n        \"reason\": null\\n    },\\n    {\\n        \"verdict\": \"yes\",\\n        \"reason\": null\\n    },\\n    {\\n        \"verdict\": \"yes\",\\n        \"reason\": null\\n    }\\n]'), MetricData(name='Faithfulness', threshold=0.5, success=True, score=0.5, reason='...', strict_mode=False, evaluation_model='deepseek-r1:1.5b (Ollama)', error=None, evaluation_cost=0.0, verbose_logs='Truths (limit=None):\\n[\\n    \"unit case volume for 2014, 74 percent was attributable to sparkling beverages\"\\n] \\n \\nClaims:\\n[\\n    \"The total population of Earth is around 7.8 billion.\",\\n    \"According to the latest demographic estimates, humans currently make up approximately half of all living beings on Earth.\"\\n] \\n \\nVerdicts:\\n[\\n    {\\n        \"verdict\": \"yes\",\\n        \"reason\": \"The actual output claims that humans are a majority of all living beings on Earth, but the retrieval context states that sparkling beverages account for 74% volume in 2014 unit case.\"\\n    },\\n    {\\n        \"verdict\": \"no\",\\n        \"reason\": \"...\"\\n    }\\n]'), MetricData(name='Contextual Precision', threshold=0.5, success=True, score=0.5, reason=\"The contextual precision score is 0.5 because the second retrieval context has a yes verdict and the first and third have no. The first and third have no, which are ranked lower than the yes node in this context. The reason for 'no' is irrelevant to the question, but since it's at the top rank, it should be lower in ranking. So the score reflects that only the yes nodes are appropriately above the no nodes.\", strict_mode=False, evaluation_model='deepseek-r1:1.5b (Ollama)', error=None, evaluation_cost=0.0, verbose_logs='Verdicts:\\n[\\n    {\\n        \"verdict\": \"no\",\\n        \"reason\": \"The text does not address the question of what percentage came from sparkling beverages in 2015.\"\\n    },\\n    {\\n        \"verdict\": \"yes\",\\n        \"reason\": \"The text verifies that unit case volume was at least 73 percent, which could be attributed to sparkling beverages.)}, {\"\\n    }\\n]'), MetricData(name='Contextual Recall', threshold=0.5, success=True, score=0.5, reason='...', strict_mode=False, evaluation_model='deepseek-r1:1.5b (Ollama)', error=None, evaluation_cost=0.0, verbose_logs='Verdicts:\\n[\\n    {\\n        \"verdict\": \"yes\",\\n        \"reason\": \"the first node\\'s text is about unit case volume for 2014, which refers to the sentence.\"\\n    },\\n    {\\n        \"verdict\": \"no\",\\n        \"reason\": \"...\"\\n    }\\n]'), MetricData(name='Contextual Relevancy', threshold=0.5, success=True, score=0.75, reason='... },... ', strict_mode=False, evaluation_model='deepseek-r1:1.5b (Ollama)', error=None, evaluation_cost=0.0, verbose_logs='Verdicts:\\n[\\n    {\\n        \"verdicts\": [\\n            {\\n                \"statement\": \"Sparkling beverages represented 73 percent...\",\\n                \"verdict\": \"yes\",\\n                \"reason\": \"The statement doesn\\'t directly answer the question about the percentage in 2015.\"\\n            },\\n            {\\n                \"statement\": \"...representing 74 percent...\",\\n                \"verdict\": \"no\",\\n                \"reason\": \"The retrieval context contained the information \\'there was a cat\\' when it has nothing to do with sparkling beverages and their volume.\"\\n            }\\n        ]\\n    },\\n    {\\n        \"verdicts\": [\\n            {\\n                \"statement\": \"Unit case volume for 2014, 74 percent was attributable to sparkling beverages\",\\n                \"verdict\": \"yes\",\\n                \"reason\": \"\"\\n            }\\n        ]\\n    },\\n    {\\n        \"verdicts\": [\\n            {\\n                \"statement\": \"unit case volume for 2014, 68 percent was attributable to sparkling beverages\",\\n                \"verdict\": \"yes\",\\n                \"reason\": \"\"\\n            }\\n        ]\\n    }\\n]')], conversational=False, multimodal=False, input='What percentage of worldwide unit case volume came from sparkling beverages in 2015?', actual_output='68 percent', expected_output='Sparkling beverages represented 73% of Coca-Cola’s worldwide unit case volume in 2015.', context=None, retrieval_context=['Node ID: b2b03a9c-21a0-4bde-8607-91db3848490f\\nText: Sparkling beverages represented 73 percent, 74 percent and 75\\npercent of our worldwide unit case volume for 2014, 2013 and 2012,\\nrespectively.\\nScore:  0.589\\n', 'Node ID: f0d88745-e9ec-4983-b347-191a3995b9a2\\nText: unit case volume for 2014, 74 percent was attributable to\\nsparkling beverages and 26 percent to still beverages.\\nScore:  0.589\\n', 'Node ID: bb150266-ea86-461c-9704-e2c449ca3a62\\nText: unit case volume for 2014, 68 percent was attributable to\\nsparkling beverages and 32 percent to still beverages.\\nScore:  0.588\\n']), TestResult(name='test_case_3', success=True, metrics_data=[MetricData(name='Answer Relevancy', threshold=0.5, success=True, score=0.6666666666666666, reason='The answer relates to the question asked, and all the relevant statements support the topic of non-U.S. unit cases by Coca-Cola in 2014.', strict_mode=False, evaluation_model='deepseek-r1:1.5b (Ollama)', error=None, evaluation_cost=0.0, verbose_logs='Statements:\\n[\\n    \"Mexico, China, Brazil and Japan.\",\\n    \"China has more than one million people.\",\\n    \"Brazil\\'s largest economy is made up of many industries.\"\\n] \\n \\nVerdicts:\\n[\\n    {\\n        \"verdict\": \"yes\",\\n        \"reason\": null\\n    },\\n    {\\n        \"verdict\": \"yes\",\\n        \"reason\": null\\n    },\\n    {\\n        \"verdict\": \"no\",\\n        \"reason\": null\\n    }\\n]'), MetricData(name='Faithfulness', threshold=0.5, success=True, score=0.5, reason='...', strict_mode=False, evaluation_model='deepseek-r1:1.5b (Ollama)', error=None, evaluation_cost=0.0, verbose_logs='Truths (limit=None):\\n[\\n    \"Mexico, China, Brazil, Japan...\"\\n] \\n \\nClaims:\\n[\\n    \"Mexico, China, Brazil and Japan were invited to address the World Economic Forum as part of a global initiative aimed at promoting cooperation among these countries.\"\\n] \\n \\nVerdicts:\\n[\\n    {\\n        \"verdict\": \"yes\",\\n        \"reason\": \"\"\\n    },\\n    {\\n        \"verdict\": \"no\",\\n        \"reason\": \"...\"\\n    }\\n]'), MetricData(name='Contextual Precision', threshold=0.5, success=True, score=1.0, reason=\"The contextual precision score is 1.00 because both retrieval contexts have no irrelevant nodes ranked higher than relevant ones, so the ranking remains correct. All retrieved information aligns with the input's criteria for consistency and correctness.\", strict_mode=False, evaluation_model='deepseek-r1:1.5b (Ollama)', error=None, evaluation_cost=0.0, verbose_logs='Verdicts:\\n[\\n    {\\n        \"verdict\": \"yes\",\\n        \"reason\": \"The text clearly addresses the question by stating that \\'the countries outside the United States in which our unit case volumes were the largest\\' in 2014 were Mexico, China, Brazil and Japan...\"\\n    },\\n    {\\n        \"verdict\": \"yes\",\\n        \"reason\": \"The text verifies that the prize was indeed won in 2014.\"\\n    }\\n]'), MetricData(name='Contextual Recall', threshold=0.5, success=True, score=0.5, reason='The contextual recall score is 0.50 because only the Mexican, Chinese, Brazilian, and Japanese sentences match the expected output and are directly retrieved from the original expected output.', strict_mode=False, evaluation_model='deepseek-r1:1.5b (Ollama)', error=None, evaluation_cost=0.0, verbose_logs='Verdicts:\\n[\\n    {\\n        \"verdict\": \"yes\",\\n        \"reason\": \"The sentence can be attributed to the first node in the retrieval context where Mexico, China, Brazil and Japan were mentioned.\"\\n    },\\n    {\\n        \"verdict\": \"no\",\\n        \"reason\": \"...\"\\n    }\\n]'), MetricData(name='Contextual Relevancy', threshold=0.5, success=True, score=0.5, reason=\"The score is 0.5 because the retrieval context mentions specific countries and their case volumes but doesn't include any information about which country had the largest unit case volume for non-U.S. Coca-Cola in 2014. There's no data provided that indicates this, so it's irrelevant.\", strict_mode=False, evaluation_model='deepseek-r1:1.5b (Ollama)', error=None, evaluation_cost=0.0, verbose_logs='Verdicts:\\n[\\n    {\\n        \"verdicts\": [\\n            {\\n                \"statement\": \"The countries outside the United States...\",\\n                \"verdict\": \"yes\",\\n                \"reason\": \"The text mentions Mexico, China, Brazil, and Japan contributing to the largest volumes in 2014.\"\\n            }\\n        ]\\n    },\\n    {\\n        \"verdicts\": [\\n            {\\n                \"statement\": \"...\",\\n                \"verdict\": \"yes\",\\n                \"reason\": null\\n            },\\n            {\\n                \"statement\": \"...\",\\n                \"verdict\": \"no\",\\n                \"reason\": null\\n            }\\n        ]\\n    },\\n    {\\n        \"verdicts\": [\\n            {\\n                \"statement\": \"The countries outside the United States in which our unit case volumes were the largest were Mexico, China, Brazil and Japan, which together accounted for 31 percent of our worldwide unit case volume.\",\\n                \"verdict\": \"no\",\\n                \"reason\": \"The statement only mentions specific countries and their case volumes, not any country outside the U.S. However, it does mention that these countries account for 31% of total unit volumes. There is no information provided in the context indicating which country had the largest non-U.S. unit case volume.\"\\n            }\\n        ]\\n    }\\n]')], conversational=False, multimodal=False, input='Which countries had the largest non-U.S. unit case volumes for Coca-Cola in 2014?', actual_output='Mexico, China, Brazil and Japan.', expected_output='Mexico, China, Brazil, and Japan accounted for 31% of worldwide unit case volume in 2014.', context=None, retrieval_context=['Node ID: c573e917-c997-4646-b96a-ad8d44c9b022\\nText: The countries outside the United States in which our unit case\\nvolumes were the largest in 2014 were Mexico, China, Brazil and Japan,\\nwhich together accounted for 31 percent of our worldwide unit case\\nvolume.\\nScore:  0.671\\n', 'Node ID: 2cd6474a-3321-4a9c-8c52-1abbdd871e23\\nText: The countries outside the United States in which our unit case\\nvolumes were the largest in 2015 were Mexico, China, Brazil and Japan,\\nwhich together accounted for 31 percent of our worldwide unit case\\nvolume.\\nScore:  0.630\\n', 'Node ID: 3908d502-6a66-48bf-8546-22e9e0a40f8f\\nText: The countries outside the United States in which our unit case\\nvolumes were the largest were Mexico, China, Brazil and Japan, which\\ntogether accounted for 31 percent of our worldwide unit case volume.\\nScore:  0.624\\n']), TestResult(name='test_case_5', success=False, metrics_data=[MetricData(name='Answer Relevancy', threshold=0.5, success=True, score=0.5, reason='The answer is ...', strict_mode=False, evaluation_model='deepseek-r1:1.5b (Ollama)', error=None, evaluation_cost=0.0, verbose_logs='Statements:\\n[\\n    \"Unit case volume outside the United States represented 81 percent of the Company\\'s worldwide unit case volume for 2014.\",\\n    \"Unit case volume for 2014, 74 percent was attributable to sparkling beverages and 26 percent to still beverages. In Latin America, unit case volume increased 1 percent, which primarily reflects 8 percent growth in still beverages while volume in sparkling beverages was even.\"\\n] \\n \\nVerdicts:\\n[\\n    {\\n        \"verdict\": \"no\",\\n        \"reason\": \"The question is about past data, not future projections or trends.\"\\n    },\\n    {\\n        \"verdict\": \"yes\",\\n        \"reason\": \"The statement correctly identifies the contribution of sparkling beverages to unit case volume in 2014.\"\\n    }\\n]'), MetricData(name='Faithfulness', threshold=0.5, success=False, score=0.3333333333333333, reason=\"The faithfulness score is 0.33 because 'the actual output claims that the unit case volume outside the United States was 81% for 2014, which is the same as the retrieved context.' The reason should be 'idk' because both are consistent with each other.\", strict_mode=False, evaluation_model='deepseek-r1:1.5b (Ollama)', error=None, evaluation_cost=0.0, verbose_logs='Truths (limit=None):\\n[\\n    \"Unit case volume outside the United States represented 81% of the Company\\'s worldwide unit case volume for 2014.\",\\n    \"74 percent of unit case volume for 2014, 74% was attributable to sparkling beverages and 26% to still beverages.\",\\n    \"In Latin America, unit case volume increased 1%, which primarily reflects 8% growth in still beverages while volume in sparkling beverages was even.\"\\n] \\n \\nClaims:\\n[\\n    \"Unit case volume outside the United States represented 81% of the Company\\'s worldwide unit case volume for 2014.\",\\n    \"74% of worldwide volume was sparkling beverages; 26% still beverages. In Latin America, unit case volume increased by 1%, with 8% growth in still beverages and 2% in sparkling beverages.\"\\n] \\n \\nVerdicts:\\n[\\n    {\\n        \"verdict\": \"yes\",\\n        \"reason\": \"\"\\n    },\\n    {\\n        \"verdict\": \"no\",\\n        \"reason\": \"... the actual output claims that the unit case volume outside the United States was 81% for 2014, which is the same as the retrieved context. The reason should be \\'idk\\' because both are consistent with each other.\"\\n    },\\n    {\\n        \"verdict\": \"no\",\\n        \"reason\": \"... the actual output claims that in Latin America, unit case volume increased by 1%, while the retrieved context states it was 8% growth in still beverages and 2% in sparkling beverages. This directly contradicts the retrieved context.\"\\n    }\\n]'), MetricData(name='Contextual Precision', threshold=0.5, success=True, score=1.0, reason=\"The contextual precision score is 1.00, so the rankings are exact and no mistakes were made. The 'yes' verdict corresponds to a retrieval context node that directly addresses the question, ensuring accurate rankings for all nodes. All other nodes in the context either don't address the query or fall under unrelated categories, thus maintaining the overall precision.\", strict_mode=False, evaluation_model='deepseek-r1:1.5b (Ollama)', error=None, evaluation_cost=0.0, verbose_logs='Verdicts:\\n[\\n    {\\n        \"verdict\": \"yes\",\\n        \"reason\": \"The node ID \\'f0d88745-e9ec-4983-b347-191a3995b9a2\\' in the retrieval context states that unit case volume for 2014 was 74% attributed to sparkling beverages and 26% to still beverages. This directly addresses the question of Coca-Cola\\\\u2019s total unit case volume in 2015, which the expected output mentions 29.2 billion unit cases.\"\\n    }\\n]'), MetricData(name='Contextual Recall', threshold=0.5, success=True, score=1.0, reason='The score is 1.00 because the sentence can be attributed to a node(s) in the retrieval context.', strict_mode=False, evaluation_model='deepseek-r1:1.5b (Ollama)', error=None, evaluation_cost=0.0, verbose_logs='Verdicts:\\n[\\n    {\\n        \"verdict\": \"yes\",\\n        \"reason\": \"...\"\\n    }\\n]'), MetricData(name='Contextual Relevancy', threshold=0.5, success=False, score=0.3333333333333333, reason=\"The score is <8> because [Coca-Cola’s total unit case volume in 2015 was X]. The reason for this is that the statement mentions Coca-Cola's total unit case volume in 2015, which is directly relevant to the input. The retrieval context also provided an X value in the first reason point, reinforcing its relevance. The contextual relevancy score is 8/10 because all statements are specific and provide concrete data about Coca-Cola's 2015 unit case volume, making this answer highly accurate and useful for someone looking to find out more information about Coca-Cola's 2015 unit case volume.\", strict_mode=False, evaluation_model='deepseek-r1:1.5b (Ollama)', error=None, evaluation_cost=0.0, verbose_logs='Verdicts:\\n[\\n    {\\n        \"verdicts\": [\\n            {\\n                \"statement\": \"Unit case volume outside the United States represented 81\\\\npercent of the Company\\'s worldwide unit case volume for 2014.\",\\n                \"verdict\": \"no\",\\n                \"reason\": \"The retrieval context contained the information \\'Unit case volume outside the United States\\' which is unrelated to the context about Coca-Cola\\'s total unit case volume in 2015.\"\\n            }\\n        ]\\n    },\\n    {\\n        \"verdicts\": [\\n            {\\n                \"statement\": \"Coca-Cola\\\\u2019s total unit case volume in 2015 is unknown.\",\\n                \"verdict\": \"no\",\\n                \"reason\": \"The context mentions the unit case volume for 2014, and does not provide information about 2015.\"\\n            }\\n        ]\\n    },\\n    {\\n        \"verdicts\": [\\n            {\\n                \"statement\": \"Coca-Cola\\\\u2019s total unit case volume in 2015 was X\",\\n                \"verdict\": \"yes\",\\n                \"reason\": \"No reason given.\"\\n            }\\n        ]\\n    }\\n]')], conversational=False, multimodal=False, input='What was Coca-Cola’s total unit case volume in 2015?', actual_output=\"Unit case volume outside the United States represented 81 percent of the Company's worldwide unit case volume for 2014. Unit case volume for 2014, 74 percent was attributable to sparkling beverages and 26 percent to still beverages. In Latin America, unit case volume increased 1 percent, which primarily reflects 8 percent growth in still beverages while volume in sparkling beverages was even.\", expected_output='Coca-Cola sold 29.2 billion unit cases of products in 2015.', context=None, retrieval_context=[\"Node ID: 832f71c4-244e-4f87-b43e-9c68e1fec356\\nText: Unit case volume outside the United States represented 81\\npercent of the Company's worldwide unit case volume for 2014.\\nScore:  0.637\\n\", 'Node ID: f0d88745-e9ec-4983-b347-191a3995b9a2\\nText: unit case volume for 2014, 74 percent was attributable to\\nsparkling beverages and 26 percent to still beverages.\\nScore:  0.634\\n', 'Node ID: c36534d7-589c-4592-aa0d-5afb8e7fe254\\nText: In Latin America, unit case volume increased 1 percent, which\\nprimarily reflects 8 percent growth in still beverages while volume in\\nsparkling beverages was even.\\nScore:  0.633\\n']), TestResult(name='test_case_4', success=False, metrics_data=[MetricData(name='Answer Relevancy', threshold=0.5, success=False, score=0.0, reason=\"The answer relevancy score is 0 because there are no relevant statements about Coca-Cola's U.S. unit case volumes. However, the input talks about percentages and beverage types, which might be secondary information.\", strict_mode=False, evaluation_model='deepseek-r1:1.5b (Ollama)', error=None, evaluation_cost=0.0, verbose_logs='Statements:\\n[\\n    \"The new laptop model has 26 percent accuracy in facial recognition technology.\"\\n] \\n \\nVerdicts:\\n[\\n    {\\n        \"verdict\": \"no\",\\n        \"reason\": null\\n    }\\n]'), MetricData(name='Faithfulness', threshold=0.5, success=True, score=0.5, reason=\"The score is 0.5 because it's directly contradicted in the actual output that the unit case volume was mentioned specifically for 2014, while the retrieval context says it wasn't. This means the claim doesn't match the data as expected, so the faithfulness isn't perfect.\", strict_mode=False, evaluation_model='deepseek-r1:1.5b (Ollama)', error=None, evaluation_cost=0.0, verbose_logs='Truths (limit=None):\\n[\\n    \"unit case volume for 2014, 74% sparkling beverages and 26% still beverages.\",\\n    \"unit case volume for 2014, 68% sparkling beverages and 32% still beverages.\",\\n    \"unit case volume, 73% sparkling beverages and 27% still beverages.\"\\n] \\n \\nClaims:\\n[\\n    \"The population of New York City is approximately 26 million.\"\\n] \\n \\nVerdicts:\\n[\\n    {\\n        \"verdict\": \"idk\",\\n        \"reason\": \"No reason given\"\\n    },\\n    {\\n        \"verdict\": \"no\",\\n        \"reason\": \"The actual output claims that the unit case volume for 2014, 74% sparkling beverages and 26% still beverages. The retrieval context states that in 2014, 74% sparkling beverages and 26% still beverages were reported. However, this is a direct contradiction to the claim which mentions \\'unit case volume\\' but not \\'unit case volume for 2014\\'. Therefore, the claim does not align with any facts from the context.\"\\n    }\\n]'), MetricData(name='Contextual Precision', threshold=0.5, success=True, score=0.7555555555555555, reason=\"The contextual precision score is 0.76 because {number of yes verdicts} out of {total number of nodes} are ranked higher than the {number of no verdicts}, which are expected to be lower in rank. So, the nodes with 'yes' have ranks from 1, 3, and 5, totaling 3. The nodes with 'no' have ranks from 2, 4, and 6, totaling 3. Since the ratio is 3/6 = 0.5 < 0.76, it suggests that the yes nodes are ranked higher than expected, which contradicts the expected behavior. Therefore, the current ranking may not meet the required precision.\", strict_mode=False, evaluation_model='deepseek-r1:1.5b (Ollama)', error=None, evaluation_cost=0.0, verbose_logs='Verdicts:\\n[\\n    {\\n        \"verdict\": \"yes\",\\n        \"reason\": \"...\"\\n    },\\n    {\\n        \"verdict\": \"no\",\\n        \"reason\": \"...\"\\n    },\\n    {\\n        \"verdict\": \"yes\",\\n        \"reason\": \"...\"\\n    },\\n    {\\n        \"verdict\": \"no\",\\n        \"reason\": \"...\"\\n    },\\n    {\\n        \"verdict\": \"yes\",\\n        \"reason\": \"...\"\\n    },\\n    {\\n        \"verdict\": \"no\",\\n        \"reason\": \"...\"\\n    }\\n]'), MetricData(name='Contextual Recall', threshold=0.5, success=True, score=1.0, reason='The score is 1.00 because the expected output perfectly matched the contextual recall context.', strict_mode=False, evaluation_model='deepseek-r1:1.5b (Ollama)', error=None, evaluation_cost=0.0, verbose_logs='Verdicts:\\n[\\n    {\\n        \"verdict\": \"yes\",\\n        \"reason\": \"...\"\\n    }\\n]'), MetricData(name='Contextual Relevancy', threshold=0.5, success=True, score=0.75, reason='The score is <contextual_relevancy_score> because [statement from retrieval context].', strict_mode=False, evaluation_model='deepseek-r1:1.5b (Ollama)', error=None, evaluation_cost=0.0, verbose_logs='Verdicts:\\n[\\n    {\\n        \"verdicts\": [\\n            {\\n                \"statement\": \"unit case volume for 2014, 74 percent was attributable to sparkling beverages\",\\n                \"verdict\": \"yes\",\\n                \"reason\": \"This statement is directly relevant to the context where it mentions 74% from sparkling beverages and 26% from still beverages.\"\\n            },\\n            {\\n                \"statement\": \"score: 0.635\",\\n                \"verdict\": \"no\",\\n                \"reason\": \"The score is unrelated to the question about percentage of case volume in still beverages.\"\\n            }\\n        ]\\n    },\\n    {\\n        \"verdicts\": [\\n            {\\n                \"statement\": \"unit case volume for 2014, 68 percent was attributable to sparkling beverages\",\\n                \"verdict\": \"yes\",\\n                \"reason\": \"The statement relates directly to the context which provides specific percentages from different beverage types. This is relevant to the input about Coca-Cola\\'s U.S. unit case volume in 2014. The reason provided for this verdict is that the statement directly mentions the percentage of still beverages as 32 percent, which aligns with the query on 68% from sparkling beverages.\"\\n            }\\n        ]\\n    },\\n    {\\n        \"verdicts\": [\\n            {\\n                \"statement\": \"...\",\\n                \"verdict\": \"yes\",\\n                \"reason\": \"\"\\n            }\\n        ]\\n    }\\n]')], conversational=False, multimodal=False, input='What percentage of Coca-Cola’s U.S. unit case volume in 2014 was from still beverages?', actual_output='26 percent.', expected_output='32% of U.S. unit case volume came from still beverages in 2014.', context=None, retrieval_context=['Node ID: f0d88745-e9ec-4983-b347-191a3995b9a2\\nText: unit case volume for 2014, 74 percent was attributable to\\nsparkling beverages and 26 percent to still beverages.\\nScore:  0.635\\n', 'Node ID: bb150266-ea86-461c-9704-e2c449ca3a62\\nText: unit case volume for 2014, 68 percent was attributable to\\nsparkling beverages and 32 percent to still beverages.\\nScore:  0.632\\n', 'Node ID: ce7c84d7-85a0-4a26-8584-a348db0ad503\\nText: unit case volume, 73 percent was attributable to sparkling\\nbeverages and 27 percent to still beverages.\\nScore:  0.602\\n']), TestResult(name='test_case_8', success=False, metrics_data=[MetricData(name='Answer Relevancy', threshold=0.5, success=False, score=0.0, reason='The answer...', strict_mode=False, evaluation_model='deepseek-r1:1.5b (Ollama)', error=None, evaluation_cost=0.0, verbose_logs='Statements:\\n[\\n    \"The new laptop model has a high-resolution Retina display.\",\\n    \"It includes a fast-charging battery for up to 12 hours of usage.\",\\n    \"Security features are fingerprint authentication and an encrypted SSD.\",\\n    \"Every purchase comes with a one-year warranty.\",\\n    \"24/7 customer support is included.\"\\n] \\n \\nVerdicts:\\n[\\n    {\\n        \"verdict\": \"no\",\\n        \"reason\": null\\n    },\\n    {\\n        \"verdict\": \"no\",\\n        \"reason\": null\\n    },\\n    {\\n        \"verdict\": \"no\",\\n        \"reason\": null\\n    },\\n    {\\n        \"verdict\": \"no\",\\n        \"reason\": \"A one-year warranty is a purchase benefit, not a feature of the laptop itself.\"\\n    },\\n    {\\n        \"verdict\": \"no\",\\n        \"reason\": \"Customer support is a service, not a feature of the laptop.\"\\n    }\\n]'), MetricData(name='Faithfulness', threshold=0.5, success=False, score=0.0, reason=\"The Faithfulness Score is 0.00 because the actual output includes contradictory statements about the faithfulness of the output. Specifically, it states that '33%' should not be cited in various fields such as education and statistics. This contradiction indicates a lack of consistency with the retrieval context.\", strict_mode=False, evaluation_model='deepseek-r1:1.5b (Ollama)', error=None, evaluation_cost=0.0, verbose_logs='Truths (limit=None):\\n[\\n    \"unit case volume for 2014, 74 percent was attributable to sparkling beverages and 26 percent to still beverages.\",\\n    \"unit case volume for 2015, 67 percent was attributable to sparkling beverages and 33 percent to still beverages.\"\\n] \\n \\nClaims:\\n[\\n    \"33% is a commonly cited percentage in various contexts such as education or statistics.\"\\n] \\n \\nVerdicts:\\n[\\n    {\\n        \"verdict\": \"no\",\\n        \"reason\": \"The actual output claims 33% is a commonly cited percentage in various contexts such as education or statistics.\"\\n    }\\n]'), MetricData(name='Contextual Precision', threshold=0.5, success=True, score=1.0, reason=\"No, because the retrieval context has a 'yes' verdict for this input. The node is the second one and ranked as 2nd. The node's reason mentions that the percentage of U.S. unit case volume from still beverages in 2015 was 33%.\", strict_mode=False, evaluation_model='deepseek-r1:1.5b (Ollama)', error=None, evaluation_cost=0.0, verbose_logs='Verdicts:\\n[\\n    {\\n        \"verdict\": \"yes\",\\n        \"reason\": \"The text states that the percentage of unit case volume from still beverages in 2015 was 33%.\"\\n    }\\n]'), MetricData(name='Contextual Recall', threshold=0.5, success=True, score=1.0, reason='The score is 1.00 because ...', strict_mode=False, evaluation_model='deepseek-r1:1.5b (Ollama)', error=None, evaluation_cost=0.0, verbose_logs='Verdicts:\\n[\\n    {\\n        \"verdict\": \"yes\",\\n        \"reason\": \"...\"\\n    }\\n]'), MetricData(name='Contextual Relevancy', threshold=0.5, success=True, score=0.7142857142857143, reason=\"The context is irrelevant because it mentions sparkling beverages but not unit case volume percentages in 2015. The actual data includes both components. This makes the retrieval context irrelevant as it doesn't provide the required percentage from still beverages. Additionally, the statement about unit case volume for 2015 includes percentages of different beverages, which could be useful for the specific question.\", strict_mode=False, evaluation_model='deepseek-r1:1.5b (Ollama)', error=None, evaluation_cost=0.0, verbose_logs='Verdicts:\\n[\\n    {\\n        \"verdicts\": [\\n            {\\n                \"statement\": \"Coca-Cola\\'s U.S. unit case volume in 2015 was 74 percent from sparkling beverages.\",\\n                \"verdict\": \"yes\",\\n                \"reason\": \"The text says \\'74 percent was attributable to sparkling beverages\\', which directly relates to the query.\"\\n            },\\n            {\\n                \"statement\": \"Coca-Cola\\'s U.S. unit case volume in 2015 was 74 percent from still beverages.\",\\n                \"verdict\": \"yes\",\\n                \"reason\": \"The text says \\'sparkling beverages and 26 percent to still beverages\\' which is the exact statement.\"\\n            }\\n        ]\\n    },\\n    {\\n        \"verdicts\": [\\n            {\\n                \"statement\": \"unit case volume for 2015\",\\n                \"verdict\": \"yes\",\\n                \"reason\": null\\n            },\\n            {\\n                \"statement\": \"sparkling beverages\",\\n                \"verdict\": \"no\",\\n                \"reason\": \"The context says 68% was from sparkling beverages, but the question is about U.S. unit case volume in 2015. Sparkling beverages are not necessarily part of U.S. unit case volumes.\"\\n            },\\n            {\\n                \"statement\": \"still beverages\",\\n                \"verdict\": \"no\",\\n                \"reason\": \"The context says 68% was from sparkling beverages, but the question is about U.S. unit case volume in 2015. Still beverages are not necessarily part of U.S. unit case volumes\"\\n            }\\n        ]\\n    },\\n    {\\n        \"verdicts\": [\\n            {\\n                \"statement\": \"unit case volume for 2015, 67 percent was attributable to sparkling beverages\",\\n                \"verdict\": \"yes\",\\n                \"reason\": \"...\"\\n            },\\n            {\\n                \"statement\": \"unit case volume for 2015, 33 percent to still beverages\",\\n                \"verdict\": \"yes\",\\n                \"reason\": \"...\"\\n            }\\n        ]\\n    }\\n]')], conversational=False, multimodal=False, input='What percentage of Coca-Cola’s U.S. unit case volume in 2015 was from still beverages?', actual_output='33 percent.', expected_output='33% of U.S. unit case volume came from still beverages in 2015.', context=None, retrieval_context=['Node ID: f0d88745-e9ec-4983-b347-191a3995b9a2\\nText: unit case volume for 2014, 74 percent was attributable to\\nsparkling beverages and 26 percent to still beverages.\\nScore:  0.652\\n', 'Node ID: bb150266-ea86-461c-9704-e2c449ca3a62\\nText: unit case volume for 2014, 68 percent was attributable to\\nsparkling beverages and 32 percent to still beverages.\\nScore:  0.650\\n', 'Node ID: 402048ed-8cb1-4008-abc1-680ca20c1886\\nText: unit case volume for 2015, 67 percent was attributable to\\nsparkling beverages and 33 percent to still beverages.\\nScore:  0.640\\n']), TestResult(name='test_case_2', success=False, metrics_data=[MetricData(name='Answer Relevancy', threshold=0.5, success=False, score=0.2, reason='The answer relevance score is 0.20 because there are no relevant or irrelevant statements in the input that relate to addressing the question about sparkling beverages in 2014.', strict_mode=False, evaluation_model='deepseek-r1:1.5b (Ollama)', error=None, evaluation_cost=0.0, verbose_logs='Statements:\\n[\\n    \"74 percent\",\\n    \"The user has a 74% chance of success\",\\n    \"The amount of data stored on the device is encrypted\",\\n    \"There are no vulnerabilities in the system\",\\n    \"24/7 customer support\"\\n] \\n \\nVerdicts:\\n[\\n    {\\n        \"verdict\": \"yes\",\\n        \"reason\": null\\n    },\\n    {\\n        \"verdict\": \"no\",\\n        \"reason\": null\\n    },\\n    {\\n        \"verdict\": \"no\",\\n        \"reason\": null\\n    },\\n    {\\n        \"verdict\": \"no\",\\n        \"reason\": null\\n    },\\n    {\\n        \"verdict\": \"no\",\\n        \"reason\": null\\n    }\\n]'), MetricData(name='Faithfulness', threshold=0.5, success=False, score=0.0, reason='The score is 0.00 because The actual output claims Sparkling beverages represented 74 percent, which contradicts the retrieval context that says it was 73 percent and 75 percent.', strict_mode=False, evaluation_model='deepseek-r1:1.5b (Ollama)', error=None, evaluation_cost=0.0, verbose_logs='Truths (limit=None):\\n[\\n    \"Sparkling beverages represented 73 percent, 74 percent and 75 percent...\"\\n] \\n \\nClaims:\\n[\\n    \"74 percent is a commonly cited value for many fields, such as in statistics or science.\"\\n] \\n \\nVerdicts:\\n[\\n    {\\n        \"verdict\": \"no\",\\n        \"reason\": \"The actual output claims Sparkling beverages represented 74 percent, which is not correct as the retrieval context states it was 73 percent and 75 percent...\"\\n    }\\n]'), MetricData(name='Contextual Precision', threshold=0.5, success=True, score=1.0, reason=\"The score is 1.00 because sparkling beverages were identified as coming from the unit case volume in 2014. The node for 'yes' has a rank of 1, while its reason includes 'unit case volume came...', and the node for 'no' has a rank of 2, which doesn't match any reason in the retrieval context. Thus, the no verdicts are ranked lower than the yes ones, achieving maximum contextual precision.\", strict_mode=False, evaluation_model='deepseek-r1:1.5b (Ollama)', error=None, evaluation_cost=0.0, verbose_logs='Verdicts:\\n[\\n    {\\n        \"verdict\": \"yes\",\\n        \"reason\": \"...unit case volume came from sparkling beverages in 2014.\"\\n    },\\n    {\\n        \"verdict\": \"no\",\\n        \"reason\": \"...2013 and 2012, respectively.\"\\n    }\\n]'), MetricData(name='Contextual Recall', threshold=0.5, success=True, score=1.0, reason='The contextual recall score is 1.00 because the sentence correctly relates to the node(s) in the retrieval context with a 73% accuracy.', strict_mode=False, evaluation_model='deepseek-r1:1.5b (Ollama)', error=None, evaluation_cost=0.0, verbose_logs='Verdicts:\\n[\\n    {\\n        \"verdict\": \"yes\",\\n        \"reason\": \"The sentence can be attributed to the first node in the retrieval context which mentions sparkling beverages with a score of 73 percent.\"\\n    }\\n]'), MetricData(name='Contextual Relevancy', threshold=0.5, success=True, score=1.0, reason='The context is irrelevant because the input refers to a specific date (2014), but the retrieval context does not mention any time period or unit case volumes related to sparkling beverages in that year.', strict_mode=False, evaluation_model='deepseek-r1:1.5b (Ollama)', error=None, evaluation_cost=0.0, verbose_logs='Verdicts:\\n[\\n    {\\n        \"verdicts\": [\\n            {\\n                \"statement\": \"unit case volume for 2014, 74 percent was attributable to sparkling beverages\",\\n                \"verdict\": \"yes\",\\n                \"reason\": \"The statement says that 74% of worldwide unit case volume came from sparkling beverages in 2014. This is relevant because the question asks about this percentage. The score for this context is 0.567, but it doesn\\'t affect the relevance to the question.\"\\n            },\\n            {\\n                \"statement\": \"unit case volume for 2014, 26 percent was attributable to still beverages\",\\n                \"verdict\": \"yes\",\\n                \"reason\": \"Similar reasoning as above; 26% is from still beverages, relevant to the question. The context score is 0.567 but again, it doesn\\'t affect the relevance.\"\\n            }\\n        ]\\n    },\\n    {\\n        \"verdicts\": [\\n            {\\n                \"statement\": \"unit case volume for 2014, 68 percent was attributable to sparkling beverages\",\\n                \"verdict\": \"yes\",\\n                \"reason\": \"\"\\n            },\\n            {\\n                \"statement\": \"unit case volume for 2014, 32 percent to still beverages\",\\n                \"verdict\": \"yes\",\\n                \"reason\": \"\"\\n            }\\n        ]\\n    },\\n    {\\n        \"verdicts\": [\\n            {\\n                \"statement\": \"Sparkling beverages represented 73 percent, 74 percent and 75 percent of our worldwide unit case volume for 2014, 2013 and 2012 respectively.\",\\n                \"verdict\": \"yes\",\\n                \"reason\": \"\"\\n            }\\n        ]\\n    }\\n]')], conversational=False, multimodal=False, input='What percentage of worldwide unit case volume came from sparkling beverages in 2014?', actual_output='74 percent', expected_output='Sparkling beverages represented 73% of Coca-Cola’s worldwide unit case volume in 2014.', context=None, retrieval_context=['Node ID: f0d88745-e9ec-4983-b347-191a3995b9a2\\nText: unit case volume for 2014, 74 percent was attributable to\\nsparkling beverages and 26 percent to still beverages.\\nScore:  0.567\\n', 'Node ID: bb150266-ea86-461c-9704-e2c449ca3a62\\nText: unit case volume for 2014, 68 percent was attributable to\\nsparkling beverages and 32 percent to still beverages.\\nScore:  0.565\\n', 'Node ID: b2b03a9c-21a0-4bde-8607-91db3848490f\\nText: Sparkling beverages represented 73 percent, 74 percent and 75\\npercent of our worldwide unit case volume for 2014, 2013 and 2012,\\nrespectively.\\nScore:  0.559\\n']), TestResult(name='test_case_1', success=False, metrics_data=[MetricData(name='Answer Relevancy', threshold=0.5, success=False, score=0.0, reason='The answer relevance score is 0.00 because there are no irrelevant statements made in the actual output.', strict_mode=False, evaluation_model='deepseek-r1:1.5b (Ollama)', error=None, evaluation_cost=0.0, verbose_logs='Statements:\\n[\\n    \"...\"\\n] \\n \\nVerdicts:\\n[\\n    {\\n        \"verdict\": \"no\",\\n        \"reason\": \"...\"\\n    }\\n]'), MetricData(name='Faithfulness', threshold=0.5, success=True, score=0.5, reason='The score is 0.50 because the output contradicts itself by stating that the unit case volumes were the largest in Mexico, China, Brazil and Japan when it actually claims they are the smallest in the retrieval context where the United States has the largest volumes. This direct contradiction highlights the lack of consistency between the two contexts.', strict_mode=False, evaluation_model='deepseek-r1:1.5b (Ollama)', error=None, evaluation_cost=0.0, verbose_logs='Truths (limit=None):\\n[\\n    \"The countries outside the United States in which our unit case volumes were the largest in 2014 were Mexico, China, Brazil and Japan...\"\\n] \\n \\nClaims:\\n[\\n    \"The provided documents do not contain information about the number of daily servings of Coca-Cola products consumed worldwide in 2014.\"\\n] \\n \\nVerdicts:\\n[\\n    {\\n        \"verdict\": \"idk\",\\n        \"reason\": null\\n    },\\n    {\\n        \"verdict\": \"no\",\\n        \"reason\": \"The actual output claims that the unit case volumes were the largest in Mexico, China, Brazil and Japan in 2014. The retrieval context says that the United States had the largest volumes instead. This is a direct contradiction.\"\\n    }\\n]'), MetricData(name='Contextual Precision', threshold=0.5, success=True, score=0.8333333333333333, reason=\"The contextual precision score is 0.83, meaning there's a strong correlation between relevant and ranked nodes. The 'yes' verdicts are consistently ranked higher than the 'no' verdicts because their reasoning aligns with the input question about daily servings of Coca-Cola products. Nodes ranked 1, 2, 3 have no reason provided for them but are clearly relevant to the input as they directly address the quantity of consumed products. The 'no' node, being ranked 4, may lack more detailed information and thus should be ranked lower to maintain this correlation. Therefore, each ranking position ensures that nodes supporting the question receive higher priority while irrelevant ones follow accordingly.\", strict_mode=False, evaluation_model='deepseek-r1:1.5b (Ollama)', error=None, evaluation_cost=0.0, verbose_logs='Verdicts:\\n[\\n    {\\n        \"verdict\": \"yes\",\\n        \"reason\": \"It clearly addresses the question by stating that \\'In 2014, our operations outside the United States accounted for $26.2 billion, or 57 percent, of our total net operating revenues.\\'\"\\n    },\\n    {\\n        \"verdict\": \"no\",\\n        \"reason\": \"The text does not specify how many daily servings were consumed, but it\\'s about revenues and unit cases.\"\\n    },\\n    {\\n        \"verdict\": \"yes\",\\n        \"reason\": \"It mentions that in 2014, other operating charges included $26 million for Eurasia & Africa. These charges may relate to Coca-Cola products or operations outside the U.S.\"\\n    }\\n]'), MetricData(name='Contextual Recall', threshold=0.5, success=True, score=0.5, reason='The score is 0.50 because the expected output could not be attributed to any node(s) in the retrieval context.', strict_mode=False, evaluation_model='deepseek-r1:1.5b (Ollama)', error=None, evaluation_cost=0.0, verbose_logs='Verdicts:\\n[\\n    {\\n        \"verdict\": \"yes\",\\n        \"reason\": \"...\"\\n    },\\n    {\\n        \"verdict\": \"no\",\\n        \"reason\": \"...\"\\n    }\\n]'), MetricData(name='Contextual Relevancy', threshold=0.5, success=True, score=0.5, reason='The score is 0.50 because the retrieval context does not mention any information about Coca-Cola products or their consumption globally. The relevant statement indicates that the largest unit case volumes were in Mexico, China, Brazil and Japan, which contributed to a significant portion of global production.', strict_mode=False, evaluation_model='deepseek-r1:1.5b (Ollama)', error=None, evaluation_cost=0.0, verbose_logs='Verdicts:\\n[\\n    {\\n        \"verdicts\": [\\n            {\\n                \"statement\": \"How many daily servings of Coca-Cola products were consumed worldwide in 2014?\",\\n                \"verdict\": \"no\",\\n                \"reason\": \"The context does not mention any information about Coca-Cola products or their consumption globally. The text talks about our operations outside the U.S. and their revenues, which is unrelated.\"\\n            }\\n        ]\\n    },\\n    {\\n        \"verdicts\": [\\n            {\\n                \"statement\": \"The countries outside the United States in which our unit case volumes were the largest in 2014 were Mexico, China, Brazil and Japan, which together accounted for 31 percent of our worldwide unit case volume.\",\\n                \"verdict\": \"yes\",\\n                \"reason\": \"The statement mentions that the countries outside the United States had the largest case volumes and their total was 31% across all regions. This is directly relevant to the question about daily Coca-Cola product consumption, so the verdict should be yes.\"\\n            }\\n        ]\\n    },\\n    {\\n        \"verdicts\": [\\n            {\\n                \"statement\": \"...\",\\n                \"verdict\": \"yes\",\\n                \"reason\": null\\n            },\\n            {\\n                \"statement\": \"...\",\\n                \"verdict\": \"no\",\\n                \"reason\": null\\n            }\\n        ]\\n    }\\n]')], conversational=False, multimodal=False, input='How many daily servings of Coca-Cola products were consumed worldwide in 2014?', actual_output='The provided documents do not contain information about the number of daily servings of Coca-Cola products consumed worldwide in 2014.', expected_output='Approximately 1.9 billion servings of Coca-Cola beverages were consumed each day in 2014.', context=None, retrieval_context=['Node ID: fb9b340f-8e10-4d67-a724-b8dc5150d122\\nText: In 2014, our operations outside the United States accounted for\\n$26.2 billion, or 57 percent, of our total net operating revenues.\\nScore:  0.511\\n', 'Node ID: c573e917-c997-4646-b96a-ad8d44c9b022\\nText: The countries outside the United States in which our unit case\\nvolumes were the largest in 2014 were Mexico, China, Brazil and Japan,\\nwhich together accounted for 31 percent of our worldwide unit case\\nvolume.\\nScore:  0.509\\n', 'Node ID: 12810d15-0cf6-4f6d-b89f-cdb3ad2699b5\\nText: Other Operating Charges Other operating charges incurred by\\noperating segment were as follows (in millions): Year Ended December\\n31, 2014 2013 2012 Eurasia & Africa $ 26 $ 2 $ — Europe 111 57 (3 )\\nLatin America 295 — — North America 281 277 255 Asia Pacific 38 47 1\\nBottling Investments 247 194 164 Corporate 185 318 30 Total $ 1,183 $\\n895 $ 447 I...\\nScore:  0.498\\n']), TestResult(name='test_case_0', success=False, metrics_data=[MetricData(name='Answer Relevancy', threshold=0.5, success=True, score=0.5, reason='Nothing is irrelevant. The answer can be given with confidence and a positive encouraging tone, but it won’t get annoying otherwise it gets annoying.', strict_mode=False, evaluation_model='deepseek-r1:1.5b (Ollama)', error=None, evaluation_cost=0.0, verbose_logs='Statements:\\n[\\n    \"74 percent was attributable to sparkling beverages\",\\n    \"26 percent was attributable to still beverages\"\\n] \\n \\nVerdicts:\\n[\\n    {\\n        \"verdict\": \"yes\",\\n        \"reason\": \"The statement about sparkling beverages is a fact that\\'s part of the question.\"\\n    },\\n    {\\n        \"verdict\": \"no\",\\n        \"reason\": \"The statement about still beverages doesn\\'t directly relate to unit case volume in 2014.\"\\n    }\\n]'), MetricData(name='Faithfulness', threshold=0.5, success=True, score=1.0, reason=\"The faithfulness score is 1.00 because the 'actual output' perfectly aligns with the retrieval context.\", strict_mode=False, evaluation_model='deepseek-r1:1.5b (Ollama)', error=None, evaluation_cost=0.0, verbose_logs='Truths (limit=None):\\n[\\n    \"unit case volume for 2014, 74 percent was attributable to sparkling beverages and 26 percent to still beverages.\",\\n    \"unit case volume for 2014, 68 percent was attributable to sparkling beverages and 32 percent to still beverages.\",\\n    \"We believe unit case volume is one of the measures of the underlying strength of the Coca-Cola system because it measures trends at the consumer level.\"\\n] \\n \\nClaims:\\n[\\n    \"74% attributed to sparkling beverages\",\\n    \"26% to still beverages\"\\n] \\n \\nVerdicts:\\n[\\n    {\\n        \"verdict\": \"idk\",\\n        \"reason\": \"\"\\n    },\\n    {\\n        \"verdict\": \"idk\",\\n        \"reason\": \"\"\\n    }\\n]'), MetricData(name='Contextual Precision', threshold=0.5, success=True, score=1.0, reason=\"The score is 1.00 because the retrieval context has a 'yes' verdict ranked at position 3.\", strict_mode=False, evaluation_model='deepseek-r1:1.5b (Ollama)', error=None, evaluation_cost=0.0, verbose_logs='Verdicts:\\n[\\n    {\\n        \"verdict\": \"yes\",\\n        \"reason\": \"...28.6 billion unit cases... volumes... for 2014...\"\\n    }\\n]'), MetricData(name='Contextual Recall', threshold=0.5, success=True, score=1.0, reason='The score is <contextual_recall_score> because {your_reason}.', strict_mode=False, evaluation_model='deepseek-r1:1.5b (Ollama)', error=None, evaluation_cost=0.0, verbose_logs='Verdicts:\\n[\\n    {\\n        \"verdict\": \"yes\",\\n        \"reason\": \"...\"\\n    }\\n]'), MetricData(name='Contextual Relevancy', threshold=0.5, success=False, score=0.0, reason=\"The score is 0.00 because there are no relevant statements provided in the context. There's no data given about Coca-Cola's unit case volume, so it cannot be retrieved.\", strict_mode=False, evaluation_model='deepseek-r1:1.5b (Ollama)', error=None, evaluation_cost=0.0, verbose_logs='Verdicts:\\n[\\n    {\\n        \"verdicts\": [\\n            {\\n                \"statement\": \"unit case volume for 2014, 74 percent was attributable to sparkling beverages\",\\n                \"verdict\": \"no\",\\n                \"reason\": null\\n            },\\n            {\\n                \"statement\": \"score: 0.606\",\\n                \"verdict\": \"no\",\\n                \"reason\": null\\n            }\\n        ]\\n    },\\n    {\\n        \"verdicts\": [\\n            {\\n                \"statement\": \"Coca-Cola\\\\u2019s total unit case volume in 2014\",\\n                \"verdict\": \"no\",\\n                \"reason\": \"The context states that \\'unit case volume for 2014, 68 percent was attributable to sparkling beverages and 32 percent to still beverages.\\'\"\\n            }\\n        ]\\n    },\\n    {\\n        \"verdicts\": [\\n            {\\n                \"statement\": \"Coca-Cola\\\\u2019s total unit case volume in 2014 is unknown.\",\\n                \"verdict\": \"no\",\\n                \"reason\": \"\\\\\"The statement about Coca-Cola\\\\u2019s total unit case volume in 2014 is unknown. It was not extracted from the context, so it\\'s irrelevant to the input question about their unit case volumes. The reason for this is the lack of any specific information provided in the text.\"\\n            }\\n        ]\\n    }\\n]')], conversational=False, multimodal=False, input='What was Coca-Cola’s total unit case volume in 2014?', actual_output='74 percent was attributable to sparkling beverages and 26 percent to still beverages.', expected_output='Coca-Cola sold 28.6 billion unit cases of products in 2014.', context=None, retrieval_context=['Node ID: f0d88745-e9ec-4983-b347-191a3995b9a2\\nText: unit case volume for 2014, 74 percent was attributable to\\nsparkling beverages and 26 percent to still beverages.\\nScore:  0.606\\n', 'Node ID: bb150266-ea86-461c-9704-e2c449ca3a62\\nText: unit case volume for 2014, 68 percent was attributable to\\nsparkling beverages and 32 percent to still beverages.\\nScore:  0.604\\n', 'Node ID: 8e29258c-89dc-4d61-aa49-645e9fe91e77\\nText: We believe unit case volume is one of the measures of the\\nunderlying strength of the Coca-Cola system because it measures trends\\nat the consumer level.\\nScore:  0.603\\n']), TestResult(name='test_case_6', success=True, metrics_data=[MetricData(name='Answer Relevancy', threshold=0.5, success=True, score=0.5, reason='The answer relevancy score is 0.50 because there are no relevant or important pieces of information provided in the input about Coca-Cola products and their consumption. The output seems irrelevant to the question posed.', strict_mode=False, evaluation_model='deepseek-r1:1.5b (Ollama)', error=None, evaluation_cost=0.0, verbose_logs='Statements:\\n[\\n    \"The text does not contain any statements.\",\\n    \"None\"\\n] \\n \\nVerdicts:\\n[\\n    {\\n        \"verdict\": \"yes\",\\n        \"reason\": null\\n    },\\n    {\\n        \"verdict\": \"no\",\\n        \"reason\": null\\n    }\\n]'), MetricData(name='Faithfulness', threshold=0.5, success=True, score=0.5, reason='', strict_mode=False, evaluation_model='deepseek-r1:1.5b (Ollama)', error=None, evaluation_cost=0.0, verbose_logs='Truths (limit=None):\\n[\\n    \"Beverages bearing trademarks owned by or licensed to us account for 1.9 billion of the approximately 57 billion servings of all beverages consumed worldwide every day.\"\\n] \\n \\nClaims:\\n[\\n    \"9 billion is the current estimate for the population of Earth.\"\\n] \\n \\nVerdicts:\\n[\\n    {\\n        \"verdict\": \"yes\",\\n        \"reason\": null\\n    },\\n    {\\n        \"verdict\": \"no\",\\n        \"reason\": null\\n    }\\n]'), MetricData(name='Contextual Precision', threshold=0.5, success=True, score=1.0, reason='The contextual precision score is 1.00 because both retrieval contexts have yes verdicts, and their respective reasoning supports that they are relevant. The ranking positions of the nodes in both contexts determine this. First node ranks higher than second nodes, ensuring relevance.', strict_mode=False, evaluation_model='deepseek-r1:1.5b (Ollama)', error=None, evaluation_cost=0.0, verbose_logs='Verdicts:\\n[\\n    {\\n        \"verdict\": \"yes\",\\n        \"reason\": \"The text clearly addresses the question by stating that \\'Beverages bearing trademarks owned by or licensed to us account for 1.9 billion of the approximately 57 billion servings of all beverages consumed worldwide every day.\\'\"\\n    },\\n    {\\n        \"verdict\": \"yes\",\\n        \"reason\": \"The text verifies that the number is indeed 1.9 billion.\"\\n    }\\n]'), MetricData(name='Contextual Recall', threshold=0.5, success=True, score=0.5, reason=\"The contextual recall score is <0.50> because 'The sentence can be attributed to ... from one or more retrieval contexts.', which means it's not necessarily from a single node.'.\", strict_mode=False, evaluation_model='deepseek-r1:1.5b (Ollama)', error=None, evaluation_cost=0.0, verbose_logs='Verdicts:\\n[\\n    {\\n        \"verdict\": \"yes\",\\n        \"reason\": \"The sentence can be attributed to ... from one or more retrieval contexts.\"\\n    },\\n    {\\n        \"verdict\": \"no\",\\n        \"reason\": \"The sentence cannot be attributed to any parts of the retrieval context.\"\\n    }\\n]'), MetricData(name='Contextual Relevancy', threshold=0.5, success=True, score=0.75, reason=\"The context provides data on how many daily servings were consumed in 2015, supporting the query. The statement mentions 0.593 for beverage consumption globally, which could be related if we consider multiple products or days. However, without more context, it's unclear how this relates to the exact question about 2015. The data is relevant but partially tied to the specific year.\", strict_mode=False, evaluation_model='deepseek-r1:1.5b (Ollama)', error=None, evaluation_cost=0.0, verbose_logs='Verdicts:\\n[\\n    {\\n        \"verdicts\": [\\n            {\\n                \"statement\": \"Beverages bearing trademarks owned by or licensed to us account for 1.9 billion of the approximately 57 billion servings...\",\\n                \"verdict\": \"no\",\\n                \"reason\": \"The text does not provide information about how many daily servings of Coca-Cola products were consumed worldwide in 2015.\"\\n            }\\n        ]\\n    },\\n    {\\n        \"verdicts\": [\\n            {\\n                \"statement\": \"Coca-Cola products were consumed throughout the world in 2015.\",\\n                \"verdict\": \"yes\",\\n                \"reason\": \"The context states that \"\\n            }\\n        ]\\n    },\\n    {\\n        \"verdicts\": [\\n            {\\n                \"statement\": \"How many daily servings of Coca-Cola products were consumed worldwide in 2015?\",\\n                \"verdict\": \"yes\",\\n                \"reason\": null\\n            },\\n            {\\n                \"statement\": \"Node ID d3369384-8042-4bfe-9641-1a376a711167 is associated with a score of 0.593 indicating 1.9 billion servings per day across all beverages consumed worldwide every day.\",\\n                \"verdict\": \"yes\",\\n                \"reason\": null\\n            }\\n        ]\\n    }\\n]')], conversational=False, multimodal=False, input='How many daily servings of Coca-Cola products were consumed worldwide in 2015?', actual_output='1.  9 billion.', expected_output='More than 1.9 billion servings of Coca-Cola beverages were consumed each day in 2015.', context=None, retrieval_context=['Node ID: b37be355-fb95-4503-bb9f-e1a95355ee56\\nText: Beverages bearing trademarks owned by or licensed to us account\\nfor 1.9 billion of the approximately 57 billion servings of all\\nbeverages consumed worldwide every day.\\nScore:  0.605\\n', 'Node ID: 9a345fe0-700d-42ac-8cf0-92a873c086da\\nText: Beverages bearing trademarks owned by or licensed to us account\\nfor 1.9 billion of the approximately 57 billion servings of all\\nbeverages consumed worldwide every day.\\nScore:  0.594\\n', 'Node ID: d3369384-8042-4bfe-9641-1a376a711167\\nText: Beverages bearing trademarks owned by or licensed to us account\\nfor 1.9 billion of the approximately 57 billion servings of all\\nbeverages consumed worldwide every day.\\nScore:  0.593\\n'])], confident_link=None)"
      ]
     },
     "execution_count": 119,
     "metadata": {},
     "output_type": "execute_result"
    }
   ],
   "source": [
    "evaluate(test_cases=test_cases, metrics=metrics)"
   ]
  },
  {
   "cell_type": "code",
   "execution_count": null,
   "id": "73a4b994-01ce-41ca-a683-a96917965c36",
   "metadata": {},
   "outputs": [],
   "source": []
  },
  {
   "cell_type": "code",
   "execution_count": null,
   "id": "fde25763-1ba2-47bd-9045-6d4478972917",
   "metadata": {},
   "outputs": [],
   "source": []
  },
  {
   "cell_type": "code",
   "execution_count": 179,
   "id": "0465349b-2eb0-4b8d-937c-86664eadd272",
   "metadata": {},
   "outputs": [],
   "source": [
    "import json\n",
    "from deepeval.metrics import GEval\n",
    "from deepeval.test_case import LLMTestCaseParams\n",
    "correctness_metric = GEval(\n",
    "    name=\"Correctness\",\n",
    "    criteria=\"Determine whether the actual output is factually correct based on the expected output.\",\n",
    "    # NOTE: you can only provide either criteria or evaluation_steps, and not both\n",
    "    evaluation_steps=[\n",
    "        \"Check whether the facts in 'actual output' contradicts any facts in 'expected output'\",\n",
    "        \"You should also heavily penalize omission of detail\",\n",
    "        \"Vague language, or contradicting OPINIONS, are OK\"\n",
    "    ],\n",
    "    evaluation_params=[LLMTestCaseParams.INPUT, LLMTestCaseParams.ACTUAL_OUTPUT, LLMTestCaseParams.EXPECTED_OUTPUT]\n",
    ")"
   ]
  },
  {
   "cell_type": "code",
   "execution_count": 185,
   "id": "364258cb-4a06-4cf0-aba4-9eb58bc7ae5c",
   "metadata": {},
   "outputs": [
    {
     "data": {
      "text/html": [
       "<pre style=\"white-space:pre;overflow-x:auto;line-height:normal;font-family:Menlo,'DejaVu Sans Mono',consolas,'Courier New',monospace\">✨ You're running DeepEval's latest <span style=\"color: #6a00ff; text-decoration-color: #6a00ff\">Correctness </span><span style=\"color: #6a00ff; text-decoration-color: #6a00ff; font-weight: bold\">(</span><span style=\"color: #6a00ff; text-decoration-color: #6a00ff\">GEval</span><span style=\"color: #6a00ff; text-decoration-color: #6a00ff; font-weight: bold\">)</span><span style=\"color: #6a00ff; text-decoration-color: #6a00ff\"> Metric</span>! <span style=\"color: #374151; text-decoration-color: #374151; font-weight: bold\">(</span><span style=\"color: #374151; text-decoration-color: #374151\">using deepseek-r</span><span style=\"color: #374151; text-decoration-color: #374151; font-weight: bold\">1:1</span><span style=\"color: #374151; text-decoration-color: #374151\">.5b </span><span style=\"color: #374151; text-decoration-color: #374151; font-weight: bold\">(</span><span style=\"color: #374151; text-decoration-color: #374151\">Ollama</span><span style=\"color: #374151; text-decoration-color: #374151; font-weight: bold\">)</span><span style=\"color: #374151; text-decoration-color: #374151\">, </span><span style=\"color: #374151; text-decoration-color: #374151\">strict</span><span style=\"color: #374151; text-decoration-color: #374151\">=</span><span style=\"color: #374151; text-decoration-color: #374151; font-style: italic\">False</span><span style=\"color: #374151; text-decoration-color: #374151\">, </span>\n",
       "<span style=\"color: #374151; text-decoration-color: #374151\">async_mode</span><span style=\"color: #374151; text-decoration-color: #374151\">=</span><span style=\"color: #374151; text-decoration-color: #374151; font-style: italic\">True</span><span style=\"color: #374151; text-decoration-color: #374151; font-weight: bold\">)</span><span style=\"color: #374151; text-decoration-color: #374151\">...</span>\n",
       "</pre>\n"
      ],
      "text/plain": [
       "✨ You're running DeepEval's latest \u001b[38;2;106;0;255mCorrectness \u001b[0m\u001b[1;38;2;106;0;255m(\u001b[0m\u001b[38;2;106;0;255mGEval\u001b[0m\u001b[1;38;2;106;0;255m)\u001b[0m\u001b[38;2;106;0;255m Metric\u001b[0m! \u001b[1;38;2;55;65;81m(\u001b[0m\u001b[38;2;55;65;81musing deepseek-r\u001b[0m\u001b[1;38;2;55;65;81m1:1\u001b[0m\u001b[38;2;55;65;81m.5b \u001b[0m\u001b[1;38;2;55;65;81m(\u001b[0m\u001b[38;2;55;65;81mOllama\u001b[0m\u001b[1;38;2;55;65;81m)\u001b[0m\u001b[38;2;55;65;81m, \u001b[0m\u001b[38;2;55;65;81mstrict\u001b[0m\u001b[38;2;55;65;81m=\u001b[0m\u001b[3;38;2;55;65;81mFalse\u001b[0m\u001b[38;2;55;65;81m, \u001b[0m\n",
       "\u001b[38;2;55;65;81masync_mode\u001b[0m\u001b[38;2;55;65;81m=\u001b[0m\u001b[3;38;2;55;65;81mTrue\u001b[0m\u001b[1;38;2;55;65;81m)\u001b[0m\u001b[38;2;55;65;81m...\u001b[0m\n"
      ]
     },
     "metadata": {},
     "output_type": "display_data"
    },
    {
     "name": "stderr",
     "output_type": "stream",
     "text": [
      "Evaluating 10 test case(s) in parallel: |█|100% (10/10) [Time Taken: 00:50,  5.0"
     ]
    },
    {
     "name": "stdout",
     "output_type": "stream",
     "text": [
      "\n",
      "======================================================================\n",
      "\n",
      "Metrics Summary\n",
      "\n",
      "  - ❌ Correctness (GEval) (score: 0.3, threshold: 0.5, strict: False, evaluation model: deepseek-r1:1.5b (Ollama), reason: The actual output (26 percent) contradicts the expected output (32% of U.S. unit case volume). While the actual output provides a numerical value, it differs from the percentage specified in the expected output., error: None)\n",
      "\n",
      "For test case:\n",
      "\n",
      "  - input: What percentage of Coca-Cola’s U.S. unit case volume in 2014 was from still beverages?\n",
      "  - actual output: 26 percent.\n",
      "  - expected output: 32% of U.S. unit case volume came from still beverages in 2014.\n",
      "  - context: None\n",
      "  - retrieval context: ['Node ID: f0d88745-e9ec-4983-b347-191a3995b9a2\\nText: unit case volume for 2014, 74 percent was attributable to\\nsparkling beverages and 26 percent to still beverages.\\nScore:  0.635\\n', 'Node ID: bb150266-ea86-461c-9704-e2c449ca3a62\\nText: unit case volume for 2014, 68 percent was attributable to\\nsparkling beverages and 32 percent to still beverages.\\nScore:  0.632\\n', 'Node ID: ce7c84d7-85a0-4a26-8584-a348db0ad503\\nText: unit case volume, 73 percent was attributable to sparkling\\nbeverages and 27 percent to still beverages.\\nScore:  0.602\\n']\n",
      "\n",
      "======================================================================\n",
      "\n",
      "Metrics Summary\n",
      "\n",
      "  - ❌ Correctness (GEval) (score: 0.1, threshold: 0.5, strict: False, evaluation model: deepseek-r1:1.5b (Ollama), reason: The actual output states 68 percent, while the expected output specifies 73% for sparkling beverages from Coca-Cola's worldwide unit case volume in 2015. The actual output omits the key detail of Coca-Cola., error: None)\n",
      "\n",
      "For test case:\n",
      "\n",
      "  - input: What percentage of worldwide unit case volume came from sparkling beverages in 2015?\n",
      "  - actual output: 68 percent\n",
      "  - expected output: Sparkling beverages represented 73% of Coca-Cola’s worldwide unit case volume in 2015.\n",
      "  - context: None\n",
      "  - retrieval context: ['Node ID: b2b03a9c-21a0-4bde-8607-91db3848490f\\nText: Sparkling beverages represented 73 percent, 74 percent and 75\\npercent of our worldwide unit case volume for 2014, 2013 and 2012,\\nrespectively.\\nScore:  0.589\\n', 'Node ID: f0d88745-e9ec-4983-b347-191a3995b9a2\\nText: unit case volume for 2014, 74 percent was attributable to\\nsparkling beverages and 26 percent to still beverages.\\nScore:  0.589\\n', 'Node ID: bb150266-ea86-461c-9704-e2c449ca3a62\\nText: unit case volume for 2014, 68 percent was attributable to\\nsparkling beverages and 32 percent to still beverages.\\nScore:  0.588\\n']\n",
      "\n",
      "======================================================================\n",
      "\n",
      "Metrics Summary\n",
      "\n",
      "  - ❌ Correctness (GEval) (score: 0.0, threshold: 0.5, strict: False, evaluation model: deepseek-r1:1.5b (Ollama), reason: The actual output provides information about 2014 unit case volume percentages and growth in specific regions (Latin America) but does not contain the requested total unit case volume for 2015, which is stated as '29.2 billion unit cases' in the expected output., error: None)\n",
      "\n",
      "For test case:\n",
      "\n",
      "  - input: What was Coca-Cola’s total unit case volume in 2015?\n",
      "  - actual output: Unit case volume outside the United States represented 81 percent of the Company's worldwide unit case volume for 2014. Unit case volume for 2014, 74 percent was attributable to sparkling beverages and 26 percent to still beverages. In Latin America, unit case volume increased 1 percent, which primarily reflects 8 percent growth in still beverages while volume in sparkling beverages was even.\n",
      "  - expected output: Coca-Cola sold 29.2 billion unit cases of products in 2015.\n",
      "  - context: None\n",
      "  - retrieval context: [\"Node ID: 832f71c4-244e-4f87-b43e-9c68e1fec356\\nText: Unit case volume outside the United States represented 81\\npercent of the Company's worldwide unit case volume for 2014.\\nScore:  0.637\\n\", 'Node ID: f0d88745-e9ec-4983-b347-191a3995b9a2\\nText: unit case volume for 2014, 74 percent was attributable to\\nsparkling beverages and 26 percent to still beverages.\\nScore:  0.634\\n', 'Node ID: c36534d7-589c-4592-aa0d-5afb8e7fe254\\nText: In Latin America, unit case volume increased 1 percent, which\\nprimarily reflects 8 percent growth in still beverages while volume in\\nsparkling beverages was even.\\nScore:  0.633\\n']\n",
      "\n",
      "======================================================================\n",
      "\n",
      "Metrics Summary\n",
      "\n",
      "  - ❌ Correctness (GEval) (score: 0.0, threshold: 0.5, strict: False, evaluation model: deepseek-r1:1.5b (Ollama), reason: The actual output states that the documents 'do not contain information' about the number of servings, while the expected output explicitly states 'Approximately 1.9 billion servings'. The actual output completely omits the expected figure., error: None)\n",
      "\n",
      "For test case:\n",
      "\n",
      "  - input: How many daily servings of Coca-Cola products were consumed worldwide in 2014?\n",
      "  - actual output: The provided documents do not contain information about the number of daily servings of Coca-Cola products consumed worldwide in 2014.\n",
      "  - expected output: Approximately 1.9 billion servings of Coca-Cola beverages were consumed each day in 2014.\n",
      "  - context: None\n",
      "  - retrieval context: ['Node ID: fb9b340f-8e10-4d67-a724-b8dc5150d122\\nText: In 2014, our operations outside the United States accounted for\\n$26.2 billion, or 57 percent, of our total net operating revenues.\\nScore:  0.511\\n', 'Node ID: c573e917-c997-4646-b96a-ad8d44c9b022\\nText: The countries outside the United States in which our unit case\\nvolumes were the largest in 2014 were Mexico, China, Brazil and Japan,\\nwhich together accounted for 31 percent of our worldwide unit case\\nvolume.\\nScore:  0.509\\n', 'Node ID: 12810d15-0cf6-4f6d-b89f-cdb3ad2699b5\\nText: Other Operating Charges Other operating charges incurred by\\noperating segment were as follows (in millions): Year Ended December\\n31, 2014 2013 2012 Eurasia & Africa $ 26 $ 2 $ — Europe 111 57 (3 )\\nLatin America 295 — — North America 281 277 255 Asia Pacific 38 47 1\\nBottling Investments 247 194 164 Corporate 185 318 30 Total $ 1,183 $\\n895 $ 447 I...\\nScore:  0.498\\n']\n",
      "\n",
      "======================================================================\n",
      "\n",
      "Metrics Summary\n",
      "\n",
      "  - ❌ Correctness (GEval) (score: 0.1, threshold: 0.5, strict: False, evaluation model: deepseek-r1:1.5b (Ollama), reason: The actual output of '9 billion' is a lower quantity than the expected output of 'More than 1.9 billion servings'. The expected output specifies 'More than 1.9 billion', indicating a greater volume of consumption, but the actual output does not reflect this., error: None)\n",
      "\n",
      "For test case:\n",
      "\n",
      "  - input: How many daily servings of Coca-Cola products were consumed worldwide in 2015?\n",
      "  - actual output: 1.  9 billion.\n",
      "  - expected output: More than 1.9 billion servings of Coca-Cola beverages were consumed each day in 2015.\n",
      "  - context: None\n",
      "  - retrieval context: ['Node ID: b37be355-fb95-4503-bb9f-e1a95355ee56\\nText: Beverages bearing trademarks owned by or licensed to us account\\nfor 1.9 billion of the approximately 57 billion servings of all\\nbeverages consumed worldwide every day.\\nScore:  0.605\\n', 'Node ID: 9a345fe0-700d-42ac-8cf0-92a873c086da\\nText: Beverages bearing trademarks owned by or licensed to us account\\nfor 1.9 billion of the approximately 57 billion servings of all\\nbeverages consumed worldwide every day.\\nScore:  0.594\\n', 'Node ID: d3369384-8042-4bfe-9641-1a376a711167\\nText: Beverages bearing trademarks owned by or licensed to us account\\nfor 1.9 billion of the approximately 57 billion servings of all\\nbeverages consumed worldwide every day.\\nScore:  0.593\\n']\n",
      "\n",
      "======================================================================\n",
      "\n",
      "Metrics Summary\n",
      "\n",
      "  - ❌ Correctness (GEval) (score: 0.3, threshold: 0.5, strict: False, evaluation model: deepseek-r1:1.5b (Ollama), reason: The actual output lists countries with high non-U.S. unit case volumes, but it lacks the crucial detail from the expected output regarding the 31% worldwide unit case volume share. It does not include the percentage information, failing to fully address the question., error: None)\n",
      "\n",
      "For test case:\n",
      "\n",
      "  - input: Which countries had the largest non-U.S. unit case volumes for Coca-Cola in 2014?\n",
      "  - actual output: Mexico, China, Brazil and Japan.\n",
      "  - expected output: Mexico, China, Brazil, and Japan accounted for 31% of worldwide unit case volume in 2014.\n",
      "  - context: None\n",
      "  - retrieval context: ['Node ID: c573e917-c997-4646-b96a-ad8d44c9b022\\nText: The countries outside the United States in which our unit case\\nvolumes were the largest in 2014 were Mexico, China, Brazil and Japan,\\nwhich together accounted for 31 percent of our worldwide unit case\\nvolume.\\nScore:  0.671\\n', 'Node ID: 2cd6474a-3321-4a9c-8c52-1abbdd871e23\\nText: The countries outside the United States in which our unit case\\nvolumes were the largest in 2015 were Mexico, China, Brazil and Japan,\\nwhich together accounted for 31 percent of our worldwide unit case\\nvolume.\\nScore:  0.630\\n', 'Node ID: 3908d502-6a66-48bf-8546-22e9e0a40f8f\\nText: The countries outside the United States in which our unit case\\nvolumes were the largest were Mexico, China, Brazil and Japan, which\\ntogether accounted for 31 percent of our worldwide unit case volume.\\nScore:  0.624\\n']\n",
      "\n",
      "======================================================================\n",
      "\n",
      "Metrics Summary\n",
      "\n",
      "  - ❌ Correctness (GEval) (score: 0.3, threshold: 0.5, strict: False, evaluation model: deepseek-r1:1.5b (Ollama), reason: The actual output lists countries with large unit case volumes, but it lacks the key detail about the 31% worldwide unit case volume from the expected output. It doesn't mention the percentage, omitting a significant piece of information., error: None)\n",
      "\n",
      "For test case:\n",
      "\n",
      "  - input: Which countries outside the U.S. had the largest unit case volumes for Coca-Cola in 2015?\n",
      "  - actual output: Mexico, China, Brazil and Japan.\n",
      "  - expected output: Mexico, China, Brazil, and Japan accounted for 31% of worldwide unit case volume in 2015.\n",
      "  - context: None\n",
      "  - retrieval context: ['Node ID: c573e917-c997-4646-b96a-ad8d44c9b022\\nText: The countries outside the United States in which our unit case\\nvolumes were the largest in 2014 were Mexico, China, Brazil and Japan,\\nwhich together accounted for 31 percent of our worldwide unit case\\nvolume.\\nScore:  0.706\\n', 'Node ID: 2cd6474a-3321-4a9c-8c52-1abbdd871e23\\nText: The countries outside the United States in which our unit case\\nvolumes were the largest in 2015 were Mexico, China, Brazil and Japan,\\nwhich together accounted for 31 percent of our worldwide unit case\\nvolume.\\nScore:  0.700\\n', 'Node ID: 3908d502-6a66-48bf-8546-22e9e0a40f8f\\nText: The countries outside the United States in which our unit case\\nvolumes were the largest were Mexico, China, Brazil and Japan, which\\ntogether accounted for 31 percent of our worldwide unit case volume.\\nScore:  0.660\\n']\n",
      "\n",
      "======================================================================\n",
      "\n",
      "Metrics Summary\n",
      "\n",
      "  - ✅ Correctness (GEval) (score: 1.0, threshold: 0.5, strict: False, evaluation model: deepseek-r1:1.5b (Ollama), reason: The actual output, '33 percent,' precisely matches the expected output, '33% of U.S. unit case volume came from still beverages in 2015.' There are no contradictions or omissions of detail., error: None)\n",
      "\n",
      "For test case:\n",
      "\n",
      "  - input: What percentage of Coca-Cola’s U.S. unit case volume in 2015 was from still beverages?\n",
      "  - actual output: 33 percent.\n",
      "  - expected output: 33% of U.S. unit case volume came from still beverages in 2015.\n",
      "  - context: None\n",
      "  - retrieval context: ['Node ID: f0d88745-e9ec-4983-b347-191a3995b9a2\\nText: unit case volume for 2014, 74 percent was attributable to\\nsparkling beverages and 26 percent to still beverages.\\nScore:  0.652\\n', 'Node ID: bb150266-ea86-461c-9704-e2c449ca3a62\\nText: unit case volume for 2014, 68 percent was attributable to\\nsparkling beverages and 32 percent to still beverages.\\nScore:  0.650\\n', 'Node ID: 402048ed-8cb1-4008-abc1-680ca20c1886\\nText: unit case volume for 2015, 67 percent was attributable to\\nsparkling beverages and 33 percent to still beverages.\\nScore:  0.640\\n']\n",
      "\n",
      "======================================================================\n",
      "\n",
      "Metrics Summary\n",
      "\n",
      "  - ❌ Correctness (GEval) (score: 0.0, threshold: 0.5, strict: False, evaluation model: deepseek-r1:1.5b (Ollama), reason: The actual output provides percentages of beverage types (74% sparkling, 26% still) and does not include the requested total unit case volume, which was 28.6 billion as stated in the expected output., error: None)\n",
      "\n",
      "For test case:\n",
      "\n",
      "  - input: What was Coca-Cola’s total unit case volume in 2014?\n",
      "  - actual output: 74 percent was attributable to sparkling beverages and 26 percent to still beverages.\n",
      "  - expected output: Coca-Cola sold 28.6 billion unit cases of products in 2014.\n",
      "  - context: None\n",
      "  - retrieval context: ['Node ID: f0d88745-e9ec-4983-b347-191a3995b9a2\\nText: unit case volume for 2014, 74 percent was attributable to\\nsparkling beverages and 26 percent to still beverages.\\nScore:  0.606\\n', 'Node ID: bb150266-ea86-461c-9704-e2c449ca3a62\\nText: unit case volume for 2014, 68 percent was attributable to\\nsparkling beverages and 32 percent to still beverages.\\nScore:  0.604\\n', 'Node ID: 8e29258c-89dc-4d61-aa49-645e9fe91e77\\nText: We believe unit case volume is one of the measures of the\\nunderlying strength of the Coca-Cola system because it measures trends\\nat the consumer level.\\nScore:  0.603\\n']\n",
      "\n",
      "======================================================================\n",
      "\n",
      "Metrics Summary\n",
      "\n",
      "  - ❌ Correctness (GEval) (score: 0.1, threshold: 0.5, strict: False, evaluation model: deepseek-r1:1.5b (Ollama), reason: The actual output (74 percent) differs from the expected output (73% of Coca-Cola's worldwide unit case volume). It provides a numerical value, but lacks the specific context of Coca-Cola’s volume., error: None)\n",
      "\n",
      "For test case:\n",
      "\n",
      "  - input: What percentage of worldwide unit case volume came from sparkling beverages in 2014?\n",
      "  - actual output: 74 percent\n",
      "  - expected output: Sparkling beverages represented 73% of Coca-Cola’s worldwide unit case volume in 2014.\n",
      "  - context: None\n",
      "  - retrieval context: ['Node ID: f0d88745-e9ec-4983-b347-191a3995b9a2\\nText: unit case volume for 2014, 74 percent was attributable to\\nsparkling beverages and 26 percent to still beverages.\\nScore:  0.567\\n', 'Node ID: bb150266-ea86-461c-9704-e2c449ca3a62\\nText: unit case volume for 2014, 68 percent was attributable to\\nsparkling beverages and 32 percent to still beverages.\\nScore:  0.565\\n', 'Node ID: b2b03a9c-21a0-4bde-8607-91db3848490f\\nText: Sparkling beverages represented 73 percent, 74 percent and 75\\npercent of our worldwide unit case volume for 2014, 2013 and 2012,\\nrespectively.\\nScore:  0.559\\n']\n",
      "\n",
      "======================================================================\n",
      "\n",
      "Overall Metric Pass Rates\n",
      "\n",
      "Correctness (GEval): 10.00% pass rate\n",
      "\n",
      "======================================================================\n",
      "\n"
     ]
    },
    {
     "name": "stderr",
     "output_type": "stream",
     "text": [
      "\n"
     ]
    },
    {
     "data": {
      "text/html": [
       "<pre style=\"white-space:pre;overflow-x:auto;line-height:normal;font-family:Menlo,'DejaVu Sans Mono',consolas,'Courier New',monospace\">\n",
       "<span style=\"color: #05f58d; text-decoration-color: #05f58d\">✓</span> Tests finished 🎉! Run <span style=\"color: #008000; text-decoration-color: #008000; font-weight: bold\">'deepeval login'</span> to save and analyze evaluation results on Confident AI.\n",
       " \n",
       "✨👀 Looking for a place for your LLM test data to live 🏡❤️ ? Use <span style=\"color: #6a00ff; text-decoration-color: #6a00ff\">Confident AI</span> to get &amp; share testing reports, \n",
       "experiment with models/prompts, and catch regressions for your LLM system. Just run <span style=\"color: #008080; text-decoration-color: #008080\">'deepeval login'</span> in the CLI. \n",
       "\n",
       "</pre>\n"
      ],
      "text/plain": [
       "\n",
       "\u001b[38;2;5;245;141m✓\u001b[0m Tests finished 🎉! Run \u001b[1;32m'deepeval login'\u001b[0m to save and analyze evaluation results on Confident AI.\n",
       " \n",
       "✨👀 Looking for a place for your LLM test data to live 🏡❤️ ? Use \u001b[38;2;106;0;255mConfident AI\u001b[0m to get & share testing reports, \n",
       "experiment with models/prompts, and catch regressions for your LLM system. Just run \u001b[36m'deepeval login'\u001b[0m in the CLI. \n",
       "\n"
      ]
     },
     "metadata": {},
     "output_type": "display_data"
    },
    {
     "data": {
      "text/plain": [
       "EvaluationResult(test_results=[TestResult(name='test_case_4', success=False, metrics_data=[MetricData(name='Correctness (GEval)', threshold=0.5, success=False, score=0.3, reason='The actual output (26 percent) contradicts the expected output (32% of U.S. unit case volume). While the actual output provides a numerical value, it differs from the percentage specified in the expected output.', strict_mode=False, evaluation_model='deepseek-r1:1.5b (Ollama)', error=None, evaluation_cost=0.0, verbose_logs='Criteria:\\nDetermine whether the actual output is factually correct based on the expected output. \\n \\nEvaluation Steps:\\n[\\n    \"Check whether the facts in \\'actual output\\' contradicts any facts in \\'expected output\\'\",\\n    \"You should also heavily penalize omission of detail\",\\n    \"Vague language, or contradicting OPINIONS, are OK\"\\n]')], conversational=False, multimodal=False, input='What percentage of Coca-Cola’s U.S. unit case volume in 2014 was from still beverages?', actual_output='26 percent.', expected_output='32% of U.S. unit case volume came from still beverages in 2014.', context=None, retrieval_context=['Node ID: f0d88745-e9ec-4983-b347-191a3995b9a2\\nText: unit case volume for 2014, 74 percent was attributable to\\nsparkling beverages and 26 percent to still beverages.\\nScore:  0.635\\n', 'Node ID: bb150266-ea86-461c-9704-e2c449ca3a62\\nText: unit case volume for 2014, 68 percent was attributable to\\nsparkling beverages and 32 percent to still beverages.\\nScore:  0.632\\n', 'Node ID: ce7c84d7-85a0-4a26-8584-a348db0ad503\\nText: unit case volume, 73 percent was attributable to sparkling\\nbeverages and 27 percent to still beverages.\\nScore:  0.602\\n']), TestResult(name='test_case_7', success=False, metrics_data=[MetricData(name='Correctness (GEval)', threshold=0.5, success=False, score=0.1, reason=\"The actual output states 68 percent, while the expected output specifies 73% for sparkling beverages from Coca-Cola's worldwide unit case volume in 2015. The actual output omits the key detail of Coca-Cola.\", strict_mode=False, evaluation_model='deepseek-r1:1.5b (Ollama)', error=None, evaluation_cost=0.0, verbose_logs='Criteria:\\nDetermine whether the actual output is factually correct based on the expected output. \\n \\nEvaluation Steps:\\n[\\n    \"Check whether the facts in \\'actual output\\' contradicts any facts in \\'expected output\\'\",\\n    \"You should also heavily penalize omission of detail\",\\n    \"Vague language, or contradicting OPINIONS, are OK\"\\n]')], conversational=False, multimodal=False, input='What percentage of worldwide unit case volume came from sparkling beverages in 2015?', actual_output='68 percent', expected_output='Sparkling beverages represented 73% of Coca-Cola’s worldwide unit case volume in 2015.', context=None, retrieval_context=['Node ID: b2b03a9c-21a0-4bde-8607-91db3848490f\\nText: Sparkling beverages represented 73 percent, 74 percent and 75\\npercent of our worldwide unit case volume for 2014, 2013 and 2012,\\nrespectively.\\nScore:  0.589\\n', 'Node ID: f0d88745-e9ec-4983-b347-191a3995b9a2\\nText: unit case volume for 2014, 74 percent was attributable to\\nsparkling beverages and 26 percent to still beverages.\\nScore:  0.589\\n', 'Node ID: bb150266-ea86-461c-9704-e2c449ca3a62\\nText: unit case volume for 2014, 68 percent was attributable to\\nsparkling beverages and 32 percent to still beverages.\\nScore:  0.588\\n']), TestResult(name='test_case_5', success=False, metrics_data=[MetricData(name='Correctness (GEval)', threshold=0.5, success=False, score=0.0, reason=\"The actual output provides information about 2014 unit case volume percentages and growth in specific regions (Latin America) but does not contain the requested total unit case volume for 2015, which is stated as '29.2 billion unit cases' in the expected output.\", strict_mode=False, evaluation_model='deepseek-r1:1.5b (Ollama)', error=None, evaluation_cost=0.0, verbose_logs='Criteria:\\nDetermine whether the actual output is factually correct based on the expected output. \\n \\nEvaluation Steps:\\n[\\n    \"Check whether the facts in \\'actual output\\' contradicts any facts in \\'expected output\\'\",\\n    \"You should also heavily penalize omission of detail\",\\n    \"Vague language, or contradicting OPINIONS, are OK\"\\n]')], conversational=False, multimodal=False, input='What was Coca-Cola’s total unit case volume in 2015?', actual_output=\"Unit case volume outside the United States represented 81 percent of the Company's worldwide unit case volume for 2014. Unit case volume for 2014, 74 percent was attributable to sparkling beverages and 26 percent to still beverages. In Latin America, unit case volume increased 1 percent, which primarily reflects 8 percent growth in still beverages while volume in sparkling beverages was even.\", expected_output='Coca-Cola sold 29.2 billion unit cases of products in 2015.', context=None, retrieval_context=[\"Node ID: 832f71c4-244e-4f87-b43e-9c68e1fec356\\nText: Unit case volume outside the United States represented 81\\npercent of the Company's worldwide unit case volume for 2014.\\nScore:  0.637\\n\", 'Node ID: f0d88745-e9ec-4983-b347-191a3995b9a2\\nText: unit case volume for 2014, 74 percent was attributable to\\nsparkling beverages and 26 percent to still beverages.\\nScore:  0.634\\n', 'Node ID: c36534d7-589c-4592-aa0d-5afb8e7fe254\\nText: In Latin America, unit case volume increased 1 percent, which\\nprimarily reflects 8 percent growth in still beverages while volume in\\nsparkling beverages was even.\\nScore:  0.633\\n']), TestResult(name='test_case_1', success=False, metrics_data=[MetricData(name='Correctness (GEval)', threshold=0.5, success=False, score=0.0, reason=\"The actual output states that the documents 'do not contain information' about the number of servings, while the expected output explicitly states 'Approximately 1.9 billion servings'. The actual output completely omits the expected figure.\", strict_mode=False, evaluation_model='deepseek-r1:1.5b (Ollama)', error=None, evaluation_cost=0.0, verbose_logs='Criteria:\\nDetermine whether the actual output is factually correct based on the expected output. \\n \\nEvaluation Steps:\\n[\\n    \"Check whether the facts in \\'actual output\\' contradicts any facts in \\'expected output\\'\",\\n    \"You should also heavily penalize omission of detail\",\\n    \"Vague language, or contradicting OPINIONS, are OK\"\\n]')], conversational=False, multimodal=False, input='How many daily servings of Coca-Cola products were consumed worldwide in 2014?', actual_output='The provided documents do not contain information about the number of daily servings of Coca-Cola products consumed worldwide in 2014.', expected_output='Approximately 1.9 billion servings of Coca-Cola beverages were consumed each day in 2014.', context=None, retrieval_context=['Node ID: fb9b340f-8e10-4d67-a724-b8dc5150d122\\nText: In 2014, our operations outside the United States accounted for\\n$26.2 billion, or 57 percent, of our total net operating revenues.\\nScore:  0.511\\n', 'Node ID: c573e917-c997-4646-b96a-ad8d44c9b022\\nText: The countries outside the United States in which our unit case\\nvolumes were the largest in 2014 were Mexico, China, Brazil and Japan,\\nwhich together accounted for 31 percent of our worldwide unit case\\nvolume.\\nScore:  0.509\\n', 'Node ID: 12810d15-0cf6-4f6d-b89f-cdb3ad2699b5\\nText: Other Operating Charges Other operating charges incurred by\\noperating segment were as follows (in millions): Year Ended December\\n31, 2014 2013 2012 Eurasia & Africa $ 26 $ 2 $ — Europe 111 57 (3 )\\nLatin America 295 — — North America 281 277 255 Asia Pacific 38 47 1\\nBottling Investments 247 194 164 Corporate 185 318 30 Total $ 1,183 $\\n895 $ 447 I...\\nScore:  0.498\\n']), TestResult(name='test_case_6', success=False, metrics_data=[MetricData(name='Correctness (GEval)', threshold=0.5, success=False, score=0.1, reason=\"The actual output of '9 billion' is a lower quantity than the expected output of 'More than 1.9 billion servings'. The expected output specifies 'More than 1.9 billion', indicating a greater volume of consumption, but the actual output does not reflect this.\", strict_mode=False, evaluation_model='deepseek-r1:1.5b (Ollama)', error=None, evaluation_cost=0.0, verbose_logs='Criteria:\\nDetermine whether the actual output is factually correct based on the expected output. \\n \\nEvaluation Steps:\\n[\\n    \"Check whether the facts in \\'actual output\\' contradicts any facts in \\'expected output\\'\",\\n    \"You should also heavily penalize omission of detail\",\\n    \"Vague language, or contradicting OPINIONS, are OK\"\\n]')], conversational=False, multimodal=False, input='How many daily servings of Coca-Cola products were consumed worldwide in 2015?', actual_output='1.  9 billion.', expected_output='More than 1.9 billion servings of Coca-Cola beverages were consumed each day in 2015.', context=None, retrieval_context=['Node ID: b37be355-fb95-4503-bb9f-e1a95355ee56\\nText: Beverages bearing trademarks owned by or licensed to us account\\nfor 1.9 billion of the approximately 57 billion servings of all\\nbeverages consumed worldwide every day.\\nScore:  0.605\\n', 'Node ID: 9a345fe0-700d-42ac-8cf0-92a873c086da\\nText: Beverages bearing trademarks owned by or licensed to us account\\nfor 1.9 billion of the approximately 57 billion servings of all\\nbeverages consumed worldwide every day.\\nScore:  0.594\\n', 'Node ID: d3369384-8042-4bfe-9641-1a376a711167\\nText: Beverages bearing trademarks owned by or licensed to us account\\nfor 1.9 billion of the approximately 57 billion servings of all\\nbeverages consumed worldwide every day.\\nScore:  0.593\\n']), TestResult(name='test_case_3', success=False, metrics_data=[MetricData(name='Correctness (GEval)', threshold=0.5, success=False, score=0.3, reason='The actual output lists countries with high non-U.S. unit case volumes, but it lacks the crucial detail from the expected output regarding the 31% worldwide unit case volume share. It does not include the percentage information, failing to fully address the question.', strict_mode=False, evaluation_model='deepseek-r1:1.5b (Ollama)', error=None, evaluation_cost=0.0, verbose_logs='Criteria:\\nDetermine whether the actual output is factually correct based on the expected output. \\n \\nEvaluation Steps:\\n[\\n    \"Check whether the facts in \\'actual output\\' contradicts any facts in \\'expected output\\'\",\\n    \"You should also heavily penalize omission of detail\",\\n    \"Vague language, or contradicting OPINIONS, are OK\"\\n]')], conversational=False, multimodal=False, input='Which countries had the largest non-U.S. unit case volumes for Coca-Cola in 2014?', actual_output='Mexico, China, Brazil and Japan.', expected_output='Mexico, China, Brazil, and Japan accounted for 31% of worldwide unit case volume in 2014.', context=None, retrieval_context=['Node ID: c573e917-c997-4646-b96a-ad8d44c9b022\\nText: The countries outside the United States in which our unit case\\nvolumes were the largest in 2014 were Mexico, China, Brazil and Japan,\\nwhich together accounted for 31 percent of our worldwide unit case\\nvolume.\\nScore:  0.671\\n', 'Node ID: 2cd6474a-3321-4a9c-8c52-1abbdd871e23\\nText: The countries outside the United States in which our unit case\\nvolumes were the largest in 2015 were Mexico, China, Brazil and Japan,\\nwhich together accounted for 31 percent of our worldwide unit case\\nvolume.\\nScore:  0.630\\n', 'Node ID: 3908d502-6a66-48bf-8546-22e9e0a40f8f\\nText: The countries outside the United States in which our unit case\\nvolumes were the largest were Mexico, China, Brazil and Japan, which\\ntogether accounted for 31 percent of our worldwide unit case volume.\\nScore:  0.624\\n']), TestResult(name='test_case_9', success=False, metrics_data=[MetricData(name='Correctness (GEval)', threshold=0.5, success=False, score=0.3, reason=\"The actual output lists countries with large unit case volumes, but it lacks the key detail about the 31% worldwide unit case volume from the expected output. It doesn't mention the percentage, omitting a significant piece of information.\", strict_mode=False, evaluation_model='deepseek-r1:1.5b (Ollama)', error=None, evaluation_cost=0.0, verbose_logs='Criteria:\\nDetermine whether the actual output is factually correct based on the expected output. \\n \\nEvaluation Steps:\\n[\\n    \"Check whether the facts in \\'actual output\\' contradicts any facts in \\'expected output\\'\",\\n    \"You should also heavily penalize omission of detail\",\\n    \"Vague language, or contradicting OPINIONS, are OK\"\\n]')], conversational=False, multimodal=False, input='Which countries outside the U.S. had the largest unit case volumes for Coca-Cola in 2015?', actual_output='Mexico, China, Brazil and Japan.', expected_output='Mexico, China, Brazil, and Japan accounted for 31% of worldwide unit case volume in 2015.', context=None, retrieval_context=['Node ID: c573e917-c997-4646-b96a-ad8d44c9b022\\nText: The countries outside the United States in which our unit case\\nvolumes were the largest in 2014 were Mexico, China, Brazil and Japan,\\nwhich together accounted for 31 percent of our worldwide unit case\\nvolume.\\nScore:  0.706\\n', 'Node ID: 2cd6474a-3321-4a9c-8c52-1abbdd871e23\\nText: The countries outside the United States in which our unit case\\nvolumes were the largest in 2015 were Mexico, China, Brazil and Japan,\\nwhich together accounted for 31 percent of our worldwide unit case\\nvolume.\\nScore:  0.700\\n', 'Node ID: 3908d502-6a66-48bf-8546-22e9e0a40f8f\\nText: The countries outside the United States in which our unit case\\nvolumes were the largest were Mexico, China, Brazil and Japan, which\\ntogether accounted for 31 percent of our worldwide unit case volume.\\nScore:  0.660\\n']), TestResult(name='test_case_8', success=True, metrics_data=[MetricData(name='Correctness (GEval)', threshold=0.5, success=True, score=1.0, reason=\"The actual output, '33 percent,' precisely matches the expected output, '33% of U.S. unit case volume came from still beverages in 2015.' There are no contradictions or omissions of detail.\", strict_mode=False, evaluation_model='deepseek-r1:1.5b (Ollama)', error=None, evaluation_cost=0.0, verbose_logs='Criteria:\\nDetermine whether the actual output is factually correct based on the expected output. \\n \\nEvaluation Steps:\\n[\\n    \"Check whether the facts in \\'actual output\\' contradicts any facts in \\'expected output\\'\",\\n    \"You should also heavily penalize omission of detail\",\\n    \"Vague language, or contradicting OPINIONS, are OK\"\\n]')], conversational=False, multimodal=False, input='What percentage of Coca-Cola’s U.S. unit case volume in 2015 was from still beverages?', actual_output='33 percent.', expected_output='33% of U.S. unit case volume came from still beverages in 2015.', context=None, retrieval_context=['Node ID: f0d88745-e9ec-4983-b347-191a3995b9a2\\nText: unit case volume for 2014, 74 percent was attributable to\\nsparkling beverages and 26 percent to still beverages.\\nScore:  0.652\\n', 'Node ID: bb150266-ea86-461c-9704-e2c449ca3a62\\nText: unit case volume for 2014, 68 percent was attributable to\\nsparkling beverages and 32 percent to still beverages.\\nScore:  0.650\\n', 'Node ID: 402048ed-8cb1-4008-abc1-680ca20c1886\\nText: unit case volume for 2015, 67 percent was attributable to\\nsparkling beverages and 33 percent to still beverages.\\nScore:  0.640\\n']), TestResult(name='test_case_0', success=False, metrics_data=[MetricData(name='Correctness (GEval)', threshold=0.5, success=False, score=0.0, reason='The actual output provides percentages of beverage types (74% sparkling, 26% still) and does not include the requested total unit case volume, which was 28.6 billion as stated in the expected output.', strict_mode=False, evaluation_model='deepseek-r1:1.5b (Ollama)', error=None, evaluation_cost=0.0, verbose_logs='Criteria:\\nDetermine whether the actual output is factually correct based on the expected output. \\n \\nEvaluation Steps:\\n[\\n    \"Check whether the facts in \\'actual output\\' contradicts any facts in \\'expected output\\'\",\\n    \"You should also heavily penalize omission of detail\",\\n    \"Vague language, or contradicting OPINIONS, are OK\"\\n]')], conversational=False, multimodal=False, input='What was Coca-Cola’s total unit case volume in 2014?', actual_output='74 percent was attributable to sparkling beverages and 26 percent to still beverages.', expected_output='Coca-Cola sold 28.6 billion unit cases of products in 2014.', context=None, retrieval_context=['Node ID: f0d88745-e9ec-4983-b347-191a3995b9a2\\nText: unit case volume for 2014, 74 percent was attributable to\\nsparkling beverages and 26 percent to still beverages.\\nScore:  0.606\\n', 'Node ID: bb150266-ea86-461c-9704-e2c449ca3a62\\nText: unit case volume for 2014, 68 percent was attributable to\\nsparkling beverages and 32 percent to still beverages.\\nScore:  0.604\\n', 'Node ID: 8e29258c-89dc-4d61-aa49-645e9fe91e77\\nText: We believe unit case volume is one of the measures of the\\nunderlying strength of the Coca-Cola system because it measures trends\\nat the consumer level.\\nScore:  0.603\\n']), TestResult(name='test_case_2', success=False, metrics_data=[MetricData(name='Correctness (GEval)', threshold=0.5, success=False, score=0.1, reason=\"The actual output (74 percent) differs from the expected output (73% of Coca-Cola's worldwide unit case volume). It provides a numerical value, but lacks the specific context of Coca-Cola’s volume.\", strict_mode=False, evaluation_model='deepseek-r1:1.5b (Ollama)', error=None, evaluation_cost=0.0, verbose_logs='Criteria:\\nDetermine whether the actual output is factually correct based on the expected output. \\n \\nEvaluation Steps:\\n[\\n    \"Check whether the facts in \\'actual output\\' contradicts any facts in \\'expected output\\'\",\\n    \"You should also heavily penalize omission of detail\",\\n    \"Vague language, or contradicting OPINIONS, are OK\"\\n]')], conversational=False, multimodal=False, input='What percentage of worldwide unit case volume came from sparkling beverages in 2014?', actual_output='74 percent', expected_output='Sparkling beverages represented 73% of Coca-Cola’s worldwide unit case volume in 2014.', context=None, retrieval_context=['Node ID: f0d88745-e9ec-4983-b347-191a3995b9a2\\nText: unit case volume for 2014, 74 percent was attributable to\\nsparkling beverages and 26 percent to still beverages.\\nScore:  0.567\\n', 'Node ID: bb150266-ea86-461c-9704-e2c449ca3a62\\nText: unit case volume for 2014, 68 percent was attributable to\\nsparkling beverages and 32 percent to still beverages.\\nScore:  0.565\\n', 'Node ID: b2b03a9c-21a0-4bde-8607-91db3848490f\\nText: Sparkling beverages represented 73 percent, 74 percent and 75\\npercent of our worldwide unit case volume for 2014, 2013 and 2012,\\nrespectively.\\nScore:  0.559\\n'])], confident_link=None)"
      ]
     },
     "execution_count": 185,
     "metadata": {},
     "output_type": "execute_result"
    }
   ],
   "source": [
    "evaluate(test_cases=test_cases, metrics=[correctness_metric])"
   ]
  },
  {
   "cell_type": "markdown",
   "id": "bc14d70d-dbf5-409b-81da-f2429e136afc",
   "metadata": {},
   "source": [
    "Overall Metric Pass Rates\n",
    "\n",
    "Correctness (GEval): 10.00% pass rate"
   ]
  },
  {
   "cell_type": "code",
   "execution_count": null,
   "id": "af2c73d9-f1be-4f1f-8a5f-0454169b8571",
   "metadata": {},
   "outputs": [],
   "source": []
  }
 ],
 "metadata": {
  "kernelspec": {
   "display_name": "Python [conda env:base] *",
   "language": "python",
   "name": "conda-base-py"
  },
  "language_info": {
   "codemirror_mode": {
    "name": "ipython",
    "version": 3
   },
   "file_extension": ".py",
   "mimetype": "text/x-python",
   "name": "python",
   "nbconvert_exporter": "python",
   "pygments_lexer": "ipython3",
   "version": "3.12.7"
  }
 },
 "nbformat": 4,
 "nbformat_minor": 5
}
