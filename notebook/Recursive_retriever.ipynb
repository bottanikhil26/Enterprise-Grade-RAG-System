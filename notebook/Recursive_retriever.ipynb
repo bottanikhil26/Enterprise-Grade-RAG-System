{
 "cells": [
  {
   "cell_type": "code",
   "execution_count": 1,
   "id": "837db0ac-bc84-4c76-a1bd-5e50adfddf04",
   "metadata": {},
   "outputs": [
    {
     "name": "stdout",
     "output_type": "stream",
     "text": [
      "/Users/nikhil/Documents/GitHub_portfolio/1-Enterprise-Grade RAG System/notebook\n",
      "/Users/nikhil/Documents/GitHub_portfolio/1-Enterprise-Grade RAG System\n"
     ]
    }
   ],
   "source": [
    "import os\n",
    "print(os.getcwd())\n",
    "os.chdir('..')\n",
    "print(os.getcwd())"
   ]
  },
  {
   "cell_type": "code",
   "execution_count": 3,
   "id": "20d9b740-a373-40dc-bde3-2bb0a4ce332f",
   "metadata": {},
   "outputs": [],
   "source": [
    "%%capture\n",
    "!pip install -r requirements.txt\n"
   ]
  },
  {
   "cell_type": "code",
   "execution_count": 45,
   "id": "e17387d7-f630-491f-8c05-eb6b1d3ed1d7",
   "metadata": {},
   "outputs": [],
   "source": [
    "import re\n",
    "import nest_asyncio\n",
    "\n",
    "nest_asyncio.apply()\n",
    "from llama_index.readers.file import PyMuPDFReader\n",
    "from llama_index.core import SimpleDirectoryReader , VectorStoreIndex, StorageContext,get_response_synthesizer\n",
    "from llama_index.embeddings.huggingface import HuggingFaceEmbedding\n",
    "import chromadb\n",
    "from llama_index.vector_stores.chroma import ChromaVectorStore\n",
    "from llama_index.core.node_parser import SentenceSplitter , SentenceWindowNodeParser , HierarchicalNodeParser , SemanticSplitterNodeParser\n",
    "from llama_index.llms.ollama import Ollama\n",
    "from llama_index.core.query_engine import RetrieverQueryEngine\n",
    "from llama_index.core.retrievers import RecursiveRetriever\n",
    "from llama_index.core.vector_stores import MetadataFilter, MetadataFilters"
   ]
  },
  {
   "cell_type": "code",
   "execution_count": 6,
   "id": "9b90935d-1ddb-42da-b977-33a303106a5d",
   "metadata": {},
   "outputs": [],
   "source": [
    "#load data\n",
    "loading_mapping = {\".pdf\":PyMuPDFReader()}\n",
    "\n",
    "documents = SimpleDirectoryReader(\"./data\",file_extractor = loading_mapping).load_data()"
   ]
  },
  {
   "cell_type": "code",
   "execution_count": 7,
   "id": "cbe3db40-7c32-41c1-8b53-41451ca7ceb2",
   "metadata": {},
   "outputs": [],
   "source": [
    "current_section =\"unknown\"\n",
    "\n",
    "for doc in documents:\n",
    "    match = re.search(r\"(\\d{4})\" , doc.metadata.get(\"file_name\",\"\"))\n",
    "    if match :\n",
    "        doc.metadata['year']=int(match.group(0))\n",
    "        doc.metadata['company'] = \"Coca-cola\"\n",
    "        doc.metadata[\"filing_type\"] = \"10-K\"\n",
    "    text = doc.text.replace(\"\\n\",\" \").replace(\"  \",\" \")\n",
    "    match = re.search(r\"(ITEM\\s+\\d+[A-Z]?\\.\\s+[A-Z\\s,&\\-]+)\", text)\n",
    "    if match:\n",
    "        current_section = match.group(0).strip()\n",
    "        doc.metadata['section']=current_section\n",
    "        continue\n",
    "    doc.metadata['section']=current_section"
   ]
  },
  {
   "cell_type": "code",
   "execution_count": 9,
   "id": "6a2f3636-7313-4e8d-a741-078c5aee0aec",
   "metadata": {},
   "outputs": [
    {
     "data": {
      "text/plain": [
       "{'file_path': '/Users/nikhil/Documents/GitHub_portfolio/1-Enterprise-Grade RAG System/data/2015-cocacola-10k-filing.pdf',\n",
       " 'file_name': '2015-cocacola-10k-filing.pdf',\n",
       " 'file_type': 'application/pdf',\n",
       " 'file_size': 1717600,\n",
       " 'creation_date': '2025-09-15',\n",
       " 'last_modified_date': '2025-05-23',\n",
       " 'total_pages': 216,\n",
       " 'source': '23',\n",
       " 'year': 2015,\n",
       " 'company': 'Coca-cola',\n",
       " 'filing_type': '10-K',\n",
       " 'section': 'ITEM 1B. UNRESOLVED STAFF COMMENTS N'}"
      ]
     },
     "execution_count": 9,
     "metadata": {},
     "output_type": "execute_result"
    }
   ],
   "source": [
    "documents[22].metadata"
   ]
  },
  {
   "cell_type": "code",
   "execution_count": 10,
   "id": "2b753cf8-86fa-4212-9342-7f8e0b3f3288",
   "metadata": {},
   "outputs": [],
   "source": [
    "parent_parser = SentenceSplitter(chunk_size=2048,chunk_overlap=0)\n",
    "parent_nodes = parent_parser.get_nodes_from_documents(documents)"
   ]
  },
  {
   "cell_type": "code",
   "execution_count": 19,
   "id": "8b11e1bc-7176-412e-8ef8-ed89d3f4813e",
   "metadata": {},
   "outputs": [],
   "source": [
    "for i,n in enumerate(parent_nodes):\n",
    "    n.id_ = f\"parent-{i} \""
   ]
  },
  {
   "cell_type": "code",
   "execution_count": 21,
   "id": "735369f7-7cf8-436b-ab38-ce501459d440",
   "metadata": {},
   "outputs": [],
   "source": [
    "sub_chunk_sizes = [256,512,1024]\n",
    "child_splitter = [\n",
    "    SentenceSplitter(chunk_size = c ,chunk_overlap=120) for c in sub_chunk_sizes\n",
    "]"
   ]
  },
  {
   "cell_type": "code",
   "execution_count": 23,
   "id": "52cebb7a-1515-45b9-8283-3930d07476f1",
   "metadata": {},
   "outputs": [],
   "source": [
    "from llama_index.core.schema import IndexNode\n",
    "all_nodes =[]\n",
    "for nodes in parent_nodes:\n",
    "    for n in child_splitter:\n",
    "        sub_nodes = n.get_nodes_from_documents([nodes])\n",
    "        sub_inodes = [\n",
    "            IndexNode.from_text_node(sn ,nodes.node_id) for sn in sub_nodes\n",
    "        ]\n",
    "        all_nodes.extend(sub_inodes)\n",
    "    original_nodes = IndexNode.from_text_node(nodes,nodes.node_id)\n",
    "    all_nodes.append(original_nodes)"
   ]
  },
  {
   "cell_type": "code",
   "execution_count": 24,
   "id": "24d0f2bb-97c3-4c11-a95d-fb5ba483c4e7",
   "metadata": {},
   "outputs": [
    {
     "name": "stdout",
     "output_type": "stream",
     "text": [
      "('id_', '54f1f3e7-b9ad-4c63-94e1-2e7499d0a1e9')\n",
      "('embedding', None)\n",
      "('metadata', {'file_path': '/Users/nikhil/Documents/GitHub_portfolio/1-Enterprise-Grade RAG System/data/2015-cocacola-10k-filing.pdf', 'file_name': '2015-cocacola-10k-filing.pdf', 'file_type': 'application/pdf', 'file_size': 1717600, 'creation_date': '2025-09-15', 'last_modified_date': '2025-05-23', 'total_pages': 216, 'source': '1', 'year': 2015, 'company': 'Coca-cola', 'filing_type': '10-K', 'section': 'unknown'})\n",
      "('excluded_embed_metadata_keys', ['file_name', 'file_type', 'file_size', 'creation_date', 'last_modified_date', 'last_accessed_date'])\n",
      "('excluded_llm_metadata_keys', ['file_name', 'file_type', 'file_size', 'creation_date', 'last_modified_date', 'last_accessed_date'])\n",
      "('relationships', {<NodeRelationship.SOURCE: '1'>: RelatedNodeInfo(node_id='6ded93ad-32e7-407f-878c-41951c07452b', node_type='4', metadata={'file_path': '/Users/nikhil/Documents/GitHub_portfolio/1-Enterprise-Grade RAG System/data/2015-cocacola-10k-filing.pdf', 'file_name': '2015-cocacola-10k-filing.pdf', 'file_type': 'application/pdf', 'file_size': 1717600, 'creation_date': '2025-09-15', 'last_modified_date': '2025-05-23', 'total_pages': 216, 'source': '1', 'year': 2015, 'company': 'Coca-cola', 'filing_type': '10-K', 'section': 'unknown'}, hash='45f0bc309de7778db2123c2762f70548fdc98e06c9a22fb563ea7ebdc244f21d')})\n",
      "('metadata_template', '{key}: {value}')\n",
      "('metadata_separator', '\\n')\n",
      "('text', 'UNITED STATES\\nSECURITIES AND EXCHANGE COMMISSION\\nWashington, D.C. 20549\\nFORM 10-K\\ný\\nANNUAL REPORT PURSUANT TO SECTION 13 OR 15(d) OF THE SECURITIES EXCHANGE ACT OF 1934\\nFor the fiscal year ended December 31, 2014\\nOR\\no\\nTRANSITION REPORT PURSUANT TO SECTION 13 OR 15(d) OF THE SECURITIES EXCHANGE ACT OF 1934\\nFor the transition period from to\\nCommission File No. 001-02217\\n(Exact name of Registrant as specified in its charter)\\nDELAWARE\\n(State or other jurisdiction of incorporation or organization)\\n58-0628465\\n(IRS Employer Identification No.)')\n",
      "('mimetype', 'text/plain')\n",
      "('start_char_idx', 0)\n",
      "('end_char_idx', 542)\n",
      "('metadata_seperator', '\\n')\n",
      "('text_template', '{metadata_str}\\n\\n{content}')\n",
      "('index_id', 'parent-0 ')\n",
      "('obj', None)\n"
     ]
    }
   ],
   "source": [
    "for n in all_nodes[0]:\n",
    "    print(n)"
   ]
  },
  {
   "cell_type": "code",
   "execution_count": 25,
   "id": "f2ad8e3f-cee3-4e31-b938-ed9d24303610",
   "metadata": {},
   "outputs": [],
   "source": [
    "all_node_dict = {\n",
    "    n.node_id: n for n in all_nodes\n",
    "}"
   ]
  },
  {
   "cell_type": "code",
   "execution_count": 29,
   "id": "941fcbf8-f048-42fd-8424-616ab6d99aec",
   "metadata": {},
   "outputs": [],
   "source": [
    "embed_model = HuggingFaceEmbedding(model_name=\"BAAI/bge-base-en-v1.5\")\n"
   ]
  },
  {
   "cell_type": "code",
   "execution_count": 30,
   "id": "a643e421-1865-42be-bae1-8915f4399d73",
   "metadata": {},
   "outputs": [],
   "source": [
    "db = chromadb.PersistentClient(\".recursivedb\")\n",
    "\n",
    "chroma_collection = db.get_or_create_collection(\"new_1\")\n",
    "\n",
    "vector_store = ChromaVectorStore(chroma_collection=chroma_collection)\n",
    "\n",
    "storage_context = StorageContext.from_defaults(vector_store=vector_store)\n",
    "\n",
    "index = VectorStoreIndex(all_nodes,storage_context=storage_context,embed_model=embed_model)"
   ]
  },
  {
   "cell_type": "code",
   "execution_count": 84,
   "id": "cdb7b83b-42cf-4e71-8158-43b4a8a640a4",
   "metadata": {},
   "outputs": [],
   "source": [
    "def get_documents_by_year_from_query_llamaindex(query, index=index):\n",
    "    # Valid years\n",
    "    valid_years = [2015, 2016, 2017, 2018, 2019, 2020, \n",
    "                   2021, 2022, 2023, 2024, 2025]\n",
    "\n",
    "    # Extract year from query\n",
    "    match = re.search(r\"\\b(\\d{4})\\b\", query)\n",
    "    \n",
    "    filters = None  # default: no filter\n",
    "\n",
    "    if match:\n",
    "        year = int(match.group(1))\n",
    "        if year in valid_years:\n",
    "            filters = MetadataFilters(filters=[\n",
    "                MetadataFilter(key=\"year\", value=year + 1)\n",
    "            ])\n",
    "        elif year < 2015:\n",
    "            filters = MetadataFilters(filters=[\n",
    "                MetadataFilter(key=\"year\", value=2015)\n",
    "            ])\n",
    "\n",
    "    # Create retriever from index with filter\n",
    "    retriever = index.as_retriever(\n",
    "        similarity_top_k=5,\n",
    "        filters=filters\n",
    "    )\n",
    "    vector_retriever_chunk = RecursiveRetriever(\n",
    "        \"vector\",\n",
    "        retriever_dict={\"vector\": retriever},\n",
    "        node_dict=all_node_dict,\n",
    "        verbose=True,)\n",
    "\n",
    "    # Perform retrieval\n",
    "    results = vector_retriever_chunk.retrieve(query)\n",
    "    llm =Ollama(model=\"gemma3:latest\")\n",
    "    response_synthesizer = get_response_synthesizer(response_mode =\"compact\",llm=llm)\n",
    "\n",
    "    query_engine = RetrieverQueryEngine(retriever = vector_retriever_chunk, response_synthesizer = response_synthesizer)\n",
    "    response=query_engine.query(query)\n",
    "    \n",
    "    return results,response"
   ]
  },
  {
   "cell_type": "code",
   "execution_count": 86,
   "id": "25224d7c-c140-4833-9348-107c86b0bbfb",
   "metadata": {},
   "outputs": [
    {
     "name": "stdout",
     "output_type": "stream",
     "text": [
      "\u001b[1;3;34mRetrieving with query id None: GROSS PROFIT for The Coca-Cola Company in this 10-K in 2013?\n",
      "\u001b[0m\u001b[1;3;38;5;200mRetrieved node with id, entering: parent-140 \n",
      "\u001b[0m\u001b[1;3;34mRetrieving with query id parent-140 : GROSS PROFIT for The Coca-Cola Company in this 10-K in 2013?\n",
      "\u001b[0m\u001b[1;3;38;5;200mRetrieved node with id, entering: parent-48 \n",
      "\u001b[0m\u001b[1;3;34mRetrieving with query id parent-48 : GROSS PROFIT for The Coca-Cola Company in this 10-K in 2013?\n",
      "\u001b[0m\u001b[1;3;38;5;200mRetrieved node with id, entering: parent-30 \n",
      "\u001b[0m\u001b[1;3;34mRetrieving with query id parent-30 : GROSS PROFIT for The Coca-Cola Company in this 10-K in 2013?\n",
      "\u001b[0m\u001b[1;3;38;5;200mRetrieved node with id, entering: parent-74 \n",
      "\u001b[0m\u001b[1;3;34mRetrieving with query id parent-74 : GROSS PROFIT for The Coca-Cola Company in this 10-K in 2013?\n",
      "\u001b[0m\u001b[1;3;34mRetrieving with query id None: GROSS PROFIT for The Coca-Cola Company in this 10-K in 2013?\n",
      "\u001b[0m\u001b[1;3;38;5;200mRetrieved node with id, entering: parent-140 \n",
      "\u001b[0m\u001b[1;3;34mRetrieving with query id parent-140 : GROSS PROFIT for The Coca-Cola Company in this 10-K in 2013?\n",
      "\u001b[0m\u001b[1;3;38;5;200mRetrieved node with id, entering: parent-48 \n",
      "\u001b[0m\u001b[1;3;34mRetrieving with query id parent-48 : GROSS PROFIT for The Coca-Cola Company in this 10-K in 2013?\n",
      "\u001b[0m\u001b[1;3;38;5;200mRetrieved node with id, entering: parent-30 \n",
      "\u001b[0m\u001b[1;3;34mRetrieving with query id parent-30 : GROSS PROFIT for The Coca-Cola Company in this 10-K in 2013?\n",
      "\u001b[0m\u001b[1;3;38;5;200mRetrieved node with id, entering: parent-74 \n",
      "\u001b[0m\u001b[1;3;34mRetrieving with query id parent-74 : GROSS PROFIT for The Coca-Cola Company in this 10-K in 2013?\n",
      "\u001b[0m"
     ]
    }
   ],
   "source": [
    "\n",
    "query = \"GROSS PROFIT for The Coca-Cola Company in this 10-K in 2013?\"\n",
    "retrive,ans= get_documents_by_year_from_query_llamaindex(query)"
   ]
  },
  {
   "cell_type": "code",
   "execution_count": 87,
   "id": "61ce340b-8ad9-4ef6-9968-c7767b6de0aa",
   "metadata": {},
   "outputs": [
    {
     "name": "stdout",
     "output_type": "stream",
     "text": [
      "$28,433\n"
     ]
    }
   ],
   "source": [
    "print(ans)"
   ]
  },
  {
   "cell_type": "code",
   "execution_count": null,
   "id": "68d94cfd-20df-4be2-889c-cbae8b342a1c",
   "metadata": {},
   "outputs": [],
   "source": []
  },
  {
   "cell_type": "code",
   "execution_count": null,
   "id": "b164d227-a9ee-40ee-bae4-57e055cde502",
   "metadata": {},
   "outputs": [],
   "source": []
  },
  {
   "cell_type": "code",
   "execution_count": null,
   "id": "f969e0bb-5f4f-4a21-a903-8fb60d54e9cb",
   "metadata": {},
   "outputs": [],
   "source": []
  },
  {
   "cell_type": "code",
   "execution_count": 72,
   "id": "4d277d65-37f7-4ba4-a2eb-b3b9e6115cbb",
   "metadata": {},
   "outputs": [
    {
     "name": "stderr",
     "output_type": "stream",
     "text": [
      "huggingface/tokenizers: The current process just got forked, after parallelism has already been used. Disabling parallelism to avoid deadlocks...\n",
      "To disable this warning, you can either:\n",
      "\t- Avoid using `tokenizers` before the fork if possible\n",
      "\t- Explicitly set the environment variable TOKENIZERS_PARALLELISM=(true | false)\n",
      "/opt/anaconda3/lib/python3.12/site-packages/deepeval/__init__.py:54: UserWarning: You are using deepeval version 2.6.5, however version 3.4.9 is available. You should consider upgrading via the \"pip install --upgrade deepeval\" command.\n",
      "  warnings.warn(\n"
     ]
    }
   ],
   "source": [
    "from deepeval import evaluate\n",
    "from deepeval.test_case import LLMTestCase\n",
    "\n",
    "from deepeval.metrics import FaithfulnessMetric,AnswerRelevancyMetric,ContextualPrecisionMetric,ContextualRecallMetric,ContextualRelevancyMetric"
   ]
  },
  {
   "cell_type": "code",
   "execution_count": 76,
   "id": "3f5b3903-b668-454c-b80e-5798f0ef623f",
   "metadata": {},
   "outputs": [],
   "source": [
    "import json\n",
    "with open(\"coca_cola_2015_qa.json\", \"r\") as f:\n",
    "    dataset = json.load(f)"
   ]
  },
  {
   "cell_type": "code",
   "execution_count": 88,
   "id": "f2a1dc89-a560-4198-9004-07bd3d6dc7fb",
   "metadata": {},
   "outputs": [],
   "source": [
    "def run_rag(query):\n",
    "    # Ask your RetrieverQueryEngine\n",
    "    retri,response = get_documents_by_year_from_query_llamaindex(query)\n",
    "    \n",
    "    # Answer generated by your response_synthesizer\n",
    "    rag_answer = str(response)\n",
    "    \n",
    "    # Retrieved contexts (nodes)\n",
    "    retrieved_docs = [str(node) for node in retri]\n",
    "    \n",
    "    return rag_answer, retrieved_docs"
   ]
  },
  {
   "cell_type": "code",
   "execution_count": 92,
   "id": "f8c89464-f42a-4647-bf49-8d3ec9de2904",
   "metadata": {},
   "outputs": [
    {
     "name": "stdout",
     "output_type": "stream",
     "text": [
      "\u001b[1;3;34mRetrieving with query id None: What was the total net operating revenue in 2014?\n",
      "\u001b[0m\u001b[1;3;38;5;200mRetrieved node with id, entering: parent-49 \n",
      "\u001b[0m\u001b[1;3;34mRetrieving with query id parent-49 : What was the total net operating revenue in 2014?\n",
      "\u001b[0m\u001b[1;3;38;5;200mRetrieved node with id, entering: parent-74 \n",
      "\u001b[0m\u001b[1;3;34mRetrieving with query id parent-74 : What was the total net operating revenue in 2014?\n",
      "\u001b[0m\u001b[1;3;38;5;200mRetrieved node with id, entering: parent-30 \n",
      "\u001b[0m\u001b[1;3;34mRetrieving with query id parent-30 : What was the total net operating revenue in 2014?\n",
      "\u001b[0m\u001b[1;3;38;5;200mRetrieved node with id, entering: parent-48 \n",
      "\u001b[0m\u001b[1;3;34mRetrieving with query id parent-48 : What was the total net operating revenue in 2014?\n",
      "\u001b[0m\u001b[1;3;34mRetrieving with query id None: What was the total net operating revenue in 2014?\n",
      "\u001b[0m\u001b[1;3;38;5;200mRetrieved node with id, entering: parent-49 \n",
      "\u001b[0m\u001b[1;3;34mRetrieving with query id parent-49 : What was the total net operating revenue in 2014?\n",
      "\u001b[0m\u001b[1;3;38;5;200mRetrieved node with id, entering: parent-74 \n",
      "\u001b[0m\u001b[1;3;34mRetrieving with query id parent-74 : What was the total net operating revenue in 2014?\n",
      "\u001b[0m\u001b[1;3;38;5;200mRetrieved node with id, entering: parent-30 \n",
      "\u001b[0m\u001b[1;3;34mRetrieving with query id parent-30 : What was the total net operating revenue in 2014?\n",
      "\u001b[0m\u001b[1;3;38;5;200mRetrieved node with id, entering: parent-48 \n",
      "\u001b[0m\u001b[1;3;34mRetrieving with query id parent-48 : What was the total net operating revenue in 2014?\n",
      "\u001b[0m\u001b[1;3;34mRetrieving with query id None: What was Coca-Cola’s strategy for business growth in 2015?\n",
      "\u001b[0m\u001b[1;3;38;5;200mRetrieved node with id, entering: parent-251 \n",
      "\u001b[0m\u001b[1;3;34mRetrieving with query id parent-251 : What was Coca-Cola’s strategy for business growth in 2015?\n",
      "\u001b[0m\u001b[1;3;38;5;200mRetrieved node with id, entering: parent-352 \n",
      "\u001b[0m\u001b[1;3;34mRetrieving with query id parent-352 : What was Coca-Cola’s strategy for business growth in 2015?\n",
      "\u001b[0m\u001b[1;3;34mRetrieving with query id None: What was Coca-Cola’s strategy for business growth in 2015?\n",
      "\u001b[0m\u001b[1;3;38;5;200mRetrieved node with id, entering: parent-251 \n",
      "\u001b[0m\u001b[1;3;34mRetrieving with query id parent-251 : What was Coca-Cola’s strategy for business growth in 2015?\n",
      "\u001b[0m\u001b[1;3;38;5;200mRetrieved node with id, entering: parent-352 \n",
      "\u001b[0m\u001b[1;3;34mRetrieving with query id parent-352 : What was Coca-Cola’s strategy for business growth in 2015?\n",
      "\u001b[0m\u001b[1;3;34mRetrieving with query id None: What were the primary risks Coca-Cola highlighted in 2015?\n",
      "\u001b[0m\u001b[1;3;38;5;200mRetrieved node with id, entering: parent-228 \n",
      "\u001b[0m\u001b[1;3;34mRetrieving with query id parent-228 : What were the primary risks Coca-Cola highlighted in 2015?\n",
      "\u001b[0m\u001b[1;3;38;5;200mRetrieved node with id, entering: parent-252 \n",
      "\u001b[0m\u001b[1;3;34mRetrieving with query id parent-252 : What were the primary risks Coca-Cola highlighted in 2015?\n",
      "\u001b[0m\u001b[1;3;34mRetrieving with query id None: What were the primary risks Coca-Cola highlighted in 2015?\n",
      "\u001b[0m\u001b[1;3;38;5;200mRetrieved node with id, entering: parent-228 \n",
      "\u001b[0m\u001b[1;3;34mRetrieving with query id parent-228 : What were the primary risks Coca-Cola highlighted in 2015?\n",
      "\u001b[0m\u001b[1;3;38;5;200mRetrieved node with id, entering: parent-252 \n",
      "\u001b[0m\u001b[1;3;34mRetrieving with query id parent-252 : What were the primary risks Coca-Cola highlighted in 2015?\n",
      "\u001b[0m\u001b[1;3;34mRetrieving with query id None: What were Coca-Cola’s operating segments as of December 31, 2014?\n",
      "\u001b[0m\u001b[1;3;38;5;200mRetrieved node with id, entering: parent-131 \n",
      "\u001b[0m\u001b[1;3;34mRetrieving with query id parent-131 : What were Coca-Cola’s operating segments as of December 31, 2014?\n",
      "\u001b[0m\u001b[1;3;38;5;200mRetrieved node with id, entering: parent-3 \n",
      "\u001b[0m\u001b[1;3;34mRetrieving with query id parent-3 : What were Coca-Cola’s operating segments as of December 31, 2014?\n",
      "\u001b[0m\u001b[1;3;38;5;200mRetrieved node with id, entering: parent-43 \n",
      "\u001b[0m\u001b[1;3;34mRetrieving with query id parent-43 : What were Coca-Cola’s operating segments as of December 31, 2014?\n",
      "\u001b[0m\u001b[1;3;38;5;200mRetrieved node with id, entering: parent-51 \n",
      "\u001b[0m\u001b[1;3;34mRetrieving with query id parent-51 : What were Coca-Cola’s operating segments as of December 31, 2014?\n",
      "\u001b[0m\u001b[1;3;34mRetrieving with query id None: What were Coca-Cola’s operating segments as of December 31, 2014?\n",
      "\u001b[0m\u001b[1;3;38;5;200mRetrieved node with id, entering: parent-131 \n",
      "\u001b[0m\u001b[1;3;34mRetrieving with query id parent-131 : What were Coca-Cola’s operating segments as of December 31, 2014?\n",
      "\u001b[0m\u001b[1;3;38;5;200mRetrieved node with id, entering: parent-3 \n",
      "\u001b[0m\u001b[1;3;34mRetrieving with query id parent-3 : What were Coca-Cola’s operating segments as of December 31, 2014?\n",
      "\u001b[0m\u001b[1;3;38;5;200mRetrieved node with id, entering: parent-43 \n",
      "\u001b[0m\u001b[1;3;34mRetrieving with query id parent-43 : What were Coca-Cola’s operating segments as of December 31, 2014?\n",
      "\u001b[0m\u001b[1;3;38;5;200mRetrieved node with id, entering: parent-51 \n",
      "\u001b[0m\u001b[1;3;34mRetrieving with query id parent-51 : What were Coca-Cola’s operating segments as of December 31, 2014?\n",
      "\u001b[0m\u001b[1;3;34mRetrieving with query id None: What was Coca-Cola’s approach to water management and sustainability?\n",
      "\u001b[0m\u001b[1;3;38;5;200mRetrieved node with id, entering: parent-869 \n",
      "\u001b[0m\u001b[1;3;34mRetrieving with query id parent-869 : What was Coca-Cola’s approach to water management and sustainability?\n",
      "\u001b[0m\u001b[1;3;38;5;200mRetrieved node with id, entering: parent-671 \n",
      "\u001b[0m\u001b[1;3;34mRetrieving with query id parent-671 : What was Coca-Cola’s approach to water management and sustainability?\n",
      "\u001b[0m\u001b[1;3;38;5;200mRetrieved node with id, entering: parent-467 \n",
      "\u001b[0m\u001b[1;3;34mRetrieving with query id parent-467 : What was Coca-Cola’s approach to water management and sustainability?\n",
      "\u001b[0m\u001b[1;3;38;5;200mRetrieved node with id, entering: parent-34 \n",
      "\u001b[0m\u001b[1;3;34mRetrieving with query id parent-34 : What was Coca-Cola’s approach to water management and sustainability?\n",
      "\u001b[0m\u001b[1;3;38;5;200mRetrieved node with id, entering: parent-252 \n",
      "\u001b[0m\u001b[1;3;34mRetrieving with query id parent-252 : What was Coca-Cola’s approach to water management and sustainability?\n",
      "\u001b[0m\u001b[1;3;34mRetrieving with query id None: What was Coca-Cola’s approach to water management and sustainability?\n",
      "\u001b[0m\u001b[1;3;38;5;200mRetrieved node with id, entering: parent-869 \n",
      "\u001b[0m\u001b[1;3;34mRetrieving with query id parent-869 : What was Coca-Cola’s approach to water management and sustainability?\n",
      "\u001b[0m\u001b[1;3;38;5;200mRetrieved node with id, entering: parent-671 \n",
      "\u001b[0m\u001b[1;3;34mRetrieving with query id parent-671 : What was Coca-Cola’s approach to water management and sustainability?\n",
      "\u001b[0m\u001b[1;3;38;5;200mRetrieved node with id, entering: parent-467 \n",
      "\u001b[0m\u001b[1;3;34mRetrieving with query id parent-467 : What was Coca-Cola’s approach to water management and sustainability?\n",
      "\u001b[0m\u001b[1;3;38;5;200mRetrieved node with id, entering: parent-34 \n",
      "\u001b[0m\u001b[1;3;34mRetrieving with query id parent-34 : What was Coca-Cola’s approach to water management and sustainability?\n",
      "\u001b[0m\u001b[1;3;38;5;200mRetrieved node with id, entering: parent-252 \n",
      "\u001b[0m\u001b[1;3;34mRetrieving with query id parent-252 : What was Coca-Cola’s approach to water management and sustainability?\n",
      "\u001b[0m\u001b[1;3;34mRetrieving with query id None: How did Coca-Cola address the issue of obesity in 2015?\n",
      "\u001b[0m\u001b[1;3;38;5;200mRetrieved node with id, entering: parent-252 \n",
      "\u001b[0m\u001b[1;3;34mRetrieving with query id parent-252 : How did Coca-Cola address the issue of obesity in 2015?\n",
      "\u001b[0m\u001b[1;3;34mRetrieving with query id None: How did Coca-Cola address the issue of obesity in 2015?\n",
      "\u001b[0m\u001b[1;3;38;5;200mRetrieved node with id, entering: parent-252 \n",
      "\u001b[0m\u001b[1;3;34mRetrieving with query id parent-252 : How did Coca-Cola address the issue of obesity in 2015?\n",
      "\u001b[0m\u001b[1;3;34mRetrieving with query id None: What was Coca-Cola’s exposure to foreign currency exchange risks?\n",
      "\u001b[0m\u001b[1;3;38;5;200mRetrieved node with id, entering: parent-71 \n",
      "\u001b[0m\u001b[1;3;34mRetrieving with query id parent-71 : What was Coca-Cola’s exposure to foreign currency exchange risks?\n",
      "\u001b[0m\u001b[1;3;38;5;200mRetrieved node with id, entering: parent-1312 \n",
      "\u001b[0m\u001b[1;3;34mRetrieving with query id parent-1312 : What was Coca-Cola’s exposure to foreign currency exchange risks?\n",
      "\u001b[0m\u001b[1;3;38;5;200mRetrieved node with id, entering: parent-289 \n",
      "\u001b[0m\u001b[1;3;34mRetrieving with query id parent-289 : What was Coca-Cola’s exposure to foreign currency exchange risks?\n",
      "\u001b[0m\u001b[1;3;38;5;200mRetrieved node with id, entering: parent-504 \n",
      "\u001b[0m\u001b[1;3;34mRetrieving with query id parent-504 : What was Coca-Cola’s exposure to foreign currency exchange risks?\n",
      "\u001b[0m\u001b[1;3;34mRetrieving with query id None: What was Coca-Cola’s exposure to foreign currency exchange risks?\n",
      "\u001b[0m\u001b[1;3;38;5;200mRetrieved node with id, entering: parent-71 \n",
      "\u001b[0m\u001b[1;3;34mRetrieving with query id parent-71 : What was Coca-Cola’s exposure to foreign currency exchange risks?\n",
      "\u001b[0m\u001b[1;3;38;5;200mRetrieved node with id, entering: parent-1312 \n",
      "\u001b[0m\u001b[1;3;34mRetrieving with query id parent-1312 : What was Coca-Cola’s exposure to foreign currency exchange risks?\n",
      "\u001b[0m\u001b[1;3;38;5;200mRetrieved node with id, entering: parent-289 \n",
      "\u001b[0m\u001b[1;3;34mRetrieving with query id parent-289 : What was Coca-Cola’s exposure to foreign currency exchange risks?\n",
      "\u001b[0m\u001b[1;3;38;5;200mRetrieved node with id, entering: parent-504 \n",
      "\u001b[0m\u001b[1;3;34mRetrieving with query id parent-504 : What was Coca-Cola’s exposure to foreign currency exchange risks?\n",
      "\u001b[0m\u001b[1;3;34mRetrieving with query id None: What was the net income or profitability concern related to interest rates?\n",
      "\u001b[0m\u001b[1;3;38;5;200mRetrieved node with id, entering: parent-1051 \n",
      "\u001b[0m\u001b[1;3;34mRetrieving with query id parent-1051 : What was the net income or profitability concern related to interest rates?\n",
      "\u001b[0m\u001b[1;3;38;5;200mRetrieved node with id, entering: parent-1272 \n",
      "\u001b[0m\u001b[1;3;34mRetrieving with query id parent-1272 : What was the net income or profitability concern related to interest rates?\n",
      "\u001b[0m\u001b[1;3;38;5;200mRetrieved node with id, entering: parent-504 \n",
      "\u001b[0m\u001b[1;3;34mRetrieving with query id parent-504 : What was the net income or profitability concern related to interest rates?\n",
      "\u001b[0m\u001b[1;3;38;5;200mRetrieved node with id, entering: parent-289 \n",
      "\u001b[0m\u001b[1;3;34mRetrieving with query id parent-289 : What was the net income or profitability concern related to interest rates?\n",
      "\u001b[0m\u001b[1;3;38;5;200mRetrieved node with id, entering: parent-1979 \n",
      "\u001b[0m\u001b[1;3;34mRetrieving with query id parent-1979 : What was the net income or profitability concern related to interest rates?\n",
      "\u001b[0m\u001b[1;3;34mRetrieving with query id None: What was the net income or profitability concern related to interest rates?\n",
      "\u001b[0m\u001b[1;3;38;5;200mRetrieved node with id, entering: parent-1051 \n",
      "\u001b[0m\u001b[1;3;34mRetrieving with query id parent-1051 : What was the net income or profitability concern related to interest rates?\n",
      "\u001b[0m\u001b[1;3;38;5;200mRetrieved node with id, entering: parent-1272 \n",
      "\u001b[0m\u001b[1;3;34mRetrieving with query id parent-1272 : What was the net income or profitability concern related to interest rates?\n",
      "\u001b[0m\u001b[1;3;38;5;200mRetrieved node with id, entering: parent-504 \n",
      "\u001b[0m\u001b[1;3;34mRetrieving with query id parent-504 : What was the net income or profitability concern related to interest rates?\n",
      "\u001b[0m\u001b[1;3;38;5;200mRetrieved node with id, entering: parent-289 \n",
      "\u001b[0m\u001b[1;3;34mRetrieving with query id parent-289 : What was the net income or profitability concern related to interest rates?\n",
      "\u001b[0m\u001b[1;3;38;5;200mRetrieved node with id, entering: parent-1979 \n",
      "\u001b[0m\u001b[1;3;34mRetrieving with query id parent-1979 : What was the net income or profitability concern related to interest rates?\n",
      "\u001b[0m\u001b[1;3;34mRetrieving with query id None: What challenges did Coca-Cola face in emerging and developing markets?\n",
      "\u001b[0m\u001b[1;3;38;5;200mRetrieved node with id, entering: parent-252 \n",
      "\u001b[0m\u001b[1;3;34mRetrieving with query id parent-252 : What challenges did Coca-Cola face in emerging and developing markets?\n",
      "\u001b[0m\u001b[1;3;38;5;200mRetrieved node with id, entering: parent-34 \n",
      "\u001b[0m\u001b[1;3;34mRetrieving with query id parent-34 : What challenges did Coca-Cola face in emerging and developing markets?\n",
      "\u001b[0m\u001b[1;3;38;5;200mRetrieved node with id, entering: parent-868 \n",
      "\u001b[0m\u001b[1;3;34mRetrieving with query id parent-868 : What challenges did Coca-Cola face in emerging and developing markets?\n",
      "\u001b[0m\u001b[1;3;38;5;200mRetrieved node with id, entering: parent-670 \n",
      "\u001b[0m\u001b[1;3;34mRetrieving with query id parent-670 : What challenges did Coca-Cola face in emerging and developing markets?\n",
      "\u001b[0m\u001b[1;3;38;5;200mRetrieved node with id, entering: parent-466 \n",
      "\u001b[0m\u001b[1;3;34mRetrieving with query id parent-466 : What challenges did Coca-Cola face in emerging and developing markets?\n",
      "\u001b[0m\u001b[1;3;34mRetrieving with query id None: What challenges did Coca-Cola face in emerging and developing markets?\n",
      "\u001b[0m\u001b[1;3;38;5;200mRetrieved node with id, entering: parent-252 \n",
      "\u001b[0m\u001b[1;3;34mRetrieving with query id parent-252 : What challenges did Coca-Cola face in emerging and developing markets?\n",
      "\u001b[0m\u001b[1;3;38;5;200mRetrieved node with id, entering: parent-34 \n",
      "\u001b[0m\u001b[1;3;34mRetrieving with query id parent-34 : What challenges did Coca-Cola face in emerging and developing markets?\n",
      "\u001b[0m\u001b[1;3;38;5;200mRetrieved node with id, entering: parent-868 \n",
      "\u001b[0m\u001b[1;3;34mRetrieving with query id parent-868 : What challenges did Coca-Cola face in emerging and developing markets?\n",
      "\u001b[0m\u001b[1;3;38;5;200mRetrieved node with id, entering: parent-670 \n",
      "\u001b[0m\u001b[1;3;34mRetrieving with query id parent-670 : What challenges did Coca-Cola face in emerging and developing markets?\n",
      "\u001b[0m\u001b[1;3;38;5;200mRetrieved node with id, entering: parent-466 \n",
      "\u001b[0m\u001b[1;3;34mRetrieving with query id parent-466 : What challenges did Coca-Cola face in emerging and developing markets?\n",
      "\u001b[0m\u001b[1;3;34mRetrieving with query id None: How did Coca-Cola manage product quality and food safety?\n",
      "\u001b[0m\u001b[1;3;38;5;200mRetrieved node with id, entering: parent-1848 \n",
      "\u001b[0m\u001b[1;3;34mRetrieving with query id parent-1848 : How did Coca-Cola manage product quality and food safety?\n",
      "\u001b[0m\u001b[1;3;38;5;200mRetrieved node with id, entering: parent-1480 \n",
      "\u001b[0m\u001b[1;3;34mRetrieving with query id parent-1480 : How did Coca-Cola manage product quality and food safety?\n",
      "\u001b[0m\u001b[1;3;38;5;200mRetrieved node with id, entering: parent-671 \n",
      "\u001b[0m\u001b[1;3;34mRetrieving with query id parent-671 : How did Coca-Cola manage product quality and food safety?\n",
      "\u001b[0m\u001b[1;3;34mRetrieving with query id None: How did Coca-Cola manage product quality and food safety?\n",
      "\u001b[0m\u001b[1;3;38;5;200mRetrieved node with id, entering: parent-1848 \n",
      "\u001b[0m\u001b[1;3;34mRetrieving with query id parent-1848 : How did Coca-Cola manage product quality and food safety?\n",
      "\u001b[0m\u001b[1;3;38;5;200mRetrieved node with id, entering: parent-1480 \n",
      "\u001b[0m\u001b[1;3;34mRetrieving with query id parent-1480 : How did Coca-Cola manage product quality and food safety?\n",
      "\u001b[0m\u001b[1;3;38;5;200mRetrieved node with id, entering: parent-671 \n",
      "\u001b[0m\u001b[1;3;34mRetrieving with query id parent-671 : How did Coca-Cola manage product quality and food safety?\n",
      "\u001b[0m"
     ]
    }
   ],
   "source": [
    "test_cases = []\n",
    "for item in dataset:\n",
    "    rag_answer, retrieved_docs = run_rag(item[\"question\"])\n",
    "    \n",
    "    test_cases.append(\n",
    "        LLMTestCase(\n",
    "            input=item[\"question\"],                       # the query\n",
    "            actual_output=rag_answer,                  # RAG's generated answer\n",
    "            expected_output=item[\"answer\"],  # gold answer\n",
    "            retrieval_context=retrieved_docs          # what your retriever returned\n",
    "        )\n",
    "    )"
   ]
  },
  {
   "cell_type": "code",
   "execution_count": 93,
   "id": "02cf3b8e-6358-456e-9de0-d74e15084dd6",
   "metadata": {},
   "outputs": [
    {
     "name": "stderr",
     "output_type": "stream",
     "text": [
      "huggingface/tokenizers: The current process just got forked, after parallelism has already been used. Disabling parallelism to avoid deadlocks...\n",
      "To disable this warning, you can either:\n",
      "\t- Avoid using `tokenizers` before the fork if possible\n",
      "\t- Explicitly set the environment variable TOKENIZERS_PARALLELISM=(true | false)\n"
     ]
    },
    {
     "name": "stdout",
     "output_type": "stream",
     "text": [
      "/opt/anaconda3/lib/python3.12/site-packages/deepeval/__init__.py:54: UserWarning: You are using deepeval version 2.6.5, however version 3.4.9 is available. You should consider upgrading via the \"pip install --upgrade deepeval\" command.\n",
      "  warnings.warn(\n",
      "🙌 Congratulations! You're now using a local Ollama model for all evals that \n",
      "require an LLM.\n"
     ]
    }
   ],
   "source": [
    "!deepeval set-ollama gemma3:latest"
   ]
  },
  {
   "cell_type": "code",
   "execution_count": 94,
   "id": "4988de80-c030-4e64-a606-472da67c6e55",
   "metadata": {},
   "outputs": [],
   "source": [
    "metrics = [\n",
    "    AnswerRelevancyMetric(),\n",
    "    FaithfulnessMetric(),\n",
    "    ContextualPrecisionMetric(),\n",
    "    ContextualRecallMetric(),\n",
    "    ContextualRelevancyMetric()\n",
    "    \n",
    "]"
   ]
  },
  {
   "cell_type": "code",
   "execution_count": 95,
   "id": "e866325d-6314-4daf-9848-f467f12275cf",
   "metadata": {},
   "outputs": [
    {
     "data": {
      "text/html": [
       "<pre style=\"white-space:pre;overflow-x:auto;line-height:normal;font-family:Menlo,'DejaVu Sans Mono',consolas,'Courier New',monospace\">✨ You're running DeepEval's latest <span style=\"color: #6a00ff; text-decoration-color: #6a00ff\">Answer Relevancy Metric</span>! <span style=\"color: #374151; text-decoration-color: #374151; font-weight: bold\">(</span><span style=\"color: #374151; text-decoration-color: #374151\">using gemma3:latest </span><span style=\"color: #374151; text-decoration-color: #374151; font-weight: bold\">(</span><span style=\"color: #374151; text-decoration-color: #374151\">Ollama</span><span style=\"color: #374151; text-decoration-color: #374151; font-weight: bold\">)</span><span style=\"color: #374151; text-decoration-color: #374151\">, </span><span style=\"color: #374151; text-decoration-color: #374151\">strict</span><span style=\"color: #374151; text-decoration-color: #374151\">=</span><span style=\"color: #374151; text-decoration-color: #374151; font-style: italic\">False</span><span style=\"color: #374151; text-decoration-color: #374151\">, </span>\n",
       "<span style=\"color: #374151; text-decoration-color: #374151\">async_mode</span><span style=\"color: #374151; text-decoration-color: #374151\">=</span><span style=\"color: #374151; text-decoration-color: #374151; font-style: italic\">True</span><span style=\"color: #374151; text-decoration-color: #374151; font-weight: bold\">)</span><span style=\"color: #374151; text-decoration-color: #374151\">...</span>\n",
       "</pre>\n"
      ],
      "text/plain": [
       "✨ You're running DeepEval's latest \u001b[38;2;106;0;255mAnswer Relevancy Metric\u001b[0m! \u001b[1;38;2;55;65;81m(\u001b[0m\u001b[38;2;55;65;81musing gemma3:latest \u001b[0m\u001b[1;38;2;55;65;81m(\u001b[0m\u001b[38;2;55;65;81mOllama\u001b[0m\u001b[1;38;2;55;65;81m)\u001b[0m\u001b[38;2;55;65;81m, \u001b[0m\u001b[38;2;55;65;81mstrict\u001b[0m\u001b[38;2;55;65;81m=\u001b[0m\u001b[3;38;2;55;65;81mFalse\u001b[0m\u001b[38;2;55;65;81m, \u001b[0m\n",
       "\u001b[38;2;55;65;81masync_mode\u001b[0m\u001b[38;2;55;65;81m=\u001b[0m\u001b[3;38;2;55;65;81mTrue\u001b[0m\u001b[1;38;2;55;65;81m)\u001b[0m\u001b[38;2;55;65;81m...\u001b[0m\n"
      ]
     },
     "metadata": {},
     "output_type": "display_data"
    },
    {
     "data": {
      "text/html": [
       "<pre style=\"white-space:pre;overflow-x:auto;line-height:normal;font-family:Menlo,'DejaVu Sans Mono',consolas,'Courier New',monospace\">✨ You're running DeepEval's latest <span style=\"color: #6a00ff; text-decoration-color: #6a00ff\">Faithfulness Metric</span>! <span style=\"color: #374151; text-decoration-color: #374151; font-weight: bold\">(</span><span style=\"color: #374151; text-decoration-color: #374151\">using gemma3:latest </span><span style=\"color: #374151; text-decoration-color: #374151; font-weight: bold\">(</span><span style=\"color: #374151; text-decoration-color: #374151\">Ollama</span><span style=\"color: #374151; text-decoration-color: #374151; font-weight: bold\">)</span><span style=\"color: #374151; text-decoration-color: #374151\">, </span><span style=\"color: #374151; text-decoration-color: #374151\">strict</span><span style=\"color: #374151; text-decoration-color: #374151\">=</span><span style=\"color: #374151; text-decoration-color: #374151; font-style: italic\">False</span><span style=\"color: #374151; text-decoration-color: #374151\">, </span>\n",
       "<span style=\"color: #374151; text-decoration-color: #374151\">async_mode</span><span style=\"color: #374151; text-decoration-color: #374151\">=</span><span style=\"color: #374151; text-decoration-color: #374151; font-style: italic\">True</span><span style=\"color: #374151; text-decoration-color: #374151; font-weight: bold\">)</span><span style=\"color: #374151; text-decoration-color: #374151\">...</span>\n",
       "</pre>\n"
      ],
      "text/plain": [
       "✨ You're running DeepEval's latest \u001b[38;2;106;0;255mFaithfulness Metric\u001b[0m! \u001b[1;38;2;55;65;81m(\u001b[0m\u001b[38;2;55;65;81musing gemma3:latest \u001b[0m\u001b[1;38;2;55;65;81m(\u001b[0m\u001b[38;2;55;65;81mOllama\u001b[0m\u001b[1;38;2;55;65;81m)\u001b[0m\u001b[38;2;55;65;81m, \u001b[0m\u001b[38;2;55;65;81mstrict\u001b[0m\u001b[38;2;55;65;81m=\u001b[0m\u001b[3;38;2;55;65;81mFalse\u001b[0m\u001b[38;2;55;65;81m, \u001b[0m\n",
       "\u001b[38;2;55;65;81masync_mode\u001b[0m\u001b[38;2;55;65;81m=\u001b[0m\u001b[3;38;2;55;65;81mTrue\u001b[0m\u001b[1;38;2;55;65;81m)\u001b[0m\u001b[38;2;55;65;81m...\u001b[0m\n"
      ]
     },
     "metadata": {},
     "output_type": "display_data"
    },
    {
     "data": {
      "text/html": [
       "<pre style=\"white-space:pre;overflow-x:auto;line-height:normal;font-family:Menlo,'DejaVu Sans Mono',consolas,'Courier New',monospace\">✨ You're running DeepEval's latest <span style=\"color: #6a00ff; text-decoration-color: #6a00ff\">Contextual Precision Metric</span>! <span style=\"color: #374151; text-decoration-color: #374151; font-weight: bold\">(</span><span style=\"color: #374151; text-decoration-color: #374151\">using gemma3:latest </span><span style=\"color: #374151; text-decoration-color: #374151; font-weight: bold\">(</span><span style=\"color: #374151; text-decoration-color: #374151\">Ollama</span><span style=\"color: #374151; text-decoration-color: #374151; font-weight: bold\">)</span><span style=\"color: #374151; text-decoration-color: #374151\">, </span><span style=\"color: #374151; text-decoration-color: #374151\">strict</span><span style=\"color: #374151; text-decoration-color: #374151\">=</span><span style=\"color: #374151; text-decoration-color: #374151; font-style: italic\">False</span><span style=\"color: #374151; text-decoration-color: #374151\">, </span>\n",
       "<span style=\"color: #374151; text-decoration-color: #374151\">async_mode</span><span style=\"color: #374151; text-decoration-color: #374151\">=</span><span style=\"color: #374151; text-decoration-color: #374151; font-style: italic\">True</span><span style=\"color: #374151; text-decoration-color: #374151; font-weight: bold\">)</span><span style=\"color: #374151; text-decoration-color: #374151\">...</span>\n",
       "</pre>\n"
      ],
      "text/plain": [
       "✨ You're running DeepEval's latest \u001b[38;2;106;0;255mContextual Precision Metric\u001b[0m! \u001b[1;38;2;55;65;81m(\u001b[0m\u001b[38;2;55;65;81musing gemma3:latest \u001b[0m\u001b[1;38;2;55;65;81m(\u001b[0m\u001b[38;2;55;65;81mOllama\u001b[0m\u001b[1;38;2;55;65;81m)\u001b[0m\u001b[38;2;55;65;81m, \u001b[0m\u001b[38;2;55;65;81mstrict\u001b[0m\u001b[38;2;55;65;81m=\u001b[0m\u001b[3;38;2;55;65;81mFalse\u001b[0m\u001b[38;2;55;65;81m, \u001b[0m\n",
       "\u001b[38;2;55;65;81masync_mode\u001b[0m\u001b[38;2;55;65;81m=\u001b[0m\u001b[3;38;2;55;65;81mTrue\u001b[0m\u001b[1;38;2;55;65;81m)\u001b[0m\u001b[38;2;55;65;81m...\u001b[0m\n"
      ]
     },
     "metadata": {},
     "output_type": "display_data"
    },
    {
     "data": {
      "text/html": [
       "<pre style=\"white-space:pre;overflow-x:auto;line-height:normal;font-family:Menlo,'DejaVu Sans Mono',consolas,'Courier New',monospace\">✨ You're running DeepEval's latest <span style=\"color: #6a00ff; text-decoration-color: #6a00ff\">Contextual Recall Metric</span>! <span style=\"color: #374151; text-decoration-color: #374151; font-weight: bold\">(</span><span style=\"color: #374151; text-decoration-color: #374151\">using gemma3:latest </span><span style=\"color: #374151; text-decoration-color: #374151; font-weight: bold\">(</span><span style=\"color: #374151; text-decoration-color: #374151\">Ollama</span><span style=\"color: #374151; text-decoration-color: #374151; font-weight: bold\">)</span><span style=\"color: #374151; text-decoration-color: #374151\">, </span><span style=\"color: #374151; text-decoration-color: #374151\">strict</span><span style=\"color: #374151; text-decoration-color: #374151\">=</span><span style=\"color: #374151; text-decoration-color: #374151; font-style: italic\">False</span><span style=\"color: #374151; text-decoration-color: #374151\">, </span>\n",
       "<span style=\"color: #374151; text-decoration-color: #374151\">async_mode</span><span style=\"color: #374151; text-decoration-color: #374151\">=</span><span style=\"color: #374151; text-decoration-color: #374151; font-style: italic\">True</span><span style=\"color: #374151; text-decoration-color: #374151; font-weight: bold\">)</span><span style=\"color: #374151; text-decoration-color: #374151\">...</span>\n",
       "</pre>\n"
      ],
      "text/plain": [
       "✨ You're running DeepEval's latest \u001b[38;2;106;0;255mContextual Recall Metric\u001b[0m! \u001b[1;38;2;55;65;81m(\u001b[0m\u001b[38;2;55;65;81musing gemma3:latest \u001b[0m\u001b[1;38;2;55;65;81m(\u001b[0m\u001b[38;2;55;65;81mOllama\u001b[0m\u001b[1;38;2;55;65;81m)\u001b[0m\u001b[38;2;55;65;81m, \u001b[0m\u001b[38;2;55;65;81mstrict\u001b[0m\u001b[38;2;55;65;81m=\u001b[0m\u001b[3;38;2;55;65;81mFalse\u001b[0m\u001b[38;2;55;65;81m, \u001b[0m\n",
       "\u001b[38;2;55;65;81masync_mode\u001b[0m\u001b[38;2;55;65;81m=\u001b[0m\u001b[3;38;2;55;65;81mTrue\u001b[0m\u001b[1;38;2;55;65;81m)\u001b[0m\u001b[38;2;55;65;81m...\u001b[0m\n"
      ]
     },
     "metadata": {},
     "output_type": "display_data"
    },
    {
     "data": {
      "text/html": [
       "<pre style=\"white-space:pre;overflow-x:auto;line-height:normal;font-family:Menlo,'DejaVu Sans Mono',consolas,'Courier New',monospace\">✨ You're running DeepEval's latest <span style=\"color: #6a00ff; text-decoration-color: #6a00ff\">Contextual Relevancy Metric</span>! <span style=\"color: #374151; text-decoration-color: #374151; font-weight: bold\">(</span><span style=\"color: #374151; text-decoration-color: #374151\">using gemma3:latest </span><span style=\"color: #374151; text-decoration-color: #374151; font-weight: bold\">(</span><span style=\"color: #374151; text-decoration-color: #374151\">Ollama</span><span style=\"color: #374151; text-decoration-color: #374151; font-weight: bold\">)</span><span style=\"color: #374151; text-decoration-color: #374151\">, </span><span style=\"color: #374151; text-decoration-color: #374151\">strict</span><span style=\"color: #374151; text-decoration-color: #374151\">=</span><span style=\"color: #374151; text-decoration-color: #374151; font-style: italic\">False</span><span style=\"color: #374151; text-decoration-color: #374151\">, </span>\n",
       "<span style=\"color: #374151; text-decoration-color: #374151\">async_mode</span><span style=\"color: #374151; text-decoration-color: #374151\">=</span><span style=\"color: #374151; text-decoration-color: #374151; font-style: italic\">True</span><span style=\"color: #374151; text-decoration-color: #374151; font-weight: bold\">)</span><span style=\"color: #374151; text-decoration-color: #374151\">...</span>\n",
       "</pre>\n"
      ],
      "text/plain": [
       "✨ You're running DeepEval's latest \u001b[38;2;106;0;255mContextual Relevancy Metric\u001b[0m! \u001b[1;38;2;55;65;81m(\u001b[0m\u001b[38;2;55;65;81musing gemma3:latest \u001b[0m\u001b[1;38;2;55;65;81m(\u001b[0m\u001b[38;2;55;65;81mOllama\u001b[0m\u001b[1;38;2;55;65;81m)\u001b[0m\u001b[38;2;55;65;81m, \u001b[0m\u001b[38;2;55;65;81mstrict\u001b[0m\u001b[38;2;55;65;81m=\u001b[0m\u001b[3;38;2;55;65;81mFalse\u001b[0m\u001b[38;2;55;65;81m, \u001b[0m\n",
       "\u001b[38;2;55;65;81masync_mode\u001b[0m\u001b[38;2;55;65;81m=\u001b[0m\u001b[3;38;2;55;65;81mTrue\u001b[0m\u001b[1;38;2;55;65;81m)\u001b[0m\u001b[38;2;55;65;81m...\u001b[0m\n"
      ]
     },
     "metadata": {},
     "output_type": "display_data"
    },
    {
     "name": "stderr",
     "output_type": "stream",
     "text": [
      "Evaluating 10 test case(s) in parallel: | |  0% (0/10) [Time Taken: 00:00, ?test"
     ]
    },
    {
     "ename": "KeyboardInterrupt",
     "evalue": "",
     "output_type": "error",
     "traceback": [
      "\u001b[0;31m---------------------------------------------------------------------------\u001b[0m",
      "\u001b[0;31mKeyboardInterrupt\u001b[0m                         Traceback (most recent call last)",
      "Cell \u001b[0;32mIn[95], line 2\u001b[0m\n\u001b[1;32m      1\u001b[0m \u001b[38;5;28;01mimport\u001b[39;00m \u001b[38;5;21;01mjson\u001b[39;00m\n\u001b[0;32m----> 2\u001b[0m evaluate(test_cases\u001b[38;5;241m=\u001b[39mtest_cases, metrics\u001b[38;5;241m=\u001b[39mmetrics)\n",
      "File \u001b[0;32m/opt/anaconda3/lib/python3.12/site-packages/deepeval/evaluate.py:1059\u001b[0m, in \u001b[0;36mevaluate\u001b[0;34m(test_cases, metrics, hyperparameters, run_async, show_indicator, print_results, write_cache, use_cache, ignore_errors, skip_on_missing_params, verbose_mode, identifier, throttle_value, max_concurrent, display)\u001b[0m\n\u001b[1;32m   1057\u001b[0m \u001b[38;5;28;01mif\u001b[39;00m run_async:\n\u001b[1;32m   1058\u001b[0m     loop \u001b[38;5;241m=\u001b[39m get_or_create_event_loop()\n\u001b[0;32m-> 1059\u001b[0m     test_results \u001b[38;5;241m=\u001b[39m loop\u001b[38;5;241m.\u001b[39mrun_until_complete(\n\u001b[1;32m   1060\u001b[0m         a_execute_test_cases(\n\u001b[1;32m   1061\u001b[0m             test_cases,\n\u001b[1;32m   1062\u001b[0m             metrics,\n\u001b[1;32m   1063\u001b[0m             ignore_errors\u001b[38;5;241m=\u001b[39mignore_errors,\n\u001b[1;32m   1064\u001b[0m             use_cache\u001b[38;5;241m=\u001b[39muse_cache,\n\u001b[1;32m   1065\u001b[0m             verbose_mode\u001b[38;5;241m=\u001b[39mverbose_mode,\n\u001b[1;32m   1066\u001b[0m             save_to_disk\u001b[38;5;241m=\u001b[39mwrite_cache,\n\u001b[1;32m   1067\u001b[0m             show_indicator\u001b[38;5;241m=\u001b[39mshow_indicator,\n\u001b[1;32m   1068\u001b[0m             skip_on_missing_params\u001b[38;5;241m=\u001b[39mskip_on_missing_params,\n\u001b[1;32m   1069\u001b[0m             throttle_value\u001b[38;5;241m=\u001b[39mthrottle_value,\n\u001b[1;32m   1070\u001b[0m             identifier\u001b[38;5;241m=\u001b[39midentifier,\n\u001b[1;32m   1071\u001b[0m             max_concurrent\u001b[38;5;241m=\u001b[39mmax_concurrent,\n\u001b[1;32m   1072\u001b[0m         )\n\u001b[1;32m   1073\u001b[0m     )\n\u001b[1;32m   1074\u001b[0m \u001b[38;5;28;01melse\u001b[39;00m:\n\u001b[1;32m   1075\u001b[0m     test_results \u001b[38;5;241m=\u001b[39m execute_test_cases(\n\u001b[1;32m   1076\u001b[0m         test_cases,\n\u001b[1;32m   1077\u001b[0m         metrics,\n\u001b[0;32m   (...)\u001b[0m\n\u001b[1;32m   1084\u001b[0m         show_indicator\u001b[38;5;241m=\u001b[39mshow_indicator,\n\u001b[1;32m   1085\u001b[0m     )\n",
      "File \u001b[0;32m/opt/anaconda3/lib/python3.12/site-packages/nest_asyncio.py:92\u001b[0m, in \u001b[0;36m_patch_loop.<locals>.run_until_complete\u001b[0;34m(self, future)\u001b[0m\n\u001b[1;32m     90\u001b[0m     f\u001b[38;5;241m.\u001b[39m_log_destroy_pending \u001b[38;5;241m=\u001b[39m \u001b[38;5;28;01mFalse\u001b[39;00m\n\u001b[1;32m     91\u001b[0m \u001b[38;5;28;01mwhile\u001b[39;00m \u001b[38;5;129;01mnot\u001b[39;00m f\u001b[38;5;241m.\u001b[39mdone():\n\u001b[0;32m---> 92\u001b[0m     \u001b[38;5;28mself\u001b[39m\u001b[38;5;241m.\u001b[39m_run_once()\n\u001b[1;32m     93\u001b[0m     \u001b[38;5;28;01mif\u001b[39;00m \u001b[38;5;28mself\u001b[39m\u001b[38;5;241m.\u001b[39m_stopping:\n\u001b[1;32m     94\u001b[0m         \u001b[38;5;28;01mbreak\u001b[39;00m\n",
      "File \u001b[0;32m/opt/anaconda3/lib/python3.12/site-packages/nest_asyncio.py:115\u001b[0m, in \u001b[0;36m_patch_loop.<locals>._run_once\u001b[0;34m(self)\u001b[0m\n\u001b[1;32m    108\u001b[0m     heappop(scheduled)\n\u001b[1;32m    110\u001b[0m timeout \u001b[38;5;241m=\u001b[39m (\n\u001b[1;32m    111\u001b[0m     \u001b[38;5;241m0\u001b[39m \u001b[38;5;28;01mif\u001b[39;00m ready \u001b[38;5;129;01mor\u001b[39;00m \u001b[38;5;28mself\u001b[39m\u001b[38;5;241m.\u001b[39m_stopping\n\u001b[1;32m    112\u001b[0m     \u001b[38;5;28;01melse\u001b[39;00m \u001b[38;5;28mmin\u001b[39m(\u001b[38;5;28mmax\u001b[39m(\n\u001b[1;32m    113\u001b[0m         scheduled[\u001b[38;5;241m0\u001b[39m]\u001b[38;5;241m.\u001b[39m_when \u001b[38;5;241m-\u001b[39m \u001b[38;5;28mself\u001b[39m\u001b[38;5;241m.\u001b[39mtime(), \u001b[38;5;241m0\u001b[39m), \u001b[38;5;241m86400\u001b[39m) \u001b[38;5;28;01mif\u001b[39;00m scheduled\n\u001b[1;32m    114\u001b[0m     \u001b[38;5;28;01melse\u001b[39;00m \u001b[38;5;28;01mNone\u001b[39;00m)\n\u001b[0;32m--> 115\u001b[0m event_list \u001b[38;5;241m=\u001b[39m \u001b[38;5;28mself\u001b[39m\u001b[38;5;241m.\u001b[39m_selector\u001b[38;5;241m.\u001b[39mselect(timeout)\n\u001b[1;32m    116\u001b[0m \u001b[38;5;28mself\u001b[39m\u001b[38;5;241m.\u001b[39m_process_events(event_list)\n\u001b[1;32m    118\u001b[0m end_time \u001b[38;5;241m=\u001b[39m \u001b[38;5;28mself\u001b[39m\u001b[38;5;241m.\u001b[39mtime() \u001b[38;5;241m+\u001b[39m \u001b[38;5;28mself\u001b[39m\u001b[38;5;241m.\u001b[39m_clock_resolution\n",
      "File \u001b[0;32m/opt/anaconda3/lib/python3.12/selectors.py:566\u001b[0m, in \u001b[0;36mKqueueSelector.select\u001b[0;34m(self, timeout)\u001b[0m\n\u001b[1;32m    564\u001b[0m ready \u001b[38;5;241m=\u001b[39m []\n\u001b[1;32m    565\u001b[0m \u001b[38;5;28;01mtry\u001b[39;00m:\n\u001b[0;32m--> 566\u001b[0m     kev_list \u001b[38;5;241m=\u001b[39m \u001b[38;5;28mself\u001b[39m\u001b[38;5;241m.\u001b[39m_selector\u001b[38;5;241m.\u001b[39mcontrol(\u001b[38;5;28;01mNone\u001b[39;00m, max_ev, timeout)\n\u001b[1;32m    567\u001b[0m \u001b[38;5;28;01mexcept\u001b[39;00m \u001b[38;5;167;01mInterruptedError\u001b[39;00m:\n\u001b[1;32m    568\u001b[0m     \u001b[38;5;28;01mreturn\u001b[39;00m ready\n",
      "\u001b[0;31mKeyboardInterrupt\u001b[0m: "
     ]
    }
   ],
   "source": [
    "import json\n",
    "evaluate(test_cases=test_cases, metrics=metrics)"
   ]
  },
  {
   "cell_type": "markdown",
   "id": "5ae3cfe3-5f32-43a2-a019-a971e82cfef0",
   "metadata": {},
   "source": []
  },
  {
   "cell_type": "code",
   "execution_count": 97,
   "id": "05843abd-5001-4f3c-ae1c-1d95013eec35",
   "metadata": {},
   "outputs": [],
   "source": [
    "import json\n",
    "from deepeval.metrics import GEval\n",
    "from deepeval.test_case import LLMTestCaseParams\n",
    "correctness_metric = GEval(\n",
    "    name=\"Correctness\",\n",
    "    criteria=\"Determine whether the actual output is factually correct based on the expected output.\",\n",
    "    # NOTE: you can only provide either criteria or evaluation_steps, and not both\n",
    "    evaluation_steps=[\n",
    "        \"Check whether the facts in 'actual output' contradicts any facts in 'expected output'\",\n",
    "        \"You should also heavily penalize omission of detail\",\n",
    "        \"Vague language, or contradicting OPINIONS, are OK\"\n",
    "    ],\n",
    "    evaluation_params=[LLMTestCaseParams.INPUT, LLMTestCaseParams.ACTUAL_OUTPUT, LLMTestCaseParams.EXPECTED_OUTPUT]\n",
    ")"
   ]
  },
  {
   "cell_type": "code",
   "execution_count": 99,
   "id": "4bfdcb3b-31dd-4915-bde3-9dafe7fc7447",
   "metadata": {},
   "outputs": [
    {
     "data": {
      "text/html": [
       "<pre style=\"white-space:pre;overflow-x:auto;line-height:normal;font-family:Menlo,'DejaVu Sans Mono',consolas,'Courier New',monospace\">✨ You're running DeepEval's latest <span style=\"color: #6a00ff; text-decoration-color: #6a00ff\">Correctness </span><span style=\"color: #6a00ff; text-decoration-color: #6a00ff; font-weight: bold\">(</span><span style=\"color: #6a00ff; text-decoration-color: #6a00ff\">GEval</span><span style=\"color: #6a00ff; text-decoration-color: #6a00ff; font-weight: bold\">)</span><span style=\"color: #6a00ff; text-decoration-color: #6a00ff\"> Metric</span>! <span style=\"color: #374151; text-decoration-color: #374151; font-weight: bold\">(</span><span style=\"color: #374151; text-decoration-color: #374151\">using gemma3:latest </span><span style=\"color: #374151; text-decoration-color: #374151; font-weight: bold\">(</span><span style=\"color: #374151; text-decoration-color: #374151\">Ollama</span><span style=\"color: #374151; text-decoration-color: #374151; font-weight: bold\">)</span><span style=\"color: #374151; text-decoration-color: #374151\">, </span><span style=\"color: #374151; text-decoration-color: #374151\">strict</span><span style=\"color: #374151; text-decoration-color: #374151\">=</span><span style=\"color: #374151; text-decoration-color: #374151; font-style: italic\">False</span><span style=\"color: #374151; text-decoration-color: #374151\">, </span>\n",
       "<span style=\"color: #374151; text-decoration-color: #374151\">async_mode</span><span style=\"color: #374151; text-decoration-color: #374151\">=</span><span style=\"color: #374151; text-decoration-color: #374151; font-style: italic\">True</span><span style=\"color: #374151; text-decoration-color: #374151; font-weight: bold\">)</span><span style=\"color: #374151; text-decoration-color: #374151\">...</span>\n",
       "</pre>\n"
      ],
      "text/plain": [
       "✨ You're running DeepEval's latest \u001b[38;2;106;0;255mCorrectness \u001b[0m\u001b[1;38;2;106;0;255m(\u001b[0m\u001b[38;2;106;0;255mGEval\u001b[0m\u001b[1;38;2;106;0;255m)\u001b[0m\u001b[38;2;106;0;255m Metric\u001b[0m! \u001b[1;38;2;55;65;81m(\u001b[0m\u001b[38;2;55;65;81musing gemma3:latest \u001b[0m\u001b[1;38;2;55;65;81m(\u001b[0m\u001b[38;2;55;65;81mOllama\u001b[0m\u001b[1;38;2;55;65;81m)\u001b[0m\u001b[38;2;55;65;81m, \u001b[0m\u001b[38;2;55;65;81mstrict\u001b[0m\u001b[38;2;55;65;81m=\u001b[0m\u001b[3;38;2;55;65;81mFalse\u001b[0m\u001b[38;2;55;65;81m, \u001b[0m\n",
       "\u001b[38;2;55;65;81masync_mode\u001b[0m\u001b[38;2;55;65;81m=\u001b[0m\u001b[3;38;2;55;65;81mTrue\u001b[0m\u001b[1;38;2;55;65;81m)\u001b[0m\u001b[38;2;55;65;81m...\u001b[0m\n"
      ]
     },
     "metadata": {},
     "output_type": "display_data"
    },
    {
     "name": "stderr",
     "output_type": "stream",
     "text": [
      "\n",
      "Evaluating 10 test case(s) in parallel: | |  0% (0/10) [Time Taken: 20:22, ?test\u001b[A\n",
      "\n",
      "Evaluating 10 test case(s) in parallel: | | 10% (1/10) [Time Taken: 04:10, 250.5\u001b[A\n",
      "Evaluating 10 test case(s) in parallel: |▏| 20% (2/10) [Time Taken: 04:12, 104.4\u001b[A\n",
      "Evaluating 10 test case(s) in parallel: |▎| 30% (3/10) [Time Taken: 04:14, 57.62\u001b[A\n",
      "Evaluating 10 test case(s) in parallel: |▍| 40% (4/10) [Time Taken: 04:16, 35.45\u001b[A\n",
      "Evaluating 10 test case(s) in parallel: |▌| 50% (5/10) [Time Taken: 04:18, 23.44\u001b[A\n",
      "Evaluating 10 test case(s) in parallel: |▌| 60% (6/10) [Time Taken: 04:20, 16.17\u001b[A\n",
      "Evaluating 10 test case(s) in parallel: |▋| 70% (7/10) [Time Taken: 04:22, 11.52\u001b[A\n",
      "Evaluating 10 test case(s) in parallel: |▊| 80% (8/10) [Time Taken: 04:23,  8.39\u001b[A\n",
      "Evaluating 10 test case(s) in parallel: |▉| 90% (9/10) [Time Taken: 04:26,  6.43\u001b[A\n",
      "Evaluating 10 test case(s) in parallel: |█|100% (10/10) [Time Taken: 04:28, 26.8\u001b[A"
     ]
    },
    {
     "name": "stdout",
     "output_type": "stream",
     "text": [
      "\n",
      "======================================================================\n",
      "\n",
      "Metrics Summary\n",
      "\n",
      "  - ❌ Correctness (GEval) (score: 0.1, threshold: 0.5, strict: False, evaluation model: gemma3:latest (Ollama), reason: The actual output discusses strategies like 'brand-building initiatives' and 'execution at the point of sale', but does not mention any challenges like 'economic and political instability' or 'currency volatility' as outlined in the expected output. It focuses solely on operational strategies rather than challenges., error: None)\n",
      "\n",
      "For test case:\n",
      "\n",
      "  - input: What challenges did Coca-Cola face in emerging and developing markets?\n",
      "  - actual output: Coca-Cola focuses on ensuring that our customers have the right product and package offerings and the right promotional tools to deliver enhanced value to themselves and the Company. We are constantly looking to build new beverage consumption occasions in our customers' outlets through unique and innovative consumer experiences, product availability and delivery systems, and beverage merchandising and displays. We participate in joint brand-building initiatives with our customers in order to drive consumer preference for our brands. Through our commercial leadership initiatives, we embed ourselves further into our retail customers' businesses while developing strategies for better execution at the point of sale.\n",
      "  - expected output: Challenges included economic and political instability, currency volatility, infrastructure needs, and consumer price sensitivity.\n",
      "  - context: None\n",
      "  - retrieval context: ['Node ID: parent-252 \\nText: Challenges and Risks Being global provides unique opportunities\\nfor our Company. Challenges and risks accompany those opportunities.\\nOur management has identified certain challenges and risks that demand\\nthe attention of the nonalcoholic beverage segment of the commercial\\nbeverage industry and our Company. Of these, six key challenges and\\nrisks ...\\nScore:  0.573\\n', 'Node ID: parent-34 \\nText: Challenges and Risks Being global provides unique opportunities\\nfor our Company. Challenges and risks accompany those opportunities.\\nOur management has identified certain challenges and risks that demand\\nthe attention of the nonalcoholic beverage segment of the commercial\\nbeverage industry and our Company. Of these, six key challenges and\\nrisks ...\\nScore:  0.572\\n', \"Node ID: parent-868 \\nText: Commercial Leadership The Coca-Cola system has millions of\\ncustomers around the world who sell or serve our products directly to\\nconsumers. We focus on enhancing value for our customers and providing\\nsolutions to grow their beverage businesses. Our approach includes\\nunderstanding each customer's business and needs — whether that\\ncustomer is a so...\\nScore:  0.568\\n\", 'Node ID: parent-670 \\nText: the marketplace, we create and implement integrated marketing\\nprograms, both globally and locally, that are designed to heighten\\nconsumer awareness of and product appeal for our brands. In developing\\na strategy for a Company brand, we conduct product and packaging\\nresearch, establish brand positioning, develop precise consumer\\ncommunications and...\\nScore:  0.568\\n', \"Node ID: parent-466 \\nText: Commercial Leadership The Coca-Cola system has millions of\\ncustomers around the world who sell or serve our products directly to\\nconsumers. We focus on enhancing value for our customers and providing\\nsolutions to grow their beverage businesses. Our approach includes\\nunderstanding each customer's business and needs — whether that\\ncustomer is a so...\\nScore:  0.568\\n\"]\n",
      "\n",
      "======================================================================\n",
      "\n",
      "Metrics Summary\n",
      "\n",
      "  - ❌ Correctness (GEval) (score: 0.3, threshold: 0.5, strict: False, evaluation model: gemma3:latest (Ollama), reason: The actual output states that increasing interest rates could negatively affect net income, which aligns with the expected output's concern. However, it lacks specific numerical details, such as the $148 million increase in interest expense, as presented in the expected output. It also omits the year of the example (2014)., error: None)\n",
      "\n",
      "For test case:\n",
      "\n",
      "  - input: What was the net income or profitability concern related to interest rates?\n",
      "  - actual output: If interest rates increase, our net income could be negatively affected. We maintain levels of debt that we consider prudent based on our cash flows, interest coverage ratio and percentage of debt to capital. When and to the extent appropriate, we use derivative financial instruments to reduce our exposure to interest rate risks. However, our financial risk management program may not be successful in reducing the risks inherent in exposures to interest rate fluctuations.\n",
      "  - expected output: An increase in interest rates could raise borrowing costs and reduce net income. A 1% rate hike could have increased 2014’s interest expense by $148 million.\n",
      "  - context: None\n",
      "  - retrieval context: [\"Node ID: parent-1051 \\nText: If interest rates increase, our net income could be negatively\\naffected. We maintain levels of debt that we consider prudent based on\\nour cash flows, interest coverage ratio and percentage of debt to\\ncapital. We use debt financing to lower our cost of capital, which\\nincreases our return on shareowners' equity. This exposes us to\\nadverse changes ...\\nScore:  0.529\\n\", \"Node ID: parent-1272 \\nText: If interest rates increase, our net income could be negatively\\naffected. We maintain levels of debt that we consider prudent based on\\nour cash flows, interest coverage ratio and percentage of debt to\\ncapital. We use debt financing to lower our cost of capital, which\\nincreases our return on shareowners' equity. This exposes us to\\nadverse changes ...\\nScore:  0.528\\n\", 'Node ID: parent-504 \\nText: ITEM 7A.  QUANTITATIVE AND QUALITATIVE DISCLOSURES ABOUT MARKET\\nRISK Our Company uses derivative financial instruments primarily to\\nreduce our exposure to adverse fluctuations in foreign currency\\nexchange rates, interest rates, commodity prices and other market\\nrisks. We do not enter into derivative financial instruments for\\ntrading purposes. As...\\nScore:  0.518\\n', 'Node ID: parent-289 \\nText: ITEM 7A.  QUANTITATIVE AND QUALITATIVE DISCLOSURES ABOUT MARKET\\nRISK Our Company uses derivative financial instruments primarily to\\nreduce our exposure to adverse fluctuations in foreign currency\\nexchange rates, interest rates, commodity prices and other market\\nrisks. We do not enter into derivative financial instruments for\\ntrading purposes. As...\\nScore:  0.513\\n', 'Node ID: parent-1979 \\nText: If interest rates increase, our net income could be negatively\\naffected. We maintain levels of debt that we consider prudent based on\\nour cash flows, interest coverage ratio and percentage of debt to\\ncapital. We use debt financing to lower our cost of capital, which\\nincreases our return on shareowners’ equity. This exposes us to\\nadverse changes ...\\nScore:  0.511\\n']\n",
      "\n",
      "======================================================================\n",
      "\n",
      "Metrics Summary\n",
      "\n",
      "  - ✅ Correctness (GEval) (score: 0.6, threshold: 0.5, strict: False, evaluation model: gemma3:latest (Ollama), reason: The actual output mentions reduced-, low-, or no-calorie beverage options and no advertising to children under 12, aligning with the expected output. However, it omits the crucial detail of supporting physical activity programs, a key element from the expected output., error: None)\n",
      "\n",
      "For test case:\n",
      "\n",
      "  - input: How did Coca-Cola address the issue of obesity in 2015?\n",
      "  - actual output: Coca-Cola was committed to being a part of the solution to obesity, recognizing it as a significant challenge. They were working to pair commercial actions with community engagement to bring together business, government, and civil society. Commercially, they continued to offer reduced-, low-, or no-calorie beverage options, provide transparent nutrition information, offer beverages in a range of packaging sizes, and market responsibly, including no advertising to children under 12. They were also resolute in continuing to innovate and committed to partnering to find winning solutions in the area of noncaloric sweeteners.\n",
      "  - expected output: By offering low/no-calorie options, transparent labeling, supporting physical activity programs, and avoiding advertising to children under 12.\n",
      "  - context: None\n",
      "  - retrieval context: ['Node ID: parent-252 \\nText: Challenges and Risks Being global provides unique opportunities\\nfor our Company. Challenges and risks accompany those opportunities.\\nOur management has identified certain challenges and risks that demand\\nthe attention of the nonalcoholic beverage segment of the commercial\\nbeverage industry and our Company. Of these, six key challenges and\\nrisks ...\\nScore:  0.609\\n']\n",
      "\n",
      "======================================================================\n",
      "\n",
      "Metrics Summary\n",
      "\n",
      "  - ✅ Correctness (GEval) (score: 0.9, threshold: 0.5, strict: False, evaluation model: gemma3:latest (Ollama), reason: The actual output includes 'Africa', which is present in the expected output. However, the actual output misses 'Eurasia', but otherwise includes all segments listed in the expected output., error: None)\n",
      "\n",
      "For test case:\n",
      "\n",
      "  - input: What were Coca-Cola’s operating segments as of December 31, 2014?\n",
      "  - actual output: Africa, Europe, Latin America, North America, Asia Pacific, Bottling Investments, and Corporate.\n",
      "  - expected output: Eurasia and Africa, Europe, Latin America, North America, Asia Pacific, Bottling Investments, and Corporate.\n",
      "  - context: None\n",
      "  - retrieval context: ['Node ID: parent-131 \\nText: The following table summarizes the balance of accrued expenses\\nrelated to these productivity and reinvestment initiatives and the\\nchanges in the accrued amounts since the commencement of the plan (in\\nmillions): Severance Pay and Benefits   Outside Services Other Direct\\nCosts Total 2012     Costs incurred $ 21  $ 61 $ 188 $ 270 Payments (8\\n)   (5...\\nScore:  0.580\\n', 'Node ID: parent-3 \\nText: Acquisition of Coca-Cola Enterprises Inc.\\'s Former North America\\nBusiness and Related Transactions On October 2, 2010, we acquired the\\nformer North America business of Coca-Cola Enterprises Inc. (\"CCE\"),\\none of our major bottlers, consisting of CCE\\'s production, sales and\\ndistribution operations in the United States, Canada, the British\\nVirgin I...\\nScore:  0.547\\n', 'Node ID: parent-43 \\nText: A number of years may elapse before a particular matter for\\nwhich we have established a reserve is audited and finally resolved.\\nThe number of years with open tax audits varies depending on the tax\\njurisdiction. The tax benefit that has been previously reserved\\nbecause of a failure to meet the \"more likely than not\" recognition\\nthreshold would b...\\nScore:  0.544\\n', 'Node ID: parent-51 \\nText: Net Operating Revenues by Operating Segment Information about\\nour net operating revenues by operating segment as a percentage of\\nCompany net operating revenues is as follows: Year Ended December 31,\\n2014 2013 2012 Eurasia & Africa 5.9% 5.9% 5.6% Europe 10.5 9.9 9.3\\nLatin America 10.0 10.1 9.5 North America 46.7 46.1 45.1 Asia Pacific\\n11.4 11.5 1...\\nScore:  0.540\\n']\n",
      "\n",
      "======================================================================\n",
      "\n",
      "Metrics Summary\n",
      "\n",
      "  - ❌ Correctness (GEval) (score: 0.3, threshold: 0.5, strict: False, evaluation model: gemma3:latest (Ollama), reason: The actual output includes risks like 'obesity concerns,' 'water scarcity,' and 'evolving consumer preferences,' which are present in the expected output. However, it omits crucial risks like 'currency fluctuations,' 'cyber threats,' and 'economic and political instability,' as specified in the expected output. Also, the response is quite vague about consumer preferences., error: None)\n",
      "\n",
      "For test case:\n",
      "\n",
      "  - input: What were the primary risks Coca-Cola highlighted in 2015?\n",
      "  - actual output: In 2015, Coca-Cola highlighted several key risks, including obesity concerns, water scarcity and quality challenges, evolving consumer preferences, increased competition, and product safety and quality issues. They also acknowledged challenges related to water quality and quantity, and shifting consumer demographics.\n",
      "  - expected output: Key risks included currency fluctuations, obesity concerns, water scarcity, cyber threats, economic and political instability, and dependency on bottling partners.\n",
      "  - context: None\n",
      "  - retrieval context: ['Node ID: parent-228 \\nText: ITEM 1A.  RISK FACTORS In addition to the other information set\\nforth in this report, you should carefully consider the following\\nfactors, which could materially affect our business, financial\\ncondition or results of operations in future periods. The risks\\ndescribed below are not the only risks facing our Company. Additional\\nrisks not currently ...\\nScore:  0.551\\n', 'Node ID: parent-252 \\nText: Challenges and Risks Being global provides unique opportunities\\nfor our Company. Challenges and risks accompany those opportunities.\\nOur management has identified certain challenges and risks that demand\\nthe attention of the nonalcoholic beverage segment of the commercial\\nbeverage industry and our Company. Of these, six key challenges and\\nrisks ...\\nScore:  0.535\\n']\n",
      "\n",
      "======================================================================\n",
      "\n",
      "Metrics Summary\n",
      "\n",
      "  - ✅ Correctness (GEval) (score: 0.6, threshold: 0.5, strict: False, evaluation model: gemma3:latest (Ollama), reason: The actual output discusses marketing strategies, brand value increase, and supply chain optimization, aligning with a growth strategy. However, it lacks specific mentions of leveraging brands, consumer connection, or financial strength, as outlined in the expected output. It also doesn't detail the importance of distribution network., error: None)\n",
      "\n",
      "For test case:\n",
      "\n",
      "  - input: What was Coca-Cola’s strategy for business growth in 2015?\n",
      "  - actual output: In 2015, Coca-Cola was focused on marketing strategies to drive volume growth in emerging markets, increasing brand value in developing markets, and growing profit in developed markets. Specifically, the company was expanding its productivity and reinvestment program through 2019, which included initiatives such as global supply chain optimization, marketing and innovation effectiveness, and operational excellence. The company was also managing impacts from transactions like the deconsolidation of Brazilian bottling operations and currency devaluation in Venezuela.\n",
      "  - expected output: Coca-Cola aimed to accelerate growth by leveraging its brands, financial strength, distribution network, and talent, focusing on product variety, consumer connection, and operational efficiency.\n",
      "  - context: None\n",
      "  - retrieval context: ['Node ID: parent-251 \\nText: Core Capabilities Consumer Marketing Marketing investments are\\ndesigned to enhance consumer awareness of, and increase consumer\\npreference for, our brands. Successful marketing investments produce\\nlong-term growth in unit case volume, per capita consumption and our\\nshare of worldwide nonalcoholic beverage sales. Through our\\nrelationships with ou...\\nScore:  0.542\\n', 'Node ID: parent-352 \\nText: In 2013, the Company recorded a gain of $615 million due to the\\ndeconsolidation of our Brazilian bottling operations as a result of\\ntheir combination with an independent bottling partner. Subsequent to\\nthis transaction, the Company accounts for our investment in the newly\\ncombined Brazilian bottling operations under the equity method of\\naccounti...\\nScore:  0.527\\n']\n",
      "\n",
      "======================================================================\n",
      "\n",
      "Metrics Summary\n",
      "\n",
      "  - ✅ Correctness (GEval) (score: 0.7, threshold: 0.5, strict: False, evaluation model: gemma3:latest (Ollama), reason: The actual output mentions 73 functional currencies, while the expected output specifies 70+. The actual output details the use of derivative financial instruments and offsets, but lacks the specific mention of a 10% USD strengthening impact, as stated in the expected output., error: None)\n",
      "\n",
      "For test case:\n",
      "\n",
      "  - input: What was Coca-Cola’s exposure to foreign currency exchange risks?\n",
      "  - actual output: Coca-Cola uses derivative financial instruments, primarily forward exchange contracts and currency options, to reduce its exposure to adverse fluctuations in foreign currency exchange rates. They manage most of their foreign currency exposures on a consolidated basis to net certain exposures and take advantage of natural offsets. In 2016, they utilized 73 functional currencies and generated $21,964 million in net operating revenues from operations outside the United States, acknowledging that weaknesses in some currencies could be offset by strengths in others. They also utilize forward exchange contracts to offset the earnings impact related to foreign currency fluctuations on certain monetary assets and liabilities.\n",
      "  - expected output: The company operated with 70+ currencies and used derivatives to hedge exchange risks, acknowledging a 10% USD strengthening could negatively impact financials.\n",
      "  - context: None\n",
      "  - retrieval context: [\"Node ID: parent-71 \\nText: • Other investments increased $2,559 million, or 229 percent,\\nprimarily due to the Company's investment in Keurig, which is\\naccounted for as an available-for-sale security. Refer to Note 2 of\\nNotes to Consolidated Financial Statements for additional information\\non this investment. • Loans and notes payable increased $2,229\\nmillion, or 13 percent...\\nScore:  0.645\\n\", 'Node ID: parent-1312 \\nText: In 2020 and 2019, the weighted-average exchange rates for\\nforeign currencies in which the Company conducted operations (all\\noperating currencies), and for certain individual currencies,\\nstrengthened (weakened) against the U.S. dollar as follows: Year Ended\\nDecember 31, 2020 2019 All operating currencies (4)% (5)% Australian\\ndollar (2)% (7)% Braz...\\nScore:  0.642\\n', 'Node ID: parent-289 \\nText: ITEM 7A.  QUANTITATIVE AND QUALITATIVE DISCLOSURES ABOUT MARKET\\nRISK Our Company uses derivative financial instruments primarily to\\nreduce our exposure to adverse fluctuations in foreign currency\\nexchange rates, interest rates, commodity prices and other market\\nrisks. We do not enter into derivative financial instruments for\\ntrading purposes. As...\\nScore:  0.642\\n', 'Node ID: parent-504 \\nText: ITEM 7A.  QUANTITATIVE AND QUALITATIVE DISCLOSURES ABOUT MARKET\\nRISK Our Company uses derivative financial instruments primarily to\\nreduce our exposure to adverse fluctuations in foreign currency\\nexchange rates, interest rates, commodity prices and other market\\nrisks. We do not enter into derivative financial instruments for\\ntrading purposes. As...\\nScore:  0.642\\n']\n",
      "\n",
      "======================================================================\n",
      "\n",
      "Metrics Summary\n",
      "\n",
      "  - ❌ Correctness (GEval) (score: 0.2, threshold: 0.5, strict: False, evaluation model: gemma3:latest (Ollama), reason: The actual output states '$45,998 million', while the expected output specifies '$46 billion'. The actual output lacks the specific breakdown of revenue by region (U.S. and international) requested in the expected output., error: None)\n",
      "\n",
      "For test case:\n",
      "\n",
      "  - input: What was the total net operating revenue in 2014?\n",
      "  - actual output: The total net operating revenues for 2014 was $45,998 million.\n",
      "  - expected output: $46 billion, with $19.8 billion from the U.S. (43%) and $26.2 billion internationally (57%)\n",
      "  - context: None\n",
      "  - retrieval context: [\"Node ID: parent-49 \\nText: Net Operating Revenues Year Ended December 31, 2014 versus Year\\nEnded December 31, 2013 The Company's net operating revenues decreased\\n$856 million, or 2 percent. The following table illustrates, on a\\npercentage basis, the estimated impact of key factors resulting in the\\nincrease (decrease) in net operating revenues for each of our\\noperating seg...\\nScore:  0.544\\n\", 'Node ID: parent-74 \\nText: THE COCA-COLA COMPANY AND SUBSIDIARIES CONSOLIDATED STATEMENTS\\nOF INCOME Year Ended December 31, 2014 2013 2012 (In millions except\\nper share data) NET OPERATING REVENUES $ 45,998 $ 46,854 $ 48,017 Cost\\nof goods sold 17,889 18,421 19,053 GROSS PROFIT 28,109 28,433 28,964\\nSelling, general and administrative expenses 17,218 17,310 17,738\\nOther ope...\\nScore:  0.504\\n', 'Node ID: parent-30 \\nText: ITEM 6.  SELECTED FINANCIAL DATA The following selected\\nfinancial data should be read in conjunction with \"Item 7.\\nManagement\\'s Discussion and Analysis of Financial Condition and\\nResults of Operations\" and consolidated financial statements and notes\\nthereto contained in \"Item 8. Financial Statements and Supplementary\\nData\" of this report. Year E...\\nScore:  0.502\\n', 'Node ID: parent-48 \\nText: Unit case volume for Bottling Investments decreased 17 percent.\\nThis decrease primarily reflects the sale of a majority ownership\\ninterest in our previously consolidated bottling operations in the\\nPhilippines to Coca-Cola FEMSA, S.A.B. de C.V. (\"Coca-Cola FEMSA\") in\\nJanuary 2013, as well as the deconsolidation of our bottling\\noperations in Brazi...\\nScore:  0.496\\n']\n",
      "\n",
      "======================================================================\n",
      "\n",
      "Metrics Summary\n",
      "\n",
      "  - ✅ Correctness (GEval) (score: 0.8, threshold: 0.5, strict: False, evaluation model: gemma3:latest (Ollama), reason: The actual output describes Coca-Cola’s approach as a multi-faceted strategy including efficiency, treatment, and replenishment, aligning with the expected output. However, it includes details about consumer-focused initiatives like low-calorie beverages, which are not present in the expected output, reducing the score., error: None)\n",
      "\n",
      "For test case:\n",
      "\n",
      "  - input: What was Coca-Cola’s approach to water management and sustainability?\n",
      "  - actual output: Coca-Cola’s approach to water management and sustainability involved a multi-faceted strategy. The company recognized water as a critical ingredient and resource, acknowledging the challenges posed by overexploitation, increased food demand, and pollution. They implemented a formal water risk management program, focusing on water use efficiency and wastewater treatment in manufacturing operations, shared watershed protection efforts, engaging local communities, and addressing water resource management in their agricultural ingredient supply chain. They also collaborated with other companies, governments, nongovernmental organizations, and communities to advocate for needed water policy reforms and action to protect water availability and quality around the world. Furthermore, they launched initiatives like offering low- or no-calorie beverage options and providing transparent nutrition information to address consumer concerns about obesity and hydration.\n",
      "  - expected output: The company had a water stewardship program focused on efficiency, treatment, and replenishment, and collaborated with communities and partners to mitigate water risks.\n",
      "  - context: None\n",
      "  - retrieval context: ['Node ID: parent-869 \\nText: Increased Competition and Capabilities in the Marketplace Our\\nCompany faces strong competition from well-established, global\\ncompanies as well as numerous regional and local companies.\\nAdditionally, the rapidly evolving digital landscape and growth of\\ne-commerce has led to dramatic shifts in consumer shopping patterns\\nand presents new challenges...\\nScore:  0.664\\n', \"Node ID: parent-671 \\nText: Water Quality and Quantity Water quality and quantity is an\\nissue that requires our Company's sustained attention and\\ncollaboration with other companies, suppliers, governments,\\nnongovernmental organizations and communities where we operate. Water\\nis a main ingredient in substantially all of our products, is vital to\\nthe production of the agricu...\\nScore:  0.651\\n\", 'Node ID: parent-467 \\nText: Our Company regularly assesses the specific water-related risks\\nthat we and many of our bottling partners face and has implemented a\\nformal water risk management program. Mitigation of water risk forms\\nthe basis of our water stewardship strategic framework. This strategy\\nis executed at the local level where we operate and includes the\\nfollowing ...\\nScore:  0.650\\n', 'Node ID: parent-34 \\nText: Challenges and Risks Being global provides unique opportunities\\nfor our Company. Challenges and risks accompany those opportunities.\\nOur management has identified certain challenges and risks that demand\\nthe attention of the nonalcoholic beverage segment of the commercial\\nbeverage industry and our Company. Of these, six key challenges and\\nrisks ...\\nScore:  0.650\\n', 'Node ID: parent-252 \\nText: Challenges and Risks Being global provides unique opportunities\\nfor our Company. Challenges and risks accompany those opportunities.\\nOur management has identified certain challenges and risks that demand\\nthe attention of the nonalcoholic beverage segment of the commercial\\nbeverage industry and our Company. Of these, six key challenges and\\nrisks ...\\nScore:  0.648\\n']\n",
      "\n",
      "======================================================================\n",
      "\n",
      "Metrics Summary\n",
      "\n",
      "  - ✅ Correctness (GEval) (score: 0.7, threshold: 0.5, strict: False, evaluation model: gemma3:latest (Ollama), reason: The actual output mentions a global quality management system and supplier due diligence in over 200 countries, aligning with the expected output's reference to a global quality management system and regular testing in 200+ countries. However, it lacks specific details about laboratory testing, which is present in the expected output., error: None)\n",
      "\n",
      "For test case:\n",
      "\n",
      "  - input: How did Coca-Cola manage product quality and food safety?\n",
      "  - actual output: Coca-Cola strives to meet the highest standards in both product safety and product quality. They have rigorous product and ingredient safety and quality standards designed to ensure safety and quality in each of their products. They measure the quality attributes of ingredients and finished products, and perform due diligence to maintain standards in over 200 countries and territories. They utilize an integrated quality management program that continually measures operations against stringent standards and identifies/mitigates risks. Additionally, they stay current with regulations and engage with industry organizations.\n",
      "  - expected output: Through a global quality management system, compliance with strict standards, regular laboratory testing, and supplier due diligence in 200+ countries.\n",
      "  - context: None\n",
      "  - retrieval context: ['Node ID: parent-1848 \\nText: low- and no-calorie products); selectively expanding into other\\nprofitable categories of the commercial beverage industry;  investing\\nin innovative and sustainable packaging; and including easy-to-access\\ninformation about our beverages on our  website.  Evolving Competitive\\nLandscape and Competing in the Digital Marketplace  Our Company faces\\nst...\\nScore:  0.652\\n', 'Node ID: parent-1480 \\nText: Product Safety and Quality We strive to meet the highest\\nstandards in both product safety and product quality. We are aware\\nthat some consumers have concerns and negative viewpoints regarding\\ncertain ingredients used in our products. The Coca-Cola system works\\nevery day to share safe and refreshing beverages with consumers around\\nthe world. We h...\\nScore:  0.644\\n', \"Node ID: parent-671 \\nText: Water Quality and Quantity Water quality and quantity is an\\nissue that requires our Company's sustained attention and\\ncollaboration with other companies, suppliers, governments,\\nnongovernmental organizations and communities where we operate. Water\\nis a main ingredient in substantially all of our products, is vital to\\nthe production of the agricu...\\nScore:  0.628\\n\"]\n",
      "\n",
      "======================================================================\n",
      "\n",
      "Overall Metric Pass Rates\n",
      "\n",
      "Correctness (GEval): 60.00% pass rate\n",
      "\n",
      "======================================================================\n",
      "\n"
     ]
    },
    {
     "name": "stderr",
     "output_type": "stream",
     "text": [
      "\n"
     ]
    },
    {
     "data": {
      "text/html": [
       "<pre style=\"white-space:pre;overflow-x:auto;line-height:normal;font-family:Menlo,'DejaVu Sans Mono',consolas,'Courier New',monospace\">\n",
       "<span style=\"color: #05f58d; text-decoration-color: #05f58d\">✓</span> Tests finished 🎉! Run <span style=\"color: #008000; text-decoration-color: #008000; font-weight: bold\">'deepeval login'</span> to save and analyze evaluation results on Confident AI.\n",
       " \n",
       "✨👀 Looking for a place for your LLM test data to live 🏡❤️ ? Use <span style=\"color: #6a00ff; text-decoration-color: #6a00ff\">Confident AI</span> to get &amp; share testing reports, \n",
       "experiment with models/prompts, and catch regressions for your LLM system. Just run <span style=\"color: #008080; text-decoration-color: #008080\">'deepeval login'</span> in the CLI. \n",
       "\n",
       "</pre>\n"
      ],
      "text/plain": [
       "\n",
       "\u001b[38;2;5;245;141m✓\u001b[0m Tests finished 🎉! Run \u001b[1;32m'deepeval login'\u001b[0m to save and analyze evaluation results on Confident AI.\n",
       " \n",
       "✨👀 Looking for a place for your LLM test data to live 🏡❤️ ? Use \u001b[38;2;106;0;255mConfident AI\u001b[0m to get & share testing reports, \n",
       "experiment with models/prompts, and catch regressions for your LLM system. Just run \u001b[36m'deepeval login'\u001b[0m in the CLI. \n",
       "\n"
      ]
     },
     "metadata": {},
     "output_type": "display_data"
    },
    {
     "data": {
      "text/plain": [
       "EvaluationResult(test_results=[TestResult(name='test_case_8', success=False, metrics_data=[MetricData(name='Correctness (GEval)', threshold=0.5, success=False, score=0.1, reason=\"The actual output discusses strategies like 'brand-building initiatives' and 'execution at the point of sale', but does not mention any challenges like 'economic and political instability' or 'currency volatility' as outlined in the expected output. It focuses solely on operational strategies rather than challenges.\", strict_mode=False, evaluation_model='gemma3:latest (Ollama)', error=None, evaluation_cost=0.0, verbose_logs='Criteria:\\nDetermine whether the actual output is factually correct based on the expected output. \\n \\nEvaluation Steps:\\n[\\n    \"Check whether the facts in \\'actual output\\' contradicts any facts in \\'expected output\\'\",\\n    \"You should also heavily penalize omission of detail\",\\n    \"Vague language, or contradicting OPINIONS, are OK\"\\n]')], conversational=False, multimodal=False, input='What challenges did Coca-Cola face in emerging and developing markets?', actual_output=\"Coca-Cola focuses on ensuring that our customers have the right product and package offerings and the right promotional tools to deliver enhanced value to themselves and the Company. We are constantly looking to build new beverage consumption occasions in our customers' outlets through unique and innovative consumer experiences, product availability and delivery systems, and beverage merchandising and displays. We participate in joint brand-building initiatives with our customers in order to drive consumer preference for our brands. Through our commercial leadership initiatives, we embed ourselves further into our retail customers' businesses while developing strategies for better execution at the point of sale.\", expected_output='Challenges included economic and political instability, currency volatility, infrastructure needs, and consumer price sensitivity.', context=None, retrieval_context=['Node ID: parent-252 \\nText: Challenges and Risks Being global provides unique opportunities\\nfor our Company. Challenges and risks accompany those opportunities.\\nOur management has identified certain challenges and risks that demand\\nthe attention of the nonalcoholic beverage segment of the commercial\\nbeverage industry and our Company. Of these, six key challenges and\\nrisks ...\\nScore:  0.573\\n', 'Node ID: parent-34 \\nText: Challenges and Risks Being global provides unique opportunities\\nfor our Company. Challenges and risks accompany those opportunities.\\nOur management has identified certain challenges and risks that demand\\nthe attention of the nonalcoholic beverage segment of the commercial\\nbeverage industry and our Company. Of these, six key challenges and\\nrisks ...\\nScore:  0.572\\n', \"Node ID: parent-868 \\nText: Commercial Leadership The Coca-Cola system has millions of\\ncustomers around the world who sell or serve our products directly to\\nconsumers. We focus on enhancing value for our customers and providing\\nsolutions to grow their beverage businesses. Our approach includes\\nunderstanding each customer's business and needs — whether that\\ncustomer is a so...\\nScore:  0.568\\n\", 'Node ID: parent-670 \\nText: the marketplace, we create and implement integrated marketing\\nprograms, both globally and locally, that are designed to heighten\\nconsumer awareness of and product appeal for our brands. In developing\\na strategy for a Company brand, we conduct product and packaging\\nresearch, establish brand positioning, develop precise consumer\\ncommunications and...\\nScore:  0.568\\n', \"Node ID: parent-466 \\nText: Commercial Leadership The Coca-Cola system has millions of\\ncustomers around the world who sell or serve our products directly to\\nconsumers. We focus on enhancing value for our customers and providing\\nsolutions to grow their beverage businesses. Our approach includes\\nunderstanding each customer's business and needs — whether that\\ncustomer is a so...\\nScore:  0.568\\n\"]), TestResult(name='test_case_7', success=False, metrics_data=[MetricData(name='Correctness (GEval)', threshold=0.5, success=False, score=0.3, reason=\"The actual output states that increasing interest rates could negatively affect net income, which aligns with the expected output's concern. However, it lacks specific numerical details, such as the $148 million increase in interest expense, as presented in the expected output. It also omits the year of the example (2014).\", strict_mode=False, evaluation_model='gemma3:latest (Ollama)', error=None, evaluation_cost=0.0, verbose_logs='Criteria:\\nDetermine whether the actual output is factually correct based on the expected output. \\n \\nEvaluation Steps:\\n[\\n    \"Check whether the facts in \\'actual output\\' contradicts any facts in \\'expected output\\'\",\\n    \"You should also heavily penalize omission of detail\",\\n    \"Vague language, or contradicting OPINIONS, are OK\"\\n]')], conversational=False, multimodal=False, input='What was the net income or profitability concern related to interest rates?', actual_output='If interest rates increase, our net income could be negatively affected. We maintain levels of debt that we consider prudent based on our cash flows, interest coverage ratio and percentage of debt to capital. When and to the extent appropriate, we use derivative financial instruments to reduce our exposure to interest rate risks. However, our financial risk management program may not be successful in reducing the risks inherent in exposures to interest rate fluctuations.', expected_output='An increase in interest rates could raise borrowing costs and reduce net income. A 1% rate hike could have increased 2014’s interest expense by $148 million.', context=None, retrieval_context=[\"Node ID: parent-1051 \\nText: If interest rates increase, our net income could be negatively\\naffected. We maintain levels of debt that we consider prudent based on\\nour cash flows, interest coverage ratio and percentage of debt to\\ncapital. We use debt financing to lower our cost of capital, which\\nincreases our return on shareowners' equity. This exposes us to\\nadverse changes ...\\nScore:  0.529\\n\", \"Node ID: parent-1272 \\nText: If interest rates increase, our net income could be negatively\\naffected. We maintain levels of debt that we consider prudent based on\\nour cash flows, interest coverage ratio and percentage of debt to\\ncapital. We use debt financing to lower our cost of capital, which\\nincreases our return on shareowners' equity. This exposes us to\\nadverse changes ...\\nScore:  0.528\\n\", 'Node ID: parent-504 \\nText: ITEM 7A.  QUANTITATIVE AND QUALITATIVE DISCLOSURES ABOUT MARKET\\nRISK Our Company uses derivative financial instruments primarily to\\nreduce our exposure to adverse fluctuations in foreign currency\\nexchange rates, interest rates, commodity prices and other market\\nrisks. We do not enter into derivative financial instruments for\\ntrading purposes. As...\\nScore:  0.518\\n', 'Node ID: parent-289 \\nText: ITEM 7A.  QUANTITATIVE AND QUALITATIVE DISCLOSURES ABOUT MARKET\\nRISK Our Company uses derivative financial instruments primarily to\\nreduce our exposure to adverse fluctuations in foreign currency\\nexchange rates, interest rates, commodity prices and other market\\nrisks. We do not enter into derivative financial instruments for\\ntrading purposes. As...\\nScore:  0.513\\n', 'Node ID: parent-1979 \\nText: If interest rates increase, our net income could be negatively\\naffected. We maintain levels of debt that we consider prudent based on\\nour cash flows, interest coverage ratio and percentage of debt to\\ncapital. We use debt financing to lower our cost of capital, which\\nincreases our return on shareowners’ equity. This exposes us to\\nadverse changes ...\\nScore:  0.511\\n']), TestResult(name='test_case_5', success=True, metrics_data=[MetricData(name='Correctness (GEval)', threshold=0.5, success=True, score=0.6, reason='The actual output mentions reduced-, low-, or no-calorie beverage options and no advertising to children under 12, aligning with the expected output. However, it omits the crucial detail of supporting physical activity programs, a key element from the expected output.', strict_mode=False, evaluation_model='gemma3:latest (Ollama)', error=None, evaluation_cost=0.0, verbose_logs='Criteria:\\nDetermine whether the actual output is factually correct based on the expected output. \\n \\nEvaluation Steps:\\n[\\n    \"Check whether the facts in \\'actual output\\' contradicts any facts in \\'expected output\\'\",\\n    \"You should also heavily penalize omission of detail\",\\n    \"Vague language, or contradicting OPINIONS, are OK\"\\n]')], conversational=False, multimodal=False, input='How did Coca-Cola address the issue of obesity in 2015?', actual_output='Coca-Cola was committed to being a part of the solution to obesity, recognizing it as a significant challenge. They were working to pair commercial actions with community engagement to bring together business, government, and civil society. Commercially, they continued to offer reduced-, low-, or no-calorie beverage options, provide transparent nutrition information, offer beverages in a range of packaging sizes, and market responsibly, including no advertising to children under 12. They were also resolute in continuing to innovate and committed to partnering to find winning solutions in the area of noncaloric sweeteners.', expected_output='By offering low/no-calorie options, transparent labeling, supporting physical activity programs, and avoiding advertising to children under 12.', context=None, retrieval_context=['Node ID: parent-252 \\nText: Challenges and Risks Being global provides unique opportunities\\nfor our Company. Challenges and risks accompany those opportunities.\\nOur management has identified certain challenges and risks that demand\\nthe attention of the nonalcoholic beverage segment of the commercial\\nbeverage industry and our Company. Of these, six key challenges and\\nrisks ...\\nScore:  0.609\\n']), TestResult(name='test_case_3', success=True, metrics_data=[MetricData(name='Correctness (GEval)', threshold=0.5, success=True, score=0.9, reason=\"The actual output includes 'Africa', which is present in the expected output. However, the actual output misses 'Eurasia', but otherwise includes all segments listed in the expected output.\", strict_mode=False, evaluation_model='gemma3:latest (Ollama)', error=None, evaluation_cost=0.0, verbose_logs='Criteria:\\nDetermine whether the actual output is factually correct based on the expected output. \\n \\nEvaluation Steps:\\n[\\n    \"Check whether the facts in \\'actual output\\' contradicts any facts in \\'expected output\\'\",\\n    \"You should also heavily penalize omission of detail\",\\n    \"Vague language, or contradicting OPINIONS, are OK\"\\n]')], conversational=False, multimodal=False, input='What were Coca-Cola’s operating segments as of December 31, 2014?', actual_output='Africa, Europe, Latin America, North America, Asia Pacific, Bottling Investments, and Corporate.', expected_output='Eurasia and Africa, Europe, Latin America, North America, Asia Pacific, Bottling Investments, and Corporate.', context=None, retrieval_context=['Node ID: parent-131 \\nText: The following table summarizes the balance of accrued expenses\\nrelated to these productivity and reinvestment initiatives and the\\nchanges in the accrued amounts since the commencement of the plan (in\\nmillions): Severance Pay and Benefits   Outside Services Other Direct\\nCosts Total 2012     Costs incurred $ 21  $ 61 $ 188 $ 270 Payments (8\\n)   (5...\\nScore:  0.580\\n', 'Node ID: parent-3 \\nText: Acquisition of Coca-Cola Enterprises Inc.\\'s Former North America\\nBusiness and Related Transactions On October 2, 2010, we acquired the\\nformer North America business of Coca-Cola Enterprises Inc. (\"CCE\"),\\none of our major bottlers, consisting of CCE\\'s production, sales and\\ndistribution operations in the United States, Canada, the British\\nVirgin I...\\nScore:  0.547\\n', 'Node ID: parent-43 \\nText: A number of years may elapse before a particular matter for\\nwhich we have established a reserve is audited and finally resolved.\\nThe number of years with open tax audits varies depending on the tax\\njurisdiction. The tax benefit that has been previously reserved\\nbecause of a failure to meet the \"more likely than not\" recognition\\nthreshold would b...\\nScore:  0.544\\n', 'Node ID: parent-51 \\nText: Net Operating Revenues by Operating Segment Information about\\nour net operating revenues by operating segment as a percentage of\\nCompany net operating revenues is as follows: Year Ended December 31,\\n2014 2013 2012 Eurasia & Africa 5.9% 5.9% 5.6% Europe 10.5 9.9 9.3\\nLatin America 10.0 10.1 9.5 North America 46.7 46.1 45.1 Asia Pacific\\n11.4 11.5 1...\\nScore:  0.540\\n']), TestResult(name='test_case_2', success=False, metrics_data=[MetricData(name='Correctness (GEval)', threshold=0.5, success=False, score=0.3, reason=\"The actual output includes risks like 'obesity concerns,' 'water scarcity,' and 'evolving consumer preferences,' which are present in the expected output. However, it omits crucial risks like 'currency fluctuations,' 'cyber threats,' and 'economic and political instability,' as specified in the expected output. Also, the response is quite vague about consumer preferences.\", strict_mode=False, evaluation_model='gemma3:latest (Ollama)', error=None, evaluation_cost=0.0, verbose_logs='Criteria:\\nDetermine whether the actual output is factually correct based on the expected output. \\n \\nEvaluation Steps:\\n[\\n    \"Check whether the facts in \\'actual output\\' contradicts any facts in \\'expected output\\'\",\\n    \"You should also heavily penalize omission of detail\",\\n    \"Vague language, or contradicting OPINIONS, are OK\"\\n]')], conversational=False, multimodal=False, input='What were the primary risks Coca-Cola highlighted in 2015?', actual_output='In 2015, Coca-Cola highlighted several key risks, including obesity concerns, water scarcity and quality challenges, evolving consumer preferences, increased competition, and product safety and quality issues. They also acknowledged challenges related to water quality and quantity, and shifting consumer demographics.', expected_output='Key risks included currency fluctuations, obesity concerns, water scarcity, cyber threats, economic and political instability, and dependency on bottling partners.', context=None, retrieval_context=['Node ID: parent-228 \\nText: ITEM 1A.  RISK FACTORS In addition to the other information set\\nforth in this report, you should carefully consider the following\\nfactors, which could materially affect our business, financial\\ncondition or results of operations in future periods. The risks\\ndescribed below are not the only risks facing our Company. Additional\\nrisks not currently ...\\nScore:  0.551\\n', 'Node ID: parent-252 \\nText: Challenges and Risks Being global provides unique opportunities\\nfor our Company. Challenges and risks accompany those opportunities.\\nOur management has identified certain challenges and risks that demand\\nthe attention of the nonalcoholic beverage segment of the commercial\\nbeverage industry and our Company. Of these, six key challenges and\\nrisks ...\\nScore:  0.535\\n']), TestResult(name='test_case_1', success=True, metrics_data=[MetricData(name='Correctness (GEval)', threshold=0.5, success=True, score=0.6, reason=\"The actual output discusses marketing strategies, brand value increase, and supply chain optimization, aligning with a growth strategy. However, it lacks specific mentions of leveraging brands, consumer connection, or financial strength, as outlined in the expected output. It also doesn't detail the importance of distribution network.\", strict_mode=False, evaluation_model='gemma3:latest (Ollama)', error=None, evaluation_cost=0.0, verbose_logs='Criteria:\\nDetermine whether the actual output is factually correct based on the expected output. \\n \\nEvaluation Steps:\\n[\\n    \"Check whether the facts in \\'actual output\\' contradicts any facts in \\'expected output\\'\",\\n    \"You should also heavily penalize omission of detail\",\\n    \"Vague language, or contradicting OPINIONS, are OK\"\\n]')], conversational=False, multimodal=False, input='What was Coca-Cola’s strategy for business growth in 2015?', actual_output='In 2015, Coca-Cola was focused on marketing strategies to drive volume growth in emerging markets, increasing brand value in developing markets, and growing profit in developed markets. Specifically, the company was expanding its productivity and reinvestment program through 2019, which included initiatives such as global supply chain optimization, marketing and innovation effectiveness, and operational excellence. The company was also managing impacts from transactions like the deconsolidation of Brazilian bottling operations and currency devaluation in Venezuela.', expected_output='Coca-Cola aimed to accelerate growth by leveraging its brands, financial strength, distribution network, and talent, focusing on product variety, consumer connection, and operational efficiency.', context=None, retrieval_context=['Node ID: parent-251 \\nText: Core Capabilities Consumer Marketing Marketing investments are\\ndesigned to enhance consumer awareness of, and increase consumer\\npreference for, our brands. Successful marketing investments produce\\nlong-term growth in unit case volume, per capita consumption and our\\nshare of worldwide nonalcoholic beverage sales. Through our\\nrelationships with ou...\\nScore:  0.542\\n', 'Node ID: parent-352 \\nText: In 2013, the Company recorded a gain of $615 million due to the\\ndeconsolidation of our Brazilian bottling operations as a result of\\ntheir combination with an independent bottling partner. Subsequent to\\nthis transaction, the Company accounts for our investment in the newly\\ncombined Brazilian bottling operations under the equity method of\\naccounti...\\nScore:  0.527\\n']), TestResult(name='test_case_6', success=True, metrics_data=[MetricData(name='Correctness (GEval)', threshold=0.5, success=True, score=0.7, reason='The actual output mentions 73 functional currencies, while the expected output specifies 70+. The actual output details the use of derivative financial instruments and offsets, but lacks the specific mention of a 10% USD strengthening impact, as stated in the expected output.', strict_mode=False, evaluation_model='gemma3:latest (Ollama)', error=None, evaluation_cost=0.0, verbose_logs='Criteria:\\nDetermine whether the actual output is factually correct based on the expected output. \\n \\nEvaluation Steps:\\n[\\n    \"Check whether the facts in \\'actual output\\' contradicts any facts in \\'expected output\\'\",\\n    \"You should also heavily penalize omission of detail\",\\n    \"Vague language, or contradicting OPINIONS, are OK\"\\n]')], conversational=False, multimodal=False, input='What was Coca-Cola’s exposure to foreign currency exchange risks?', actual_output='Coca-Cola uses derivative financial instruments, primarily forward exchange contracts and currency options, to reduce its exposure to adverse fluctuations in foreign currency exchange rates. They manage most of their foreign currency exposures on a consolidated basis to net certain exposures and take advantage of natural offsets. In 2016, they utilized 73 functional currencies and generated $21,964 million in net operating revenues from operations outside the United States, acknowledging that weaknesses in some currencies could be offset by strengths in others. They also utilize forward exchange contracts to offset the earnings impact related to foreign currency fluctuations on certain monetary assets and liabilities.', expected_output='The company operated with 70+ currencies and used derivatives to hedge exchange risks, acknowledging a 10% USD strengthening could negatively impact financials.', context=None, retrieval_context=[\"Node ID: parent-71 \\nText: • Other investments increased $2,559 million, or 229 percent,\\nprimarily due to the Company's investment in Keurig, which is\\naccounted for as an available-for-sale security. Refer to Note 2 of\\nNotes to Consolidated Financial Statements for additional information\\non this investment. • Loans and notes payable increased $2,229\\nmillion, or 13 percent...\\nScore:  0.645\\n\", 'Node ID: parent-1312 \\nText: In 2020 and 2019, the weighted-average exchange rates for\\nforeign currencies in which the Company conducted operations (all\\noperating currencies), and for certain individual currencies,\\nstrengthened (weakened) against the U.S. dollar as follows: Year Ended\\nDecember 31, 2020 2019 All operating currencies (4)% (5)% Australian\\ndollar (2)% (7)% Braz...\\nScore:  0.642\\n', 'Node ID: parent-289 \\nText: ITEM 7A.  QUANTITATIVE AND QUALITATIVE DISCLOSURES ABOUT MARKET\\nRISK Our Company uses derivative financial instruments primarily to\\nreduce our exposure to adverse fluctuations in foreign currency\\nexchange rates, interest rates, commodity prices and other market\\nrisks. We do not enter into derivative financial instruments for\\ntrading purposes. As...\\nScore:  0.642\\n', 'Node ID: parent-504 \\nText: ITEM 7A.  QUANTITATIVE AND QUALITATIVE DISCLOSURES ABOUT MARKET\\nRISK Our Company uses derivative financial instruments primarily to\\nreduce our exposure to adverse fluctuations in foreign currency\\nexchange rates, interest rates, commodity prices and other market\\nrisks. We do not enter into derivative financial instruments for\\ntrading purposes. As...\\nScore:  0.642\\n']), TestResult(name='test_case_0', success=False, metrics_data=[MetricData(name='Correctness (GEval)', threshold=0.5, success=False, score=0.2, reason=\"The actual output states '$45,998 million', while the expected output specifies '$46 billion'. The actual output lacks the specific breakdown of revenue by region (U.S. and international) requested in the expected output.\", strict_mode=False, evaluation_model='gemma3:latest (Ollama)', error=None, evaluation_cost=0.0, verbose_logs='Criteria:\\nDetermine whether the actual output is factually correct based on the expected output. \\n \\nEvaluation Steps:\\n[\\n    \"Check whether the facts in \\'actual output\\' contradicts any facts in \\'expected output\\'\",\\n    \"You should also heavily penalize omission of detail\",\\n    \"Vague language, or contradicting OPINIONS, are OK\"\\n]')], conversational=False, multimodal=False, input='What was the total net operating revenue in 2014?', actual_output='The total net operating revenues for 2014 was $45,998 million.', expected_output='$46 billion, with $19.8 billion from the U.S. (43%) and $26.2 billion internationally (57%)', context=None, retrieval_context=[\"Node ID: parent-49 \\nText: Net Operating Revenues Year Ended December 31, 2014 versus Year\\nEnded December 31, 2013 The Company's net operating revenues decreased\\n$856 million, or 2 percent. The following table illustrates, on a\\npercentage basis, the estimated impact of key factors resulting in the\\nincrease (decrease) in net operating revenues for each of our\\noperating seg...\\nScore:  0.544\\n\", 'Node ID: parent-74 \\nText: THE COCA-COLA COMPANY AND SUBSIDIARIES CONSOLIDATED STATEMENTS\\nOF INCOME Year Ended December 31, 2014 2013 2012 (In millions except\\nper share data) NET OPERATING REVENUES $ 45,998 $ 46,854 $ 48,017 Cost\\nof goods sold 17,889 18,421 19,053 GROSS PROFIT 28,109 28,433 28,964\\nSelling, general and administrative expenses 17,218 17,310 17,738\\nOther ope...\\nScore:  0.504\\n', 'Node ID: parent-30 \\nText: ITEM 6.  SELECTED FINANCIAL DATA The following selected\\nfinancial data should be read in conjunction with \"Item 7.\\nManagement\\'s Discussion and Analysis of Financial Condition and\\nResults of Operations\" and consolidated financial statements and notes\\nthereto contained in \"Item 8. Financial Statements and Supplementary\\nData\" of this report. Year E...\\nScore:  0.502\\n', 'Node ID: parent-48 \\nText: Unit case volume for Bottling Investments decreased 17 percent.\\nThis decrease primarily reflects the sale of a majority ownership\\ninterest in our previously consolidated bottling operations in the\\nPhilippines to Coca-Cola FEMSA, S.A.B. de C.V. (\"Coca-Cola FEMSA\") in\\nJanuary 2013, as well as the deconsolidation of our bottling\\noperations in Brazi...\\nScore:  0.496\\n']), TestResult(name='test_case_4', success=True, metrics_data=[MetricData(name='Correctness (GEval)', threshold=0.5, success=True, score=0.8, reason='The actual output describes Coca-Cola’s approach as a multi-faceted strategy including efficiency, treatment, and replenishment, aligning with the expected output. However, it includes details about consumer-focused initiatives like low-calorie beverages, which are not present in the expected output, reducing the score.', strict_mode=False, evaluation_model='gemma3:latest (Ollama)', error=None, evaluation_cost=0.0, verbose_logs='Criteria:\\nDetermine whether the actual output is factually correct based on the expected output. \\n \\nEvaluation Steps:\\n[\\n    \"Check whether the facts in \\'actual output\\' contradicts any facts in \\'expected output\\'\",\\n    \"You should also heavily penalize omission of detail\",\\n    \"Vague language, or contradicting OPINIONS, are OK\"\\n]')], conversational=False, multimodal=False, input='What was Coca-Cola’s approach to water management and sustainability?', actual_output='Coca-Cola’s approach to water management and sustainability involved a multi-faceted strategy. The company recognized water as a critical ingredient and resource, acknowledging the challenges posed by overexploitation, increased food demand, and pollution. They implemented a formal water risk management program, focusing on water use efficiency and wastewater treatment in manufacturing operations, shared watershed protection efforts, engaging local communities, and addressing water resource management in their agricultural ingredient supply chain. They also collaborated with other companies, governments, nongovernmental organizations, and communities to advocate for needed water policy reforms and action to protect water availability and quality around the world. Furthermore, they launched initiatives like offering low- or no-calorie beverage options and providing transparent nutrition information to address consumer concerns about obesity and hydration.', expected_output='The company had a water stewardship program focused on efficiency, treatment, and replenishment, and collaborated with communities and partners to mitigate water risks.', context=None, retrieval_context=['Node ID: parent-869 \\nText: Increased Competition and Capabilities in the Marketplace Our\\nCompany faces strong competition from well-established, global\\ncompanies as well as numerous regional and local companies.\\nAdditionally, the rapidly evolving digital landscape and growth of\\ne-commerce has led to dramatic shifts in consumer shopping patterns\\nand presents new challenges...\\nScore:  0.664\\n', \"Node ID: parent-671 \\nText: Water Quality and Quantity Water quality and quantity is an\\nissue that requires our Company's sustained attention and\\ncollaboration with other companies, suppliers, governments,\\nnongovernmental organizations and communities where we operate. Water\\nis a main ingredient in substantially all of our products, is vital to\\nthe production of the agricu...\\nScore:  0.651\\n\", 'Node ID: parent-467 \\nText: Our Company regularly assesses the specific water-related risks\\nthat we and many of our bottling partners face and has implemented a\\nformal water risk management program. Mitigation of water risk forms\\nthe basis of our water stewardship strategic framework. This strategy\\nis executed at the local level where we operate and includes the\\nfollowing ...\\nScore:  0.650\\n', 'Node ID: parent-34 \\nText: Challenges and Risks Being global provides unique opportunities\\nfor our Company. Challenges and risks accompany those opportunities.\\nOur management has identified certain challenges and risks that demand\\nthe attention of the nonalcoholic beverage segment of the commercial\\nbeverage industry and our Company. Of these, six key challenges and\\nrisks ...\\nScore:  0.650\\n', 'Node ID: parent-252 \\nText: Challenges and Risks Being global provides unique opportunities\\nfor our Company. Challenges and risks accompany those opportunities.\\nOur management has identified certain challenges and risks that demand\\nthe attention of the nonalcoholic beverage segment of the commercial\\nbeverage industry and our Company. Of these, six key challenges and\\nrisks ...\\nScore:  0.648\\n']), TestResult(name='test_case_9', success=True, metrics_data=[MetricData(name='Correctness (GEval)', threshold=0.5, success=True, score=0.7, reason=\"The actual output mentions a global quality management system and supplier due diligence in over 200 countries, aligning with the expected output's reference to a global quality management system and regular testing in 200+ countries. However, it lacks specific details about laboratory testing, which is present in the expected output.\", strict_mode=False, evaluation_model='gemma3:latest (Ollama)', error=None, evaluation_cost=0.0, verbose_logs='Criteria:\\nDetermine whether the actual output is factually correct based on the expected output. \\n \\nEvaluation Steps:\\n[\\n    \"Check whether the facts in \\'actual output\\' contradicts any facts in \\'expected output\\'\",\\n    \"You should also heavily penalize omission of detail\",\\n    \"Vague language, or contradicting OPINIONS, are OK\"\\n]')], conversational=False, multimodal=False, input='How did Coca-Cola manage product quality and food safety?', actual_output='Coca-Cola strives to meet the highest standards in both product safety and product quality. They have rigorous product and ingredient safety and quality standards designed to ensure safety and quality in each of their products. They measure the quality attributes of ingredients and finished products, and perform due diligence to maintain standards in over 200 countries and territories. They utilize an integrated quality management program that continually measures operations against stringent standards and identifies/mitigates risks. Additionally, they stay current with regulations and engage with industry organizations.', expected_output='Through a global quality management system, compliance with strict standards, regular laboratory testing, and supplier due diligence in 200+ countries.', context=None, retrieval_context=['Node ID: parent-1848 \\nText: low- and no-calorie products); selectively expanding into other\\nprofitable categories of the commercial beverage industry;  investing\\nin innovative and sustainable packaging; and including easy-to-access\\ninformation about our beverages on our  website.  Evolving Competitive\\nLandscape and Competing in the Digital Marketplace  Our Company faces\\nst...\\nScore:  0.652\\n', 'Node ID: parent-1480 \\nText: Product Safety and Quality We strive to meet the highest\\nstandards in both product safety and product quality. We are aware\\nthat some consumers have concerns and negative viewpoints regarding\\ncertain ingredients used in our products. The Coca-Cola system works\\nevery day to share safe and refreshing beverages with consumers around\\nthe world. We h...\\nScore:  0.644\\n', \"Node ID: parent-671 \\nText: Water Quality and Quantity Water quality and quantity is an\\nissue that requires our Company's sustained attention and\\ncollaboration with other companies, suppliers, governments,\\nnongovernmental organizations and communities where we operate. Water\\nis a main ingredient in substantially all of our products, is vital to\\nthe production of the agricu...\\nScore:  0.628\\n\"])], confident_link=None)"
      ]
     },
     "execution_count": 99,
     "metadata": {},
     "output_type": "execute_result"
    }
   ],
   "source": [
    "evaluate(test_cases=test_cases, metrics=[correctness_metric])"
   ]
  },
  {
   "cell_type": "markdown",
   "id": "6aba5ec8-5df8-4e4b-af01-ef855ed5f53a",
   "metadata": {},
   "source": []
  }
 ],
 "metadata": {
  "kernelspec": {
   "display_name": "Python [conda env:base] *",
   "language": "python",
   "name": "conda-base-py"
  },
  "language_info": {
   "codemirror_mode": {
    "name": "ipython",
    "version": 3
   },
   "file_extension": ".py",
   "mimetype": "text/x-python",
   "name": "python",
   "nbconvert_exporter": "python",
   "pygments_lexer": "ipython3",
   "version": "3.12.7"
  }
 },
 "nbformat": 4,
 "nbformat_minor": 5
}
